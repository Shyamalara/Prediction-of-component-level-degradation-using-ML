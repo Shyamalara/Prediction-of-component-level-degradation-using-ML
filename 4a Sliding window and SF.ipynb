{
 "cells": [
  {
   "cell_type": "markdown",
   "metadata": {},
   "source": [
    "### Importing the data"
   ]
  },
  {
   "cell_type": "code",
   "execution_count": 1,
   "metadata": {},
   "outputs": [],
   "source": [
    "import numpy as np \n",
    "import pandas as pd "
   ]
  },
  {
   "cell_type": "code",
   "execution_count": 2,
   "metadata": {},
   "outputs": [],
   "source": [
    "## importing the data\n",
    "## pressure sensors are imported as PS. There are around 6 pressure sensors. They are named as ps1, ps2, ps3, ps4, ps5, ps6. \n",
    "\n",
    "df_ps1 = pd.read_csv('PS1.txt', delimiter = '\\t', header = None)\n",
    "df_ps2 = pd.read_csv('PS2.txt', delimiter = '\\t', header = None)\n",
    "df_ps3 = pd.read_csv('PS3.txt', delimiter = '\\t', header = None)\n",
    "df_ps4 = pd.read_csv('PS4.txt', delimiter = '\\t', header = None)\n",
    "df_ps5 = pd.read_csv('PS5.txt', delimiter = '\\t', header = None)\n",
    "df_ps6 = pd.read_csv('PS6.txt', delimiter = '\\t', header = None)\n"
   ]
  },
  {
   "cell_type": "code",
   "execution_count": 3,
   "metadata": {},
   "outputs": [],
   "source": [
    "## cooling efficiency and cooling power are imported as ce and cp respectively. \n",
    "\n",
    "df_ce = pd.read_csv('CE.txt',delimiter = '\\t', header = None)\n",
    "df_cp = pd.read_csv('CP.txt', delimiter = '\\t', header = None)\n"
   ]
  },
  {
   "cell_type": "code",
   "execution_count": 4,
   "metadata": {},
   "outputs": [],
   "source": [
    "# temperature sensors are imported as ts. There are around 4 pressure sensors. They are named as ts1, ts2, ts3, ts4.\n",
    "\n",
    "df_ts1 = pd.read_csv('TS1.txt', delimiter = '\\t', header = None)\n",
    "df_ts2 = pd.read_csv('TS2.txt', delimiter = '\\t', header = None)\n",
    "df_ts3 = pd.read_csv('TS3.txt', delimiter = '\\t', header = None)\n",
    "df_ts4 = pd.read_csv('TS4.txt', delimiter = '\\t', header = None)\n"
   ]
  },
  {
   "cell_type": "code",
   "execution_count": 5,
   "metadata": {},
   "outputs": [],
   "source": [
    "# flow sensors are imported as fs. There are around 2 pressure sensors. They are named as fs1, fs2.\n",
    "\n",
    "df_fs1 = pd.read_csv('FS1.txt', delimiter = '\\t', header = None)\n",
    "df_fs2 = pd.read_csv('FS2.txt', delimiter = '\\t', header = None)\n"
   ]
  },
  {
   "cell_type": "code",
   "execution_count": 6,
   "metadata": {},
   "outputs": [],
   "source": [
    "# motor power sensors is imported as eps. \n",
    "# vibration sensors is imported as vs\n",
    "# efficiency power is imported as se\n",
    "\n",
    "df_eps1 = pd.read_csv('EPS1.txt', delimiter = '\\t', header = None)\n",
    "df_se = pd.read_csv('SE.txt', delimiter = '\\t', header = None)\n",
    "df_vs1 = pd.read_csv('VS1.txt', delimiter = '\\t', header = None)\n",
    "\n"
   ]
  },
  {
   "cell_type": "code",
   "execution_count": 7,
   "metadata": {},
   "outputs": [],
   "source": [
    "## function for defining variables like ps1_1, ps1_2 for 17 sensors with different sampling rates\n",
    "\n",
    "def col(n, var):\n",
    "    l = []\n",
    "    for i in range(1,n):\n",
    "        temp = str(var) + '_' + '%d' %i\n",
    "        l.append(temp)\n",
    "    return l\n"
   ]
  },
  {
   "cell_type": "code",
   "execution_count": 8,
   "metadata": {},
   "outputs": [],
   "source": [
    "# \n",
    "df_ps1.columns = col(6001,'ps1')\n",
    "df_ps2.columns = col(6001,'ps2')\n",
    "df_ps3.columns = col(6001,'ps3')\n",
    "df_ps4.columns = col(6001,'ps4')\n",
    "df_ps5.columns = col(6001,'ps5')\n",
    "df_ps6.columns = col(6001,'ps6')\n",
    "\n",
    "\n"
   ]
  },
  {
   "cell_type": "code",
   "execution_count": 9,
   "metadata": {},
   "outputs": [],
   "source": [
    "df_ts1.columns = col(61,'ts1')\n",
    "df_ts2.columns = col(61,'ts2')\n",
    "df_ts3.columns = col(61,'ts3')\n",
    "df_ts4.columns = col(61,'ts4')\n"
   ]
  },
  {
   "cell_type": "code",
   "execution_count": 10,
   "metadata": {},
   "outputs": [],
   "source": [
    "df_eps1.columns = col(6001,'eps1')"
   ]
  },
  {
   "cell_type": "code",
   "execution_count": 11,
   "metadata": {},
   "outputs": [],
   "source": [
    "df_fs1.columns = col(601,'fs1')\n",
    "df_fs2.columns = col(601,'fs2')"
   ]
  },
  {
   "cell_type": "code",
   "execution_count": 12,
   "metadata": {},
   "outputs": [],
   "source": [
    "df_vs1.columns = col(61,'vs1')"
   ]
  },
  {
   "cell_type": "code",
   "execution_count": 13,
   "metadata": {},
   "outputs": [],
   "source": [
    "df_ce.columns = col(61,'ce')"
   ]
  },
  {
   "cell_type": "code",
   "execution_count": 14,
   "metadata": {},
   "outputs": [],
   "source": [
    "df_cp.columns = col(61,'cp')"
   ]
  },
  {
   "cell_type": "code",
   "execution_count": 15,
   "metadata": {},
   "outputs": [],
   "source": [
    "df_se.columns = col(61,'se')"
   ]
  },
  {
   "cell_type": "code",
   "execution_count": 16,
   "metadata": {},
   "outputs": [],
   "source": [
    "df_ps = pd.concat([df_ps1, df_ps2, df_ps3, df_ps4, df_ps5, df_ps6], axis = 1)\n",
    "df_ts = pd.concat([df_ts1, df_ts2, df_ts3, df_ts4], axis = 1)\n",
    "df_fs = pd.concat([df_fs1, df_fs2], axis = 1)\n",
    "df_vir = pd.concat([df_cp, df_ce, df_eps1, df_se, df_vs1], axis = 1)\n"
   ]
  },
  {
   "cell_type": "code",
   "execution_count": 17,
   "metadata": {},
   "outputs": [
    {
     "data": {
      "text/html": [
       "<div>\n",
       "<style scoped>\n",
       "    .dataframe tbody tr th:only-of-type {\n",
       "        vertical-align: middle;\n",
       "    }\n",
       "\n",
       "    .dataframe tbody tr th {\n",
       "        vertical-align: top;\n",
       "    }\n",
       "\n",
       "    .dataframe thead th {\n",
       "        text-align: right;\n",
       "    }\n",
       "</style>\n",
       "<table border=\"1\" class=\"dataframe\">\n",
       "  <thead>\n",
       "    <tr style=\"text-align: right;\">\n",
       "      <th></th>\n",
       "      <th>ps1_1</th>\n",
       "      <th>ps1_2</th>\n",
       "      <th>ps1_3</th>\n",
       "      <th>ps1_4</th>\n",
       "      <th>ps1_5</th>\n",
       "      <th>ps1_6</th>\n",
       "      <th>ps1_7</th>\n",
       "      <th>ps1_8</th>\n",
       "      <th>ps1_9</th>\n",
       "      <th>ps1_10</th>\n",
       "      <th>...</th>\n",
       "      <th>vs1_51</th>\n",
       "      <th>vs1_52</th>\n",
       "      <th>vs1_53</th>\n",
       "      <th>vs1_54</th>\n",
       "      <th>vs1_55</th>\n",
       "      <th>vs1_56</th>\n",
       "      <th>vs1_57</th>\n",
       "      <th>vs1_58</th>\n",
       "      <th>vs1_59</th>\n",
       "      <th>vs1_60</th>\n",
       "    </tr>\n",
       "  </thead>\n",
       "  <tbody>\n",
       "    <tr>\n",
       "      <th>0</th>\n",
       "      <td>151.47</td>\n",
       "      <td>151.45</td>\n",
       "      <td>151.52</td>\n",
       "      <td>151.27</td>\n",
       "      <td>150.80</td>\n",
       "      <td>150.69</td>\n",
       "      <td>153.89</td>\n",
       "      <td>154.67</td>\n",
       "      <td>152.88</td>\n",
       "      <td>153.82</td>\n",
       "      <td>...</td>\n",
       "      <td>0.554</td>\n",
       "      <td>0.552</td>\n",
       "      <td>0.545</td>\n",
       "      <td>0.553</td>\n",
       "      <td>0.553</td>\n",
       "      <td>0.539</td>\n",
       "      <td>0.544</td>\n",
       "      <td>0.545</td>\n",
       "      <td>0.535</td>\n",
       "      <td>0.543</td>\n",
       "    </tr>\n",
       "    <tr>\n",
       "      <th>1</th>\n",
       "      <td>151.11</td>\n",
       "      <td>151.12</td>\n",
       "      <td>151.16</td>\n",
       "      <td>150.92</td>\n",
       "      <td>150.70</td>\n",
       "      <td>150.62</td>\n",
       "      <td>152.40</td>\n",
       "      <td>153.21</td>\n",
       "      <td>152.81</td>\n",
       "      <td>153.53</td>\n",
       "      <td>...</td>\n",
       "      <td>0.555</td>\n",
       "      <td>0.547</td>\n",
       "      <td>0.548</td>\n",
       "      <td>0.544</td>\n",
       "      <td>0.536</td>\n",
       "      <td>0.542</td>\n",
       "      <td>0.540</td>\n",
       "      <td>0.533</td>\n",
       "      <td>0.531</td>\n",
       "      <td>0.534</td>\n",
       "    </tr>\n",
       "    <tr>\n",
       "      <th>2</th>\n",
       "      <td>150.81</td>\n",
       "      <td>150.79</td>\n",
       "      <td>150.84</td>\n",
       "      <td>150.65</td>\n",
       "      <td>150.35</td>\n",
       "      <td>150.23</td>\n",
       "      <td>152.03</td>\n",
       "      <td>152.81</td>\n",
       "      <td>152.44</td>\n",
       "      <td>153.27</td>\n",
       "      <td>...</td>\n",
       "      <td>0.543</td>\n",
       "      <td>0.544</td>\n",
       "      <td>0.543</td>\n",
       "      <td>0.554</td>\n",
       "      <td>0.544</td>\n",
       "      <td>0.544</td>\n",
       "      <td>0.545</td>\n",
       "      <td>0.544</td>\n",
       "      <td>0.530</td>\n",
       "      <td>0.534</td>\n",
       "    </tr>\n",
       "    <tr>\n",
       "      <th>3</th>\n",
       "      <td>150.48</td>\n",
       "      <td>150.47</td>\n",
       "      <td>150.52</td>\n",
       "      <td>150.31</td>\n",
       "      <td>150.04</td>\n",
       "      <td>149.98</td>\n",
       "      <td>151.63</td>\n",
       "      <td>152.48</td>\n",
       "      <td>152.24</td>\n",
       "      <td>152.94</td>\n",
       "      <td>...</td>\n",
       "      <td>0.549</td>\n",
       "      <td>0.538</td>\n",
       "      <td>0.553</td>\n",
       "      <td>0.543</td>\n",
       "      <td>0.553</td>\n",
       "      <td>0.555</td>\n",
       "      <td>0.544</td>\n",
       "      <td>0.543</td>\n",
       "      <td>0.543</td>\n",
       "      <td>0.542</td>\n",
       "    </tr>\n",
       "    <tr>\n",
       "      <th>4</th>\n",
       "      <td>150.41</td>\n",
       "      <td>150.35</td>\n",
       "      <td>150.24</td>\n",
       "      <td>150.12</td>\n",
       "      <td>149.87</td>\n",
       "      <td>149.71</td>\n",
       "      <td>151.64</td>\n",
       "      <td>152.37</td>\n",
       "      <td>151.78</td>\n",
       "      <td>152.68</td>\n",
       "      <td>...</td>\n",
       "      <td>0.546</td>\n",
       "      <td>0.546</td>\n",
       "      <td>0.544</td>\n",
       "      <td>0.552</td>\n",
       "      <td>0.539</td>\n",
       "      <td>0.540</td>\n",
       "      <td>0.549</td>\n",
       "      <td>0.542</td>\n",
       "      <td>0.533</td>\n",
       "      <td>0.537</td>\n",
       "    </tr>\n",
       "  </tbody>\n",
       "</table>\n",
       "<p>5 rows × 43680 columns</p>\n",
       "</div>"
      ],
      "text/plain": [
       "    ps1_1   ps1_2   ps1_3   ps1_4   ps1_5   ps1_6   ps1_7   ps1_8   ps1_9  \\\n",
       "0  151.47  151.45  151.52  151.27  150.80  150.69  153.89  154.67  152.88   \n",
       "1  151.11  151.12  151.16  150.92  150.70  150.62  152.40  153.21  152.81   \n",
       "2  150.81  150.79  150.84  150.65  150.35  150.23  152.03  152.81  152.44   \n",
       "3  150.48  150.47  150.52  150.31  150.04  149.98  151.63  152.48  152.24   \n",
       "4  150.41  150.35  150.24  150.12  149.87  149.71  151.64  152.37  151.78   \n",
       "\n",
       "   ps1_10  ...  vs1_51  vs1_52  vs1_53  vs1_54  vs1_55  vs1_56  vs1_57  \\\n",
       "0  153.82  ...   0.554   0.552   0.545   0.553   0.553   0.539   0.544   \n",
       "1  153.53  ...   0.555   0.547   0.548   0.544   0.536   0.542   0.540   \n",
       "2  153.27  ...   0.543   0.544   0.543   0.554   0.544   0.544   0.545   \n",
       "3  152.94  ...   0.549   0.538   0.553   0.543   0.553   0.555   0.544   \n",
       "4  152.68  ...   0.546   0.546   0.544   0.552   0.539   0.540   0.549   \n",
       "\n",
       "   vs1_58  vs1_59  vs1_60  \n",
       "0   0.545   0.535   0.543  \n",
       "1   0.533   0.531   0.534  \n",
       "2   0.544   0.530   0.534  \n",
       "3   0.543   0.543   0.542  \n",
       "4   0.542   0.533   0.537  \n",
       "\n",
       "[5 rows x 43680 columns]"
      ]
     },
     "execution_count": 17,
     "metadata": {},
     "output_type": "execute_result"
    }
   ],
   "source": [
    "df = pd.concat([df_ps, df_ts, df_fs, df_vir], axis = 1)\n",
    "df.head()"
   ]
  },
  {
   "cell_type": "code",
   "execution_count": 18,
   "metadata": {},
   "outputs": [],
   "source": [
    "#pip install tsfresh"
   ]
  },
  {
   "cell_type": "markdown",
   "metadata": {},
   "source": [
    "### Function for window statistical features"
   ]
  },
  {
   "cell_type": "code",
   "execution_count": 19,
   "metadata": {},
   "outputs": [
    {
     "data": {
      "text/html": [
       "<div>\n",
       "<style scoped>\n",
       "    .dataframe tbody tr th:only-of-type {\n",
       "        vertical-align: middle;\n",
       "    }\n",
       "\n",
       "    .dataframe tbody tr th {\n",
       "        vertical-align: top;\n",
       "    }\n",
       "\n",
       "    .dataframe thead th {\n",
       "        text-align: right;\n",
       "    }\n",
       "</style>\n",
       "<table border=\"1\" class=\"dataframe\">\n",
       "  <thead>\n",
       "    <tr style=\"text-align: right;\">\n",
       "      <th></th>\n",
       "    </tr>\n",
       "  </thead>\n",
       "  <tbody>\n",
       "    <tr>\n",
       "      <th>0</th>\n",
       "    </tr>\n",
       "    <tr>\n",
       "      <th>1</th>\n",
       "    </tr>\n",
       "    <tr>\n",
       "      <th>2</th>\n",
       "    </tr>\n",
       "    <tr>\n",
       "      <th>3</th>\n",
       "    </tr>\n",
       "    <tr>\n",
       "      <th>4</th>\n",
       "    </tr>\n",
       "  </tbody>\n",
       "</table>\n",
       "</div>"
      ],
      "text/plain": [
       "Empty DataFrame\n",
       "Columns: []\n",
       "Index: [0, 1, 2, 3, 4]"
      ]
     },
     "execution_count": 19,
     "metadata": {},
     "output_type": "execute_result"
    }
   ],
   "source": [
    "df_ps1.filter(regex=\"ps_mean_.*\").head()"
   ]
  },
  {
   "cell_type": "code",
   "execution_count": 20,
   "metadata": {},
   "outputs": [],
   "source": [
    "def sensor_statistic(dataframe, window_length, sensor) : \n",
    "    df_statistic = pd.DataFrame(index = dataframe.index)\n",
    "    columns = dataframe.columns.tolist()[1:]\n",
    "\n",
    "    # window_length = 60 \n",
    "    start = 0\n",
    "\n",
    "    windows = []\n",
    "    for i in range(start,len(columns),window_length) : \n",
    "        windows.append(columns[start : start + window_length])\n",
    "        start = start + window_length\n",
    "\n",
    "    print(len(windows),window_length,dataframe.shape)\n",
    "\n",
    "    for i in range(len(windows)) :  # change the mean to appropriate statistic\n",
    "            df_statistic[str(sensor)+str(i)] = dataframe[windows[i]].mean(axis=1)\n",
    "\n",
    "    return df_statistic\n",
    "\n"
   ]
  },
  {
   "cell_type": "code",
   "execution_count": 21,
   "metadata": {},
   "outputs": [
    {
     "name": "stdout",
     "output_type": "stream",
     "text": [
      "20 300 (2205, 6000)\n"
     ]
    },
    {
     "data": {
      "text/html": [
       "<div>\n",
       "<style scoped>\n",
       "    .dataframe tbody tr th:only-of-type {\n",
       "        vertical-align: middle;\n",
       "    }\n",
       "\n",
       "    .dataframe tbody tr th {\n",
       "        vertical-align: top;\n",
       "    }\n",
       "\n",
       "    .dataframe thead th {\n",
       "        text-align: right;\n",
       "    }\n",
       "</style>\n",
       "<table border=\"1\" class=\"dataframe\">\n",
       "  <thead>\n",
       "    <tr style=\"text-align: right;\">\n",
       "      <th></th>\n",
       "      <th>ps1_mean_0</th>\n",
       "      <th>ps1_mean_1</th>\n",
       "      <th>ps1_mean_2</th>\n",
       "      <th>ps1_mean_3</th>\n",
       "      <th>ps1_mean_4</th>\n",
       "      <th>ps1_mean_5</th>\n",
       "      <th>ps1_mean_6</th>\n",
       "      <th>ps1_mean_7</th>\n",
       "      <th>ps1_mean_8</th>\n",
       "      <th>ps1_mean_9</th>\n",
       "      <th>ps1_mean_10</th>\n",
       "      <th>ps1_mean_11</th>\n",
       "      <th>ps1_mean_12</th>\n",
       "      <th>ps1_mean_13</th>\n",
       "      <th>ps1_mean_14</th>\n",
       "      <th>ps1_mean_15</th>\n",
       "      <th>ps1_mean_16</th>\n",
       "      <th>ps1_mean_17</th>\n",
       "      <th>ps1_mean_18</th>\n",
       "      <th>ps1_mean_19</th>\n",
       "    </tr>\n",
       "  </thead>\n",
       "  <tbody>\n",
       "    <tr>\n",
       "      <th>0</th>\n",
       "      <td>183.946933</td>\n",
       "      <td>191.312800</td>\n",
       "      <td>191.308500</td>\n",
       "      <td>155.942933</td>\n",
       "      <td>146.051067</td>\n",
       "      <td>146.0163</td>\n",
       "      <td>152.208400</td>\n",
       "      <td>156.241267</td>\n",
       "      <td>156.245767</td>\n",
       "      <td>158.976367</td>\n",
       "      <td>166.376067</td>\n",
       "      <td>166.299367</td>\n",
       "      <td>166.323100</td>\n",
       "      <td>157.015733</td>\n",
       "      <td>156.244500</td>\n",
       "      <td>156.234600</td>\n",
       "      <td>153.217267</td>\n",
       "      <td>151.216800</td>\n",
       "      <td>151.150167</td>\n",
       "      <td>151.140803</td>\n",
       "    </tr>\n",
       "    <tr>\n",
       "      <th>1</th>\n",
       "      <td>185.775900</td>\n",
       "      <td>191.284900</td>\n",
       "      <td>191.260800</td>\n",
       "      <td>155.956533</td>\n",
       "      <td>146.052967</td>\n",
       "      <td>145.9401</td>\n",
       "      <td>152.111100</td>\n",
       "      <td>156.058400</td>\n",
       "      <td>156.012667</td>\n",
       "      <td>158.820000</td>\n",
       "      <td>166.115867</td>\n",
       "      <td>166.038167</td>\n",
       "      <td>166.067700</td>\n",
       "      <td>156.767200</td>\n",
       "      <td>156.052467</td>\n",
       "      <td>156.055600</td>\n",
       "      <td>153.014300</td>\n",
       "      <td>150.917100</td>\n",
       "      <td>150.892300</td>\n",
       "      <td>150.871538</td>\n",
       "    </tr>\n",
       "    <tr>\n",
       "      <th>2</th>\n",
       "      <td>185.626600</td>\n",
       "      <td>191.214333</td>\n",
       "      <td>191.195067</td>\n",
       "      <td>155.712000</td>\n",
       "      <td>145.909233</td>\n",
       "      <td>145.6195</td>\n",
       "      <td>151.754600</td>\n",
       "      <td>155.792567</td>\n",
       "      <td>155.676700</td>\n",
       "      <td>158.509800</td>\n",
       "      <td>165.923133</td>\n",
       "      <td>165.855000</td>\n",
       "      <td>165.867533</td>\n",
       "      <td>156.476667</td>\n",
       "      <td>155.711100</td>\n",
       "      <td>155.687600</td>\n",
       "      <td>152.700033</td>\n",
       "      <td>150.579467</td>\n",
       "      <td>150.580633</td>\n",
       "      <td>150.562007</td>\n",
       "    </tr>\n",
       "    <tr>\n",
       "      <th>3</th>\n",
       "      <td>185.483533</td>\n",
       "      <td>191.158667</td>\n",
       "      <td>191.118333</td>\n",
       "      <td>155.526033</td>\n",
       "      <td>145.744933</td>\n",
       "      <td>145.4626</td>\n",
       "      <td>151.626400</td>\n",
       "      <td>155.556767</td>\n",
       "      <td>155.522467</td>\n",
       "      <td>158.327000</td>\n",
       "      <td>165.764400</td>\n",
       "      <td>165.712733</td>\n",
       "      <td>165.725933</td>\n",
       "      <td>156.226467</td>\n",
       "      <td>155.581433</td>\n",
       "      <td>155.538067</td>\n",
       "      <td>152.519767</td>\n",
       "      <td>150.391467</td>\n",
       "      <td>150.411567</td>\n",
       "      <td>150.362809</td>\n",
       "    </tr>\n",
       "    <tr>\n",
       "      <th>4</th>\n",
       "      <td>185.402000</td>\n",
       "      <td>191.081567</td>\n",
       "      <td>191.074333</td>\n",
       "      <td>155.349633</td>\n",
       "      <td>145.572033</td>\n",
       "      <td>145.3456</td>\n",
       "      <td>151.441667</td>\n",
       "      <td>155.363600</td>\n",
       "      <td>155.303533</td>\n",
       "      <td>158.140467</td>\n",
       "      <td>165.539233</td>\n",
       "      <td>165.481167</td>\n",
       "      <td>165.517300</td>\n",
       "      <td>155.970933</td>\n",
       "      <td>155.306733</td>\n",
       "      <td>155.345367</td>\n",
       "      <td>152.283800</td>\n",
       "      <td>150.134200</td>\n",
       "      <td>150.177667</td>\n",
       "      <td>150.177826</td>\n",
       "    </tr>\n",
       "  </tbody>\n",
       "</table>\n",
       "</div>"
      ],
      "text/plain": [
       "   ps1_mean_0  ps1_mean_1  ps1_mean_2  ps1_mean_3  ps1_mean_4  ps1_mean_5  \\\n",
       "0  183.946933  191.312800  191.308500  155.942933  146.051067    146.0163   \n",
       "1  185.775900  191.284900  191.260800  155.956533  146.052967    145.9401   \n",
       "2  185.626600  191.214333  191.195067  155.712000  145.909233    145.6195   \n",
       "3  185.483533  191.158667  191.118333  155.526033  145.744933    145.4626   \n",
       "4  185.402000  191.081567  191.074333  155.349633  145.572033    145.3456   \n",
       "\n",
       "   ps1_mean_6  ps1_mean_7  ps1_mean_8  ps1_mean_9  ps1_mean_10  ps1_mean_11  \\\n",
       "0  152.208400  156.241267  156.245767  158.976367   166.376067   166.299367   \n",
       "1  152.111100  156.058400  156.012667  158.820000   166.115867   166.038167   \n",
       "2  151.754600  155.792567  155.676700  158.509800   165.923133   165.855000   \n",
       "3  151.626400  155.556767  155.522467  158.327000   165.764400   165.712733   \n",
       "4  151.441667  155.363600  155.303533  158.140467   165.539233   165.481167   \n",
       "\n",
       "   ps1_mean_12  ps1_mean_13  ps1_mean_14  ps1_mean_15  ps1_mean_16  \\\n",
       "0   166.323100   157.015733   156.244500   156.234600   153.217267   \n",
       "1   166.067700   156.767200   156.052467   156.055600   153.014300   \n",
       "2   165.867533   156.476667   155.711100   155.687600   152.700033   \n",
       "3   165.725933   156.226467   155.581433   155.538067   152.519767   \n",
       "4   165.517300   155.970933   155.306733   155.345367   152.283800   \n",
       "\n",
       "   ps1_mean_17  ps1_mean_18  ps1_mean_19  \n",
       "0   151.216800   151.150167   151.140803  \n",
       "1   150.917100   150.892300   150.871538  \n",
       "2   150.579467   150.580633   150.562007  \n",
       "3   150.391467   150.411567   150.362809  \n",
       "4   150.134200   150.177667   150.177826  "
      ]
     },
     "execution_count": 21,
     "metadata": {},
     "output_type": "execute_result"
    }
   ],
   "source": [
    "window_length = 300\n",
    "ps1_window_mean  = sensor_statistic(df_ps1, window_length, 'ps1_mean_')\n",
    "ps1_window_mean.head()"
   ]
  },
  {
   "cell_type": "code",
   "execution_count": 22,
   "metadata": {},
   "outputs": [
    {
     "name": "stdout",
     "output_type": "stream",
     "text": [
      "20 300 (2205, 6000)\n",
      "20 300 (2205, 6000)\n",
      "20 300 (2205, 6000)\n",
      "20 300 (2205, 6000)\n",
      "20 300 (2205, 6000)\n"
     ]
    }
   ],
   "source": [
    "window_length = 300\n",
    "ps2_window_mean  = sensor_statistic(df_ps2, window_length, 'ps2_mean_')\n",
    "\n",
    "ps3_window_mean  = sensor_statistic(df_ps3, window_length, 'ps3_mean_')\n",
    "\n",
    "ps4_window_mean  = sensor_statistic(df_ps4, window_length, 'ps4_mean_')\n",
    "\n",
    "ps5_window_mean  = sensor_statistic(df_ps5, window_length, 'ps5_mean_')\n",
    "\n",
    "ps6_window_mean  = sensor_statistic(df_ps6, window_length, 'ps6_mean_')"
   ]
  },
  {
   "cell_type": "code",
   "execution_count": 23,
   "metadata": {},
   "outputs": [
    {
     "name": "stdout",
     "output_type": "stream",
     "text": [
      "20 3 (2205, 60)\n",
      "20 3 (2205, 60)\n",
      "20 3 (2205, 60)\n",
      "20 3 (2205, 60)\n"
     ]
    }
   ],
   "source": [
    "window_length = 3\n",
    "ts1_window_mean  = sensor_statistic(df_ts1, window_length, 'ts1_mean_')\n",
    "\n",
    "ts2_window_mean  = sensor_statistic(df_ts2, window_length,'ts2_mean_')\n",
    "\n",
    "ts3_window_mean  = sensor_statistic(df_ts3, window_length,'ts3_mean_')\n",
    "\n",
    "ts4_window_mean  = sensor_statistic(df_ts4, window_length,'ts4_mean_')\n",
    "\n"
   ]
  },
  {
   "cell_type": "code",
   "execution_count": 24,
   "metadata": {},
   "outputs": [
    {
     "name": "stdout",
     "output_type": "stream",
     "text": [
      "20 30 (2205, 600)\n",
      "20 30 (2205, 600)\n"
     ]
    }
   ],
   "source": [
    "window_length = 30\n",
    "fs1_window_mean  = sensor_statistic(df_fs1, window_length,'fs1_mean_')\n",
    "\n",
    "fs2_window_mean  = sensor_statistic(df_fs2, window_length,'fs2_mean_')\n"
   ]
  },
  {
   "cell_type": "code",
   "execution_count": 25,
   "metadata": {},
   "outputs": [
    {
     "name": "stdout",
     "output_type": "stream",
     "text": [
      "20 3 (2205, 60)\n",
      "20 3 (2205, 60)\n",
      "20 3 (2205, 60)\n",
      "20 3 (2205, 60)\n"
     ]
    }
   ],
   "source": [
    "window_length = 3\n",
    "\n",
    "ce_window_mean  = sensor_statistic(df_ce, window_length,'ce_mean_')\n",
    "\n",
    "cp_window_mean  = sensor_statistic(df_cp, window_length,'cp_mean_')\n",
    "\n",
    "se_window_mean  = sensor_statistic(df_se, window_length,'se_mean_')\n",
    "\n",
    "vs1_window_mean  = sensor_statistic(df_vs1, window_length,'vs1_mean_')\n",
    "\n",
    "\n"
   ]
  },
  {
   "cell_type": "code",
   "execution_count": 26,
   "metadata": {},
   "outputs": [
    {
     "name": "stdout",
     "output_type": "stream",
     "text": [
      "20 300 (2205, 6000)\n"
     ]
    }
   ],
   "source": [
    "window_length = 300\n",
    "eps1_window_mean  = sensor_statistic(df_eps1, window_length,'eps1_mean_')\n"
   ]
  },
  {
   "cell_type": "code",
   "execution_count": 27,
   "metadata": {},
   "outputs": [],
   "source": [
    "mean_data = pd.concat([ps1_window_mean, ps2_window_mean, ps3_window_mean, ps4_window_mean, ps5_window_mean, \n",
    "                      ps6_window_mean, ts1_window_mean, ts2_window_mean, ts3_window_mean, ts4_window_mean,\n",
    "                      fs1_window_mean, fs2_window_mean, eps1_window_mean, vs1_window_mean, ce_window_mean, \n",
    "                      cp_window_mean, se_window_mean], axis = 1)"
   ]
  },
  {
   "cell_type": "code",
   "execution_count": 28,
   "metadata": {
    "scrolled": true
   },
   "outputs": [
    {
     "data": {
      "text/plain": [
       "(2205, 340)"
      ]
     },
     "execution_count": 28,
     "metadata": {},
     "output_type": "execute_result"
    }
   ],
   "source": [
    "mean_data.shape"
   ]
  },
  {
   "cell_type": "markdown",
   "metadata": {},
   "source": [
    "### Calculate median for all sensors"
   ]
  },
  {
   "cell_type": "code",
   "execution_count": 29,
   "metadata": {},
   "outputs": [],
   "source": [
    "def sensor_median(dataframe, window_length, sensor) : \n",
    "    df_statistic = pd.DataFrame(index = dataframe.index)\n",
    "    columns = dataframe.columns.tolist()[1:]\n",
    "\n",
    "    # window_length = 60 \n",
    "    start = 0\n",
    "\n",
    "    windows = []\n",
    "    for i in range(start,len(columns),window_length) : \n",
    "        windows.append(columns[start : start + window_length])\n",
    "        start = start + window_length\n",
    "\n",
    "    print(len(windows),window_length,dataframe.shape)\n",
    "\n",
    "    for i in range(len(windows)) :  # change the mean to appropriate statistic\n",
    "            df_statistic[str(sensor)+str(i)] = dataframe[windows[i]].median(axis=1)\n",
    "\n",
    "    return df_statistic\n",
    "\n"
   ]
  },
  {
   "cell_type": "code",
   "execution_count": 30,
   "metadata": {},
   "outputs": [
    {
     "name": "stdout",
     "output_type": "stream",
     "text": [
      "20 300 (2205, 6000)\n",
      "20 300 (2205, 6000)\n",
      "20 300 (2205, 6000)\n",
      "20 300 (2205, 6000)\n",
      "20 300 (2205, 6000)\n",
      "20 300 (2205, 6000)\n",
      "20 300 (2205, 6000)\n"
     ]
    }
   ],
   "source": [
    "window_length = 300\n",
    "\n",
    "ps1_window_median  = sensor_median(df_ps1, window_length, 'ps1_median_')\n",
    "\n",
    "ps2_window_median  = sensor_median(df_ps2, window_length, 'ps2_median_')\n",
    "\n",
    "ps3_window_median  = sensor_median(df_ps3, window_length, 'ps3_median_')\n",
    "\n",
    "ps4_window_median  = sensor_median(df_ps4, window_length, 'ps4_median_')\n",
    "\n",
    "ps5_window_median  = sensor_median(df_ps5, window_length, 'ps5_median_')\n",
    "\n",
    "ps6_window_median  = sensor_median(df_ps6, window_length, 'ps6_median_')\n",
    "\n",
    "eps1_window_median  = sensor_median(df_eps1, window_length,'eps1_median_')"
   ]
  },
  {
   "cell_type": "code",
   "execution_count": 31,
   "metadata": {},
   "outputs": [
    {
     "name": "stdout",
     "output_type": "stream",
     "text": [
      "20 3 (2205, 60)\n",
      "20 3 (2205, 60)\n",
      "20 3 (2205, 60)\n",
      "20 3 (2205, 60)\n"
     ]
    }
   ],
   "source": [
    "window_length = 3\n",
    "ts1_window_median  = sensor_median(df_ts1, window_length, 'ts1_median_')\n",
    "\n",
    "ts2_window_median  = sensor_median(df_ts2, window_length,'ts2_median_')\n",
    "\n",
    "ts3_window_median  = sensor_median(df_ts3, window_length,'ts3_median_')\n",
    "\n",
    "ts4_window_median  = sensor_median(df_ts4, window_length,'ts4_median_')\n",
    "\n"
   ]
  },
  {
   "cell_type": "code",
   "execution_count": 32,
   "metadata": {},
   "outputs": [
    {
     "name": "stdout",
     "output_type": "stream",
     "text": [
      "20 30 (2205, 600)\n",
      "20 30 (2205, 600)\n"
     ]
    }
   ],
   "source": [
    "window_length = 30\n",
    "fs1_window_median  = sensor_median(df_fs1, window_length,'fs1_median_')\n",
    "\n",
    "fs2_window_median  = sensor_median(df_fs2, window_length,'fs2_median_')\n"
   ]
  },
  {
   "cell_type": "code",
   "execution_count": 33,
   "metadata": {},
   "outputs": [
    {
     "name": "stdout",
     "output_type": "stream",
     "text": [
      "20 3 (2205, 60)\n",
      "20 3 (2205, 60)\n",
      "20 3 (2205, 60)\n",
      "20 3 (2205, 60)\n"
     ]
    }
   ],
   "source": [
    "window_length = 3\n",
    "\n",
    "ce_window_median  = sensor_median(df_ce, window_length,'ce_median_')\n",
    "\n",
    "cp_window_median  = sensor_median(df_cp, window_length,'cp_median_')\n",
    "\n",
    "se_window_median  = sensor_median(df_se, window_length,'se_median_')\n",
    "\n",
    "vs1_window_median  = sensor_median(df_vs1, window_length,'vs1_median_')\n",
    "\n",
    "\n"
   ]
  },
  {
   "cell_type": "code",
   "execution_count": 34,
   "metadata": {},
   "outputs": [],
   "source": [
    "median_data = pd.concat([ps1_window_median, ps2_window_median, ps3_window_median, ps4_window_median, ps5_window_median,\n",
    "                                    ps6_window_median, ts1_window_median, ts2_window_median, ts3_window_median, ts4_window_median,\n",
    "                                    fs1_window_median, fs2_window_median, eps1_window_median, vs1_window_median, ce_window_median,\n",
    "                                    cp_window_median, se_window_median], axis = 1)\n",
    "                         "
   ]
  },
  {
   "cell_type": "code",
   "execution_count": 35,
   "metadata": {},
   "outputs": [
    {
     "data": {
      "text/plain": [
       "(2205, 340)"
      ]
     },
     "execution_count": 35,
     "metadata": {},
     "output_type": "execute_result"
    }
   ],
   "source": [
    "median_data.shape"
   ]
  },
  {
   "cell_type": "markdown",
   "metadata": {},
   "source": [
    "### Finding the maximum "
   ]
  },
  {
   "cell_type": "code",
   "execution_count": 36,
   "metadata": {},
   "outputs": [],
   "source": [
    "def sensor_max(dataframe, window_length, sensor) : \n",
    "    df_statistic = pd.DataFrame(index = dataframe.index)\n",
    "    columns = dataframe.columns.tolist()[1:]\n",
    "\n",
    "    # window_length = 60 \n",
    "    start = 0\n",
    "\n",
    "    windows = []\n",
    "    for i in range(start,len(columns),window_length) : \n",
    "        windows.append(columns[start : start + window_length])\n",
    "        start = start + window_length\n",
    "\n",
    "    print(len(windows),window_length,dataframe.shape)\n",
    "\n",
    "    for i in range(len(windows)) :  # change the mean to appropriate statistic\n",
    "            df_statistic[str(sensor)+str(i)] = dataframe[windows[i]].max(axis=1)\n",
    "\n",
    "    return df_statistic\n",
    "\n"
   ]
  },
  {
   "cell_type": "code",
   "execution_count": 37,
   "metadata": {},
   "outputs": [
    {
     "name": "stdout",
     "output_type": "stream",
     "text": [
      "20 300 (2205, 6000)\n",
      "20 300 (2205, 6000)\n",
      "20 300 (2205, 6000)\n",
      "20 300 (2205, 6000)\n",
      "20 300 (2205, 6000)\n",
      "20 300 (2205, 6000)\n",
      "20 300 (2205, 6000)\n"
     ]
    }
   ],
   "source": [
    "window_length = 300\n",
    "\n",
    "ps1_window_max  = sensor_max(df_ps1, window_length, 'ps1_max_')\n",
    "\n",
    "ps2_window_max  = sensor_max(df_ps2, window_length, 'ps2_max_')\n",
    "\n",
    "ps3_window_max  = sensor_max(df_ps3, window_length, 'ps3_max_')\n",
    "\n",
    "ps4_window_max  = sensor_max(df_ps4, window_length, 'ps4_max_')\n",
    "\n",
    "ps5_window_max  = sensor_max(df_ps5, window_length, 'ps5_max_')\n",
    "\n",
    "ps6_window_max  = sensor_max(df_ps6, window_length, 'ps6_max_')\n",
    "\n",
    "eps1_window_max  = sensor_max(df_eps1, window_length,'eps1_max_')"
   ]
  },
  {
   "cell_type": "code",
   "execution_count": 38,
   "metadata": {},
   "outputs": [
    {
     "name": "stdout",
     "output_type": "stream",
     "text": [
      "20 3 (2205, 60)\n",
      "20 3 (2205, 60)\n",
      "20 3 (2205, 60)\n",
      "20 3 (2205, 60)\n"
     ]
    }
   ],
   "source": [
    "window_length = 3\n",
    "ts1_window_max  = sensor_max(df_ts1, window_length, 'ts1_max_')\n",
    "\n",
    "ts2_window_max  = sensor_max(df_ts2, window_length,'ts2_max_')\n",
    "\n",
    "ts3_window_max  = sensor_max(df_ts3, window_length,'ts3_max_')\n",
    "\n",
    "ts4_window_max  = sensor_max(df_ts4, window_length,'ts4_max_')\n",
    "\n"
   ]
  },
  {
   "cell_type": "code",
   "execution_count": 39,
   "metadata": {},
   "outputs": [
    {
     "name": "stdout",
     "output_type": "stream",
     "text": [
      "20 30 (2205, 600)\n",
      "20 30 (2205, 600)\n"
     ]
    }
   ],
   "source": [
    "window_length = 30\n",
    "fs1_window_max  = sensor_max(df_fs1, window_length,'fs1_max_')\n",
    "\n",
    "fs2_window_max  = sensor_max(df_fs2, window_length,'fs2_max_')\n"
   ]
  },
  {
   "cell_type": "code",
   "execution_count": 40,
   "metadata": {},
   "outputs": [
    {
     "name": "stdout",
     "output_type": "stream",
     "text": [
      "20 3 (2205, 60)\n",
      "20 3 (2205, 60)\n",
      "20 3 (2205, 60)\n",
      "20 3 (2205, 60)\n"
     ]
    }
   ],
   "source": [
    "window_length = 3\n",
    "\n",
    "ce_window_max  = sensor_max(df_ce, window_length,'ce_max_')\n",
    "\n",
    "cp_window_max  = sensor_max(df_cp, window_length,'cp_max_')\n",
    "\n",
    "se_window_max  = sensor_max(df_se, window_length,'se_max_')\n",
    "\n",
    "vs1_window_max  = sensor_max(df_vs1, window_length,'vs1_max_')\n",
    "\n",
    "\n"
   ]
  },
  {
   "cell_type": "code",
   "execution_count": 41,
   "metadata": {},
   "outputs": [],
   "source": [
    "max_data = pd.concat([ps1_window_max, ps2_window_max, ps3_window_max, ps4_window_max, ps5_window_max,\n",
    "                      ps6_window_max, ts1_window_max, ts2_window_max, ts3_window_max, ts4_window_max,\n",
    "                      fs1_window_max, fs2_window_max, eps1_window_max, vs1_window_max,\n",
    "                      ce_window_max, cp_window_max, se_window_max], axis = 1)"
   ]
  },
  {
   "cell_type": "code",
   "execution_count": 42,
   "metadata": {},
   "outputs": [
    {
     "data": {
      "text/plain": [
       "(2205, 340)"
      ]
     },
     "execution_count": 42,
     "metadata": {},
     "output_type": "execute_result"
    }
   ],
   "source": [
    "max_data.shape"
   ]
  },
  {
   "cell_type": "markdown",
   "metadata": {},
   "source": [
    "### Calculating the min "
   ]
  },
  {
   "cell_type": "code",
   "execution_count": 43,
   "metadata": {},
   "outputs": [],
   "source": [
    "def sensor_min(dataframe, window_length, sensor) : \n",
    "    df_statistic = pd.DataFrame(index = dataframe.index)\n",
    "    columns = dataframe.columns.tolist()[1:]\n",
    "\n",
    "    # window_length = 60 \n",
    "    start = 0\n",
    "\n",
    "    windows = []\n",
    "    for i in range(start,len(columns),window_length) : \n",
    "        windows.append(columns[start : start + window_length])\n",
    "        start = start + window_length\n",
    "\n",
    "    print(len(windows),window_length,dataframe.shape)\n",
    "\n",
    "    for i in range(len(windows)) :  # change the mean to appropriate statistic\n",
    "            df_statistic[str(sensor)+str(i)] = dataframe[windows[i]].min(axis=1)\n",
    "\n",
    "    return df_statistic\n"
   ]
  },
  {
   "cell_type": "code",
   "execution_count": 44,
   "metadata": {},
   "outputs": [
    {
     "name": "stdout",
     "output_type": "stream",
     "text": [
      "20 300 (2205, 6000)\n",
      "20 300 (2205, 6000)\n",
      "20 300 (2205, 6000)\n",
      "20 300 (2205, 6000)\n",
      "20 300 (2205, 6000)\n",
      "20 300 (2205, 6000)\n",
      "20 300 (2205, 6000)\n"
     ]
    }
   ],
   "source": [
    "window_length = 300\n",
    "\n",
    "ps1_window_min  = sensor_min(df_ps1, window_length, 'ps1_min_')\n",
    "\n",
    "ps2_window_min  = sensor_max(df_ps2, window_length, 'ps2_min_')\n",
    "\n",
    "ps3_window_min  = sensor_max(df_ps3, window_length, 'ps3_min_')\n",
    "\n",
    "ps4_window_min  = sensor_max(df_ps4, window_length, 'ps4_min_')\n",
    "\n",
    "ps5_window_min  = sensor_max(df_ps5, window_length, 'ps5_min_')\n",
    "\n",
    "ps6_window_min  = sensor_max(df_ps6, window_length, 'ps6_min_')\n",
    "\n",
    "eps1_window_min  = sensor_max(df_eps1, window_length,'eps1_min_')"
   ]
  },
  {
   "cell_type": "code",
   "execution_count": 45,
   "metadata": {},
   "outputs": [
    {
     "name": "stdout",
     "output_type": "stream",
     "text": [
      "20 3 (2205, 60)\n",
      "20 3 (2205, 60)\n",
      "20 3 (2205, 60)\n",
      "20 3 (2205, 60)\n"
     ]
    }
   ],
   "source": [
    "window_length = 3\n",
    "ts1_window_min  = sensor_min(df_ts1, window_length, 'ts1_min_')\n",
    "\n",
    "ts2_window_min  = sensor_min(df_ts2, window_length,'ts2_min_')\n",
    "\n",
    "ts3_window_min  = sensor_min(df_ts3, window_length,'ts3_min_')\n",
    "\n",
    "ts4_window_min  = sensor_min(df_ts4, window_length,'ts4_min_')\n",
    "\n"
   ]
  },
  {
   "cell_type": "code",
   "execution_count": 46,
   "metadata": {},
   "outputs": [
    {
     "name": "stdout",
     "output_type": "stream",
     "text": [
      "20 30 (2205, 600)\n",
      "20 30 (2205, 600)\n"
     ]
    }
   ],
   "source": [
    "window_length = 30\n",
    "fs1_window_min  = sensor_min(df_fs1, window_length,'fs1_min_')\n",
    "\n",
    "fs2_window_min  = sensor_min(df_fs2, window_length,'fs2_min_')\n"
   ]
  },
  {
   "cell_type": "code",
   "execution_count": 47,
   "metadata": {},
   "outputs": [
    {
     "name": "stdout",
     "output_type": "stream",
     "text": [
      "20 3 (2205, 60)\n",
      "20 3 (2205, 60)\n",
      "20 3 (2205, 60)\n",
      "20 3 (2205, 60)\n"
     ]
    }
   ],
   "source": [
    "window_length = 3\n",
    "\n",
    "ce_window_min  = sensor_min(df_ce, window_length,'ce_min_')\n",
    "\n",
    "cp_window_min  = sensor_min(df_cp, window_length,'cp_min_')\n",
    "\n",
    "se_window_min  = sensor_min(df_se, window_length,'se_min_')\n",
    "\n",
    "vs1_window_min  = sensor_min(df_vs1, window_length,'vs1_min_')\n",
    "\n",
    "\n"
   ]
  },
  {
   "cell_type": "code",
   "execution_count": 48,
   "metadata": {},
   "outputs": [],
   "source": [
    "Min_data = pd.concat([ps1_window_min, ps2_window_min, ps3_window_min, ps4_window_min, ps5_window_min,  ps6_window_min, \n",
    "                      ts1_window_min, ts2_window_min, ts3_window_min, ts4_window_min, \n",
    "                      fs1_window_min, fs2_window_min, eps1_window_min, vs1_window_min, \n",
    "                      ce_window_min, cp_window_min, se_window_min], axis = 1)"
   ]
  },
  {
   "cell_type": "code",
   "execution_count": 49,
   "metadata": {},
   "outputs": [],
   "source": [
    "import statistics as st"
   ]
  },
  {
   "cell_type": "markdown",
   "metadata": {},
   "source": [
    "### Calculate the variance "
   ]
  },
  {
   "cell_type": "code",
   "execution_count": 50,
   "metadata": {},
   "outputs": [],
   "source": [
    "def sensor_variance(dataframe, window_length, sensor) : \n",
    "    df_statistic = pd.DataFrame(index = dataframe.index)\n",
    "    columns = dataframe.columns.tolist()[1:]\n",
    "\n",
    "    # window_length = 60 \n",
    "    start = 0\n",
    "\n",
    "    windows = []\n",
    "    for i in range(start,len(columns),window_length) : \n",
    "        windows.append(columns[start : start + window_length])\n",
    "        start = start + window_length\n",
    "\n",
    "    print(len(windows),window_length,dataframe.shape)\n",
    "\n",
    "    for i in range(len(windows)) :  # change the mean to appropriate statistic\n",
    "            df_statistic[str(sensor)+str(i)] = dataframe[windows[i]].var(axis=1)\n",
    "\n",
    "    return df_statistic\n"
   ]
  },
  {
   "cell_type": "code",
   "execution_count": 51,
   "metadata": {},
   "outputs": [
    {
     "name": "stdout",
     "output_type": "stream",
     "text": [
      "20 300 (2205, 6000)\n",
      "20 300 (2205, 6000)\n",
      "20 300 (2205, 6000)\n",
      "20 300 (2205, 6000)\n",
      "20 300 (2205, 6000)\n",
      "20 300 (2205, 6000)\n",
      "20 300 (2205, 6000)\n"
     ]
    }
   ],
   "source": [
    "window_length = 300\n",
    "\n",
    "ps1_window_variance  = sensor_variance(df_ps1, window_length, 'ps1_variance_')\n",
    "\n",
    "ps2_window_variance  = sensor_variance(df_ps2, window_length, 'ps2_variance_')\n",
    "\n",
    "ps3_window_variance  = sensor_variance(df_ps3, window_length, 'ps3_variance_')\n",
    "\n",
    "ps4_window_variance  = sensor_variance(df_ps4, window_length, 'ps4_variance_')\n",
    "\n",
    "ps5_window_variance  = sensor_variance(df_ps5, window_length, 'ps5_variance_')\n",
    "\n",
    "ps6_window_variance  = sensor_variance(df_ps6, window_length, 'ps6_variance_')\n",
    "\n",
    "eps1_window_variance  = sensor_variance(df_eps1, window_length,'eps1_variance_')"
   ]
  },
  {
   "cell_type": "code",
   "execution_count": 52,
   "metadata": {},
   "outputs": [
    {
     "name": "stdout",
     "output_type": "stream",
     "text": [
      "20 3 (2205, 60)\n",
      "20 3 (2205, 60)\n",
      "20 3 (2205, 60)\n",
      "20 3 (2205, 60)\n"
     ]
    }
   ],
   "source": [
    "window_length = 3\n",
    "ts1_window_variance  = sensor_variance(df_ts1, window_length, 'ts1_variance_')\n",
    "\n",
    "ts2_window_variance  = sensor_variance(df_ts2, window_length,'ts2_variance_')\n",
    "\n",
    "ts3_window_variance  = sensor_variance(df_ts3, window_length,'ts3_variance_')\n",
    "\n",
    "ts4_window_variance  = sensor_variance(df_ts4, window_length,'ts4_variance_')\n",
    "\n"
   ]
  },
  {
   "cell_type": "code",
   "execution_count": 53,
   "metadata": {},
   "outputs": [
    {
     "name": "stdout",
     "output_type": "stream",
     "text": [
      "20 30 (2205, 600)\n",
      "20 30 (2205, 600)\n"
     ]
    }
   ],
   "source": [
    "window_length = 30\n",
    "\n",
    "fs1_window_variance  = sensor_variance(df_fs1, window_length,'fs1_variance_')\n",
    "\n",
    "fs2_window_variance  = sensor_variance(df_fs2, window_length,'fs2_variance_')\n"
   ]
  },
  {
   "cell_type": "code",
   "execution_count": 54,
   "metadata": {},
   "outputs": [
    {
     "name": "stdout",
     "output_type": "stream",
     "text": [
      "20 3 (2205, 60)\n",
      "20 3 (2205, 60)\n",
      "20 3 (2205, 60)\n",
      "20 3 (2205, 60)\n"
     ]
    }
   ],
   "source": [
    "window_length = 3\n",
    "\n",
    "ce_window_variance  = sensor_variance(df_ce, window_length,'ce_variance_')\n",
    "\n",
    "cp_window_variance  = sensor_variance(df_cp, window_length,'cp_variance_')\n",
    "\n",
    "se_window_variance  = sensor_variance(df_se, window_length,'se_variance_')\n",
    "\n",
    "vs1_window_variance  = sensor_variance(df_vs1, window_length,'vs1_variance_')\n",
    "\n",
    "\n"
   ]
  },
  {
   "cell_type": "code",
   "execution_count": 55,
   "metadata": {},
   "outputs": [],
   "source": [
    "variance_data = pd.concat([ps1_window_variance, ps2_window_variance, ps3_window_variance, ps4_window_variance, ps5_window_variance,  ps6_window_variance, \n",
    "                           ts1_window_variance, ts2_window_variance, ts3_window_variance, ts4_window_variance, \n",
    "                           fs1_window_variance, fs2_window_variance, eps1_window_variance, vs1_window_variance, \n",
    "                           ce_window_variance, cp_window_variance, se_window_variance], axis = 1)"
   ]
  },
  {
   "cell_type": "markdown",
   "metadata": {},
   "source": [
    "### Calculating standard deviation"
   ]
  },
  {
   "cell_type": "code",
   "execution_count": 56,
   "metadata": {},
   "outputs": [],
   "source": [
    "def sensor_std(dataframe, window_length, sensor) : \n",
    "    df_statistic = pd.DataFrame(index = dataframe.index)\n",
    "    columns = dataframe.columns.tolist()[1:]\n",
    "\n",
    "    # window_length = 60 \n",
    "    start = 0\n",
    "\n",
    "    windows = []\n",
    "    for i in range(start,len(columns),window_length) : \n",
    "        windows.append(columns[start : start + window_length])\n",
    "        start = start + window_length\n",
    "\n",
    "    print(len(windows),window_length,dataframe.shape)\n",
    "\n",
    "    for i in range(len(windows)) :  # change the mean to appropriate statistic\n",
    "            df_statistic[str(sensor)+str(i)] = dataframe[windows[i]].std(axis=1)\n",
    "\n",
    "    return df_statistic\n"
   ]
  },
  {
   "cell_type": "code",
   "execution_count": 57,
   "metadata": {},
   "outputs": [
    {
     "name": "stdout",
     "output_type": "stream",
     "text": [
      "20 300 (2205, 6000)\n",
      "20 300 (2205, 6000)\n",
      "20 300 (2205, 6000)\n",
      "20 300 (2205, 6000)\n",
      "20 300 (2205, 6000)\n",
      "20 300 (2205, 6000)\n",
      "20 300 (2205, 6000)\n"
     ]
    }
   ],
   "source": [
    "window_length = 300\n",
    "\n",
    "ps1_window_std  = sensor_std(df_ps1, window_length, 'ps1_std_')\n",
    "\n",
    "ps2_window_std  = sensor_std(df_ps2, window_length, 'ps2_std_')\n",
    "\n",
    "ps3_window_std  = sensor_std(df_ps3, window_length, 'ps3_std_')\n",
    "\n",
    "ps4_window_std  = sensor_std(df_ps4, window_length, 'ps4_std_')\n",
    "\n",
    "ps5_window_std  = sensor_std(df_ps5, window_length, 'ps5_std_')\n",
    "\n",
    "ps6_window_std  = sensor_std(df_ps6, window_length, 'ps6_std_')\n",
    "\n",
    "eps1_window_std  = sensor_std(df_eps1, window_length,'eps1_std_')"
   ]
  },
  {
   "cell_type": "code",
   "execution_count": 58,
   "metadata": {},
   "outputs": [
    {
     "name": "stdout",
     "output_type": "stream",
     "text": [
      "20 3 (2205, 60)\n",
      "20 3 (2205, 60)\n",
      "20 3 (2205, 60)\n",
      "20 3 (2205, 60)\n"
     ]
    }
   ],
   "source": [
    "window_length = 3\n",
    "ts1_window_std  = sensor_std(df_ts1, window_length, 'ts1_std_')\n",
    "\n",
    "ts2_window_std  = sensor_std(df_ts2, window_length,'ts2_std_')\n",
    "\n",
    "ts3_window_std  = sensor_std(df_ts3, window_length,'ts3_std_')\n",
    "\n",
    "ts4_window_std  = sensor_std(df_ts4, window_length,'ts4_std_')\n",
    "\n"
   ]
  },
  {
   "cell_type": "code",
   "execution_count": 59,
   "metadata": {},
   "outputs": [
    {
     "name": "stdout",
     "output_type": "stream",
     "text": [
      "20 30 (2205, 600)\n",
      "20 30 (2205, 600)\n"
     ]
    }
   ],
   "source": [
    "window_length = 30\n",
    "\n",
    "fs1_window_std  = sensor_std(df_fs1, window_length,'fs1_std_')\n",
    "\n",
    "fs2_window_std  = sensor_std(df_fs2, window_length,'fs2_std_')\n"
   ]
  },
  {
   "cell_type": "code",
   "execution_count": 60,
   "metadata": {},
   "outputs": [
    {
     "name": "stdout",
     "output_type": "stream",
     "text": [
      "20 3 (2205, 60)\n",
      "20 3 (2205, 60)\n",
      "20 3 (2205, 60)\n",
      "20 3 (2205, 60)\n"
     ]
    }
   ],
   "source": [
    "window_length = 3\n",
    "\n",
    "ce_window_std  = sensor_std(df_ce, window_length,'ce_std_')\n",
    "\n",
    "cp_window_std  = sensor_std(df_cp, window_length,'cp_std_')\n",
    "\n",
    "se_window_std  = sensor_std(df_se, window_length,'se_std_')\n",
    "\n",
    "vs1_window_std  = sensor_std(df_vs1, window_length,'vs1_std_')\n",
    "\n",
    "\n"
   ]
  },
  {
   "cell_type": "code",
   "execution_count": 61,
   "metadata": {},
   "outputs": [],
   "source": [
    "std_data = pd.concat([ps1_window_std, ps2_window_std, ps3_window_std, ps4_window_std, ps5_window_std,  ps6_window_std,\n",
    "                      ts1_window_std, ts2_window_std, ts3_window_std, ts4_window_std, fs1_window_std, fs2_window_std,\n",
    "                      eps1_window_std, vs1_window_std, ce_window_std, cp_window_std, se_window_std], axis = 1)"
   ]
  },
  {
   "cell_type": "markdown",
   "metadata": {},
   "source": [
    "### Calculating IQR"
   ]
  },
  {
   "cell_type": "code",
   "execution_count": 62,
   "metadata": {},
   "outputs": [],
   "source": [
    "from scipy.stats import iqr\n",
    "\n",
    "\n",
    "def sensor_iqr(dataframe, window_length, sensor) : \n",
    "    df_statistic = pd.DataFrame(index = dataframe.index)\n",
    "    columns = dataframe.columns.tolist()[1:]\n",
    "\n",
    "    # window_length = 60 \n",
    "    start = 0\n",
    "\n",
    "    windows = []\n",
    "    for i in range(start,len(columns),window_length) : \n",
    "        windows.append(columns[start : start + window_length])\n",
    "        start = start + window_length\n",
    "\n",
    "    print(len(windows),window_length,dataframe.shape)\n",
    "\n",
    "    for i in range(len(windows)) :  # change the mean to appropriate statistic\n",
    "        \n",
    "            df_statistic[str(sensor)+str(i)] = iqr(dataframe[windows[i]],axis=1)\n",
    "\n",
    "    return df_statistic\n"
   ]
  },
  {
   "cell_type": "code",
   "execution_count": 63,
   "metadata": {},
   "outputs": [
    {
     "name": "stdout",
     "output_type": "stream",
     "text": [
      "20 300 (2205, 6000)\n",
      "20 300 (2205, 6000)\n",
      "20 300 (2205, 6000)\n",
      "20 300 (2205, 6000)\n",
      "20 300 (2205, 6000)\n",
      "20 300 (2205, 6000)\n",
      "20 300 (2205, 6000)\n"
     ]
    }
   ],
   "source": [
    "window_length = 300\n",
    "\n",
    "ps1_window_iqr  = sensor_iqr(df_ps1, window_length, 'ps1_iqr_')\n",
    "\n",
    "ps2_window_iqr  = sensor_iqr(df_ps2, window_length, 'ps2_iqr_')\n",
    "\n",
    "ps3_window_iqr  = sensor_iqr(df_ps3, window_length, 'ps3_iqr_')\n",
    "\n",
    "ps4_window_iqr  = sensor_iqr(df_ps4, window_length, 'ps4_iqr_')\n",
    "\n",
    "ps5_window_iqr  = sensor_iqr(df_ps5, window_length, 'ps5_iqr_')\n",
    "\n",
    "ps6_window_iqr  = sensor_iqr(df_ps6, window_length, 'ps6_iqr_')\n",
    "\n",
    "eps1_window_iqr  = sensor_iqr(df_eps1, window_length,'eps1_iqr_')"
   ]
  },
  {
   "cell_type": "code",
   "execution_count": 64,
   "metadata": {},
   "outputs": [
    {
     "name": "stdout",
     "output_type": "stream",
     "text": [
      "20 3 (2205, 60)\n",
      "20 3 (2205, 60)\n",
      "20 3 (2205, 60)\n",
      "20 3 (2205, 60)\n"
     ]
    }
   ],
   "source": [
    "window_length = 3\n",
    "ts1_window_iqr  = sensor_iqr(df_ts1, window_length, 'ts1_iqr_')\n",
    "\n",
    "ts2_window_iqr  = sensor_iqr(df_ts2, window_length,'ts2_iqr_')\n",
    "\n",
    "ts3_window_iqr  = sensor_iqr(df_ts3, window_length,'ts3_iqr_')\n",
    "\n",
    "ts4_window_iqr  = sensor_iqr(df_ts4, window_length,'ts4_iqr_')"
   ]
  },
  {
   "cell_type": "code",
   "execution_count": 65,
   "metadata": {},
   "outputs": [
    {
     "name": "stdout",
     "output_type": "stream",
     "text": [
      "20 30 (2205, 600)\n",
      "20 30 (2205, 600)\n"
     ]
    }
   ],
   "source": [
    "window_length = 30\n",
    "\n",
    "fs1_window_iqr  = sensor_iqr(df_fs1, window_length,'fs1_iqr_')\n",
    "\n",
    "fs2_window_iqr  = sensor_iqr(df_fs2, window_length,'fs2_iqr_')\n"
   ]
  },
  {
   "cell_type": "code",
   "execution_count": 66,
   "metadata": {},
   "outputs": [
    {
     "name": "stdout",
     "output_type": "stream",
     "text": [
      "20 3 (2205, 60)\n",
      "20 3 (2205, 60)\n",
      "20 3 (2205, 60)\n",
      "20 3 (2205, 60)\n"
     ]
    }
   ],
   "source": [
    "window_length = 3\n",
    "\n",
    "ce_window_iqr  = sensor_iqr(df_ce, window_length,'ce_iqr_')\n",
    "\n",
    "cp_window_iqr  = sensor_iqr(df_cp, window_length,'cp_iqr_')\n",
    "\n",
    "se_window_iqr  = sensor_iqr(df_se, window_length,'se_iqr_')\n",
    "\n",
    "vs1_window_iqr  = sensor_iqr(df_vs1, window_length,'vs1_iqr_')"
   ]
  },
  {
   "cell_type": "code",
   "execution_count": 67,
   "metadata": {},
   "outputs": [],
   "source": [
    "iqr_data = pd.concat([ps1_window_iqr, ps2_window_iqr, ps3_window_iqr, ps4_window_iqr, ps5_window_iqr,  ps6_window_iqr,\n",
    "                      ts1_window_iqr, ts2_window_iqr, ts3_window_iqr, ts4_window_iqr, fs1_window_iqr, fs2_window_iqr,\n",
    "                      eps1_window_iqr, vs1_window_iqr, ce_window_iqr, cp_window_iqr, se_window_iqr], axis = 1)"
   ]
  },
  {
   "cell_type": "markdown",
   "metadata": {},
   "source": [
    "### Merge all datasets to get the final dataset"
   ]
  },
  {
   "cell_type": "code",
   "execution_count": 68,
   "metadata": {},
   "outputs": [],
   "source": [
    "Final = pd.concat([median_data, max_data, Min_data, std_data, variance_data, iqr_data], axis = 1)"
   ]
  },
  {
   "cell_type": "code",
   "execution_count": 69,
   "metadata": {},
   "outputs": [
    {
     "data": {
      "text/plain": [
       "(2205, 2040)"
      ]
     },
     "execution_count": 69,
     "metadata": {},
     "output_type": "execute_result"
    }
   ],
   "source": [
    "Final.shape"
   ]
  },
  {
   "cell_type": "code",
   "execution_count": 70,
   "metadata": {},
   "outputs": [],
   "source": [
    "profile = pd.read_csv('profile.txt', delimiter = '\\t', header = None)"
   ]
  },
  {
   "cell_type": "code",
   "execution_count": 71,
   "metadata": {},
   "outputs": [],
   "source": [
    "profile.columns = [\"Cooler Condition\",\"Valve Condition\",\"Internal Pump Leakage\",\"Hydraulic Accumulator\",\"Stable Flag\"]"
   ]
  },
  {
   "cell_type": "code",
   "execution_count": 72,
   "metadata": {},
   "outputs": [],
   "source": [
    "Final_target = pd.concat([Final, profile], axis = 1)"
   ]
  },
  {
   "cell_type": "code",
   "execution_count": 73,
   "metadata": {
    "scrolled": true
   },
   "outputs": [
    {
     "data": {
      "text/plain": [
       "(2205, 2045)"
      ]
     },
     "execution_count": 73,
     "metadata": {},
     "output_type": "execute_result"
    }
   ],
   "source": [
    "Final_target.shape"
   ]
  },
  {
   "cell_type": "code",
   "execution_count": 74,
   "metadata": {},
   "outputs": [],
   "source": [
    "profile_stable = profile['Stable Flag']"
   ]
  },
  {
   "cell_type": "markdown",
   "metadata": {},
   "source": [
    "# Stable Flag Classification"
   ]
  },
  {
   "cell_type": "markdown",
   "metadata": {},
   "source": [
    "\n",
    "\n",
    "## Train test split"
   ]
  },
  {
   "cell_type": "code",
   "execution_count": 75,
   "metadata": {},
   "outputs": [],
   "source": [
    "from sklearn.model_selection import train_test_split"
   ]
  },
  {
   "cell_type": "code",
   "execution_count": 76,
   "metadata": {},
   "outputs": [],
   "source": [
    "# Splitting the data into train and test\n",
    "X_train, X_test, y_train, y_test = train_test_split(Final, profile_stable, train_size=0.7, test_size=0.3, random_state=42,stratify = profile_stable)"
   ]
  },
  {
   "cell_type": "code",
   "execution_count": 77,
   "metadata": {},
   "outputs": [
    {
     "name": "stdout",
     "output_type": "stream",
     "text": [
      "0    1014\n",
      "1     529\n",
      "Name: Stable Flag, dtype: int64\n",
      "0    435\n",
      "1    227\n",
      "Name: Stable Flag, dtype: int64\n"
     ]
    }
   ],
   "source": [
    "y_traindf = pd.DataFrame(y_train)\n",
    "y_testdf = pd.DataFrame(y_test)\n",
    "\n",
    "print(y_train.value_counts())\n",
    "print(y_test.value_counts())"
   ]
  },
  {
   "cell_type": "markdown",
   "metadata": {},
   "source": [
    "### Balancing the classes using SMOTE"
   ]
  },
  {
   "cell_type": "code",
   "execution_count": 78,
   "metadata": {},
   "outputs": [
    {
     "data": {
      "text/html": [
       "<div>\n",
       "<style scoped>\n",
       "    .dataframe tbody tr th:only-of-type {\n",
       "        vertical-align: middle;\n",
       "    }\n",
       "\n",
       "    .dataframe tbody tr th {\n",
       "        vertical-align: top;\n",
       "    }\n",
       "\n",
       "    .dataframe thead th {\n",
       "        text-align: right;\n",
       "    }\n",
       "</style>\n",
       "<table border=\"1\" class=\"dataframe\">\n",
       "  <thead>\n",
       "    <tr style=\"text-align: right;\">\n",
       "      <th></th>\n",
       "      <th>ps1_median_0</th>\n",
       "      <th>ps1_median_1</th>\n",
       "      <th>ps1_median_2</th>\n",
       "      <th>ps1_median_3</th>\n",
       "      <th>ps1_median_4</th>\n",
       "      <th>ps1_median_5</th>\n",
       "      <th>ps1_median_6</th>\n",
       "      <th>ps1_median_7</th>\n",
       "      <th>ps1_median_8</th>\n",
       "      <th>ps1_median_9</th>\n",
       "      <th>...</th>\n",
       "      <th>se_iqr_10</th>\n",
       "      <th>se_iqr_11</th>\n",
       "      <th>se_iqr_12</th>\n",
       "      <th>se_iqr_13</th>\n",
       "      <th>se_iqr_14</th>\n",
       "      <th>se_iqr_15</th>\n",
       "      <th>se_iqr_16</th>\n",
       "      <th>se_iqr_17</th>\n",
       "      <th>se_iqr_18</th>\n",
       "      <th>se_iqr_19</th>\n",
       "    </tr>\n",
       "  </thead>\n",
       "  <tbody>\n",
       "    <tr>\n",
       "      <th>0</th>\n",
       "      <td>190.580</td>\n",
       "      <td>190.60</td>\n",
       "      <td>190.60</td>\n",
       "      <td>146.850</td>\n",
       "      <td>143.600</td>\n",
       "      <td>143.52</td>\n",
       "      <td>153.145</td>\n",
       "      <td>153.44</td>\n",
       "      <td>153.430</td>\n",
       "      <td>153.480</td>\n",
       "      <td>...</td>\n",
       "      <td>0.1790</td>\n",
       "      <td>0.084</td>\n",
       "      <td>5.1505</td>\n",
       "      <td>5.4955</td>\n",
       "      <td>0.0195</td>\n",
       "      <td>0.0450</td>\n",
       "      <td>2.7295</td>\n",
       "      <td>0.0695</td>\n",
       "      <td>0.0000</td>\n",
       "      <td>0.0345</td>\n",
       "    </tr>\n",
       "    <tr>\n",
       "      <th>1</th>\n",
       "      <td>191.490</td>\n",
       "      <td>191.47</td>\n",
       "      <td>191.47</td>\n",
       "      <td>147.150</td>\n",
       "      <td>146.505</td>\n",
       "      <td>146.42</td>\n",
       "      <td>156.350</td>\n",
       "      <td>156.46</td>\n",
       "      <td>156.440</td>\n",
       "      <td>156.440</td>\n",
       "      <td>...</td>\n",
       "      <td>0.1360</td>\n",
       "      <td>0.070</td>\n",
       "      <td>3.7870</td>\n",
       "      <td>4.2245</td>\n",
       "      <td>0.0415</td>\n",
       "      <td>0.0070</td>\n",
       "      <td>2.2930</td>\n",
       "      <td>0.1220</td>\n",
       "      <td>0.1375</td>\n",
       "      <td>0.1230</td>\n",
       "    </tr>\n",
       "    <tr>\n",
       "      <th>2</th>\n",
       "      <td>191.540</td>\n",
       "      <td>191.49</td>\n",
       "      <td>191.51</td>\n",
       "      <td>147.600</td>\n",
       "      <td>146.810</td>\n",
       "      <td>146.74</td>\n",
       "      <td>156.490</td>\n",
       "      <td>156.65</td>\n",
       "      <td>156.555</td>\n",
       "      <td>156.600</td>\n",
       "      <td>...</td>\n",
       "      <td>0.1180</td>\n",
       "      <td>0.108</td>\n",
       "      <td>3.7765</td>\n",
       "      <td>4.3085</td>\n",
       "      <td>0.0300</td>\n",
       "      <td>0.1150</td>\n",
       "      <td>2.4645</td>\n",
       "      <td>0.0640</td>\n",
       "      <td>0.1320</td>\n",
       "      <td>0.0140</td>\n",
       "    </tr>\n",
       "    <tr>\n",
       "      <th>3</th>\n",
       "      <td>189.575</td>\n",
       "      <td>189.66</td>\n",
       "      <td>189.63</td>\n",
       "      <td>142.125</td>\n",
       "      <td>140.880</td>\n",
       "      <td>140.84</td>\n",
       "      <td>150.225</td>\n",
       "      <td>150.36</td>\n",
       "      <td>150.380</td>\n",
       "      <td>150.380</td>\n",
       "      <td>...</td>\n",
       "      <td>0.0145</td>\n",
       "      <td>0.015</td>\n",
       "      <td>0.2725</td>\n",
       "      <td>0.0015</td>\n",
       "      <td>0.0105</td>\n",
       "      <td>0.0005</td>\n",
       "      <td>12.6510</td>\n",
       "      <td>0.3435</td>\n",
       "      <td>0.1055</td>\n",
       "      <td>0.1280</td>\n",
       "    </tr>\n",
       "    <tr>\n",
       "      <th>4</th>\n",
       "      <td>190.710</td>\n",
       "      <td>190.73</td>\n",
       "      <td>190.69</td>\n",
       "      <td>144.030</td>\n",
       "      <td>143.250</td>\n",
       "      <td>143.20</td>\n",
       "      <td>153.100</td>\n",
       "      <td>153.13</td>\n",
       "      <td>153.110</td>\n",
       "      <td>153.195</td>\n",
       "      <td>...</td>\n",
       "      <td>0.0065</td>\n",
       "      <td>0.081</td>\n",
       "      <td>4.4225</td>\n",
       "      <td>4.8550</td>\n",
       "      <td>0.1285</td>\n",
       "      <td>0.0585</td>\n",
       "      <td>2.6345</td>\n",
       "      <td>0.0445</td>\n",
       "      <td>0.1205</td>\n",
       "      <td>0.0725</td>\n",
       "    </tr>\n",
       "  </tbody>\n",
       "</table>\n",
       "<p>5 rows × 2040 columns</p>\n",
       "</div>"
      ],
      "text/plain": [
       "   ps1_median_0  ps1_median_1  ps1_median_2  ps1_median_3  ps1_median_4  \\\n",
       "0       190.580        190.60        190.60       146.850       143.600   \n",
       "1       191.490        191.47        191.47       147.150       146.505   \n",
       "2       191.540        191.49        191.51       147.600       146.810   \n",
       "3       189.575        189.66        189.63       142.125       140.880   \n",
       "4       190.710        190.73        190.69       144.030       143.250   \n",
       "\n",
       "   ps1_median_5  ps1_median_6  ps1_median_7  ps1_median_8  ps1_median_9  ...  \\\n",
       "0        143.52       153.145        153.44       153.430       153.480  ...   \n",
       "1        146.42       156.350        156.46       156.440       156.440  ...   \n",
       "2        146.74       156.490        156.65       156.555       156.600  ...   \n",
       "3        140.84       150.225        150.36       150.380       150.380  ...   \n",
       "4        143.20       153.100        153.13       153.110       153.195  ...   \n",
       "\n",
       "   se_iqr_10  se_iqr_11  se_iqr_12  se_iqr_13  se_iqr_14  se_iqr_15  \\\n",
       "0     0.1790      0.084     5.1505     5.4955     0.0195     0.0450   \n",
       "1     0.1360      0.070     3.7870     4.2245     0.0415     0.0070   \n",
       "2     0.1180      0.108     3.7765     4.3085     0.0300     0.1150   \n",
       "3     0.0145      0.015     0.2725     0.0015     0.0105     0.0005   \n",
       "4     0.0065      0.081     4.4225     4.8550     0.1285     0.0585   \n",
       "\n",
       "   se_iqr_16  se_iqr_17  se_iqr_18  se_iqr_19  \n",
       "0     2.7295     0.0695     0.0000     0.0345  \n",
       "1     2.2930     0.1220     0.1375     0.1230  \n",
       "2     2.4645     0.0640     0.1320     0.0140  \n",
       "3    12.6510     0.3435     0.1055     0.1280  \n",
       "4     2.6345     0.0445     0.1205     0.0725  \n",
       "\n",
       "[5 rows x 2040 columns]"
      ]
     },
     "execution_count": 78,
     "metadata": {},
     "output_type": "execute_result"
    }
   ],
   "source": [
    "\n",
    "## SMOTE method is used to balance data\n",
    "from imblearn import under_sampling \n",
    "from imblearn import over_sampling\n",
    "from imblearn.over_sampling import SMOTE\n",
    "\n",
    "smt = SMOTE(random_state=45, k_neighbors=5)\n",
    "X_train, y_train = smt.fit_sample(X_train,y_train)\n",
    "X_train = pd.DataFrame(X_train, columns=X_train.columns)\n",
    "\n",
    "#y_train_smt = pd.DataFrame(y_train_smt)\n",
    "\n",
    "X_train.head()"
   ]
  },
  {
   "cell_type": "markdown",
   "metadata": {},
   "source": [
    "## Standardisation of Data"
   ]
  },
  {
   "cell_type": "code",
   "execution_count": 79,
   "metadata": {},
   "outputs": [],
   "source": [
    "from sklearn.preprocessing import StandardScaler"
   ]
  },
  {
   "cell_type": "code",
   "execution_count": 80,
   "metadata": {},
   "outputs": [],
   "source": [
    "scaler = StandardScaler() ## x-mean/std\n",
    "\n",
    "X_train_scaled = scaler.fit_transform(X_train)\n",
    "X_test_scaled = scaler.transform(X_test)"
   ]
  },
  {
   "cell_type": "code",
   "execution_count": 81,
   "metadata": {},
   "outputs": [],
   "source": [
    "X_train_scaled = pd.DataFrame(X_train_scaled)\n",
    "X_test_scaled = pd.DataFrame(X_test_scaled)"
   ]
  },
  {
   "cell_type": "code",
   "execution_count": 82,
   "metadata": {},
   "outputs": [],
   "source": [
    "X_train_scaled.columns = Final.columns \n",
    "X_test_scaled.columns = Final.columns "
   ]
  },
  {
   "cell_type": "code",
   "execution_count": 83,
   "metadata": {},
   "outputs": [
    {
     "name": "stdout",
     "output_type": "stream",
     "text": [
      "(662, 2040)\n",
      "(2028, 2040)\n"
     ]
    }
   ],
   "source": [
    "print(X_test_scaled.shape)\n",
    "print(X_train_scaled.shape)"
   ]
  },
  {
   "cell_type": "markdown",
   "metadata": {},
   "source": [
    "\n",
    "\n",
    "### Building an Logistic Regression classifier for Stable Flag"
   ]
  },
  {
   "cell_type": "code",
   "execution_count": 84,
   "metadata": {},
   "outputs": [],
   "source": [
    "from sklearn.linear_model import LogisticRegression\n",
    "from sklearn.svm import SVC\n",
    "from sklearn.ensemble import RandomForestClassifier\n",
    "from sklearn.metrics import confusion_matrix,accuracy_score,precision_score,recall_score,f1_score\n",
    "from sklearn.model_selection import cross_validate,GridSearchCV,RandomizedSearchCV\n",
    "\n",
    "from scipy.stats import randint\n",
    "from sklearn.neighbors import KNeighborsClassifier\n",
    "from sklearn.naive_bayes import GaussianNB\n",
    "from sklearn.tree import DecisionTreeClassifier\n",
    "from sklearn.preprocessing import StandardScaler\n",
    "from sklearn.model_selection import train_test_split\n",
    "from sklearn import metrics"
   ]
  },
  {
   "cell_type": "code",
   "execution_count": 85,
   "metadata": {},
   "outputs": [],
   "source": [
    "l_classifier = LogisticRegression(random_state=100, max_iter= 400)"
   ]
  },
  {
   "cell_type": "code",
   "execution_count": 86,
   "metadata": {},
   "outputs": [
    {
     "data": {
      "text/plain": [
       "LogisticRegression(max_iter=400, random_state=100)"
      ]
     },
     "execution_count": 86,
     "metadata": {},
     "output_type": "execute_result"
    }
   ],
   "source": [
    "l_classifier.fit(X_train_scaled,y_train)"
   ]
  },
  {
   "cell_type": "code",
   "execution_count": 87,
   "metadata": {},
   "outputs": [],
   "source": [
    "def evaluate_model(dt_classifier,y_train,X_train,y_test,X_test):\n",
    "    print(\"Train Precision :\", (precision_score(y_train, dt_classifier.predict(X_train)))*100)\n",
    "    print(\"Train Confusion Matrix:\")\n",
    "    print(confusion_matrix(y_train, dt_classifier.predict(X_train)))\n",
    "    print(\"-\"*50)\n",
    "    print(\"Test Precision :\", (precision_score(y_test, dt_classifier.predict(X_test)))*100)\n",
    "    print(\"Test Confusion Matrix:\")\n",
    "    print(confusion_matrix(y_test, dt_classifier.predict(X_test)))"
   ]
  },
  {
   "cell_type": "code",
   "execution_count": 88,
   "metadata": {},
   "outputs": [
    {
     "name": "stdout",
     "output_type": "stream",
     "text": [
      "Train Precision : 100.0\n",
      "Train Confusion Matrix:\n",
      "[[1014    0]\n",
      " [   0 1014]]\n",
      "--------------------------------------------------\n",
      "Test Precision : 88.9795918367347\n",
      "Test Confusion Matrix:\n",
      "[[408  27]\n",
      " [  9 218]]\n"
     ]
    }
   ],
   "source": [
    "evaluate_model(l_classifier, y_train, X_train_scaled, y_test, X_test_scaled)"
   ]
  },
  {
   "cell_type": "code",
   "execution_count": 89,
   "metadata": {},
   "outputs": [
    {
     "name": "stdout",
     "output_type": "stream",
     "text": [
      "              precision    recall  f1-score   support\n",
      "\n",
      "           0       0.98      0.94      0.96       435\n",
      "           1       0.89      0.96      0.92       227\n",
      "\n",
      "    accuracy                           0.95       662\n",
      "   macro avg       0.93      0.95      0.94       662\n",
      "weighted avg       0.95      0.95      0.95       662\n",
      "\n"
     ]
    }
   ],
   "source": [
    "from sklearn.metrics import classification_report\n",
    "print(classification_report(y_test, l_classifier.predict(X_test_scaled)))"
   ]
  },
  {
   "cell_type": "code",
   "execution_count": 90,
   "metadata": {},
   "outputs": [
    {
     "data": {
      "image/png": "[encoded data removed]",
      "text/plain": [
       "<Figure size 432x288 with 1 Axes>"
      ]
     },
     "metadata": {
      "needs_background": "light"
     },
     "output_type": "display_data"
    }
   ],
   "source": [
    "import sklearn.metrics as metrics\n",
    "# calculate the fpr and tpr for all thresholds of the classification\n",
    "probs = l_classifier.predict_proba(X_test_scaled)\n",
    "preds = probs[:,1]\n",
    "fpr, tpr, threshold = metrics.roc_curve(y_test, preds)\n",
    "roc_auc = metrics.auc(fpr, tpr)\n",
    "\n",
    "# method I: plt\n",
    "import matplotlib.pyplot as plt\n",
    "plt.title('Receiver Operating Characteristic')\n",
    "plt.plot(fpr, tpr, 'b', label = 'AUC = %0.2f' % roc_auc)\n",
    "plt.legend(loc = 'lower right')\n",
    "plt.plot([0, 1], [0, 1],'r--')\n",
    "plt.xlim([0, 1])\n",
    "plt.ylim([0, 1])\n",
    "plt.ylabel('True Positive Rate')\n",
    "plt.xlabel('False Positive Rate')\n",
    "plt.show()"
   ]
  },
  {
   "cell_type": "markdown",
   "metadata": {},
   "source": [
    "### Performance of noise test data"
   ]
  },
  {
   "cell_type": "code",
   "execution_count": null,
   "metadata": {},
   "outputs": [],
   "source": [
    "import numpy as np \n",
    "mu, sigma = 0, np.std(X_test_scaled)*0.20\n",
    "noise = np.random.normal(mu, sigma, X_test_scaled.shape)\n",
    "noise.shape\n",
    "\n",
    "X_testscaled_noise = X_test_scaled + noise"
   ]
  },
  {
   "cell_type": "code",
   "execution_count": 105,
   "metadata": {},
   "outputs": [
    {
     "name": "stdout",
     "output_type": "stream",
     "text": [
      "              precision    recall  f1-score   support\n",
      "\n",
      "           0       0.97      0.93      0.95       435\n",
      "           1       0.88      0.95      0.92       227\n",
      "\n",
      "    accuracy                           0.94       662\n",
      "   macro avg       0.93      0.94      0.93       662\n",
      "weighted avg       0.94      0.94      0.94       662\n",
      "\n"
     ]
    }
   ],
   "source": [
    "print(classification_report(y_test, l_classifier.predict(X_testscaled_noise)))"
   ]
  },
  {
   "cell_type": "code",
   "execution_count": 106,
   "metadata": {},
   "outputs": [
    {
     "data": {
      "image/png": "[encoded data removed]",
      "text/plain": [
       "<Figure size 432x288 with 1 Axes>"
      ]
     },
     "metadata": {
      "needs_background": "light"
     },
     "output_type": "display_data"
    }
   ],
   "source": [
    "import sklearn.metrics as metrics\n",
    "# calculate the fpr and tpr for all thresholds of the classification\n",
    "probs = l_classifier.predict_proba(X_testscaled_noise)\n",
    "preds = probs[:,1]\n",
    "fpr, tpr, threshold = metrics.roc_curve(y_test, preds)\n",
    "roc_auc = metrics.auc(fpr, tpr)\n",
    "\n",
    "# method I: plt\n",
    "import matplotlib.pyplot as plt\n",
    "plt.title('Receiver Operating Characteristic')\n",
    "plt.plot(fpr, tpr, 'b', label = 'AUC = %0.2f' % roc_auc)\n",
    "plt.legend(loc = 'lower right')\n",
    "plt.plot([0, 1], [0, 1],'r--')\n",
    "plt.xlim([0, 1])\n",
    "plt.ylim([0, 1])\n",
    "plt.ylabel('True Positive Rate')\n",
    "plt.xlabel('False Positive Rate')\n",
    "plt.show()"
   ]
  },
  {
   "cell_type": "code",
   "execution_count": null,
   "metadata": {},
   "outputs": [],
   "source": []
  },
  {
   "cell_type": "markdown",
   "metadata": {},
   "source": [
    "#### Using RFE for dimension reduction"
   ]
  },
  {
   "cell_type": "code",
   "execution_count": null,
   "metadata": {},
   "outputs": [],
   "source": [
    "ml1=l_classifier.fit(X_train_scaled,y_train)\n",
    "from sklearn.feature_selection import RFE\n",
    "rfe = RFE(ml1, 20)             # running RFE with 30 variables as output\n",
    "rfe = rfe.fit(X_train_scaled, y_train)"
   ]
  },
  {
   "cell_type": "code",
   "execution_count": null,
   "metadata": {},
   "outputs": [],
   "source": [
    "rfe.support_"
   ]
  },
  {
   "cell_type": "code",
   "execution_count": null,
   "metadata": {},
   "outputs": [],
   "source": [
    "list(zip(X_train_scaled.columns, rfe.support_, rfe.ranking_))"
   ]
  },
  {
   "cell_type": "code",
   "execution_count": null,
   "metadata": {},
   "outputs": [],
   "source": [
    "rfecol = X_train_scaled.columns[rfe.support_] \n",
    "X_train_scaled.columns[~rfe.support_]\n"
   ]
  },
  {
   "cell_type": "code",
   "execution_count": null,
   "metadata": {},
   "outputs": [],
   "source": [
    "X_train_scaledRFE = pd.DataFrame(X_train_scaled[rfecol])\n",
    "X_test_scaledRFE = pd.DataFrame(X_test_scaled[rfecol])"
   ]
  },
  {
   "cell_type": "code",
   "execution_count": null,
   "metadata": {},
   "outputs": [],
   "source": [
    "l_classifier.fit(X_train_scaledRFE,y_train)"
   ]
  },
  {
   "cell_type": "code",
   "execution_count": null,
   "metadata": {},
   "outputs": [],
   "source": [
    "evaluate_model(l_classifier, y_train, X_train_scaledRFE, y_test, X_test_scaledRFE)"
   ]
  },
  {
   "cell_type": "code",
   "execution_count": null,
   "metadata": {},
   "outputs": [],
   "source": [
    "import sklearn.metrics as metrics\n",
    "# calculate the fpr and tpr for all thresholds of the classification\n",
    "probs = l_classifier.predict_proba(X_test_scaledRFE)\n",
    "preds = probs[:,1]\n",
    "fpr, tpr, threshold = metrics.roc_curve(y_test, preds)\n",
    "roc_auc = metrics.auc(fpr, tpr)\n",
    "\n",
    "# method I: plt\n",
    "import matplotlib.pyplot as plt\n",
    "plt.title('Receiver Operating Characteristic')\n",
    "plt.plot(fpr, tpr, 'b', label = 'AUC = %0.2f' % roc_auc)\n",
    "plt.legend(loc = 'lower right')\n",
    "plt.plot([0, 1], [0, 1],'r--')\n",
    "plt.xlim([0, 1])\n",
    "plt.ylim([0, 1])\n",
    "plt.ylabel('True Positive Rate')\n",
    "plt.xlabel('False Positive Rate')\n",
    "plt.show()"
   ]
  },
  {
   "cell_type": "markdown",
   "metadata": {},
   "source": [
    "### Building an RF classifier for Stable Flag"
   ]
  },
  {
   "cell_type": "code",
   "execution_count": 91,
   "metadata": {},
   "outputs": [],
   "source": [
    "rfc=RandomForestClassifier(n_estimators=100,random_state=1)"
   ]
  },
  {
   "cell_type": "code",
   "execution_count": 92,
   "metadata": {},
   "outputs": [
    {
     "data": {
      "text/plain": [
       "RandomForestClassifier(random_state=1)"
      ]
     },
     "execution_count": 92,
     "metadata": {},
     "output_type": "execute_result"
    }
   ],
   "source": [
    "rfc.fit(X_train_scaled,y_train)"
   ]
  },
  {
   "cell_type": "code",
   "execution_count": null,
   "metadata": {},
   "outputs": [],
   "source": [
    "print(classification_report(y_test, rfc.predict(X_test_scaled)))"
   ]
  },
  {
   "cell_type": "code",
   "execution_count": null,
   "metadata": {},
   "outputs": [],
   "source": [
    "import sklearn.metrics as metrics\n",
    "# calculate the fpr and tpr for all thresholds of the classification\n",
    "probs = rfc.predict_proba(X_test_scaled)\n",
    "preds = probs[:,1]\n",
    "fpr, tpr, threshold = metrics.roc_curve(y_test, preds)\n",
    "roc_auc = metrics.auc(fpr, tpr)\n",
    "\n",
    "# method I: plt\n",
    "import matplotlib.pyplot as plt\n",
    "plt.title('Receiver Operating Characteristic')\n",
    "plt.plot(fpr, tpr, 'b', label = 'AUC = %0.2f' % roc_auc)\n",
    "plt.legend(loc = 'lower right')\n",
    "plt.plot([0, 1], [0, 1],'r--')\n",
    "plt.xlim([0, 1])\n",
    "plt.ylim([0, 1])\n",
    "plt.ylabel('True Positive Rate')\n",
    "plt.xlabel('False Positive Rate')\n",
    "plt.show()"
   ]
  },
  {
   "cell_type": "markdown",
   "metadata": {},
   "source": [
    "#### Hypertune the parameters "
   ]
  },
  {
   "cell_type": "code",
   "execution_count": 93,
   "metadata": {},
   "outputs": [],
   "source": [
    "from sklearn.metrics import classification_report\n",
    "# Importing required packages for visualization\n",
    "from IPython.display import Image  \n",
    "\n",
    "from sklearn.metrics import confusion_matrix, accuracy_score\n",
    "\n",
    "from sklearn.model_selection import GridSearchCV"
   ]
  },
  {
   "cell_type": "code",
   "execution_count": 94,
   "metadata": {},
   "outputs": [],
   "source": [
    "classifier_rf = RandomForestClassifier(random_state=42, n_jobs=-1 , class_weight = 'balanced')"
   ]
  },
  {
   "cell_type": "code",
   "execution_count": 95,
   "metadata": {},
   "outputs": [],
   "source": [
    "# Create the parameter grid based on the results of random search \n",
    "params = {\n",
    "    'max_depth': [1, 2, 5, 10, 20],\n",
    "    'min_samples_leaf': [5, 10, 20, 50, 100],\n",
    "    'max_features': [20,50,100],\n",
    "    'n_estimators': [10, 30, 50, 100, 200]\n",
    "}\n",
    "\n",
    "## maximum depth is 1,2,5,10,20\n",
    "## minimum sample leaf is 5,10,20,50,100\n",
    "## maximum no. of features is 2,3,4\n",
    "## no. of trees is 10, 30,50,100,200"
   ]
  },
  {
   "cell_type": "code",
   "execution_count": 96,
   "metadata": {},
   "outputs": [],
   "source": [
    "# Instantiate the grid search model\n",
    "grid_search = GridSearchCV(estimator = classifier_rf, param_grid=params, \n",
    "                           cv=4, n_jobs=-1, verbose=1, scoring = \"precision\")"
   ]
  },
  {
   "cell_type": "code",
   "execution_count": 97,
   "metadata": {},
   "outputs": [
    {
     "name": "stdout",
     "output_type": "stream",
     "text": [
      "Fitting 4 folds for each of 375 candidates, totalling 1500 fits\n"
     ]
    },
    {
     "name": "stderr",
     "output_type": "stream",
     "text": [
      "[Parallel(n_jobs=-1)]: Using backend LokyBackend with 8 concurrent workers.\n",
      "[Parallel(n_jobs=-1)]: Done  34 tasks      | elapsed:    7.2s\n",
      "[Parallel(n_jobs=-1)]: Done 184 tasks      | elapsed:   32.5s\n",
      "[Parallel(n_jobs=-1)]: Done 434 tasks      | elapsed:  1.5min\n",
      "[Parallel(n_jobs=-1)]: Done 784 tasks      | elapsed:  4.0min\n",
      "[Parallel(n_jobs=-1)]: Done 1234 tasks      | elapsed:  9.2min\n",
      "[Parallel(n_jobs=-1)]: Done 1500 out of 1500 | elapsed: 12.5min finished\n"
     ]
    },
    {
     "name": "stdout",
     "output_type": "stream",
     "text": [
      "Wall time: 12min 33s\n"
     ]
    },
    {
     "data": {
      "text/plain": [
       "GridSearchCV(cv=4,\n",
       "             estimator=RandomForestClassifier(class_weight='balanced',\n",
       "                                              n_jobs=-1, random_state=42),\n",
       "             n_jobs=-1,\n",
       "             param_grid={'max_depth': [1, 2, 5, 10, 20],\n",
       "                         'max_features': [20, 50, 100],\n",
       "                         'min_samples_leaf': [5, 10, 20, 50, 100],\n",
       "                         'n_estimators': [10, 30, 50, 100, 200]},\n",
       "             scoring='precision', verbose=1)"
      ]
     },
     "execution_count": 97,
     "metadata": {},
     "output_type": "execute_result"
    }
   ],
   "source": [
    "%%time\n",
    "grid_search.fit(X_train_scaled, y_train)"
   ]
  },
  {
   "cell_type": "code",
   "execution_count": 98,
   "metadata": {},
   "outputs": [
    {
     "data": {
      "text/plain": [
       "RandomForestClassifier(class_weight='balanced', max_depth=20, max_features=20,\n",
       "                       min_samples_leaf=5, n_estimators=30, n_jobs=-1,\n",
       "                       random_state=42)"
      ]
     },
     "execution_count": 98,
     "metadata": {},
     "output_type": "execute_result"
    }
   ],
   "source": [
    "rf_best = grid_search.best_estimator_ ## best estimator is assigned to rf_best\n",
    "rf_best"
   ]
  },
  {
   "cell_type": "code",
   "execution_count": 99,
   "metadata": {},
   "outputs": [
    {
     "name": "stdout",
     "output_type": "stream",
     "text": [
      "              precision    recall  f1-score   support\n",
      "\n",
      "           0       0.98      1.00      0.99       435\n",
      "           1       1.00      0.96      0.98       227\n",
      "\n",
      "    accuracy                           0.99       662\n",
      "   macro avg       0.99      0.98      0.98       662\n",
      "weighted avg       0.99      0.99      0.99       662\n",
      "\n"
     ]
    }
   ],
   "source": [
    "print(classification_report(y_test, rf_best.predict(X_test_scaled)))"
   ]
  },
  {
   "cell_type": "code",
   "execution_count": 101,
   "metadata": {},
   "outputs": [
    {
     "data": {
      "image/png": "[encoded data removed]",
      "text/plain": [
       "<Figure size 432x288 with 1 Axes>"
      ]
     },
     "metadata": {
      "needs_background": "light"
     },
     "output_type": "display_data"
    }
   ],
   "source": [
    "import sklearn.metrics as metrics\n",
    "# calculate the fpr and tpr for all thresholds of the classification\n",
    "probs = rf_best.predict_proba(X_test_scaled)\n",
    "preds = probs[:,1]\n",
    "fpr, tpr, threshold = metrics.roc_curve(y_test, preds)\n",
    "roc_auc = metrics.auc(fpr, tpr)\n",
    "\n",
    "# method I: plt\n",
    "import matplotlib.pyplot as plt\n",
    "plt.title('Receiver Operating Characteristic')\n",
    "plt.plot(fpr, tpr, 'b', label = 'AUC = %0.2f' % roc_auc)\n",
    "plt.legend(loc = 'lower right')\n",
    "plt.plot([0, 1], [0, 1],'r--')\n",
    "plt.xlim([0, 1])\n",
    "plt.ylim([0, 1])\n",
    "plt.ylabel('True Positive Rate')\n",
    "plt.xlabel('False Positive Rate')\n",
    "plt.show()"
   ]
  },
  {
   "cell_type": "markdown",
   "metadata": {},
   "source": [
    "### Performance of rf on noise dataset"
   ]
  },
  {
   "cell_type": "code",
   "execution_count": 102,
   "metadata": {},
   "outputs": [],
   "source": [
    "import numpy as np \n",
    "mu, sigma = 0, np.std(X_test_scaled)*0.20\n",
    "noise = np.random.normal(mu, sigma, X_test_scaled.shape)\n",
    "noise.shape\n",
    "\n",
    "X_testscaled_noise = X_test_scaled + noise"
   ]
  },
  {
   "cell_type": "code",
   "execution_count": 103,
   "metadata": {},
   "outputs": [
    {
     "name": "stdout",
     "output_type": "stream",
     "text": [
      "              precision    recall  f1-score   support\n",
      "\n",
      "           0       0.93      0.95      0.94       435\n",
      "           1       0.90      0.86      0.88       227\n",
      "\n",
      "    accuracy                           0.92       662\n",
      "   macro avg       0.91      0.90      0.91       662\n",
      "weighted avg       0.92      0.92      0.92       662\n",
      "\n"
     ]
    }
   ],
   "source": [
    "print(classification_report(y_test, rf_best.predict(X_testscaled_noise)))"
   ]
  },
  {
   "cell_type": "code",
   "execution_count": 104,
   "metadata": {},
   "outputs": [
    {
     "data": {
      "image/png": "[encoded data removed]",
      "text/plain": [
       "<Figure size 432x288 with 1 Axes>"
      ]
     },
     "metadata": {
      "needs_background": "light"
     },
     "output_type": "display_data"
    }
   ],
   "source": [
    "import sklearn.metrics as metrics\n",
    "# calculate the fpr and tpr for all thresholds of the classification\n",
    "probs = rf_best.predict_proba(X_testscaled_noise)\n",
    "preds = probs[:,1]\n",
    "fpr, tpr, threshold = metrics.roc_curve(y_test, preds)\n",
    "roc_auc = metrics.auc(fpr, tpr)\n",
    "\n",
    "# method I: plt\n",
    "import matplotlib.pyplot as plt\n",
    "plt.title('Receiver Operating Characteristic')\n",
    "plt.plot(fpr, tpr, 'b', label = 'AUC = %0.2f' % roc_auc)\n",
    "plt.legend(loc = 'lower right')\n",
    "plt.plot([0, 1], [0, 1],'r--')\n",
    "plt.xlim([0, 1])\n",
    "plt.ylim([0, 1])\n",
    "plt.ylabel('True Positive Rate')\n",
    "plt.xlabel('False Positive Rate')\n",
    "plt.show()"
   ]
  },
  {
   "cell_type": "markdown",
   "metadata": {},
   "source": [
    "# PCA on multivariate Time series \n",
    "\n",
    "Source : https://github.com/ansjin/blogs/blob/master/Dimensionality%20Reduction/Dimensionality%20Reduction%20using%20PCA%20on%20multivariate%20timeseries%20data.ipynb"
   ]
  },
  {
   "cell_type": "code",
   "execution_count": 107,
   "metadata": {},
   "outputs": [],
   "source": [
    "from sklearn.decomposition import PCA"
   ]
  },
  {
   "cell_type": "code",
   "execution_count": 108,
   "metadata": {},
   "outputs": [],
   "source": [
    "pca = PCA(random_state=42)\n",
    "X_train_pca = pca.fit(X_train_scaled)"
   ]
  },
  {
   "cell_type": "code",
   "execution_count": 109,
   "metadata": {},
   "outputs": [
    {
     "data": {
      "text/plain": [
       "array([[-3.35354454e-02, -3.35614020e-02, -3.35648480e-02, ...,\n",
       "         3.22031867e-03,  5.59425194e-03,  6.59240676e-03],\n",
       "       [-2.21087124e-03, -1.37279743e-03, -6.68184559e-04, ...,\n",
       "         2.80047248e-03, -1.32888377e-03, -7.02712880e-03],\n",
       "       [-1.13450549e-02, -1.16695044e-02, -1.19923746e-02, ...,\n",
       "        -1.09119898e-02, -3.94448593e-03,  8.09179577e-03],\n",
       "       ...,\n",
       "       [-1.20175290e-05, -4.00530009e-04,  4.03664188e-04, ...,\n",
       "        -1.92384904e-02, -1.37004599e-02,  9.98868107e-03],\n",
       "       [-2.14041835e-03,  1.90544406e-02, -9.85610799e-03, ...,\n",
       "        -4.34556613e-03,  1.38990707e-02,  7.21287206e-03],\n",
       "       [-2.92177175e-05,  4.49626817e-03,  5.68205508e-03, ...,\n",
       "        -7.88868536e-03,  1.96916826e-02,  4.19707119e-02]])"
      ]
     },
     "execution_count": 109,
     "metadata": {},
     "output_type": "execute_result"
    }
   ],
   "source": [
    "pca.components_"
   ]
  },
  {
   "cell_type": "code",
   "execution_count": 110,
   "metadata": {},
   "outputs": [
    {
     "data": {
      "text/plain": [
       "array([4.10540635e-01, 1.26690804e-01, 2.56043287e-02, ...,\n",
       "       1.90735878e-33, 7.17541344e-34, 2.28086557e-34])"
      ]
     },
     "execution_count": 110,
     "metadata": {},
     "output_type": "execute_result"
    }
   ],
   "source": [
    "pca.explained_variance_ratio_"
   ]
  },
  {
   "cell_type": "code",
   "execution_count": 113,
   "metadata": {},
   "outputs": [
    {
     "data": {
      "image/png": "[encoded data removed]",
      "text/plain": [
       "<Figure size 1440x360 with 1 Axes>"
      ]
     },
     "metadata": {
      "needs_background": "light"
     },
     "output_type": "display_data"
    }
   ],
   "source": [
    "var_cumu = np.cumsum(pca.explained_variance_ratio_)\n",
    "fig = plt.figure(figsize=[20,5])\n",
    "plt.vlines(x=15, ymax=1, ymin=0, colors=\"r\", linestyles=\"--\")\n",
    "plt.hlines(y=0.95, xmax=30, xmin=0, colors=\"g\", linestyles=\"--\")\n",
    "plt.plot(var_cumu)\n",
    "plt.ylabel(\"Cumulative variance explained\")\n",
    "plt.show()"
   ]
  },
  {
   "cell_type": "code",
   "execution_count": 124,
   "metadata": {},
   "outputs": [],
   "source": [
    "from sklearn.decomposition import IncrementalPCA\n",
    "pca_final = IncrementalPCA(n_components=20)\n",
    "\n",
    "X_train_pca = pca_final.fit_transform(X_train_scaled)\n",
    "X_test_pca = pca_final.transform(X_test_scaled)\n"
   ]
  },
  {
   "cell_type": "code",
   "execution_count": 125,
   "metadata": {},
   "outputs": [
    {
     "data": {
      "text/plain": [
       "(662, 20)"
      ]
     },
     "execution_count": 125,
     "metadata": {},
     "output_type": "execute_result"
    }
   ],
   "source": [
    "X_test_pca.shape"
   ]
  },
  {
   "cell_type": "markdown",
   "metadata": {},
   "source": [
    "### SVM +PCA"
   ]
  },
  {
   "cell_type": "code",
   "execution_count": 126,
   "metadata": {},
   "outputs": [
    {
     "data": {
      "text/plain": [
       "(2028, 20)"
      ]
     },
     "execution_count": 126,
     "metadata": {},
     "output_type": "execute_result"
    }
   ],
   "source": [
    "X_train_pca.shape"
   ]
  },
  {
   "cell_type": "code",
   "execution_count": 115,
   "metadata": {},
   "outputs": [],
   "source": [
    "svc=SVC(kernel=\"rbf\",probability=True)"
   ]
  },
  {
   "cell_type": "code",
   "execution_count": 128,
   "metadata": {},
   "outputs": [
    {
     "data": {
      "text/plain": [
       "SVC(probability=True)"
      ]
     },
     "execution_count": 128,
     "metadata": {},
     "output_type": "execute_result"
    }
   ],
   "source": [
    "svc.fit(X_train_pca,y_train)"
   ]
  },
  {
   "cell_type": "code",
   "execution_count": 129,
   "metadata": {},
   "outputs": [
    {
     "data": {
      "image/png": "[encoded data removed]",
      "text/plain": [
       "<Figure size 432x288 with 1 Axes>"
      ]
     },
     "metadata": {
      "needs_background": "light"
     },
     "output_type": "display_data"
    }
   ],
   "source": [
    "import sklearn.metrics as metrics\n",
    "# calculate the fpr and tpr for all thresholds of the classification\n",
    "probs = svc.predict_proba(X_test_pca)\n",
    "preds = probs[:,1]\n",
    "fpr, tpr, threshold = metrics.roc_curve(y_test, preds)\n",
    "roc_auc = metrics.auc(fpr, tpr)\n",
    "\n",
    "# method I: plt\n",
    "import matplotlib.pyplot as plt\n",
    "plt.title('Receiver Operating Characteristic')\n",
    "plt.plot(fpr, tpr, 'b', label = 'AUC = %0.2f' % roc_auc)\n",
    "plt.legend(loc = 'lower right')\n",
    "plt.plot([0, 1], [0, 1],'r--')\n",
    "plt.xlim([0, 1])\n",
    "plt.ylim([0, 1])\n",
    "plt.ylabel('True Positive Rate')\n",
    "plt.xlabel('False Positive Rate')\n",
    "plt.show()"
   ]
  },
  {
   "cell_type": "code",
   "execution_count": 133,
   "metadata": {},
   "outputs": [
    {
     "name": "stdout",
     "output_type": "stream",
     "text": [
      "              precision    recall  f1-score   support\n",
      "\n",
      "           0       0.95      0.96      0.95       435\n",
      "           1       0.92      0.90      0.91       227\n",
      "\n",
      "    accuracy                           0.94       662\n",
      "   macro avg       0.94      0.93      0.93       662\n",
      "weighted avg       0.94      0.94      0.94       662\n",
      "\n"
     ]
    }
   ],
   "source": [
    "print(classification_report(y_test, svc.predict(X_test_pca)))"
   ]
  },
  {
   "cell_type": "markdown",
   "metadata": {},
   "source": [
    "## Noise introduced"
   ]
  },
  {
   "cell_type": "code",
   "execution_count": 131,
   "metadata": {},
   "outputs": [],
   "source": [
    "import numpy as np \n",
    "mu, sigma = 0, np.std(X_test_pca)*0.20\n",
    "noise = np.random.normal(mu, sigma, X_test_pca.shape)\n",
    "\n",
    "X_testnoise_pca = X_test_pca + noise"
   ]
  },
  {
   "cell_type": "code",
   "execution_count": 132,
   "metadata": {},
   "outputs": [
    {
     "name": "stdout",
     "output_type": "stream",
     "text": [
      "              precision    recall  f1-score   support\n",
      "\n",
      "           0       0.95      0.96      0.96       435\n",
      "           1       0.93      0.90      0.91       227\n",
      "\n",
      "    accuracy                           0.94       662\n",
      "   macro avg       0.94      0.93      0.93       662\n",
      "weighted avg       0.94      0.94      0.94       662\n",
      "\n"
     ]
    }
   ],
   "source": [
    "print(classification_report(y_test, svc.predict(X_testnoise_pca)))"
   ]
  },
  {
   "cell_type": "code",
   "execution_count": 134,
   "metadata": {},
   "outputs": [
    {
     "data": {
      "image/png": "[encoded data removed]",
      "text/plain": [
       "<Figure size 432x288 with 1 Axes>"
      ]
     },
     "metadata": {
      "needs_background": "light"
     },
     "output_type": "display_data"
    }
   ],
   "source": [
    "import sklearn.metrics as metrics\n",
    "# calculate the fpr and tpr for all thresholds of the classification\n",
    "probs = svc.predict_proba(X_testnoise_pca)\n",
    "preds = probs[:,1]\n",
    "fpr, tpr, threshold = metrics.roc_curve(y_test, preds)\n",
    "roc_auc = metrics.auc(fpr, tpr)\n",
    "\n",
    "# method I: plt\n",
    "import matplotlib.pyplot as plt\n",
    "plt.title('Receiver Operating Characteristic')\n",
    "plt.plot(fpr, tpr, 'b', label = 'AUC = %0.2f' % roc_auc)\n",
    "plt.legend(loc = 'lower right')\n",
    "plt.plot([0, 1], [0, 1],'r--')\n",
    "plt.xlim([0, 1])\n",
    "plt.ylim([0, 1])\n",
    "plt.ylabel('True Positive Rate')\n",
    "plt.xlabel('False Positive Rate')\n",
    "plt.show()"
   ]
  },
  {
   "cell_type": "code",
   "execution_count": null,
   "metadata": {},
   "outputs": [],
   "source": []
  }
 ],
 "metadata": {
  "kernelspec": {
   "display_name": "Python 3",
   "language": "python",
   "name": "python3"
  },
  "language_info": {
   "codemirror_mode": {
    "name": "ipython",
    "version": 3
   },
   "file_extension": ".py",
   "mimetype": "text/x-python",
   "name": "python",
   "nbconvert_exporter": "python",
   "pygments_lexer": "ipython3",
   "version": "3.7.6"
  }
 },
 "nbformat": 4,
 "nbformat_minor": 4
}
