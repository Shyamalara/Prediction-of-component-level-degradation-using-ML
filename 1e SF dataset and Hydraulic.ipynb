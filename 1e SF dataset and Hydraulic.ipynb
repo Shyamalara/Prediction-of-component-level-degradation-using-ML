{
 "cells": [
  {
   "cell_type": "markdown",
   "metadata": {},
   "source": [
    "Sources : https://analyticsindiamag.com/guide-to-multi-class-classification/\n",
    "\n",
    "https://colab.research.google.com/drive/19dQTVjbjhKQoqVj0v4x34fNTpc0co5cf?usp=sharing#scrollTo=pZug4ZF56w5e\n",
    "\n",
    "https://stackoverflow.com/questions/33547965/computing-auc-and-roc-curve-from-multi-class-data-in-scikit-learn-sklearn\n",
    "\n",
    "https://www.kaggle.com/willkoehrsen/intro-to-model-tuning-grid-and-random-search\n",
    "\n",
    "https://towardsdatascience.com/how-to-check-if-a-classification-model-is-overfitted-using-scikit-learn-148b6b19af8b"
   ]
  },
  {
   "cell_type": "markdown",
   "metadata": {},
   "source": [
    "### Importing the data"
   ]
  },
  {
   "cell_type": "markdown",
   "metadata": {},
   "source": [
    "2. [Extracting Median and EDA](#Extracting_Median_and_EDA)\n",
    "\n",
    "3. [Extracting_Minimum](#Extracting_Minimum)\n",
    "\n",
    "4. [Extracting_Maximum](#Extracting_Maximum)\n",
    "\n",
    "5. [Extracting_Variance](#Extracting_Variance)\n",
    "\n",
    "6. [Extracting_std](#Extracting_std)\n",
    "\n",
    "7. [Extracting_ptp](#Extracting_ptp)\n",
    "\n",
    "8. [Extracting_iqr](#Extracting_iqr)\n",
    "\n",
    "10. [Classification_models_for_Cooler_failure](#Classification_models_for_Cooler_failure)\n",
    "\n",
    "    10a. [Building_a_LR_for_Cooler_Condition](#Building_a_LR_for_Cooler_Condition)\n",
    "    "
   ]
  },
  {
   "cell_type": "markdown",
   "metadata": {},
   "source": [
    "Inducing noise : https://stackoverflow.com/questions/46093073/adding-gaussian-noise-to-a-dataset-of-floating-points-and-save-it-python"
   ]
  },
  {
   "cell_type": "code",
   "execution_count": 1,
   "metadata": {},
   "outputs": [],
   "source": [
    "import numpy as np \n",
    "import pandas as pd \n",
    "import seaborn as sns \n",
    "import matplotlib.pyplot as plt"
   ]
  },
  {
   "cell_type": "code",
   "execution_count": 2,
   "metadata": {},
   "outputs": [],
   "source": [
    "## importing the data\n",
    "## pressure sensors are imported as PS. There are around 6 pressure sensors. They are named as ps1, ps2, ps3, ps4, ps5, ps6. \n",
    "\n",
    "df_ps1 = pd.read_csv('PS1.txt', delimiter = '\\t', header = None)\n",
    "df_ps2 = pd.read_csv('PS2.txt', delimiter = '\\t', header = None)\n",
    "df_ps3 = pd.read_csv('PS3.txt', delimiter = '\\t', header = None)\n",
    "df_ps4 = pd.read_csv('PS4.txt', delimiter = '\\t', header = None)\n",
    "df_ps5 = pd.read_csv('PS5.txt', delimiter = '\\t', header = None)\n",
    "df_ps6 = pd.read_csv('PS6.txt', delimiter = '\\t', header = None)\n"
   ]
  },
  {
   "cell_type": "code",
   "execution_count": 3,
   "metadata": {},
   "outputs": [],
   "source": [
    "## cooling efficiency and cooling power are imported as ce and cp respectively. \n",
    "\n",
    "df_ce = pd.read_csv('CE.txt',delimiter = '\\t', header = None)\n",
    "df_cp = pd.read_csv('CP.txt', delimiter = '\\t', header = None)\n"
   ]
  },
  {
   "cell_type": "code",
   "execution_count": 4,
   "metadata": {},
   "outputs": [],
   "source": [
    "# temperature sensors are imported as ts. There are around 4 pressure sensors. They are named as ts1, ts2, ts3, ts4.\n",
    "\n",
    "df_ts1 = pd.read_csv('TS1.txt', delimiter = '\\t', header = None)\n",
    "df_ts2 = pd.read_csv('TS2.txt', delimiter = '\\t', header = None)\n",
    "df_ts3 = pd.read_csv('TS3.txt', delimiter = '\\t', header = None)\n",
    "df_ts4 = pd.read_csv('TS4.txt', delimiter = '\\t', header = None)\n"
   ]
  },
  {
   "cell_type": "code",
   "execution_count": 5,
   "metadata": {},
   "outputs": [],
   "source": [
    "# flow sensors are imported as fs. There are around 2 pressure sensors. They are named as fs1, fs2.\n",
    "\n",
    "df_fs1 = pd.read_csv('FS1.txt', delimiter = '\\t', header = None)\n",
    "df_fs2 = pd.read_csv('FS2.txt', delimiter = '\\t', header = None)\n"
   ]
  },
  {
   "cell_type": "code",
   "execution_count": 6,
   "metadata": {},
   "outputs": [],
   "source": [
    "# motor power sensors is imported as eps. \n",
    "# vibration sensors is imported as vs\n",
    "# efficiency power is imported as se\n",
    "\n",
    "df_eps1 = pd.read_csv('EPS1.txt', delimiter = '\\t', header = None)\n",
    "df_se = pd.read_csv('SE.txt', delimiter = '\\t', header = None)\n",
    "df_vs1 = pd.read_csv('VS1.txt', delimiter = '\\t', header = None)\n",
    "\n"
   ]
  },
  {
   "cell_type": "code",
   "execution_count": 7,
   "metadata": {},
   "outputs": [],
   "source": [
    "## function for defining variables like ps1_1, ps1_2 for 17 sensors with different sampling rates\n",
    "\n",
    "def col(n, var):\n",
    "    l = []\n",
    "    for i in range(1,n):\n",
    "        temp = str(var) + '_' + '%d' %i\n",
    "        l.append(temp)\n",
    "    return l\n"
   ]
  },
  {
   "cell_type": "code",
   "execution_count": 8,
   "metadata": {},
   "outputs": [],
   "source": [
    "# \n",
    "df_ps1.columns = col(6001,'ps1')\n",
    "df_ps2.columns = col(6001,'ps2')\n",
    "df_ps3.columns = col(6001,'ps3')\n",
    "df_ps4.columns = col(6001,'ps4')\n",
    "df_ps5.columns = col(6001,'ps5')\n",
    "df_ps6.columns = col(6001,'ps6')\n",
    "\n",
    "\n"
   ]
  },
  {
   "cell_type": "code",
   "execution_count": 9,
   "metadata": {},
   "outputs": [],
   "source": [
    "df_ts1.columns = col(61,'ts1')\n",
    "df_ts2.columns = col(61,'ts2')\n",
    "df_ts3.columns = col(61,'ts3')\n",
    "df_ts4.columns = col(61,'ts4')\n"
   ]
  },
  {
   "cell_type": "code",
   "execution_count": 10,
   "metadata": {},
   "outputs": [],
   "source": [
    "df_eps1.columns = col(6001,'eps1')"
   ]
  },
  {
   "cell_type": "code",
   "execution_count": 11,
   "metadata": {},
   "outputs": [],
   "source": [
    "df_fs1.columns = col(601,'fs1')\n",
    "df_fs2.columns = col(601,'fs2')"
   ]
  },
  {
   "cell_type": "code",
   "execution_count": 12,
   "metadata": {},
   "outputs": [],
   "source": [
    "df_vs1.columns = col(61,'vs1')"
   ]
  },
  {
   "cell_type": "code",
   "execution_count": 13,
   "metadata": {},
   "outputs": [],
   "source": [
    "df_ce.columns = col(61,'ce')"
   ]
  },
  {
   "cell_type": "code",
   "execution_count": 14,
   "metadata": {},
   "outputs": [],
   "source": [
    "df_cp.columns = col(61,'cp')"
   ]
  },
  {
   "cell_type": "code",
   "execution_count": 15,
   "metadata": {},
   "outputs": [],
   "source": [
    "df_se.columns = col(61,'se')"
   ]
  },
  {
   "cell_type": "code",
   "execution_count": 16,
   "metadata": {},
   "outputs": [],
   "source": [
    "df_ps = pd.concat([df_ps1, df_ps2, df_ps3, df_ps4, df_ps5, df_ps6], axis = 1)\n",
    "df_ts = pd.concat([df_ts1, df_ts2, df_ts3, df_ts4], axis = 1)\n",
    "df_fs = pd.concat([df_fs1, df_fs2], axis = 1)\n",
    "df_vir = pd.concat([df_cp, df_ce, df_eps1, df_se, df_vs1], axis = 1)\n"
   ]
  },
  {
   "cell_type": "code",
   "execution_count": 17,
   "metadata": {},
   "outputs": [
    {
     "data": {
      "text/html": [
       "<div>\n",
       "<style scoped>\n",
       "    .dataframe tbody tr th:only-of-type {\n",
       "        vertical-align: middle;\n",
       "    }\n",
       "\n",
       "    .dataframe tbody tr th {\n",
       "        vertical-align: top;\n",
       "    }\n",
       "\n",
       "    .dataframe thead th {\n",
       "        text-align: right;\n",
       "    }\n",
       "</style>\n",
       "<table border=\"1\" class=\"dataframe\">\n",
       "  <thead>\n",
       "    <tr style=\"text-align: right;\">\n",
       "      <th></th>\n",
       "      <th>ps1_1</th>\n",
       "      <th>ps1_2</th>\n",
       "      <th>ps1_3</th>\n",
       "      <th>ps1_4</th>\n",
       "      <th>ps1_5</th>\n",
       "      <th>ps1_6</th>\n",
       "      <th>ps1_7</th>\n",
       "      <th>ps1_8</th>\n",
       "      <th>ps1_9</th>\n",
       "      <th>ps1_10</th>\n",
       "      <th>...</th>\n",
       "      <th>vs1_51</th>\n",
       "      <th>vs1_52</th>\n",
       "      <th>vs1_53</th>\n",
       "      <th>vs1_54</th>\n",
       "      <th>vs1_55</th>\n",
       "      <th>vs1_56</th>\n",
       "      <th>vs1_57</th>\n",
       "      <th>vs1_58</th>\n",
       "      <th>vs1_59</th>\n",
       "      <th>vs1_60</th>\n",
       "    </tr>\n",
       "  </thead>\n",
       "  <tbody>\n",
       "    <tr>\n",
       "      <th>0</th>\n",
       "      <td>151.47</td>\n",
       "      <td>151.45</td>\n",
       "      <td>151.52</td>\n",
       "      <td>151.27</td>\n",
       "      <td>150.80</td>\n",
       "      <td>150.69</td>\n",
       "      <td>153.89</td>\n",
       "      <td>154.67</td>\n",
       "      <td>152.88</td>\n",
       "      <td>153.82</td>\n",
       "      <td>...</td>\n",
       "      <td>0.554</td>\n",
       "      <td>0.552</td>\n",
       "      <td>0.545</td>\n",
       "      <td>0.553</td>\n",
       "      <td>0.553</td>\n",
       "      <td>0.539</td>\n",
       "      <td>0.544</td>\n",
       "      <td>0.545</td>\n",
       "      <td>0.535</td>\n",
       "      <td>0.543</td>\n",
       "    </tr>\n",
       "    <tr>\n",
       "      <th>1</th>\n",
       "      <td>151.11</td>\n",
       "      <td>151.12</td>\n",
       "      <td>151.16</td>\n",
       "      <td>150.92</td>\n",
       "      <td>150.70</td>\n",
       "      <td>150.62</td>\n",
       "      <td>152.40</td>\n",
       "      <td>153.21</td>\n",
       "      <td>152.81</td>\n",
       "      <td>153.53</td>\n",
       "      <td>...</td>\n",
       "      <td>0.555</td>\n",
       "      <td>0.547</td>\n",
       "      <td>0.548</td>\n",
       "      <td>0.544</td>\n",
       "      <td>0.536</td>\n",
       "      <td>0.542</td>\n",
       "      <td>0.540</td>\n",
       "      <td>0.533</td>\n",
       "      <td>0.531</td>\n",
       "      <td>0.534</td>\n",
       "    </tr>\n",
       "    <tr>\n",
       "      <th>2</th>\n",
       "      <td>150.81</td>\n",
       "      <td>150.79</td>\n",
       "      <td>150.84</td>\n",
       "      <td>150.65</td>\n",
       "      <td>150.35</td>\n",
       "      <td>150.23</td>\n",
       "      <td>152.03</td>\n",
       "      <td>152.81</td>\n",
       "      <td>152.44</td>\n",
       "      <td>153.27</td>\n",
       "      <td>...</td>\n",
       "      <td>0.543</td>\n",
       "      <td>0.544</td>\n",
       "      <td>0.543</td>\n",
       "      <td>0.554</td>\n",
       "      <td>0.544</td>\n",
       "      <td>0.544</td>\n",
       "      <td>0.545</td>\n",
       "      <td>0.544</td>\n",
       "      <td>0.530</td>\n",
       "      <td>0.534</td>\n",
       "    </tr>\n",
       "    <tr>\n",
       "      <th>3</th>\n",
       "      <td>150.48</td>\n",
       "      <td>150.47</td>\n",
       "      <td>150.52</td>\n",
       "      <td>150.31</td>\n",
       "      <td>150.04</td>\n",
       "      <td>149.98</td>\n",
       "      <td>151.63</td>\n",
       "      <td>152.48</td>\n",
       "      <td>152.24</td>\n",
       "      <td>152.94</td>\n",
       "      <td>...</td>\n",
       "      <td>0.549</td>\n",
       "      <td>0.538</td>\n",
       "      <td>0.553</td>\n",
       "      <td>0.543</td>\n",
       "      <td>0.553</td>\n",
       "      <td>0.555</td>\n",
       "      <td>0.544</td>\n",
       "      <td>0.543</td>\n",
       "      <td>0.543</td>\n",
       "      <td>0.542</td>\n",
       "    </tr>\n",
       "    <tr>\n",
       "      <th>4</th>\n",
       "      <td>150.41</td>\n",
       "      <td>150.35</td>\n",
       "      <td>150.24</td>\n",
       "      <td>150.12</td>\n",
       "      <td>149.87</td>\n",
       "      <td>149.71</td>\n",
       "      <td>151.64</td>\n",
       "      <td>152.37</td>\n",
       "      <td>151.78</td>\n",
       "      <td>152.68</td>\n",
       "      <td>...</td>\n",
       "      <td>0.546</td>\n",
       "      <td>0.546</td>\n",
       "      <td>0.544</td>\n",
       "      <td>0.552</td>\n",
       "      <td>0.539</td>\n",
       "      <td>0.540</td>\n",
       "      <td>0.549</td>\n",
       "      <td>0.542</td>\n",
       "      <td>0.533</td>\n",
       "      <td>0.537</td>\n",
       "    </tr>\n",
       "  </tbody>\n",
       "</table>\n",
       "<p>5 rows × 43680 columns</p>\n",
       "</div>"
      ],
      "text/plain": [
       "    ps1_1   ps1_2   ps1_3   ps1_4   ps1_5   ps1_6   ps1_7   ps1_8   ps1_9  \\\n",
       "0  151.47  151.45  151.52  151.27  150.80  150.69  153.89  154.67  152.88   \n",
       "1  151.11  151.12  151.16  150.92  150.70  150.62  152.40  153.21  152.81   \n",
       "2  150.81  150.79  150.84  150.65  150.35  150.23  152.03  152.81  152.44   \n",
       "3  150.48  150.47  150.52  150.31  150.04  149.98  151.63  152.48  152.24   \n",
       "4  150.41  150.35  150.24  150.12  149.87  149.71  151.64  152.37  151.78   \n",
       "\n",
       "   ps1_10  ...  vs1_51  vs1_52  vs1_53  vs1_54  vs1_55  vs1_56  vs1_57  \\\n",
       "0  153.82  ...   0.554   0.552   0.545   0.553   0.553   0.539   0.544   \n",
       "1  153.53  ...   0.555   0.547   0.548   0.544   0.536   0.542   0.540   \n",
       "2  153.27  ...   0.543   0.544   0.543   0.554   0.544   0.544   0.545   \n",
       "3  152.94  ...   0.549   0.538   0.553   0.543   0.553   0.555   0.544   \n",
       "4  152.68  ...   0.546   0.546   0.544   0.552   0.539   0.540   0.549   \n",
       "\n",
       "   vs1_58  vs1_59  vs1_60  \n",
       "0   0.545   0.535   0.543  \n",
       "1   0.533   0.531   0.534  \n",
       "2   0.544   0.530   0.534  \n",
       "3   0.543   0.543   0.542  \n",
       "4   0.542   0.533   0.537  \n",
       "\n",
       "[5 rows x 43680 columns]"
      ]
     },
     "execution_count": 17,
     "metadata": {},
     "output_type": "execute_result"
    }
   ],
   "source": [
    "df = pd.concat([df_ps, df_ts, df_fs, df_vir], axis = 1)\n",
    "df.head()"
   ]
  },
  {
   "cell_type": "markdown",
   "metadata": {},
   "source": [
    "#### Checking for clustering tendency in each Sensor\n",
    "#### Ideas for feature extraction and dimensionality reduction\n",
    "\n",
    "1. **Rolling window of size 60 and follow it with statistical measures**  \n",
    "2. **Use Python frameworks like tfresh and TSFEL**\n",
    "3. Make clusters using k-means and SVM \n",
    "4. **Rolling window of size 60 and follow it with PCA. Use this article for reference : https://www.analyticsvidhya.com/blog/2019/12/6-powerful-feature-engineering-techniques-time-series/**\n"
   ]
  },
  {
   "cell_type": "code",
   "execution_count": 18,
   "metadata": {},
   "outputs": [],
   "source": [
    "profile = pd.read_csv('profile.txt', delimiter = '\\t', header = None)\n",
    "profile.columns = [\"Cooler Condition\",\"Valve Condition\",\"Internal Pump Leakage\",\"Hydraulic Accumulator\",\"Stable Flag\"]"
   ]
  },
  {
   "cell_type": "code",
   "execution_count": 19,
   "metadata": {},
   "outputs": [
    {
     "data": {
      "text/html": [
       "<div>\n",
       "<style scoped>\n",
       "    .dataframe tbody tr th:only-of-type {\n",
       "        vertical-align: middle;\n",
       "    }\n",
       "\n",
       "    .dataframe tbody tr th {\n",
       "        vertical-align: top;\n",
       "    }\n",
       "\n",
       "    .dataframe thead th {\n",
       "        text-align: right;\n",
       "    }\n",
       "</style>\n",
       "<table border=\"1\" class=\"dataframe\">\n",
       "  <thead>\n",
       "    <tr style=\"text-align: right;\">\n",
       "      <th></th>\n",
       "      <th>ps1_1</th>\n",
       "      <th>ps1_2</th>\n",
       "      <th>ps1_3</th>\n",
       "      <th>ps1_4</th>\n",
       "      <th>ps1_5</th>\n",
       "      <th>ps1_6</th>\n",
       "      <th>ps1_7</th>\n",
       "      <th>ps1_8</th>\n",
       "      <th>ps1_9</th>\n",
       "      <th>ps1_10</th>\n",
       "      <th>...</th>\n",
       "      <th>vs1_57</th>\n",
       "      <th>vs1_58</th>\n",
       "      <th>vs1_59</th>\n",
       "      <th>vs1_60</th>\n",
       "      <th>Cooler Condition</th>\n",
       "      <th>Valve Condition</th>\n",
       "      <th>Internal Pump Leakage</th>\n",
       "      <th>Hydraulic Accumulator</th>\n",
       "      <th>Stable Flag</th>\n",
       "      <th>Cycle</th>\n",
       "    </tr>\n",
       "  </thead>\n",
       "  <tbody>\n",
       "    <tr>\n",
       "      <th>0</th>\n",
       "      <td>151.47</td>\n",
       "      <td>151.45</td>\n",
       "      <td>151.52</td>\n",
       "      <td>151.27</td>\n",
       "      <td>150.80</td>\n",
       "      <td>150.69</td>\n",
       "      <td>153.89</td>\n",
       "      <td>154.67</td>\n",
       "      <td>152.88</td>\n",
       "      <td>153.82</td>\n",
       "      <td>...</td>\n",
       "      <td>0.544</td>\n",
       "      <td>0.545</td>\n",
       "      <td>0.535</td>\n",
       "      <td>0.543</td>\n",
       "      <td>3</td>\n",
       "      <td>100</td>\n",
       "      <td>0</td>\n",
       "      <td>130</td>\n",
       "      <td>1</td>\n",
       "      <td>0</td>\n",
       "    </tr>\n",
       "    <tr>\n",
       "      <th>1</th>\n",
       "      <td>151.11</td>\n",
       "      <td>151.12</td>\n",
       "      <td>151.16</td>\n",
       "      <td>150.92</td>\n",
       "      <td>150.70</td>\n",
       "      <td>150.62</td>\n",
       "      <td>152.40</td>\n",
       "      <td>153.21</td>\n",
       "      <td>152.81</td>\n",
       "      <td>153.53</td>\n",
       "      <td>...</td>\n",
       "      <td>0.540</td>\n",
       "      <td>0.533</td>\n",
       "      <td>0.531</td>\n",
       "      <td>0.534</td>\n",
       "      <td>3</td>\n",
       "      <td>100</td>\n",
       "      <td>0</td>\n",
       "      <td>130</td>\n",
       "      <td>1</td>\n",
       "      <td>1</td>\n",
       "    </tr>\n",
       "    <tr>\n",
       "      <th>2</th>\n",
       "      <td>150.81</td>\n",
       "      <td>150.79</td>\n",
       "      <td>150.84</td>\n",
       "      <td>150.65</td>\n",
       "      <td>150.35</td>\n",
       "      <td>150.23</td>\n",
       "      <td>152.03</td>\n",
       "      <td>152.81</td>\n",
       "      <td>152.44</td>\n",
       "      <td>153.27</td>\n",
       "      <td>...</td>\n",
       "      <td>0.545</td>\n",
       "      <td>0.544</td>\n",
       "      <td>0.530</td>\n",
       "      <td>0.534</td>\n",
       "      <td>3</td>\n",
       "      <td>100</td>\n",
       "      <td>0</td>\n",
       "      <td>130</td>\n",
       "      <td>1</td>\n",
       "      <td>2</td>\n",
       "    </tr>\n",
       "    <tr>\n",
       "      <th>3</th>\n",
       "      <td>150.48</td>\n",
       "      <td>150.47</td>\n",
       "      <td>150.52</td>\n",
       "      <td>150.31</td>\n",
       "      <td>150.04</td>\n",
       "      <td>149.98</td>\n",
       "      <td>151.63</td>\n",
       "      <td>152.48</td>\n",
       "      <td>152.24</td>\n",
       "      <td>152.94</td>\n",
       "      <td>...</td>\n",
       "      <td>0.544</td>\n",
       "      <td>0.543</td>\n",
       "      <td>0.543</td>\n",
       "      <td>0.542</td>\n",
       "      <td>3</td>\n",
       "      <td>100</td>\n",
       "      <td>0</td>\n",
       "      <td>130</td>\n",
       "      <td>1</td>\n",
       "      <td>3</td>\n",
       "    </tr>\n",
       "    <tr>\n",
       "      <th>4</th>\n",
       "      <td>150.41</td>\n",
       "      <td>150.35</td>\n",
       "      <td>150.24</td>\n",
       "      <td>150.12</td>\n",
       "      <td>149.87</td>\n",
       "      <td>149.71</td>\n",
       "      <td>151.64</td>\n",
       "      <td>152.37</td>\n",
       "      <td>151.78</td>\n",
       "      <td>152.68</td>\n",
       "      <td>...</td>\n",
       "      <td>0.549</td>\n",
       "      <td>0.542</td>\n",
       "      <td>0.533</td>\n",
       "      <td>0.537</td>\n",
       "      <td>3</td>\n",
       "      <td>100</td>\n",
       "      <td>0</td>\n",
       "      <td>130</td>\n",
       "      <td>1</td>\n",
       "      <td>4</td>\n",
       "    </tr>\n",
       "  </tbody>\n",
       "</table>\n",
       "<p>5 rows × 43686 columns</p>\n",
       "</div>"
      ],
      "text/plain": [
       "    ps1_1   ps1_2   ps1_3   ps1_4   ps1_5   ps1_6   ps1_7   ps1_8   ps1_9  \\\n",
       "0  151.47  151.45  151.52  151.27  150.80  150.69  153.89  154.67  152.88   \n",
       "1  151.11  151.12  151.16  150.92  150.70  150.62  152.40  153.21  152.81   \n",
       "2  150.81  150.79  150.84  150.65  150.35  150.23  152.03  152.81  152.44   \n",
       "3  150.48  150.47  150.52  150.31  150.04  149.98  151.63  152.48  152.24   \n",
       "4  150.41  150.35  150.24  150.12  149.87  149.71  151.64  152.37  151.78   \n",
       "\n",
       "   ps1_10  ...  vs1_57  vs1_58  vs1_59  vs1_60  Cooler Condition  \\\n",
       "0  153.82  ...   0.544   0.545   0.535   0.543                 3   \n",
       "1  153.53  ...   0.540   0.533   0.531   0.534                 3   \n",
       "2  153.27  ...   0.545   0.544   0.530   0.534                 3   \n",
       "3  152.94  ...   0.544   0.543   0.543   0.542                 3   \n",
       "4  152.68  ...   0.549   0.542   0.533   0.537                 3   \n",
       "\n",
       "   Valve Condition  Internal Pump Leakage  Hydraulic Accumulator  Stable Flag  \\\n",
       "0              100                      0                    130            1   \n",
       "1              100                      0                    130            1   \n",
       "2              100                      0                    130            1   \n",
       "3              100                      0                    130            1   \n",
       "4              100                      0                    130            1   \n",
       "\n",
       "   Cycle  \n",
       "0      0  \n",
       "1      1  \n",
       "2      2  \n",
       "3      3  \n",
       "4      4  \n",
       "\n",
       "[5 rows x 43686 columns]"
      ]
     },
     "execution_count": 19,
     "metadata": {},
     "output_type": "execute_result"
    }
   ],
   "source": [
    "Final = pd.concat([df, profile], axis = 1)\n",
    "Final['Cycle'] = np.arange(len(Final))\n",
    "Final.head()"
   ]
  },
  {
   "cell_type": "markdown",
   "metadata": {},
   "source": [
    "# Statistical features"
   ]
  },
  {
   "cell_type": "markdown",
   "metadata": {},
   "source": [
    "<a id = 'Extracting_Median_and_EDA'></a>\n",
    "\n",
    "## Extracting Median"
   ]
  },
  {
   "cell_type": "code",
   "execution_count": 20,
   "metadata": {},
   "outputs": [],
   "source": [
    "def median_conversion(df):\n",
    "    df1 = pd.DataFrame()\n",
    "    df1 = df.median(axis=1) ## AVERAGE ALONG THE ROW\n",
    "    return df1"
   ]
  },
  {
   "cell_type": "code",
   "execution_count": 21,
   "metadata": {},
   "outputs": [],
   "source": [
    "PS1_median = pd.DataFrame(median_conversion(df_ps1))\n",
    "PS1_median.columns = ['PS1_median']\n",
    "\n",
    "PS2_median = pd.DataFrame(median_conversion(df_ps2))\n",
    "PS2_median.columns = ['PS2_median']\n",
    "\n",
    "PS3_median = pd.DataFrame(median_conversion(df_ps3))\n",
    "PS3_median.columns = ['PS3_median']\n",
    "\n",
    "PS4_median = pd.DataFrame(median_conversion(df_ps4))\n",
    "PS4_median.columns = ['PS4_median']\n",
    "\n",
    "PS5_median = pd.DataFrame(median_conversion(df_ps5))\n",
    "PS5_median.columns = ['PS5_median']\n",
    "\n",
    "PS6_median = pd.DataFrame(median_conversion(df_ps6))\n",
    "PS6_median.columns = ['PS6_median']\n",
    "\n",
    "TS1_median = pd.DataFrame(median_conversion(df_ts1))\n",
    "TS1_median.columns = ['TS1_median']\n",
    "\n",
    "TS2_median = pd.DataFrame(median_conversion(df_ts2))\n",
    "TS2_median.columns = ['TS2_median']\n",
    "\n",
    "TS3_median = pd.DataFrame(median_conversion(df_ts3))\n",
    "TS3_median.columns = ['TS3_median']\n",
    "\n",
    "TS4_median = pd.DataFrame(median_conversion(df_ts4))\n",
    "TS4_median.columns = ['TS4_median']\n",
    "\n",
    "FS1_median = pd.DataFrame(median_conversion(df_fs1))\n",
    "FS1_median.columns = ['FS1_median']\n",
    "\n",
    "FS2_median = pd.DataFrame(median_conversion(df_fs2))\n",
    "FS2_median.columns = ['FS2_median']\n",
    "\n",
    "P1_median = pd.DataFrame(median_conversion(df_eps1))\n",
    "P1_median.columns = ['P1_median']\n",
    "\n",
    "VS1_median = pd.DataFrame(median_conversion(df_vs1))\n",
    "VS1_median.columns = ['VS1_median']\n",
    "\n",
    "CE1_median = pd.DataFrame(median_conversion(df_ce))\n",
    "CE1_median.columns = ['CE1_median']\n",
    "\n",
    "CP1_median = pd.DataFrame(median_conversion(df_cp))\n",
    "CP1_median.columns = ['CP1_median']\n",
    "\n",
    "SE1_median = pd.DataFrame(median_conversion(df_se))\n",
    "SE1_median.columns = ['SE1_median']"
   ]
  },
  {
   "cell_type": "code",
   "execution_count": 22,
   "metadata": {},
   "outputs": [],
   "source": [
    "Median = pd.concat([PS1_median,PS2_median,PS3_median,PS4_median,PS5_median,PS6_median,\n",
    "                    TS1_median,TS2_median,TS3_median,TS4_median,FS1_median,FS2_median,\n",
    "                    P1_median,VS1_median,CE1_median,CP1_median,SE1_median],axis = 1)"
   ]
  },
  {
   "cell_type": "markdown",
   "metadata": {},
   "source": [
    "<a id = 'Extracting_Variance'></a>\n",
    "\n",
    "## Extracting Variance"
   ]
  },
  {
   "cell_type": "code",
   "execution_count": 23,
   "metadata": {},
   "outputs": [],
   "source": [
    "def var_conversion(df):\n",
    "    df1 = pd.DataFrame()\n",
    "    df1 = df.var(axis=1) ## AVERAGE ALONG THE ROW\n",
    "    return df1"
   ]
  },
  {
   "cell_type": "code",
   "execution_count": 24,
   "metadata": {},
   "outputs": [],
   "source": [
    "PS1_var = pd.DataFrame(var_conversion(df_ps1))\n",
    "PS1_var.columns = ['PS1_var']\n",
    "\n",
    "PS2_var = pd.DataFrame(var_conversion(df_ps2))\n",
    "PS2_var.columns = ['PS2_var']\n",
    "\n",
    "PS3_var = pd.DataFrame(var_conversion(df_ps3))\n",
    "PS3_var.columns = ['PS3_var']\n",
    "\n",
    "PS4_var = pd.DataFrame(var_conversion(df_ps4))\n",
    "PS4_var.columns = ['PS4_var']\n",
    "\n",
    "PS5_var = pd.DataFrame(var_conversion(df_ps5))\n",
    "PS5_var.columns = ['PS5_var']\n",
    "\n",
    "PS6_var = pd.DataFrame(var_conversion(df_ps6))\n",
    "PS6_var.columns = ['PS6_var']\n",
    "\n",
    "TS1_var = pd.DataFrame(var_conversion(df_ts1))\n",
    "TS1_var.columns = ['TS1_var']\n",
    "\n",
    "TS2_var = pd.DataFrame(var_conversion(df_ts2))\n",
    "TS2_var.columns = ['TS2_var']\n",
    "\n",
    "TS3_var = pd.DataFrame(var_conversion(df_ts3))\n",
    "TS3_var.columns = ['TS3_var']\n",
    "\n",
    "TS4_var = pd.DataFrame(var_conversion(df_ts4))\n",
    "TS4_var.columns = ['TS4_var']\n",
    "\n",
    "FS1_var = pd.DataFrame(var_conversion(df_fs1))\n",
    "FS1_var.columns = ['FS1_var']\n",
    "\n",
    "FS2_var = pd.DataFrame(var_conversion(df_fs2))\n",
    "FS2_var.columns = ['FS2_var']\n",
    "\n",
    "P1_var = pd.DataFrame(var_conversion(df_eps1))\n",
    "P1_var.columns = ['P1_var']\n",
    "\n",
    "VS1_var = pd.DataFrame(var_conversion(df_vs1))\n",
    "VS1_var.columns = ['VS1_var']\n",
    "\n",
    "CE1_var = pd.DataFrame(var_conversion(df_ce))\n",
    "CE1_var.columns = ['CE1_var']\n",
    "\n",
    "CP1_var = pd.DataFrame(var_conversion(df_cp))\n",
    "CP1_var.columns = ['CP1_var']\n",
    "\n",
    "SE1_var = pd.DataFrame(var_conversion(df_se))\n",
    "SE1_var.columns = ['SE1_var']\n",
    "\n",
    "Var = pd.concat([PS1_var,PS2_var,PS3_var,PS4_var,PS5_var,PS6_var,\n",
    "                 TS1_var,TS2_var,TS3_var,TS4_var,FS1_var,FS2_var,P1_var,VS1_var,CE1_var,CP1_var,SE1_var],axis = 1)\n"
   ]
  },
  {
   "cell_type": "markdown",
   "metadata": {},
   "source": [
    "<a id = 'Extracting_std'></a>\n",
    "\n",
    "## Extracting Standard Deviation"
   ]
  },
  {
   "cell_type": "code",
   "execution_count": 25,
   "metadata": {},
   "outputs": [],
   "source": [
    "def std_conversion(df):\n",
    "    df1 = pd.DataFrame()\n",
    "    df1 = df.std(axis=1) ## AVERAGE ALONG THE ROW\n",
    "    return df1"
   ]
  },
  {
   "cell_type": "code",
   "execution_count": 26,
   "metadata": {},
   "outputs": [],
   "source": [
    "PS1_std = pd.DataFrame(std_conversion(df_ps1))\n",
    "PS1_std.columns = ['PS1_std']\n",
    "\n",
    "PS2_std = pd.DataFrame(std_conversion(df_ps2))\n",
    "PS2_std.columns = ['PS2_std']\n",
    "\n",
    "PS3_std = pd.DataFrame(std_conversion(df_ps3))\n",
    "PS3_std.columns = ['PS3_std']\n",
    "\n",
    "PS4_std = pd.DataFrame(std_conversion(df_ps4))\n",
    "PS4_std.columns = ['PS4_std']\n",
    "\n",
    "PS5_std = pd.DataFrame(std_conversion(df_ps5))\n",
    "PS5_std.columns = ['PS5_std']\n",
    "\n",
    "PS6_std = pd.DataFrame(std_conversion(df_ps6))\n",
    "PS6_std.columns = ['PS6_std']\n",
    "\n",
    "TS1_std = pd.DataFrame(std_conversion(df_ts1))\n",
    "TS1_std.columns = ['TS1_std']\n",
    "\n",
    "TS2_std = pd.DataFrame(std_conversion(df_ts2))\n",
    "TS2_std.columns = ['TS2_std']\n",
    "\n",
    "TS3_std = pd.DataFrame(std_conversion(df_ts3))\n",
    "TS3_std.columns = ['TS3_std']\n",
    "\n",
    "TS4_std = pd.DataFrame(std_conversion(df_ts4))\n",
    "TS4_std.columns = ['TS4_std']\n",
    "\n",
    "FS1_std = pd.DataFrame(std_conversion(df_fs1))\n",
    "FS1_std.columns = ['FS1_std']\n",
    "\n",
    "FS2_std = pd.DataFrame(std_conversion(df_fs2))\n",
    "FS2_std.columns = ['FS2_std']\n",
    "\n",
    "P1_std = pd.DataFrame(std_conversion(df_eps1))\n",
    "P1_std.columns = ['P1_std']\n",
    "\n",
    "VS1_std = pd.DataFrame(std_conversion(df_vs1))\n",
    "VS1_std.columns = ['VS1_std']\n",
    "\n",
    "CE1_std = pd.DataFrame(std_conversion(df_ce))\n",
    "CE1_std.columns = ['CE1_std']\n",
    "\n",
    "CP1_std = pd.DataFrame(std_conversion(df_cp))\n",
    "CP1_std.columns = ['CP1_std']\n",
    "\n",
    "SE1_std = pd.DataFrame(std_conversion(df_se))\n",
    "SE1_std.columns = ['SE1_std']\n",
    "\n",
    "Std = pd.concat([PS1_std,PS2_std,PS3_std,PS4_std,PS5_std,PS6_std,TS1_std,TS2_std,TS3_std,TS4_std,\n",
    "                 FS1_std,FS2_std,P1_std,VS1_std,CE1_std,CP1_std,SE1_std],axis = 1)\n"
   ]
  },
  {
   "cell_type": "markdown",
   "metadata": {},
   "source": [
    "<a id = 'Extracting_ptp'></a>\n",
    "\n",
    "## Extracting Peak to Peak"
   ]
  },
  {
   "cell_type": "code",
   "execution_count": 27,
   "metadata": {},
   "outputs": [],
   "source": [
    "def ptp_conversion(df):\n",
    "    df1 = pd.DataFrame()\n",
    "    df1 = df.max(axis=1)-df.min(axis=1) ## AVERAGE ALONG THE ROW\n",
    "    return df1"
   ]
  },
  {
   "cell_type": "code",
   "execution_count": 28,
   "metadata": {},
   "outputs": [],
   "source": [
    "PS1_ptp = pd.DataFrame(ptp_conversion(df_ps1))\n",
    "PS1_ptp.columns = ['PS1_ptp']\n",
    "\n",
    "PS2_ptp = pd.DataFrame(ptp_conversion(df_ps2))\n",
    "PS2_ptp.columns = ['PS2_ptp']\n",
    "\n",
    "PS3_ptp = pd.DataFrame(ptp_conversion(df_ps3))\n",
    "PS3_ptp.columns = ['PS3_ptp']\n",
    "\n",
    "PS4_ptp = pd.DataFrame(ptp_conversion(df_ps4))\n",
    "PS4_ptp.columns = ['PS4_ptp']\n",
    "\n",
    "PS5_ptp = pd.DataFrame(ptp_conversion(df_ps5))\n",
    "PS5_ptp.columns = ['PS5_ptp']\n",
    "\n",
    "PS6_ptp = pd.DataFrame(ptp_conversion(df_ps6))\n",
    "PS6_ptp.columns = ['PS6_ptp']\n",
    "\n",
    "TS1_ptp = pd.DataFrame(ptp_conversion(df_ts1))\n",
    "TS1_ptp.columns = ['TS1_ptp']\n",
    "\n",
    "TS2_ptp = pd.DataFrame(ptp_conversion(df_ts2))\n",
    "TS2_ptp.columns = ['TS2_ptp']\n",
    "\n",
    "TS3_ptp = pd.DataFrame(ptp_conversion(df_ts3))\n",
    "TS3_ptp.columns = ['TS3_ptp']\n",
    "\n",
    "TS4_ptp = pd.DataFrame(ptp_conversion(df_ts4))\n",
    "TS4_ptp.columns = ['TS4_ptp']\n",
    "\n",
    "FS1_ptp = pd.DataFrame(ptp_conversion(df_fs1))\n",
    "FS1_ptp.columns = ['FS1_ptp']\n",
    "\n",
    "FS2_ptp = pd.DataFrame(ptp_conversion(df_fs2))\n",
    "FS2_ptp.columns = ['FS2_ptp']\n",
    "\n",
    "P1_ptp = pd.DataFrame(ptp_conversion(df_eps1))\n",
    "P1_ptp.columns = ['P1_ptp']\n",
    "\n",
    "VS1_ptp = pd.DataFrame(ptp_conversion(df_vs1))\n",
    "VS1_ptp.columns = ['VS1_ptp']\n",
    "\n",
    "CE1_ptp = pd.DataFrame(ptp_conversion(df_ce))\n",
    "CE1_ptp.columns = ['CE1_ptp']\n",
    "\n",
    "CP1_ptp = pd.DataFrame(ptp_conversion(df_cp))\n",
    "CP1_ptp.columns = ['CP1_ptp']\n",
    "\n",
    "SE1_ptp = pd.DataFrame(ptp_conversion(df_se))\n",
    "SE1_ptp.columns = ['SE1_ptp']\n",
    "\n",
    "Ptp = pd.concat([PS1_ptp,PS2_ptp,PS3_ptp,PS4_ptp,PS5_ptp,PS6_ptp,TS1_ptp,TS2_ptp,TS3_ptp,TS4_ptp,\n",
    "                 FS1_ptp,FS2_ptp,P1_ptp,VS1_ptp,CE1_ptp,CP1_ptp,SE1_ptp],axis = 1)\n"
   ]
  },
  {
   "cell_type": "code",
   "execution_count": 29,
   "metadata": {},
   "outputs": [],
   "source": [
    "statsfinal = pd.concat([Median, Std, Var, Ptp], axis = 1)"
   ]
  },
  {
   "cell_type": "code",
   "execution_count": 30,
   "metadata": {},
   "outputs": [
    {
     "data": {
      "text/html": [
       "<div>\n",
       "<style scoped>\n",
       "    .dataframe tbody tr th:only-of-type {\n",
       "        vertical-align: middle;\n",
       "    }\n",
       "\n",
       "    .dataframe tbody tr th {\n",
       "        vertical-align: top;\n",
       "    }\n",
       "\n",
       "    .dataframe thead th {\n",
       "        text-align: right;\n",
       "    }\n",
       "</style>\n",
       "<table border=\"1\" class=\"dataframe\">\n",
       "  <thead>\n",
       "    <tr style=\"text-align: right;\">\n",
       "      <th></th>\n",
       "      <th>PS1_median</th>\n",
       "      <th>PS2_median</th>\n",
       "      <th>PS3_median</th>\n",
       "      <th>PS4_median</th>\n",
       "      <th>PS5_median</th>\n",
       "      <th>PS6_median</th>\n",
       "      <th>TS1_median</th>\n",
       "      <th>TS2_median</th>\n",
       "      <th>TS3_median</th>\n",
       "      <th>TS4_median</th>\n",
       "      <th>...</th>\n",
       "      <th>TS2_ptp</th>\n",
       "      <th>TS3_ptp</th>\n",
       "      <th>TS4_ptp</th>\n",
       "      <th>FS1_ptp</th>\n",
       "      <th>FS2_ptp</th>\n",
       "      <th>P1_ptp</th>\n",
       "      <th>VS1_ptp</th>\n",
       "      <th>CE1_ptp</th>\n",
       "      <th>CP1_ptp</th>\n",
       "      <th>SE1_ptp</th>\n",
       "    </tr>\n",
       "  </thead>\n",
       "  <tbody>\n",
       "    <tr>\n",
       "      <th>0</th>\n",
       "      <td>156.25</td>\n",
       "      <td>129.365</td>\n",
       "      <td>2.297</td>\n",
       "      <td>0.0</td>\n",
       "      <td>9.844</td>\n",
       "      <td>9.733</td>\n",
       "      <td>35.5720</td>\n",
       "      <td>40.9630</td>\n",
       "      <td>38.4960</td>\n",
       "      <td>31.576</td>\n",
       "      <td>...</td>\n",
       "      <td>0.477</td>\n",
       "      <td>0.297</td>\n",
       "      <td>3.231</td>\n",
       "      <td>18.710</td>\n",
       "      <td>0.298</td>\n",
       "      <td>611.8</td>\n",
       "      <td>0.092</td>\n",
       "      <td>18.572</td>\n",
       "      <td>0.805</td>\n",
       "      <td>79.568</td>\n",
       "    </tr>\n",
       "    <tr>\n",
       "      <th>1</th>\n",
       "      <td>156.06</td>\n",
       "      <td>129.385</td>\n",
       "      <td>2.273</td>\n",
       "      <td>0.0</td>\n",
       "      <td>9.632</td>\n",
       "      <td>9.526</td>\n",
       "      <td>36.7675</td>\n",
       "      <td>41.5180</td>\n",
       "      <td>38.9845</td>\n",
       "      <td>34.553</td>\n",
       "      <td>...</td>\n",
       "      <td>1.074</td>\n",
       "      <td>0.586</td>\n",
       "      <td>1.500</td>\n",
       "      <td>18.712</td>\n",
       "      <td>0.101</td>\n",
       "      <td>615.4</td>\n",
       "      <td>0.102</td>\n",
       "      <td>5.888</td>\n",
       "      <td>0.267</td>\n",
       "      <td>80.441</td>\n",
       "    </tr>\n",
       "    <tr>\n",
       "      <th>2</th>\n",
       "      <td>155.72</td>\n",
       "      <td>129.325</td>\n",
       "      <td>2.273</td>\n",
       "      <td>0.0</td>\n",
       "      <td>9.528</td>\n",
       "      <td>9.425</td>\n",
       "      <td>38.0235</td>\n",
       "      <td>42.4235</td>\n",
       "      <td>39.6270</td>\n",
       "      <td>35.635</td>\n",
       "      <td>...</td>\n",
       "      <td>1.207</td>\n",
       "      <td>0.828</td>\n",
       "      <td>1.043</td>\n",
       "      <td>18.698</td>\n",
       "      <td>0.147</td>\n",
       "      <td>621.2</td>\n",
       "      <td>0.133</td>\n",
       "      <td>2.334</td>\n",
       "      <td>0.083</td>\n",
       "      <td>80.824</td>\n",
       "    </tr>\n",
       "    <tr>\n",
       "      <th>3</th>\n",
       "      <td>155.56</td>\n",
       "      <td>128.865</td>\n",
       "      <td>2.242</td>\n",
       "      <td>0.0</td>\n",
       "      <td>9.436</td>\n",
       "      <td>9.335</td>\n",
       "      <td>39.0550</td>\n",
       "      <td>43.3650</td>\n",
       "      <td>40.3420</td>\n",
       "      <td>36.635</td>\n",
       "      <td>...</td>\n",
       "      <td>1.183</td>\n",
       "      <td>0.911</td>\n",
       "      <td>0.883</td>\n",
       "      <td>18.896</td>\n",
       "      <td>0.141</td>\n",
       "      <td>618.8</td>\n",
       "      <td>0.118</td>\n",
       "      <td>1.892</td>\n",
       "      <td>0.085</td>\n",
       "      <td>80.930</td>\n",
       "    </tr>\n",
       "    <tr>\n",
       "      <th>4</th>\n",
       "      <td>155.34</td>\n",
       "      <td>129.000</td>\n",
       "      <td>2.219</td>\n",
       "      <td>0.0</td>\n",
       "      <td>9.358</td>\n",
       "      <td>9.260</td>\n",
       "      <td>39.9670</td>\n",
       "      <td>44.3355</td>\n",
       "      <td>41.3400</td>\n",
       "      <td>37.439</td>\n",
       "      <td>...</td>\n",
       "      <td>1.145</td>\n",
       "      <td>0.918</td>\n",
       "      <td>0.789</td>\n",
       "      <td>18.876</td>\n",
       "      <td>0.133</td>\n",
       "      <td>622.0</td>\n",
       "      <td>0.136</td>\n",
       "      <td>1.327</td>\n",
       "      <td>0.090</td>\n",
       "      <td>81.100</td>\n",
       "    </tr>\n",
       "  </tbody>\n",
       "</table>\n",
       "<p>5 rows × 68 columns</p>\n",
       "</div>"
      ],
      "text/plain": [
       "   PS1_median  PS2_median  PS3_median  PS4_median  PS5_median  PS6_median  \\\n",
       "0      156.25     129.365       2.297         0.0       9.844       9.733   \n",
       "1      156.06     129.385       2.273         0.0       9.632       9.526   \n",
       "2      155.72     129.325       2.273         0.0       9.528       9.425   \n",
       "3      155.56     128.865       2.242         0.0       9.436       9.335   \n",
       "4      155.34     129.000       2.219         0.0       9.358       9.260   \n",
       "\n",
       "   TS1_median  TS2_median  TS3_median  TS4_median  ...  TS2_ptp  TS3_ptp  \\\n",
       "0     35.5720     40.9630     38.4960      31.576  ...    0.477    0.297   \n",
       "1     36.7675     41.5180     38.9845      34.553  ...    1.074    0.586   \n",
       "2     38.0235     42.4235     39.6270      35.635  ...    1.207    0.828   \n",
       "3     39.0550     43.3650     40.3420      36.635  ...    1.183    0.911   \n",
       "4     39.9670     44.3355     41.3400      37.439  ...    1.145    0.918   \n",
       "\n",
       "   TS4_ptp  FS1_ptp  FS2_ptp  P1_ptp  VS1_ptp  CE1_ptp  CP1_ptp  SE1_ptp  \n",
       "0    3.231   18.710    0.298   611.8    0.092   18.572    0.805   79.568  \n",
       "1    1.500   18.712    0.101   615.4    0.102    5.888    0.267   80.441  \n",
       "2    1.043   18.698    0.147   621.2    0.133    2.334    0.083   80.824  \n",
       "3    0.883   18.896    0.141   618.8    0.118    1.892    0.085   80.930  \n",
       "4    0.789   18.876    0.133   622.0    0.136    1.327    0.090   81.100  \n",
       "\n",
       "[5 rows x 68 columns]"
      ]
     },
     "execution_count": 30,
     "metadata": {},
     "output_type": "execute_result"
    }
   ],
   "source": [
    "statsfinal.head()"
   ]
  },
  {
   "cell_type": "markdown",
   "metadata": {},
   "source": [
    "<a id = 'Extracting_iqr'></a>\n",
    "\n",
    "## Extracting Interquartile Range"
   ]
  },
  {
   "cell_type": "code",
   "execution_count": 31,
   "metadata": {},
   "outputs": [],
   "source": [
    "def iqr_conversion(df):\n",
    "    df1 = pd.DataFrame()\n",
    "    q3, q1 = np.percentile(df, [75 ,25])\n",
    "    iqr = q3 - q1\n",
    "    df1 = df.max(axis=1)-df.min(axis=1) ## AVERAGE ALONG THE ROW\n",
    "    return df1"
   ]
  },
  {
   "cell_type": "code",
   "execution_count": 32,
   "metadata": {},
   "outputs": [],
   "source": [
    "PS1_iqr = pd.DataFrame(iqr_conversion(df_ps1))\n",
    "PS1_iqr.columns = ['PS1_iqr']\n",
    "\n",
    "PS2_iqr = pd.DataFrame(iqr_conversion(df_ps2))\n",
    "PS2_iqr.columns = ['PS2_iqr']\n",
    "\n",
    "PS3_iqr = pd.DataFrame(iqr_conversion(df_ps3))\n",
    "PS3_iqr.columns = ['PS3_iqr']\n",
    "\n",
    "PS4_iqr = pd.DataFrame(iqr_conversion(df_ps4))\n",
    "PS4_iqr.columns = ['PS4_iqr']\n",
    "\n",
    "PS5_iqr = pd.DataFrame(iqr_conversion(df_ps5))\n",
    "PS5_iqr.columns = ['PS5_iqr']\n",
    "\n",
    "PS6_iqr = pd.DataFrame(iqr_conversion(df_ps6))\n",
    "PS6_iqr.columns = ['PS6_iqr']\n",
    "\n",
    "TS1_iqr = pd.DataFrame(iqr_conversion(df_ts1))\n",
    "TS1_iqr.columns = ['TS1_iqr']\n",
    "\n",
    "TS2_iqr = pd.DataFrame(iqr_conversion(df_ts2))\n",
    "TS2_iqr.columns = ['TS2_iqr']\n",
    "\n",
    "TS3_iqr = pd.DataFrame(iqr_conversion(df_ts3))\n",
    "TS3_iqr.columns = ['TS3_iqr']\n",
    "\n",
    "TS4_iqr = pd.DataFrame(iqr_conversion(df_ts4))\n",
    "TS4_iqr.columns = ['TS4_iqr']\n",
    "\n",
    "FS1_iqr = pd.DataFrame(iqr_conversion(df_fs1))\n",
    "FS1_iqr.columns = ['FS1_iqr']\n",
    "\n",
    "FS2_iqr = pd.DataFrame(iqr_conversion(df_fs2))\n",
    "FS2_iqr.columns = ['FS2_iqr']\n",
    "\n",
    "P1_iqr = pd.DataFrame(iqr_conversion(df_eps1))\n",
    "P1_iqr.columns = ['P1_iqr']\n",
    "\n",
    "VS1_iqr = pd.DataFrame(iqr_conversion(df_vs1))\n",
    "VS1_iqr.columns = ['VS1_iqr']\n",
    "\n",
    "CE1_iqr = pd.DataFrame(iqr_conversion(df_ce))\n",
    "CE1_iqr.columns = ['CE1_iqr']\n",
    "\n",
    "CP1_iqr = pd.DataFrame(iqr_conversion(df_cp))\n",
    "CP1_iqr.columns = ['CP1_iqr']\n",
    "\n",
    "SE1_iqr = pd.DataFrame(iqr_conversion(df_se))\n",
    "SE1_iqr.columns = ['SE1_iqr']\n",
    "\n",
    "Iqr = pd.concat([PS1_iqr,PS2_iqr,PS3_iqr,PS4_iqr,PS5_iqr,PS6_iqr,\n",
    "                 TS1_iqr,TS2_iqr,TS3_iqr,TS4_iqr,FS1_iqr,FS2_iqr,P1_iqr,VS1_iqr,CE1_iqr,CP1_iqr,SE1_iqr],axis = 1)\n"
   ]
  },
  {
   "cell_type": "code",
   "execution_count": 33,
   "metadata": {},
   "outputs": [],
   "source": [
    "statsfinal = pd.concat([statsfinal, Iqr],axis = 1)"
   ]
  },
  {
   "cell_type": "code",
   "execution_count": 34,
   "metadata": {
    "scrolled": true
   },
   "outputs": [
    {
     "data": {
      "text/html": [
       "<div>\n",
       "<style scoped>\n",
       "    .dataframe tbody tr th:only-of-type {\n",
       "        vertical-align: middle;\n",
       "    }\n",
       "\n",
       "    .dataframe tbody tr th {\n",
       "        vertical-align: top;\n",
       "    }\n",
       "\n",
       "    .dataframe thead th {\n",
       "        text-align: right;\n",
       "    }\n",
       "</style>\n",
       "<table border=\"1\" class=\"dataframe\">\n",
       "  <thead>\n",
       "    <tr style=\"text-align: right;\">\n",
       "      <th></th>\n",
       "      <th>PS1_median</th>\n",
       "      <th>PS2_median</th>\n",
       "      <th>PS3_median</th>\n",
       "      <th>PS4_median</th>\n",
       "      <th>PS5_median</th>\n",
       "      <th>PS6_median</th>\n",
       "      <th>TS1_median</th>\n",
       "      <th>TS2_median</th>\n",
       "      <th>TS3_median</th>\n",
       "      <th>TS4_median</th>\n",
       "      <th>...</th>\n",
       "      <th>TS2_iqr</th>\n",
       "      <th>TS3_iqr</th>\n",
       "      <th>TS4_iqr</th>\n",
       "      <th>FS1_iqr</th>\n",
       "      <th>FS2_iqr</th>\n",
       "      <th>P1_iqr</th>\n",
       "      <th>VS1_iqr</th>\n",
       "      <th>CE1_iqr</th>\n",
       "      <th>CP1_iqr</th>\n",
       "      <th>SE1_iqr</th>\n",
       "    </tr>\n",
       "  </thead>\n",
       "  <tbody>\n",
       "    <tr>\n",
       "      <th>0</th>\n",
       "      <td>156.25</td>\n",
       "      <td>129.365</td>\n",
       "      <td>2.297</td>\n",
       "      <td>0.0</td>\n",
       "      <td>9.844</td>\n",
       "      <td>9.733</td>\n",
       "      <td>35.5720</td>\n",
       "      <td>40.9630</td>\n",
       "      <td>38.4960</td>\n",
       "      <td>31.576</td>\n",
       "      <td>...</td>\n",
       "      <td>0.477</td>\n",
       "      <td>0.297</td>\n",
       "      <td>3.231</td>\n",
       "      <td>18.710</td>\n",
       "      <td>0.298</td>\n",
       "      <td>611.8</td>\n",
       "      <td>0.092</td>\n",
       "      <td>18.572</td>\n",
       "      <td>0.805</td>\n",
       "      <td>79.568</td>\n",
       "    </tr>\n",
       "    <tr>\n",
       "      <th>1</th>\n",
       "      <td>156.06</td>\n",
       "      <td>129.385</td>\n",
       "      <td>2.273</td>\n",
       "      <td>0.0</td>\n",
       "      <td>9.632</td>\n",
       "      <td>9.526</td>\n",
       "      <td>36.7675</td>\n",
       "      <td>41.5180</td>\n",
       "      <td>38.9845</td>\n",
       "      <td>34.553</td>\n",
       "      <td>...</td>\n",
       "      <td>1.074</td>\n",
       "      <td>0.586</td>\n",
       "      <td>1.500</td>\n",
       "      <td>18.712</td>\n",
       "      <td>0.101</td>\n",
       "      <td>615.4</td>\n",
       "      <td>0.102</td>\n",
       "      <td>5.888</td>\n",
       "      <td>0.267</td>\n",
       "      <td>80.441</td>\n",
       "    </tr>\n",
       "    <tr>\n",
       "      <th>2</th>\n",
       "      <td>155.72</td>\n",
       "      <td>129.325</td>\n",
       "      <td>2.273</td>\n",
       "      <td>0.0</td>\n",
       "      <td>9.528</td>\n",
       "      <td>9.425</td>\n",
       "      <td>38.0235</td>\n",
       "      <td>42.4235</td>\n",
       "      <td>39.6270</td>\n",
       "      <td>35.635</td>\n",
       "      <td>...</td>\n",
       "      <td>1.207</td>\n",
       "      <td>0.828</td>\n",
       "      <td>1.043</td>\n",
       "      <td>18.698</td>\n",
       "      <td>0.147</td>\n",
       "      <td>621.2</td>\n",
       "      <td>0.133</td>\n",
       "      <td>2.334</td>\n",
       "      <td>0.083</td>\n",
       "      <td>80.824</td>\n",
       "    </tr>\n",
       "    <tr>\n",
       "      <th>3</th>\n",
       "      <td>155.56</td>\n",
       "      <td>128.865</td>\n",
       "      <td>2.242</td>\n",
       "      <td>0.0</td>\n",
       "      <td>9.436</td>\n",
       "      <td>9.335</td>\n",
       "      <td>39.0550</td>\n",
       "      <td>43.3650</td>\n",
       "      <td>40.3420</td>\n",
       "      <td>36.635</td>\n",
       "      <td>...</td>\n",
       "      <td>1.183</td>\n",
       "      <td>0.911</td>\n",
       "      <td>0.883</td>\n",
       "      <td>18.896</td>\n",
       "      <td>0.141</td>\n",
       "      <td>618.8</td>\n",
       "      <td>0.118</td>\n",
       "      <td>1.892</td>\n",
       "      <td>0.085</td>\n",
       "      <td>80.930</td>\n",
       "    </tr>\n",
       "    <tr>\n",
       "      <th>4</th>\n",
       "      <td>155.34</td>\n",
       "      <td>129.000</td>\n",
       "      <td>2.219</td>\n",
       "      <td>0.0</td>\n",
       "      <td>9.358</td>\n",
       "      <td>9.260</td>\n",
       "      <td>39.9670</td>\n",
       "      <td>44.3355</td>\n",
       "      <td>41.3400</td>\n",
       "      <td>37.439</td>\n",
       "      <td>...</td>\n",
       "      <td>1.145</td>\n",
       "      <td>0.918</td>\n",
       "      <td>0.789</td>\n",
       "      <td>18.876</td>\n",
       "      <td>0.133</td>\n",
       "      <td>622.0</td>\n",
       "      <td>0.136</td>\n",
       "      <td>1.327</td>\n",
       "      <td>0.090</td>\n",
       "      <td>81.100</td>\n",
       "    </tr>\n",
       "  </tbody>\n",
       "</table>\n",
       "<p>5 rows × 85 columns</p>\n",
       "</div>"
      ],
      "text/plain": [
       "   PS1_median  PS2_median  PS3_median  PS4_median  PS5_median  PS6_median  \\\n",
       "0      156.25     129.365       2.297         0.0       9.844       9.733   \n",
       "1      156.06     129.385       2.273         0.0       9.632       9.526   \n",
       "2      155.72     129.325       2.273         0.0       9.528       9.425   \n",
       "3      155.56     128.865       2.242         0.0       9.436       9.335   \n",
       "4      155.34     129.000       2.219         0.0       9.358       9.260   \n",
       "\n",
       "   TS1_median  TS2_median  TS3_median  TS4_median  ...  TS2_iqr  TS3_iqr  \\\n",
       "0     35.5720     40.9630     38.4960      31.576  ...    0.477    0.297   \n",
       "1     36.7675     41.5180     38.9845      34.553  ...    1.074    0.586   \n",
       "2     38.0235     42.4235     39.6270      35.635  ...    1.207    0.828   \n",
       "3     39.0550     43.3650     40.3420      36.635  ...    1.183    0.911   \n",
       "4     39.9670     44.3355     41.3400      37.439  ...    1.145    0.918   \n",
       "\n",
       "   TS4_iqr  FS1_iqr  FS2_iqr  P1_iqr  VS1_iqr  CE1_iqr  CP1_iqr  SE1_iqr  \n",
       "0    3.231   18.710    0.298   611.8    0.092   18.572    0.805   79.568  \n",
       "1    1.500   18.712    0.101   615.4    0.102    5.888    0.267   80.441  \n",
       "2    1.043   18.698    0.147   621.2    0.133    2.334    0.083   80.824  \n",
       "3    0.883   18.896    0.141   618.8    0.118    1.892    0.085   80.930  \n",
       "4    0.789   18.876    0.133   622.0    0.136    1.327    0.090   81.100  \n",
       "\n",
       "[5 rows x 85 columns]"
      ]
     },
     "execution_count": 34,
     "metadata": {},
     "output_type": "execute_result"
    }
   ],
   "source": [
    "statsfinal.head()"
   ]
  },
  {
   "cell_type": "code",
   "execution_count": 35,
   "metadata": {},
   "outputs": [],
   "source": [
    "statsfinal_target = pd.concat([statsfinal,profile], axis = 1)"
   ]
  },
  {
   "cell_type": "code",
   "execution_count": 36,
   "metadata": {},
   "outputs": [
    {
     "data": {
      "text/html": [
       "<div>\n",
       "<style scoped>\n",
       "    .dataframe tbody tr th:only-of-type {\n",
       "        vertical-align: middle;\n",
       "    }\n",
       "\n",
       "    .dataframe tbody tr th {\n",
       "        vertical-align: top;\n",
       "    }\n",
       "\n",
       "    .dataframe thead th {\n",
       "        text-align: right;\n",
       "    }\n",
       "</style>\n",
       "<table border=\"1\" class=\"dataframe\">\n",
       "  <thead>\n",
       "    <tr style=\"text-align: right;\">\n",
       "      <th></th>\n",
       "      <th>PS1_median</th>\n",
       "      <th>PS2_median</th>\n",
       "      <th>PS3_median</th>\n",
       "      <th>PS4_median</th>\n",
       "      <th>PS5_median</th>\n",
       "      <th>PS6_median</th>\n",
       "      <th>TS1_median</th>\n",
       "      <th>TS2_median</th>\n",
       "      <th>TS3_median</th>\n",
       "      <th>TS4_median</th>\n",
       "      <th>...</th>\n",
       "      <th>TS2_iqr</th>\n",
       "      <th>TS3_iqr</th>\n",
       "      <th>TS4_iqr</th>\n",
       "      <th>FS1_iqr</th>\n",
       "      <th>FS2_iqr</th>\n",
       "      <th>P1_iqr</th>\n",
       "      <th>VS1_iqr</th>\n",
       "      <th>CE1_iqr</th>\n",
       "      <th>CP1_iqr</th>\n",
       "      <th>SE1_iqr</th>\n",
       "    </tr>\n",
       "  </thead>\n",
       "  <tbody>\n",
       "    <tr>\n",
       "      <th>0</th>\n",
       "      <td>156.25</td>\n",
       "      <td>129.365</td>\n",
       "      <td>2.297</td>\n",
       "      <td>0.0</td>\n",
       "      <td>9.844</td>\n",
       "      <td>9.733</td>\n",
       "      <td>35.5720</td>\n",
       "      <td>40.9630</td>\n",
       "      <td>38.4960</td>\n",
       "      <td>31.576</td>\n",
       "      <td>...</td>\n",
       "      <td>0.477</td>\n",
       "      <td>0.297</td>\n",
       "      <td>3.231</td>\n",
       "      <td>18.710</td>\n",
       "      <td>0.298</td>\n",
       "      <td>611.8</td>\n",
       "      <td>0.092</td>\n",
       "      <td>18.572</td>\n",
       "      <td>0.805</td>\n",
       "      <td>79.568</td>\n",
       "    </tr>\n",
       "    <tr>\n",
       "      <th>1</th>\n",
       "      <td>156.06</td>\n",
       "      <td>129.385</td>\n",
       "      <td>2.273</td>\n",
       "      <td>0.0</td>\n",
       "      <td>9.632</td>\n",
       "      <td>9.526</td>\n",
       "      <td>36.7675</td>\n",
       "      <td>41.5180</td>\n",
       "      <td>38.9845</td>\n",
       "      <td>34.553</td>\n",
       "      <td>...</td>\n",
       "      <td>1.074</td>\n",
       "      <td>0.586</td>\n",
       "      <td>1.500</td>\n",
       "      <td>18.712</td>\n",
       "      <td>0.101</td>\n",
       "      <td>615.4</td>\n",
       "      <td>0.102</td>\n",
       "      <td>5.888</td>\n",
       "      <td>0.267</td>\n",
       "      <td>80.441</td>\n",
       "    </tr>\n",
       "    <tr>\n",
       "      <th>2</th>\n",
       "      <td>155.72</td>\n",
       "      <td>129.325</td>\n",
       "      <td>2.273</td>\n",
       "      <td>0.0</td>\n",
       "      <td>9.528</td>\n",
       "      <td>9.425</td>\n",
       "      <td>38.0235</td>\n",
       "      <td>42.4235</td>\n",
       "      <td>39.6270</td>\n",
       "      <td>35.635</td>\n",
       "      <td>...</td>\n",
       "      <td>1.207</td>\n",
       "      <td>0.828</td>\n",
       "      <td>1.043</td>\n",
       "      <td>18.698</td>\n",
       "      <td>0.147</td>\n",
       "      <td>621.2</td>\n",
       "      <td>0.133</td>\n",
       "      <td>2.334</td>\n",
       "      <td>0.083</td>\n",
       "      <td>80.824</td>\n",
       "    </tr>\n",
       "    <tr>\n",
       "      <th>3</th>\n",
       "      <td>155.56</td>\n",
       "      <td>128.865</td>\n",
       "      <td>2.242</td>\n",
       "      <td>0.0</td>\n",
       "      <td>9.436</td>\n",
       "      <td>9.335</td>\n",
       "      <td>39.0550</td>\n",
       "      <td>43.3650</td>\n",
       "      <td>40.3420</td>\n",
       "      <td>36.635</td>\n",
       "      <td>...</td>\n",
       "      <td>1.183</td>\n",
       "      <td>0.911</td>\n",
       "      <td>0.883</td>\n",
       "      <td>18.896</td>\n",
       "      <td>0.141</td>\n",
       "      <td>618.8</td>\n",
       "      <td>0.118</td>\n",
       "      <td>1.892</td>\n",
       "      <td>0.085</td>\n",
       "      <td>80.930</td>\n",
       "    </tr>\n",
       "    <tr>\n",
       "      <th>4</th>\n",
       "      <td>155.34</td>\n",
       "      <td>129.000</td>\n",
       "      <td>2.219</td>\n",
       "      <td>0.0</td>\n",
       "      <td>9.358</td>\n",
       "      <td>9.260</td>\n",
       "      <td>39.9670</td>\n",
       "      <td>44.3355</td>\n",
       "      <td>41.3400</td>\n",
       "      <td>37.439</td>\n",
       "      <td>...</td>\n",
       "      <td>1.145</td>\n",
       "      <td>0.918</td>\n",
       "      <td>0.789</td>\n",
       "      <td>18.876</td>\n",
       "      <td>0.133</td>\n",
       "      <td>622.0</td>\n",
       "      <td>0.136</td>\n",
       "      <td>1.327</td>\n",
       "      <td>0.090</td>\n",
       "      <td>81.100</td>\n",
       "    </tr>\n",
       "  </tbody>\n",
       "</table>\n",
       "<p>5 rows × 85 columns</p>\n",
       "</div>"
      ],
      "text/plain": [
       "   PS1_median  PS2_median  PS3_median  PS4_median  PS5_median  PS6_median  \\\n",
       "0      156.25     129.365       2.297         0.0       9.844       9.733   \n",
       "1      156.06     129.385       2.273         0.0       9.632       9.526   \n",
       "2      155.72     129.325       2.273         0.0       9.528       9.425   \n",
       "3      155.56     128.865       2.242         0.0       9.436       9.335   \n",
       "4      155.34     129.000       2.219         0.0       9.358       9.260   \n",
       "\n",
       "   TS1_median  TS2_median  TS3_median  TS4_median  ...  TS2_iqr  TS3_iqr  \\\n",
       "0     35.5720     40.9630     38.4960      31.576  ...    0.477    0.297   \n",
       "1     36.7675     41.5180     38.9845      34.553  ...    1.074    0.586   \n",
       "2     38.0235     42.4235     39.6270      35.635  ...    1.207    0.828   \n",
       "3     39.0550     43.3650     40.3420      36.635  ...    1.183    0.911   \n",
       "4     39.9670     44.3355     41.3400      37.439  ...    1.145    0.918   \n",
       "\n",
       "   TS4_iqr  FS1_iqr  FS2_iqr  P1_iqr  VS1_iqr  CE1_iqr  CP1_iqr  SE1_iqr  \n",
       "0    3.231   18.710    0.298   611.8    0.092   18.572    0.805   79.568  \n",
       "1    1.500   18.712    0.101   615.4    0.102    5.888    0.267   80.441  \n",
       "2    1.043   18.698    0.147   621.2    0.133    2.334    0.083   80.824  \n",
       "3    0.883   18.896    0.141   618.8    0.118    1.892    0.085   80.930  \n",
       "4    0.789   18.876    0.133   622.0    0.136    1.327    0.090   81.100  \n",
       "\n",
       "[5 rows x 85 columns]"
      ]
     },
     "execution_count": 36,
     "metadata": {},
     "output_type": "execute_result"
    }
   ],
   "source": [
    "statsfinal.head()"
   ]
  },
  {
   "cell_type": "code",
   "execution_count": 37,
   "metadata": {},
   "outputs": [],
   "source": [
    "profile_hydraulic = profile['Hydraulic Accumulator']"
   ]
  },
  {
   "cell_type": "markdown",
   "metadata": {},
   "source": [
    "<a id = 'Classification_models_for_Pump_failure'></a>\n",
    "\n",
    "# Classification of Hydraulic condition"
   ]
  },
  {
   "cell_type": "markdown",
   "metadata": {},
   "source": [
    "### Train -Test split"
   ]
  },
  {
   "cell_type": "code",
   "execution_count": 38,
   "metadata": {},
   "outputs": [],
   "source": [
    "from sklearn.model_selection import train_test_split\n",
    "\n",
    "# Splitting the data into train and test\n",
    "X_train, X_test, y_train, y_test = train_test_split(statsfinal, profile_hydraulic, train_size=0.7, test_size=0.3, random_state=100, stratify = profile_hydraulic )"
   ]
  },
  {
   "cell_type": "markdown",
   "metadata": {},
   "source": [
    "### Balance the classes using SMOTE"
   ]
  },
  {
   "cell_type": "code",
   "execution_count": 39,
   "metadata": {},
   "outputs": [
    {
     "data": {
      "text/html": [
       "<div>\n",
       "<style scoped>\n",
       "    .dataframe tbody tr th:only-of-type {\n",
       "        vertical-align: middle;\n",
       "    }\n",
       "\n",
       "    .dataframe tbody tr th {\n",
       "        vertical-align: top;\n",
       "    }\n",
       "\n",
       "    .dataframe thead th {\n",
       "        text-align: right;\n",
       "    }\n",
       "</style>\n",
       "<table border=\"1\" class=\"dataframe\">\n",
       "  <thead>\n",
       "    <tr style=\"text-align: right;\">\n",
       "      <th></th>\n",
       "      <th>PS1_median</th>\n",
       "      <th>PS2_median</th>\n",
       "      <th>PS3_median</th>\n",
       "      <th>PS4_median</th>\n",
       "      <th>PS5_median</th>\n",
       "      <th>PS6_median</th>\n",
       "      <th>TS1_median</th>\n",
       "      <th>TS2_median</th>\n",
       "      <th>TS3_median</th>\n",
       "      <th>TS4_median</th>\n",
       "      <th>...</th>\n",
       "      <th>TS2_iqr</th>\n",
       "      <th>TS3_iqr</th>\n",
       "      <th>TS4_iqr</th>\n",
       "      <th>FS1_iqr</th>\n",
       "      <th>FS2_iqr</th>\n",
       "      <th>P1_iqr</th>\n",
       "      <th>VS1_iqr</th>\n",
       "      <th>CE1_iqr</th>\n",
       "      <th>CP1_iqr</th>\n",
       "      <th>SE1_iqr</th>\n",
       "    </tr>\n",
       "  </thead>\n",
       "  <tbody>\n",
       "    <tr>\n",
       "      <th>0</th>\n",
       "      <td>151.28</td>\n",
       "      <td>125.610</td>\n",
       "      <td>1.945</td>\n",
       "      <td>0.000</td>\n",
       "      <td>8.516</td>\n",
       "      <td>8.459</td>\n",
       "      <td>54.5000</td>\n",
       "      <td>58.9235</td>\n",
       "      <td>55.9020</td>\n",
       "      <td>49.699</td>\n",
       "      <td>...</td>\n",
       "      <td>0.512</td>\n",
       "      <td>0.242</td>\n",
       "      <td>0.192</td>\n",
       "      <td>20.178</td>\n",
       "      <td>0.106</td>\n",
       "      <td>653.6</td>\n",
       "      <td>0.191</td>\n",
       "      <td>0.837</td>\n",
       "      <td>0.074</td>\n",
       "      <td>76.758</td>\n",
       "    </tr>\n",
       "    <tr>\n",
       "      <th>1</th>\n",
       "      <td>156.44</td>\n",
       "      <td>130.120</td>\n",
       "      <td>2.328</td>\n",
       "      <td>1.963</td>\n",
       "      <td>9.967</td>\n",
       "      <td>9.849</td>\n",
       "      <td>35.4375</td>\n",
       "      <td>41.0550</td>\n",
       "      <td>38.3630</td>\n",
       "      <td>30.480</td>\n",
       "      <td>...</td>\n",
       "      <td>0.258</td>\n",
       "      <td>0.301</td>\n",
       "      <td>0.059</td>\n",
       "      <td>18.898</td>\n",
       "      <td>0.087</td>\n",
       "      <td>611.8</td>\n",
       "      <td>0.116</td>\n",
       "      <td>1.013</td>\n",
       "      <td>0.086</td>\n",
       "      <td>77.178</td>\n",
       "    </tr>\n",
       "    <tr>\n",
       "      <th>2</th>\n",
       "      <td>153.48</td>\n",
       "      <td>127.655</td>\n",
       "      <td>2.023</td>\n",
       "      <td>0.000</td>\n",
       "      <td>9.170</td>\n",
       "      <td>9.085</td>\n",
       "      <td>44.1130</td>\n",
       "      <td>49.0510</td>\n",
       "      <td>46.3105</td>\n",
       "      <td>39.699</td>\n",
       "      <td>...</td>\n",
       "      <td>0.356</td>\n",
       "      <td>0.262</td>\n",
       "      <td>0.188</td>\n",
       "      <td>20.146</td>\n",
       "      <td>0.100</td>\n",
       "      <td>639.0</td>\n",
       "      <td>0.127</td>\n",
       "      <td>1.028</td>\n",
       "      <td>0.084</td>\n",
       "      <td>74.789</td>\n",
       "    </tr>\n",
       "    <tr>\n",
       "      <th>3</th>\n",
       "      <td>153.99</td>\n",
       "      <td>128.035</td>\n",
       "      <td>2.078</td>\n",
       "      <td>0.000</td>\n",
       "      <td>9.159</td>\n",
       "      <td>9.075</td>\n",
       "      <td>44.5175</td>\n",
       "      <td>49.5410</td>\n",
       "      <td>46.6600</td>\n",
       "      <td>39.848</td>\n",
       "      <td>...</td>\n",
       "      <td>0.355</td>\n",
       "      <td>0.183</td>\n",
       "      <td>0.098</td>\n",
       "      <td>20.479</td>\n",
       "      <td>0.090</td>\n",
       "      <td>632.6</td>\n",
       "      <td>0.137</td>\n",
       "      <td>0.749</td>\n",
       "      <td>0.058</td>\n",
       "      <td>79.216</td>\n",
       "    </tr>\n",
       "    <tr>\n",
       "      <th>4</th>\n",
       "      <td>155.68</td>\n",
       "      <td>129.510</td>\n",
       "      <td>2.227</td>\n",
       "      <td>10.173</td>\n",
       "      <td>9.941</td>\n",
       "      <td>9.823</td>\n",
       "      <td>35.7070</td>\n",
       "      <td>41.2320</td>\n",
       "      <td>38.5470</td>\n",
       "      <td>30.652</td>\n",
       "      <td>...</td>\n",
       "      <td>0.266</td>\n",
       "      <td>0.184</td>\n",
       "      <td>0.067</td>\n",
       "      <td>19.653</td>\n",
       "      <td>0.096</td>\n",
       "      <td>611.4</td>\n",
       "      <td>0.120</td>\n",
       "      <td>1.011</td>\n",
       "      <td>0.063</td>\n",
       "      <td>75.064</td>\n",
       "    </tr>\n",
       "  </tbody>\n",
       "</table>\n",
       "<p>5 rows × 85 columns</p>\n",
       "</div>"
      ],
      "text/plain": [
       "   PS1_median  PS2_median  PS3_median  PS4_median  PS5_median  PS6_median  \\\n",
       "0      151.28     125.610       1.945       0.000       8.516       8.459   \n",
       "1      156.44     130.120       2.328       1.963       9.967       9.849   \n",
       "2      153.48     127.655       2.023       0.000       9.170       9.085   \n",
       "3      153.99     128.035       2.078       0.000       9.159       9.075   \n",
       "4      155.68     129.510       2.227      10.173       9.941       9.823   \n",
       "\n",
       "   TS1_median  TS2_median  TS3_median  TS4_median  ...  TS2_iqr  TS3_iqr  \\\n",
       "0     54.5000     58.9235     55.9020      49.699  ...    0.512    0.242   \n",
       "1     35.4375     41.0550     38.3630      30.480  ...    0.258    0.301   \n",
       "2     44.1130     49.0510     46.3105      39.699  ...    0.356    0.262   \n",
       "3     44.5175     49.5410     46.6600      39.848  ...    0.355    0.183   \n",
       "4     35.7070     41.2320     38.5470      30.652  ...    0.266    0.184   \n",
       "\n",
       "   TS4_iqr  FS1_iqr  FS2_iqr  P1_iqr  VS1_iqr  CE1_iqr  CP1_iqr  SE1_iqr  \n",
       "0    0.192   20.178    0.106   653.6    0.191    0.837    0.074   76.758  \n",
       "1    0.059   18.898    0.087   611.8    0.116    1.013    0.086   77.178  \n",
       "2    0.188   20.146    0.100   639.0    0.127    1.028    0.084   74.789  \n",
       "3    0.098   20.479    0.090   632.6    0.137    0.749    0.058   79.216  \n",
       "4    0.067   19.653    0.096   611.4    0.120    1.011    0.063   75.064  \n",
       "\n",
       "[5 rows x 85 columns]"
      ]
     },
     "execution_count": 39,
     "metadata": {},
     "output_type": "execute_result"
    }
   ],
   "source": [
    "\n",
    "## SMOTE method is used to balance data\n",
    "from imblearn import under_sampling \n",
    "from imblearn import over_sampling\n",
    "from imblearn.over_sampling import SMOTE\n",
    "\n",
    "smt = SMOTE(random_state=45, k_neighbors=5)\n",
    "X_train, y_train = smt.fit_sample(X_train,y_train)\n",
    "X_train = pd.DataFrame(X_train, columns=X_train.columns)\n",
    "\n",
    "#y_train_smt = pd.DataFrame(y_train_smt)\n",
    "\n",
    "X_train.head()"
   ]
  },
  {
   "cell_type": "markdown",
   "metadata": {},
   "source": [
    "### Standardisation of Data"
   ]
  },
  {
   "cell_type": "code",
   "execution_count": 40,
   "metadata": {},
   "outputs": [],
   "source": [
    "from sklearn.preprocessing import StandardScaler\n",
    "\n",
    "scaler = StandardScaler() ## x-mean/std\n",
    "\n",
    "X_train_scaled = scaler.fit_transform(X_train)\n",
    "X_test_scaled = scaler.transform(X_test)"
   ]
  },
  {
   "cell_type": "code",
   "execution_count": 41,
   "metadata": {},
   "outputs": [],
   "source": [
    "X_train_scaled = pd.DataFrame(X_train_scaled)\n",
    "X_test_scaled = pd.DataFrame(X_test_scaled)"
   ]
  },
  {
   "cell_type": "code",
   "execution_count": 42,
   "metadata": {},
   "outputs": [],
   "source": [
    "X_train_scaled.columns = statsfinal.columns \n",
    "X_test_scaled.columns = statsfinal.columns "
   ]
  },
  {
   "cell_type": "code",
   "execution_count": 43,
   "metadata": {},
   "outputs": [
    {
     "name": "stdout",
     "output_type": "stream",
     "text": [
      "(662, 85)\n",
      "(2264, 85)\n"
     ]
    }
   ],
   "source": [
    "print(X_test_scaled.shape)\n",
    "print(X_train_scaled.shape)"
   ]
  },
  {
   "cell_type": "code",
   "execution_count": 44,
   "metadata": {},
   "outputs": [
    {
     "name": "stdout",
     "output_type": "stream",
     "text": [
      "115    566\n",
      "130    566\n",
      "100    566\n",
      "90     566\n",
      "Name: Hydraulic Accumulator, dtype: int64\n",
      "90     242\n",
      "130    180\n",
      "115    120\n",
      "100    120\n",
      "Name: Hydraulic Accumulator, dtype: int64\n"
     ]
    }
   ],
   "source": [
    "SFy_traindf = pd.DataFrame(y_train)\n",
    "SFy_testdf = pd.DataFrame(y_test)\n",
    "\n",
    "print(y_train.value_counts())\n",
    "print(y_test.value_counts())\n"
   ]
  },
  {
   "cell_type": "code",
   "execution_count": 45,
   "metadata": {},
   "outputs": [
    {
     "name": "stderr",
     "output_type": "stream",
     "text": [
      "C:\\Users\\Admin\\anaconda3\\lib\\site-packages\\tpot\\builtins\\__init__.py:36: UserWarning: Warning: optional dependency `torch` is not available. - skipping import of NN models.\n",
      "  warnings.warn(\"Warning: optional dependency `torch` is not available. - skipping import of NN models.\")\n"
     ]
    }
   ],
   "source": [
    "from sklearn.linear_model import LogisticRegression\n",
    "from sklearn.svm import SVC\n",
    "from sklearn.ensemble import RandomForestClassifier\n",
    "from sklearn.metrics import confusion_matrix,accuracy_score,precision_score,recall_score,f1_score\n",
    "from sklearn.model_selection import cross_validate,GridSearchCV,RandomizedSearchCV\n",
    "from tpot import TPOTClassifier\n",
    "from scipy.stats import randint\n",
    "from sklearn.neighbors import KNeighborsClassifier\n",
    "from sklearn.naive_bayes import GaussianNB\n",
    "from sklearn.tree import DecisionTreeClassifier\n",
    "from sklearn.preprocessing import StandardScaler\n",
    "from sklearn.model_selection import train_test_split\n",
    "from sklearn import metrics"
   ]
  },
  {
   "cell_type": "code",
   "execution_count": 46,
   "metadata": {},
   "outputs": [],
   "source": [
    "def evaluate_model(dt_classifier,y_train,X_train,y_test,X_test):\n",
    "    print(\"Train Precision :\", (precision_score(y_train, dt_classifier.predict(X_train)))*100)\n",
    "    print(\"Train Confusion Matrix:\")\n",
    "    print(confusion_matrix(y_train, dt_classifier.predict(X_train)))\n",
    "    print(\"-\"*50)\n",
    "    print(\"Test Precision :\", (precision_score(y_test, dt_classifier.predict(X_test)))*100)\n",
    "    print(\"Test Confusion Matrix:\")\n",
    "    print(confusion_matrix(y_test, dt_classifier.predict(X_test)))"
   ]
  },
  {
   "cell_type": "markdown",
   "metadata": {},
   "source": [
    "<a id = 'SVM_for_Valve_failure_classification.'></a>\n",
    "\n",
    "### SVM for Valve failure classification"
   ]
  },
  {
   "cell_type": "markdown",
   "metadata": {},
   "source": [
    "## PCA"
   ]
  },
  {
   "cell_type": "code",
   "execution_count": 47,
   "metadata": {},
   "outputs": [],
   "source": [
    "from sklearn.decomposition import PCA"
   ]
  },
  {
   "cell_type": "code",
   "execution_count": 48,
   "metadata": {},
   "outputs": [],
   "source": [
    "pca = PCA(random_state=42)\n",
    "X_train_pca = pca.fit(X_train_scaled)"
   ]
  },
  {
   "cell_type": "code",
   "execution_count": 49,
   "metadata": {},
   "outputs": [
    {
     "data": {
      "image/png": "[encoded data removed]",
      "text/plain": [
       "<Figure size 1440x360 with 1 Axes>"
      ]
     },
     "metadata": {
      "needs_background": "light"
     },
     "output_type": "display_data"
    }
   ],
   "source": [
    "import matplotlib.pyplot as plt\n",
    "\n",
    "var_cumu = np.cumsum(pca.explained_variance_ratio_)\n",
    "fig = plt.figure(figsize=[20,5])\n",
    "plt.vlines(x=15, ymax=1, ymin=0, colors=\"r\", linestyles=\"--\")\n",
    "plt.hlines(y=0.95, xmax=30, xmin=0, colors=\"g\", linestyles=\"--\")\n",
    "plt.plot(var_cumu)\n",
    "plt.ylabel(\"Cumulative variance explained\")\n",
    "plt.show()"
   ]
  },
  {
   "cell_type": "code",
   "execution_count": 50,
   "metadata": {},
   "outputs": [],
   "source": [
    "from sklearn.decomposition import IncrementalPCA\n",
    "pca_final = IncrementalPCA(n_components=17)\n",
    "\n",
    "X_train_pca = pca_final.fit_transform(X_train_scaled)\n",
    "X_test_pca = pca_final.transform(X_test_scaled)\n"
   ]
  },
  {
   "cell_type": "code",
   "execution_count": 51,
   "metadata": {},
   "outputs": [
    {
     "name": "stdout",
     "output_type": "stream",
     "text": [
      "(2264, 17)\n",
      "(662, 17)\n"
     ]
    }
   ],
   "source": [
    "print(X_train_pca.shape)\n",
    "print(X_test_pca.shape)"
   ]
  },
  {
   "cell_type": "code",
   "execution_count": null,
   "metadata": {},
   "outputs": [],
   "source": []
  },
  {
   "cell_type": "code",
   "execution_count": 52,
   "metadata": {},
   "outputs": [],
   "source": [
    "from sklearn.metrics import roc_curve, auc"
   ]
  },
  {
   "cell_type": "code",
   "execution_count": 53,
   "metadata": {},
   "outputs": [],
   "source": [
    "# training a linear SVM classifier\n",
    "from sklearn.svm import SVC\n",
    "svm_model_linear = SVC(kernel = 'linear', C = 1).fit(X_train_pca, y_train)\n",
    "svm_predictions = svm_model_linear.predict(X_test_pca)"
   ]
  },
  {
   "cell_type": "code",
   "execution_count": 54,
   "metadata": {},
   "outputs": [
    {
     "data": {
      "text/plain": [
       "array([[154,  67,  11,  10],\n",
       "       [ 20,  74,  22,   4],\n",
       "       [ 17,  22,  55,  26],\n",
       "       [  8,  17,  25, 130]], dtype=int64)"
      ]
     },
     "execution_count": 54,
     "metadata": {},
     "output_type": "execute_result"
    }
   ],
   "source": [
    "# creating a confusion matrix\n",
    "cm = confusion_matrix(y_test, svm_predictions)\n",
    "cm"
   ]
  },
  {
   "cell_type": "code",
   "execution_count": 55,
   "metadata": {},
   "outputs": [],
   "source": [
    "def cmatrix(model,test):\n",
    "    fig, ax = plt.subplots(figsize=(15, 10))\n",
    "    ax.set_title('Confusion Matrix')\n",
    "    disp = metrics.plot_confusion_matrix(model, test,y_test, \n",
    "                                         display_labels= ['Close to Total failure','Severely reduced pressure','Slightly reduced pressure','Optimum pressure'],\n",
    "                                         ax = ax)\n",
    "    return disp.confusion_matrix\n",
    "    "
   ]
  },
  {
   "cell_type": "code",
   "execution_count": 56,
   "metadata": {},
   "outputs": [
    {
     "data": {
      "text/plain": [
       "array([[154,  67,  11,  10],\n",
       "       [ 20,  74,  22,   4],\n",
       "       [ 17,  22,  55,  26],\n",
       "       [  8,  17,  25, 130]], dtype=int64)"
      ]
     },
     "execution_count": 56,
     "metadata": {},
     "output_type": "execute_result"
    },
    {
     "data": {
      "image/png": "[encoded data removed]",
      "text/plain": [
       "<Figure size 1080x720 with 2 Axes>"
      ]
     },
     "metadata": {
      "needs_background": "light"
     },
     "output_type": "display_data"
    }
   ],
   "source": [
    "cmatrix(svm_model_linear, X_test_pca)"
   ]
  },
  {
   "cell_type": "code",
   "execution_count": 57,
   "metadata": {},
   "outputs": [
    {
     "name": "stdout",
     "output_type": "stream",
     "text": [
      "              precision    recall  f1-score   support\n",
      "\n",
      "          90       0.77      0.64      0.70       242\n",
      "         100       0.41      0.62      0.49       120\n",
      "         115       0.49      0.46      0.47       120\n",
      "         130       0.76      0.72      0.74       180\n",
      "\n",
      "    accuracy                           0.62       662\n",
      "   macro avg       0.61      0.61      0.60       662\n",
      "weighted avg       0.65      0.62      0.63       662\n",
      "\n"
     ]
    }
   ],
   "source": [
    "print(metrics.classification_report(y_test, svm_model_linear.predict(X_test_pca)))"
   ]
  },
  {
   "cell_type": "code",
   "execution_count": 58,
   "metadata": {},
   "outputs": [
    {
     "data": {
      "text/plain": [
       "array([[ 2.22361842,  3.20090795,  1.18146664, -0.27536459],\n",
       "       [ 0.77130653, -0.27373464,  2.23676532,  3.27075543],\n",
       "       [-0.27581503,  0.71309116,  2.27138338,  3.28944301],\n",
       "       ...,\n",
       "       [-0.23894054,  0.84097037,  2.19245864,  3.22502189],\n",
       "       [ 1.1212216 ,  3.19380644,  2.15801618, -0.24701871],\n",
       "       [ 2.3248252 , -0.32774099,  3.32675113,  0.6776989 ]])"
      ]
     },
     "execution_count": 58,
     "metadata": {},
     "output_type": "execute_result"
    }
   ],
   "source": [
    "y_score_svm = svm_model_linear.fit(X_train_pca, y_train).decision_function(X_test_pca)\n",
    "y_score_svm"
   ]
  },
  {
   "cell_type": "code",
   "execution_count": 59,
   "metadata": {},
   "outputs": [],
   "source": [
    "def plot_multiclass_roc(y_score, X_test, y_test, n_classes= 3, figsize = (20,6)):\n",
    "\n",
    "    # structures\n",
    "    fpr = dict()\n",
    "    tpr = dict()\n",
    "    roc_auc = dict()\n",
    "\n",
    "    # calculate dummies once\n",
    "    y_test_dummies = pd.get_dummies(y_test, drop_first=False).values\n",
    "    for i in range(n_classes):\n",
    "        fpr[i], tpr[i], _ = roc_curve(y_test_dummies[:, i], y_score[:, i])\n",
    "        roc_auc[i] = auc(fpr[i], tpr[i])\n",
    "\n",
    "    fig, ax = plt.subplots(figsize=figsize)\n",
    "    ax.plot([0, 1], [0, 1], 'k--')\n",
    "    ax.set_xlim([0.0, 1.0])\n",
    "    ax.set_ylim([0.0, 1.05])\n",
    "    ax.set_xlabel('False Positive Rate')\n",
    "    ax.set_ylabel('True Positive Rate')\n",
    "    ax.set_title('Receiver operating characteristic example')\n",
    "    for i in range(n_classes):\n",
    "        ax.plot(fpr[i], tpr[i], label='ROC curve (area = %0.2f) for label %i' % (roc_auc[i], i))\n",
    "    ax.legend(loc=\"best\")\n",
    "    ax.grid(alpha=.4)\n",
    "    sns.despine()\n",
    "    plt.show()"
   ]
  },
  {
   "cell_type": "code",
   "execution_count": 60,
   "metadata": {},
   "outputs": [
    {
     "data": {
      "image/png": "[encoded data removed]",
      "text/plain": [
       "<Figure size 1440x432 with 1 Axes>"
      ]
     },
     "metadata": {
      "needs_background": "light"
     },
     "output_type": "display_data"
    }
   ],
   "source": [
    "plot_multiclass_roc(y_score_svm,X_test_pca, y_test, 4)"
   ]
  },
  {
   "cell_type": "markdown",
   "metadata": {},
   "source": [
    "<a id = 'kNN_for_cooler_failure_classification.'></a>\n",
    "\n",
    "### kNN for cooler failure classification"
   ]
  },
  {
   "cell_type": "code",
   "execution_count": 61,
   "metadata": {},
   "outputs": [],
   "source": [
    "# training a KNN classifier\n",
    "from sklearn.neighbors import KNeighborsClassifier\n",
    "knn = KNeighborsClassifier(n_neighbors = 7).fit(X_train_pca, y_train)\n"
   ]
  },
  {
   "cell_type": "code",
   "execution_count": 62,
   "metadata": {},
   "outputs": [
    {
     "data": {
      "text/plain": [
       "array([[158,  53,  26,   5],\n",
       "       [ 11,  77,  29,   3],\n",
       "       [  4,  28,  67,  21],\n",
       "       [  2,  17,  15, 146]], dtype=int64)"
      ]
     },
     "execution_count": 62,
     "metadata": {},
     "output_type": "execute_result"
    },
    {
     "data": {
      "image/png": "[encoded data removed]",
      "text/plain": [
       "<Figure size 1080x720 with 2 Axes>"
      ]
     },
     "metadata": {
      "needs_background": "light"
     },
     "output_type": "display_data"
    }
   ],
   "source": [
    "cmatrix(knn, X_test_pca)"
   ]
  },
  {
   "cell_type": "code",
   "execution_count": 63,
   "metadata": {},
   "outputs": [
    {
     "data": {
      "text/plain": [
       "array([[0.14285714, 0.57142857, 0.28571429, 0.        ],\n",
       "       [0.        , 0.        , 0.        , 1.        ],\n",
       "       [0.        , 0.28571429, 0.42857143, 0.28571429],\n",
       "       ...,\n",
       "       [0.        , 0.        , 0.14285714, 0.85714286],\n",
       "       [0.        , 0.42857143, 0.57142857, 0.        ],\n",
       "       [0.        , 0.        , 1.        , 0.        ]])"
      ]
     },
     "execution_count": 63,
     "metadata": {},
     "output_type": "execute_result"
    }
   ],
   "source": [
    "y_score_knn = knn.fit(X_train_pca, y_train).predict_proba(X_test_pca)\n",
    "y_score_knn"
   ]
  },
  {
   "cell_type": "code",
   "execution_count": 64,
   "metadata": {
    "scrolled": true
   },
   "outputs": [
    {
     "data": {
      "image/png": "[encoded data removed]",
      "text/plain": [
       "<Figure size 1440x432 with 1 Axes>"
      ]
     },
     "metadata": {
      "needs_background": "light"
     },
     "output_type": "display_data"
    }
   ],
   "source": [
    "plot_multiclass_roc(y_score_knn, X_test_pca, y_test, n_classes=4, figsize=(20, 6))"
   ]
  },
  {
   "cell_type": "code",
   "execution_count": 65,
   "metadata": {},
   "outputs": [
    {
     "name": "stdout",
     "output_type": "stream",
     "text": [
      "              precision    recall  f1-score   support\n",
      "\n",
      "          90       0.90      0.65      0.76       242\n",
      "         100       0.44      0.64      0.52       120\n",
      "         115       0.49      0.56      0.52       120\n",
      "         130       0.83      0.81      0.82       180\n",
      "\n",
      "    accuracy                           0.68       662\n",
      "   macro avg       0.67      0.67      0.66       662\n",
      "weighted avg       0.73      0.68      0.69       662\n",
      "\n"
     ]
    }
   ],
   "source": [
    "print(metrics.classification_report(y_test, knn.predict(X_test_pca)))"
   ]
  },
  {
   "cell_type": "markdown",
   "metadata": {},
   "source": [
    "<a id = 'RF_for_cooler_failure_classification.'></a>\n",
    "\n",
    "### RF for cooler failure classification"
   ]
  },
  {
   "cell_type": "code",
   "execution_count": 66,
   "metadata": {},
   "outputs": [
    {
     "data": {
      "text/plain": [
       "RandomForestClassifier(criterion='entropy', n_estimators=10, random_state=42)"
      ]
     },
     "execution_count": 66,
     "metadata": {},
     "output_type": "execute_result"
    }
   ],
   "source": [
    "from sklearn.ensemble import RandomForestClassifier\n",
    "\n",
    "# Fitting Random Forest Classification to the Training set\n",
    "\n",
    "classifier_rf = RandomForestClassifier(n_estimators = 10, criterion = 'entropy', random_state = 42)\n",
    "classifier_rf.fit(X_train_scaled, y_train)"
   ]
  },
  {
   "cell_type": "code",
   "execution_count": 68,
   "metadata": {},
   "outputs": [
    {
     "data": {
      "text/plain": [
       "array([[234,   3,   3,   2],\n",
       "       [  6, 114,   0,   0],\n",
       "       [  1,   1, 115,   3],\n",
       "       [  1,   0,   1, 178]], dtype=int64)"
      ]
     },
     "execution_count": 68,
     "metadata": {},
     "output_type": "execute_result"
    },
    {
     "data": {
      "image/png": "[encoded data removed]",
      "text/plain": [
       "<Figure size 1080x720 with 2 Axes>"
      ]
     },
     "metadata": {
      "needs_background": "light"
     },
     "output_type": "display_data"
    }
   ],
   "source": [
    "cmatrix(classifier_rf, X_test_scaled)"
   ]
  },
  {
   "cell_type": "code",
   "execution_count": 69,
   "metadata": {},
   "outputs": [
    {
     "data": {
      "text/plain": [
       "array([[0.1, 0.1, 0.6, 0.2],\n",
       "       [0. , 0. , 0. , 1. ],\n",
       "       [0. , 0. , 0.1, 0.9],\n",
       "       ...,\n",
       "       [0. , 0. , 1. , 0. ],\n",
       "       [0.1, 0.9, 0. , 0. ],\n",
       "       [0. , 0. , 1. , 0. ]])"
      ]
     },
     "execution_count": 69,
     "metadata": {},
     "output_type": "execute_result"
    }
   ],
   "source": [
    "y_score_rf = classifier_rf.fit(X_train_scaled, y_train).predict_proba(X_test_scaled)\n",
    "y_score_rf"
   ]
  },
  {
   "cell_type": "code",
   "execution_count": 70,
   "metadata": {},
   "outputs": [
    {
     "data": {
      "image/png": "[encoded data removed]",
      "text/plain": [
       "<Figure size 1440x432 with 1 Axes>"
      ]
     },
     "metadata": {
      "needs_background": "light"
     },
     "output_type": "display_data"
    }
   ],
   "source": [
    "plot_multiclass_roc(y_score_rf, X_test_scaled, y_test, n_classes=4, figsize=(20, 6))"
   ]
  },
  {
   "cell_type": "code",
   "execution_count": 71,
   "metadata": {
    "scrolled": true
   },
   "outputs": [
    {
     "name": "stdout",
     "output_type": "stream",
     "text": [
      "              precision    recall  f1-score   support\n",
      "\n",
      "          90       0.97      0.97      0.97       242\n",
      "         100       0.97      0.95      0.96       120\n",
      "         115       0.97      0.96      0.96       120\n",
      "         130       0.97      0.99      0.98       180\n",
      "\n",
      "    accuracy                           0.97       662\n",
      "   macro avg       0.97      0.97      0.97       662\n",
      "weighted avg       0.97      0.97      0.97       662\n",
      "\n"
     ]
    }
   ],
   "source": [
    "print(metrics.classification_report(y_test, classifier_rf.predict(X_test_scaled)))"
   ]
  },
  {
   "cell_type": "markdown",
   "metadata": {},
   "source": [
    "### Noise"
   ]
  },
  {
   "cell_type": "code",
   "execution_count": 72,
   "metadata": {},
   "outputs": [],
   "source": [
    "import numpy as np \n",
    "mu, sigma = 0, np.std(X_test_scaled)*0.20\n",
    "noise = np.random.normal(mu, sigma, X_test_scaled.shape)\n",
    "\n",
    "X_testnoise = X_test_scaled + noise"
   ]
  },
  {
   "cell_type": "code",
   "execution_count": 73,
   "metadata": {
    "scrolled": true
   },
   "outputs": [
    {
     "data": {
      "image/png": "[encoded data removed]",
      "text/plain": [
       "<Figure size 1440x432 with 1 Axes>"
      ]
     },
     "metadata": {
      "needs_background": "light"
     },
     "output_type": "display_data"
    },
    {
     "name": "stdout",
     "output_type": "stream",
     "text": [
      "              precision    recall  f1-score   support\n",
      "\n",
      "          90       0.58      0.58      0.58       242\n",
      "         100       0.43      0.35      0.39       120\n",
      "         115       0.41      0.40      0.40       120\n",
      "         130       0.61      0.68      0.64       180\n",
      "\n",
      "    accuracy                           0.53       662\n",
      "   macro avg       0.51      0.50      0.50       662\n",
      "weighted avg       0.53      0.53      0.53       662\n",
      "\n"
     ]
    }
   ],
   "source": [
    "y_score_rfnoise = classifier_rf.fit(X_train_scaled, y_train).predict_proba(X_testnoise)\n",
    "y_score_rfnoise\n",
    "\n",
    "plot_multiclass_roc(y_score_rfnoise, X_testnoise, y_test, n_classes=4, figsize=(20, 6))\n",
    "\n",
    "\n",
    "print(metrics.classification_report(y_test, classifier_rf.predict(X_testnoise)))"
   ]
  },
  {
   "cell_type": "code",
   "execution_count": 74,
   "metadata": {},
   "outputs": [],
   "source": [
    "import numpy as np \n",
    "mu, sigma = 0, np.std(X_test_pca)*0.20\n",
    "noise = np.random.normal(mu, sigma, X_test_pca.shape)\n",
    "\n",
    "X_testpcanoise = X_test_pca + noise"
   ]
  },
  {
   "cell_type": "code",
   "execution_count": 75,
   "metadata": {},
   "outputs": [
    {
     "data": {
      "image/png": "[encoded data removed]",
      "text/plain": [
       "<Figure size 1440x432 with 1 Axes>"
      ]
     },
     "metadata": {
      "needs_background": "light"
     },
     "output_type": "display_data"
    },
    {
     "name": "stdout",
     "output_type": "stream",
     "text": [
      "              precision    recall  f1-score   support\n",
      "\n",
      "          90       0.79      0.61      0.69       242\n",
      "         100       0.38      0.57      0.46       120\n",
      "         115       0.41      0.43      0.42       120\n",
      "         130       0.81      0.78      0.79       180\n",
      "\n",
      "    accuracy                           0.61       662\n",
      "   macro avg       0.60      0.60      0.59       662\n",
      "weighted avg       0.65      0.61      0.63       662\n",
      "\n"
     ]
    }
   ],
   "source": [
    "y_score_knnnoise = knn.fit(X_train_pca, y_train).predict_proba(X_testpcanoise)\n",
    "y_score_knnnoise\n",
    "\n",
    "plot_multiclass_roc(y_score_knnnoise, X_testpcanoise, y_test, n_classes=4, figsize=(20, 6))\n",
    "\n",
    "\n",
    "print(metrics.classification_report(y_test, knn.predict(X_testpcanoise)))"
   ]
  },
  {
   "cell_type": "code",
   "execution_count": null,
   "metadata": {},
   "outputs": [],
   "source": []
  },
  {
   "cell_type": "code",
   "execution_count": 76,
   "metadata": {},
   "outputs": [
    {
     "data": {
      "image/png": "[encoded data removed]",
      "text/plain": [
       "<Figure size 1440x432 with 1 Axes>"
      ]
     },
     "metadata": {
      "needs_background": "light"
     },
     "output_type": "display_data"
    },
    {
     "name": "stdout",
     "output_type": "stream",
     "text": [
      "              precision    recall  f1-score   support\n",
      "\n",
      "          90       0.59      0.52      0.55       242\n",
      "         100       0.33      0.46      0.39       120\n",
      "         115       0.35      0.31      0.33       120\n",
      "         130       0.62      0.61      0.62       180\n",
      "\n",
      "    accuracy                           0.50       662\n",
      "   macro avg       0.47      0.47      0.47       662\n",
      "weighted avg       0.51      0.50      0.50       662\n",
      "\n"
     ]
    }
   ],
   "source": [
    "y_score_svmnoise = svm_model_linear.fit(X_train_pca, y_train).decision_function(X_testpcanoise)\n",
    "y_score_svmnoise\n",
    "\n",
    "plot_multiclass_roc(y_score_svmnoise, X_testpcanoise, y_test, n_classes=4, figsize=(20, 6))\n",
    "\n",
    "\n",
    "print(metrics.classification_report(y_test, svm_model_linear.predict(X_testpcanoise)))"
   ]
  },
  {
   "cell_type": "code",
   "execution_count": null,
   "metadata": {},
   "outputs": [],
   "source": []
  },
  {
   "cell_type": "code",
   "execution_count": null,
   "metadata": {},
   "outputs": [],
   "source": []
  },
  {
   "cell_type": "code",
   "execution_count": null,
   "metadata": {},
   "outputs": [],
   "source": []
  },
  {
   "cell_type": "code",
   "execution_count": null,
   "metadata": {},
   "outputs": [],
   "source": []
  },
  {
   "cell_type": "code",
   "execution_count": null,
   "metadata": {},
   "outputs": [],
   "source": []
  },
  {
   "cell_type": "code",
   "execution_count": null,
   "metadata": {},
   "outputs": [],
   "source": []
  },
  {
   "cell_type": "markdown",
   "metadata": {},
   "source": [
    "### Feature extraction using PCA"
   ]
  },
  {
   "cell_type": "code",
   "execution_count": null,
   "metadata": {},
   "outputs": [],
   "source": [
    "from sklearn.decomposition import PCA"
   ]
  },
  {
   "cell_type": "code",
   "execution_count": null,
   "metadata": {},
   "outputs": [],
   "source": [
    "pca = PCA(random_state=42)\n",
    "X_train_pca = pca.fit(X_train_scaled)"
   ]
  },
  {
   "cell_type": "code",
   "execution_count": null,
   "metadata": {},
   "outputs": [],
   "source": [
    "pca.components_"
   ]
  },
  {
   "cell_type": "code",
   "execution_count": null,
   "metadata": {},
   "outputs": [],
   "source": [
    "pca.explained_variance_ratio_"
   ]
  },
  {
   "cell_type": "code",
   "execution_count": null,
   "metadata": {},
   "outputs": [],
   "source": [
    "var_cumu = np.cumsum(pca.explained_variance_ratio_)\n",
    "fig = plt.figure(figsize=[10,5])\n",
    "plt.grid()\n",
    "plt.vlines(x=15, ymax=1, ymin=0, colors=\"r\", linestyles=\"--\")\n",
    "plt.hlines(y=0.95, xmax=30, xmin=0, colors=\"g\", linestyles=\"--\")\n",
    "plt.plot(var_cumu)\n",
    "plt.ylabel(\"Cumulative variance explained\")\n",
    "plt.show()"
   ]
  },
  {
   "cell_type": "code",
   "execution_count": null,
   "metadata": {},
   "outputs": [],
   "source": [
    "from sklearn.decomposition import IncrementalPCA\n",
    "pca_final = IncrementalPCA(n_components=16)\n",
    "\n",
    "X_train_pca = pca_final.fit_transform(X_train_scaled)\n",
    "X_test_pca = pca_final.transform(X_test_scaled)\n"
   ]
  },
  {
   "cell_type": "code",
   "execution_count": null,
   "metadata": {},
   "outputs": [],
   "source": [
    "print(X_train_pca.shape)\n",
    "print(X_test_pca.shape)"
   ]
  },
  {
   "cell_type": "markdown",
   "metadata": {},
   "source": [
    "### SVM + PCA"
   ]
  },
  {
   "cell_type": "code",
   "execution_count": null,
   "metadata": {},
   "outputs": [],
   "source": [
    "svm_model_linear = SVC(kernel = 'linear', C = 1).fit(X_train_pca, y_train)\n",
    "svm_predictions = svm_model_linear.predict(X_test_pca)"
   ]
  },
  {
   "cell_type": "code",
   "execution_count": null,
   "metadata": {},
   "outputs": [],
   "source": [
    "def cmatrixpca(model):\n",
    "    fig, ax = plt.subplots(figsize=(15, 10))\n",
    "    ax.set_title('Confusion Matrix')\n",
    "    disp = metrics.plot_confusion_matrix(model, X_test_pca,y_test,\n",
    "                                         display_labels= ['Close to Total failure','Severely reduced pressure','Slightly reduced pressure','Optimum pressure'],\n",
    "                                         ax = ax)\n",
    "    return disp.confusion_matrix\n",
    "    "
   ]
  },
  {
   "cell_type": "code",
   "execution_count": null,
   "metadata": {},
   "outputs": [],
   "source": [
    "cmatrixpca(svm_model_linear)"
   ]
  },
  {
   "cell_type": "code",
   "execution_count": null,
   "metadata": {},
   "outputs": [],
   "source": [
    "def plot_multiclass_roc_pca(y_score, X_test, y_test, n_classes= 3, figsize = (20,6)):\n",
    "\n",
    "    # structures\n",
    "    fpr = dict()\n",
    "    tpr = dict()\n",
    "    roc_auc = dict()\n",
    "\n",
    "    # calculate dummies once\n",
    "    y_test_dummies = pd.get_dummies(y_test, drop_first=False).values\n",
    "    for i in range(n_classes):\n",
    "        fpr[i], tpr[i], _ = roc_curve(y_test_dummies[:, i], y_score[:, i])\n",
    "        roc_auc[i] = auc(fpr[i], tpr[i])\n",
    "\n",
    "    fig, ax = plt.subplots(figsize=figsize)\n",
    "    ax.plot([0, 1], [0, 1], 'k--')\n",
    "    ax.set_xlim([0.0, 1.0])\n",
    "    ax.set_ylim([0.0, 1.05])\n",
    "    ax.set_xlabel('False Positive Rate')\n",
    "    ax.set_ylabel('True Positive Rate')\n",
    "    ax.set_title('Receiver operating curve')\n",
    "    for i in range(n_classes):\n",
    "        ax.plot(fpr[i], tpr[i], label='ROC curve (area = %0.2f) for label %i' % (roc_auc[i], i))\n",
    "    ax.legend(loc=\"best\")\n",
    "    ax.grid(alpha=.4)\n",
    "    sns.despine()\n",
    "    plt.show()"
   ]
  },
  {
   "cell_type": "code",
   "execution_count": null,
   "metadata": {},
   "outputs": [],
   "source": [
    "y_score_svm_pca = svm_model_linear.fit(X_train_pca, y_train).decision_function(X_test_pca)\n",
    "y_score_svm_pca"
   ]
  },
  {
   "cell_type": "code",
   "execution_count": null,
   "metadata": {},
   "outputs": [],
   "source": [
    "plot_multiclass_roc_pca(y_score_svm_pca, X_test_pca, y_test, n_classes=3, figsize=(20, 6))"
   ]
  },
  {
   "cell_type": "markdown",
   "metadata": {},
   "source": [
    "### DT + PCA"
   ]
  },
  {
   "cell_type": "code",
   "execution_count": null,
   "metadata": {},
   "outputs": [],
   "source": [
    "\n",
    "# training a DescisionTreeClassifier\n",
    "from sklearn.tree import DecisionTreeClassifier\n",
    "\n",
    "dtree_modelpca = DecisionTreeClassifier(max_depth = 2).fit(X_train_pca, y_train)\n",
    "\n",
    "dtree_predictions_pca = dtree_modelpca.predict(X_test_pca)\n",
    " \n",
    "# creating a confusion matrix\n",
    "cmdt = confusion_matrix(y_test, dtree_predictions_pca)\n",
    "cmdt"
   ]
  },
  {
   "cell_type": "code",
   "execution_count": null,
   "metadata": {},
   "outputs": [],
   "source": [
    "cmatrixpca(dtree_modelpca)"
   ]
  },
  {
   "cell_type": "code",
   "execution_count": null,
   "metadata": {},
   "outputs": [],
   "source": [
    "y_score_dtreepca = dtree_modelpca.fit(X_train_pca, y_train).predict_proba(X_test_pca)\n",
    "y_score_dtreepca"
   ]
  },
  {
   "cell_type": "code",
   "execution_count": null,
   "metadata": {},
   "outputs": [],
   "source": [
    "plot_multiclass_roc_pca(y_score_dtreepca, X_test_pca, y_test, n_classes=3, figsize=(20, 6))"
   ]
  },
  {
   "cell_type": "markdown",
   "metadata": {},
   "source": [
    "### Hypertune the parameters "
   ]
  },
  {
   "cell_type": "code",
   "execution_count": null,
   "metadata": {},
   "outputs": [],
   "source": [
    "dt_hyper = DecisionTreeClassifier(random_state=42,class_weight = 'balanced')"
   ]
  },
  {
   "cell_type": "code",
   "execution_count": null,
   "metadata": {},
   "outputs": [],
   "source": [
    "params = {\n",
    "    'max_depth': [2, 3, 5, 10, 20],\n",
    "    'min_samples_leaf': [5, 10, 20, 50, 100],\n",
    "    'criterion': [\"gini\", \"entropy\"]\n",
    "}\n",
    "\n",
    "# depth of 2,3,5,10,20\n",
    "## minimum samples in leaf is given as 5,10,20,50,100\n",
    "## criterion is given as gini and entropy"
   ]
  },
  {
   "cell_type": "code",
   "execution_count": null,
   "metadata": {},
   "outputs": [],
   "source": [
    "# Instantiate the grid search model\n",
    "grid_search = GridSearchCV(estimator=dt_hyper, \n",
    "                           param_grid=params, \n",
    "                           cv=4, n_jobs=-1, verbose=1, scoring = \"accuracy\")"
   ]
  },
  {
   "cell_type": "code",
   "execution_count": null,
   "metadata": {},
   "outputs": [],
   "source": [
    "#%%time\n",
    "grid_search.fit(X_train_pca, y_train)"
   ]
  },
  {
   "cell_type": "code",
   "execution_count": null,
   "metadata": {},
   "outputs": [],
   "source": [
    "grid_search.best_estimator_"
   ]
  },
  {
   "cell_type": "code",
   "execution_count": null,
   "metadata": {},
   "outputs": [],
   "source": [
    "dt_best = grid_search.best_estimator_ ## best estimator assigned to dt_best"
   ]
  },
  {
   "cell_type": "code",
   "execution_count": null,
   "metadata": {},
   "outputs": [],
   "source": [
    "cmatrixpca(dt_best)"
   ]
  },
  {
   "cell_type": "code",
   "execution_count": null,
   "metadata": {},
   "outputs": [],
   "source": [
    "y_score_dthyperpca = dt_best.fit(X_train_pca, y_train).predict_proba(X_test_pca)\n",
    "y_score_dthyperpca"
   ]
  },
  {
   "cell_type": "code",
   "execution_count": null,
   "metadata": {},
   "outputs": [],
   "source": [
    "plot_multiclass_roc_pca(y_score_dthyperpca, X_test_pca, y_test, n_classes=3, figsize=(20, 6))"
   ]
  },
  {
   "cell_type": "markdown",
   "metadata": {},
   "source": [
    "### kNN + PCA"
   ]
  },
  {
   "cell_type": "code",
   "execution_count": null,
   "metadata": {},
   "outputs": [],
   "source": [
    "# training a KNN classifier\n",
    "from sklearn.neighbors import KNeighborsClassifier\n",
    "knn_pca = KNeighborsClassifier(n_neighbors = 7).fit(X_train_pca, y_train)\n"
   ]
  },
  {
   "cell_type": "code",
   "execution_count": null,
   "metadata": {},
   "outputs": [],
   "source": [
    "cmatrixpca(knn_pca)"
   ]
  },
  {
   "cell_type": "code",
   "execution_count": null,
   "metadata": {},
   "outputs": [],
   "source": [
    "y_score_knnpca = knn_pca.fit(X_train_pca, y_train).predict_proba(X_test_pca)\n",
    "y_score_knnpca"
   ]
  },
  {
   "cell_type": "code",
   "execution_count": null,
   "metadata": {},
   "outputs": [],
   "source": [
    "plot_multiclass_roc_pca(y_score_knnpca, X_test_pca, y_test, n_classes=3, figsize=(20, 6))"
   ]
  },
  {
   "cell_type": "markdown",
   "metadata": {},
   "source": [
    "### RF + PCA"
   ]
  },
  {
   "cell_type": "code",
   "execution_count": null,
   "metadata": {},
   "outputs": [],
   "source": [
    "from sklearn.ensemble import RandomForestClassifier\n",
    "\n",
    "# Fitting Random Forest Classification to the Training set\n",
    "\n",
    "rf_pca = RandomForestClassifier(n_estimators = 10, criterion = 'entropy', random_state = 42)\n",
    "rf_pca.fit(X_train_pca, y_train)"
   ]
  },
  {
   "cell_type": "code",
   "execution_count": null,
   "metadata": {},
   "outputs": [],
   "source": [
    "cmatrixpca(rf_pca)"
   ]
  },
  {
   "cell_type": "code",
   "execution_count": null,
   "metadata": {},
   "outputs": [],
   "source": [
    "y_score_rfpca = rf_pca.fit(X_train_pca, y_train).predict_proba(X_test_pca)\n",
    "y_score_rfpca"
   ]
  },
  {
   "cell_type": "code",
   "execution_count": null,
   "metadata": {},
   "outputs": [],
   "source": [
    "plot_multiclass_roc_pca(y_score_rfpca, X_test_pca, y_test, n_classes=3, figsize=(20, 6))"
   ]
  },
  {
   "cell_type": "markdown",
   "metadata": {},
   "source": [
    "### Hypertune parameters "
   ]
  },
  {
   "cell_type": "code",
   "execution_count": null,
   "metadata": {},
   "outputs": [],
   "source": [
    "rf_hyper = RandomForestClassifier(random_state=42, n_jobs=-1,class_weight = 'balanced')"
   ]
  },
  {
   "cell_type": "code",
   "execution_count": null,
   "metadata": {},
   "outputs": [],
   "source": [
    "# Create the parameter grid based on the results of random search \n",
    "params = {\n",
    "    'max_depth': [1, 2, 5, 10, 20],\n",
    "    'min_samples_leaf': [5, 10, 20, 50, 100],\n",
    "    'max_features': [2,3,4],\n",
    "    'n_estimators': [10, 30, 50, 100, 200]\n",
    "}\n",
    "\n",
    "## maximum depth is 1,2,5,10,20\n",
    "## minimum sample leaf is 5,10,20,50,100\n",
    "## maximum no. of features is 2,3,4\n",
    "## no. of trees is 10, 30,50,100,200"
   ]
  },
  {
   "cell_type": "code",
   "execution_count": null,
   "metadata": {},
   "outputs": [],
   "source": [
    "# Instantiate the grid search model\n",
    "grid_search = GridSearchCV(estimator= rf_hyper, param_grid=params, \n",
    "                          cv=4, n_jobs=-1, verbose=1, scoring = \"f1_micro\")"
   ]
  },
  {
   "cell_type": "code",
   "execution_count": null,
   "metadata": {},
   "outputs": [],
   "source": [
    "%%time\n",
    "grid_search.fit(X_train_pca,y_train)"
   ]
  },
  {
   "cell_type": "code",
   "execution_count": null,
   "metadata": {},
   "outputs": [],
   "source": [
    "rf_best = grid_search.best_estimator_ ## best estimator is assigned to rf_best"
   ]
  },
  {
   "cell_type": "code",
   "execution_count": null,
   "metadata": {},
   "outputs": [],
   "source": [
    "rf_best"
   ]
  },
  {
   "cell_type": "code",
   "execution_count": null,
   "metadata": {},
   "outputs": [],
   "source": [
    "cmatrixpca(rf_best)"
   ]
  },
  {
   "cell_type": "code",
   "execution_count": null,
   "metadata": {},
   "outputs": [],
   "source": [
    "y_score_rfpca_hyper = rf_best.fit(X_train_pca, y_train).predict_proba(X_test_pca)\n",
    "y_score_rfpca_hyper"
   ]
  },
  {
   "cell_type": "code",
   "execution_count": null,
   "metadata": {},
   "outputs": [],
   "source": [
    "plot_multiclass_roc_pca(y_score_rfpca_hyper, X_test_pca, y_test, n_classes=4, figsize=(20, 6))"
   ]
  },
  {
   "cell_type": "code",
   "execution_count": null,
   "metadata": {},
   "outputs": [],
   "source": []
  }
 ],
 "metadata": {
  "kernelspec": {
   "display_name": "Python 3",
   "language": "python",
   "name": "python3"
  },
  "language_info": {
   "codemirror_mode": {
    "name": "ipython",
    "version": 3
   },
   "file_extension": ".py",
   "mimetype": "text/x-python",
   "name": "python",
   "nbconvert_exporter": "python",
   "pygments_lexer": "ipython3",
   "version": "3.7.6"
  }
 },
 "nbformat": 4,
 "nbformat_minor": 4
}
