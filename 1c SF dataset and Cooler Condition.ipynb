{
 "cells": [
  {
   "cell_type": "markdown",
   "metadata": {},
   "source": [
    "Sources : https://analyticsindiamag.com/guide-to-multi-class-classification/\n",
    "\n",
    "https://colab.research.google.com/drive/19dQTVjbjhKQoqVj0v4x34fNTpc0co5cf?usp=sharing#scrollTo=pZug4ZF56w5e\n",
    "\n",
    "https://stackoverflow.com/questions/33547965/computing-auc-and-roc-curve-from-multi-class-data-in-scikit-learn-sklearn\n",
    "\n",
    "https://www.kaggle.com/willkoehrsen/intro-to-model-tuning-grid-and-random-search\n",
    "\n",
    "https://towardsdatascience.com/how-to-check-if-a-classification-model-is-overfitted-using-scikit-learn-148b6b19af8b"
   ]
  },
  {
   "cell_type": "markdown",
   "metadata": {},
   "source": [
    "### Importing the data"
   ]
  },
  {
   "cell_type": "markdown",
   "metadata": {},
   "source": [
    "2. [Extracting Median and EDA](#Extracting_Median_and_EDA)\n",
    "\n",
    "3. [Extracting_Minimum](#Extracting_Minimum)\n",
    "\n",
    "4. [Extracting_Maximum](#Extracting_Maximum)\n",
    "\n",
    "5. [Extracting_Variance](#Extracting_Variance)\n",
    "\n",
    "6. [Extracting_std](#Extracting_std)\n",
    "\n",
    "7. [Extracting_ptp](#Extracting_ptp)\n",
    "\n",
    "8. [Extracting_iqr](#Extracting_iqr)\n",
    "\n",
    "10. [Classification_models_for_Cooler_failure](#Classification_models_for_Cooler_failure)\n",
    "\n",
    "    10a. [Building_a_LR_for_Cooler_Condition](#Building_a_LR_for_Cooler_Condition)\n",
    "    "
   ]
  },
  {
   "cell_type": "markdown",
   "metadata": {},
   "source": [
    "Inducing noise : https://stackoverflow.com/questions/46093073/adding-gaussian-noise-to-a-dataset-of-floating-points-and-save-it-python"
   ]
  },
  {
   "cell_type": "code",
   "execution_count": 1,
   "metadata": {},
   "outputs": [],
   "source": [
    "import numpy as np \n",
    "import pandas as pd \n",
    "import seaborn as sns \n",
    "import matplotlib.pyplot as plt"
   ]
  },
  {
   "cell_type": "code",
   "execution_count": 2,
   "metadata": {},
   "outputs": [],
   "source": [
    "## importing the data\n",
    "## pressure sensors are imported as PS. There are around 6 pressure sensors. They are named as ps1, ps2, ps3, ps4, ps5, ps6. \n",
    "\n",
    "df_ps4 = pd.read_csv('PS4.txt', delimiter = '\\t', header = None)\n",
    "df_ps5 = pd.read_csv('PS5.txt', delimiter = '\\t', header = None)\n",
    "df_ps6 = pd.read_csv('PS6.txt', delimiter = '\\t', header = None)\n"
   ]
  },
  {
   "cell_type": "code",
   "execution_count": 3,
   "metadata": {},
   "outputs": [],
   "source": [
    "## cooling efficiency and cooling power are imported as ce and cp respectively. \n",
    "\n",
    "df_ce = pd.read_csv('CE.txt',delimiter = '\\t', header = None)\n",
    "df_cp = pd.read_csv('CP.txt', delimiter = '\\t', header = None)\n"
   ]
  },
  {
   "cell_type": "code",
   "execution_count": 4,
   "metadata": {},
   "outputs": [],
   "source": [
    "# temperature sensors are imported as ts. There are around 4 pressure sensors. They are named as ts1, ts2, ts3, ts4.\n",
    "\n",
    "df_ts1 = pd.read_csv('TS1.txt', delimiter = '\\t', header = None)\n",
    "df_ts2 = pd.read_csv('TS2.txt', delimiter = '\\t', header = None)\n",
    "df_ts3 = pd.read_csv('TS3.txt', delimiter = '\\t', header = None)\n",
    "df_ts4 = pd.read_csv('TS4.txt', delimiter = '\\t', header = None)\n"
   ]
  },
  {
   "cell_type": "code",
   "execution_count": 5,
   "metadata": {},
   "outputs": [],
   "source": [
    "# flow sensors are imported as fs. There are around 2 pressure sensors. They are named as fs1, fs2.\n",
    "\n",
    "\n",
    "df_fs2 = pd.read_csv('FS2.txt', delimiter = '\\t', header = None)\n"
   ]
  },
  {
   "cell_type": "code",
   "execution_count": 6,
   "metadata": {},
   "outputs": [],
   "source": [
    "# motor power sensors is imported as eps. \n",
    "# vibration sensors is imported as vs\n",
    "# efficiency power is imported as se\n",
    "\n",
    "\n",
    "df_vs1 = pd.read_csv('VS1.txt', delimiter = '\\t', header = None)\n",
    "\n"
   ]
  },
  {
   "cell_type": "code",
   "execution_count": 7,
   "metadata": {},
   "outputs": [],
   "source": [
    "## function for defining variables like ps1_1, ps1_2 for 17 sensors with different sampling rates\n",
    "\n",
    "def col(n, var):\n",
    "    l = []\n",
    "    for i in range(1,n):\n",
    "        temp = str(var) + '_' + '%d' %i\n",
    "        l.append(temp)\n",
    "    return l\n"
   ]
  },
  {
   "cell_type": "code",
   "execution_count": 8,
   "metadata": {},
   "outputs": [],
   "source": [
    "# \n",
    "\n",
    "df_ps4.columns = col(6001,'ps4')\n",
    "df_ps5.columns = col(6001,'ps5')\n",
    "df_ps6.columns = col(6001,'ps6')\n",
    "\n",
    "\n"
   ]
  },
  {
   "cell_type": "code",
   "execution_count": 9,
   "metadata": {},
   "outputs": [],
   "source": [
    "df_ts1.columns = col(61,'ts1')\n",
    "df_ts2.columns = col(61,'ts2')\n",
    "df_ts3.columns = col(61,'ts3')\n",
    "df_ts4.columns = col(61,'ts4')\n"
   ]
  },
  {
   "cell_type": "code",
   "execution_count": 10,
   "metadata": {},
   "outputs": [],
   "source": [
    "\n",
    "df_fs2.columns = col(601,'fs2')"
   ]
  },
  {
   "cell_type": "code",
   "execution_count": 11,
   "metadata": {},
   "outputs": [],
   "source": [
    "df_vs1.columns = col(61,'vs1')"
   ]
  },
  {
   "cell_type": "code",
   "execution_count": 12,
   "metadata": {},
   "outputs": [],
   "source": [
    "df_ce.columns = col(61,'ce')"
   ]
  },
  {
   "cell_type": "code",
   "execution_count": 13,
   "metadata": {},
   "outputs": [],
   "source": [
    "df_cp.columns = col(61,'cp')"
   ]
  },
  {
   "cell_type": "code",
   "execution_count": 14,
   "metadata": {},
   "outputs": [],
   "source": [
    "df_ps = pd.concat([df_ps4, df_ps5, df_ps6], axis = 1)\n",
    "df_ts = pd.concat([df_ts1, df_ts2, df_ts3, df_ts4], axis = 1)\n",
    "df_fs = pd.concat([df_fs2], axis = 1)\n",
    "df_vir = pd.concat([df_cp, df_ce, df_vs1], axis = 1)\n"
   ]
  },
  {
   "cell_type": "code",
   "execution_count": 15,
   "metadata": {},
   "outputs": [
    {
     "data": {
      "text/html": [
       "<div>\n",
       "<style scoped>\n",
       "    .dataframe tbody tr th:only-of-type {\n",
       "        vertical-align: middle;\n",
       "    }\n",
       "\n",
       "    .dataframe tbody tr th {\n",
       "        vertical-align: top;\n",
       "    }\n",
       "\n",
       "    .dataframe thead th {\n",
       "        text-align: right;\n",
       "    }\n",
       "</style>\n",
       "<table border=\"1\" class=\"dataframe\">\n",
       "  <thead>\n",
       "    <tr style=\"text-align: right;\">\n",
       "      <th></th>\n",
       "      <th>ps4_1</th>\n",
       "      <th>ps4_2</th>\n",
       "      <th>ps4_3</th>\n",
       "      <th>ps4_4</th>\n",
       "      <th>ps4_5</th>\n",
       "      <th>ps4_6</th>\n",
       "      <th>ps4_7</th>\n",
       "      <th>ps4_8</th>\n",
       "      <th>ps4_9</th>\n",
       "      <th>ps4_10</th>\n",
       "      <th>...</th>\n",
       "      <th>vs1_51</th>\n",
       "      <th>vs1_52</th>\n",
       "      <th>vs1_53</th>\n",
       "      <th>vs1_54</th>\n",
       "      <th>vs1_55</th>\n",
       "      <th>vs1_56</th>\n",
       "      <th>vs1_57</th>\n",
       "      <th>vs1_58</th>\n",
       "      <th>vs1_59</th>\n",
       "      <th>vs1_60</th>\n",
       "    </tr>\n",
       "  </thead>\n",
       "  <tbody>\n",
       "    <tr>\n",
       "      <th>0</th>\n",
       "      <td>0.0</td>\n",
       "      <td>0.0</td>\n",
       "      <td>0.0</td>\n",
       "      <td>0.0</td>\n",
       "      <td>0.0</td>\n",
       "      <td>0.0</td>\n",
       "      <td>0.0</td>\n",
       "      <td>0.0</td>\n",
       "      <td>0.0</td>\n",
       "      <td>0.0</td>\n",
       "      <td>...</td>\n",
       "      <td>0.554</td>\n",
       "      <td>0.552</td>\n",
       "      <td>0.545</td>\n",
       "      <td>0.553</td>\n",
       "      <td>0.553</td>\n",
       "      <td>0.539</td>\n",
       "      <td>0.544</td>\n",
       "      <td>0.545</td>\n",
       "      <td>0.535</td>\n",
       "      <td>0.543</td>\n",
       "    </tr>\n",
       "    <tr>\n",
       "      <th>1</th>\n",
       "      <td>0.0</td>\n",
       "      <td>0.0</td>\n",
       "      <td>0.0</td>\n",
       "      <td>0.0</td>\n",
       "      <td>0.0</td>\n",
       "      <td>0.0</td>\n",
       "      <td>0.0</td>\n",
       "      <td>0.0</td>\n",
       "      <td>0.0</td>\n",
       "      <td>0.0</td>\n",
       "      <td>...</td>\n",
       "      <td>0.555</td>\n",
       "      <td>0.547</td>\n",
       "      <td>0.548</td>\n",
       "      <td>0.544</td>\n",
       "      <td>0.536</td>\n",
       "      <td>0.542</td>\n",
       "      <td>0.540</td>\n",
       "      <td>0.533</td>\n",
       "      <td>0.531</td>\n",
       "      <td>0.534</td>\n",
       "    </tr>\n",
       "    <tr>\n",
       "      <th>2</th>\n",
       "      <td>0.0</td>\n",
       "      <td>0.0</td>\n",
       "      <td>0.0</td>\n",
       "      <td>0.0</td>\n",
       "      <td>0.0</td>\n",
       "      <td>0.0</td>\n",
       "      <td>0.0</td>\n",
       "      <td>0.0</td>\n",
       "      <td>0.0</td>\n",
       "      <td>0.0</td>\n",
       "      <td>...</td>\n",
       "      <td>0.543</td>\n",
       "      <td>0.544</td>\n",
       "      <td>0.543</td>\n",
       "      <td>0.554</td>\n",
       "      <td>0.544</td>\n",
       "      <td>0.544</td>\n",
       "      <td>0.545</td>\n",
       "      <td>0.544</td>\n",
       "      <td>0.530</td>\n",
       "      <td>0.534</td>\n",
       "    </tr>\n",
       "    <tr>\n",
       "      <th>3</th>\n",
       "      <td>0.0</td>\n",
       "      <td>0.0</td>\n",
       "      <td>0.0</td>\n",
       "      <td>0.0</td>\n",
       "      <td>0.0</td>\n",
       "      <td>0.0</td>\n",
       "      <td>0.0</td>\n",
       "      <td>0.0</td>\n",
       "      <td>0.0</td>\n",
       "      <td>0.0</td>\n",
       "      <td>...</td>\n",
       "      <td>0.549</td>\n",
       "      <td>0.538</td>\n",
       "      <td>0.553</td>\n",
       "      <td>0.543</td>\n",
       "      <td>0.553</td>\n",
       "      <td>0.555</td>\n",
       "      <td>0.544</td>\n",
       "      <td>0.543</td>\n",
       "      <td>0.543</td>\n",
       "      <td>0.542</td>\n",
       "    </tr>\n",
       "    <tr>\n",
       "      <th>4</th>\n",
       "      <td>0.0</td>\n",
       "      <td>0.0</td>\n",
       "      <td>0.0</td>\n",
       "      <td>0.0</td>\n",
       "      <td>0.0</td>\n",
       "      <td>0.0</td>\n",
       "      <td>0.0</td>\n",
       "      <td>0.0</td>\n",
       "      <td>0.0</td>\n",
       "      <td>0.0</td>\n",
       "      <td>...</td>\n",
       "      <td>0.546</td>\n",
       "      <td>0.546</td>\n",
       "      <td>0.544</td>\n",
       "      <td>0.552</td>\n",
       "      <td>0.539</td>\n",
       "      <td>0.540</td>\n",
       "      <td>0.549</td>\n",
       "      <td>0.542</td>\n",
       "      <td>0.533</td>\n",
       "      <td>0.537</td>\n",
       "    </tr>\n",
       "  </tbody>\n",
       "</table>\n",
       "<p>5 rows × 19020 columns</p>\n",
       "</div>"
      ],
      "text/plain": [
       "   ps4_1  ps4_2  ps4_3  ps4_4  ps4_5  ps4_6  ps4_7  ps4_8  ps4_9  ps4_10  ...  \\\n",
       "0    0.0    0.0    0.0    0.0    0.0    0.0    0.0    0.0    0.0     0.0  ...   \n",
       "1    0.0    0.0    0.0    0.0    0.0    0.0    0.0    0.0    0.0     0.0  ...   \n",
       "2    0.0    0.0    0.0    0.0    0.0    0.0    0.0    0.0    0.0     0.0  ...   \n",
       "3    0.0    0.0    0.0    0.0    0.0    0.0    0.0    0.0    0.0     0.0  ...   \n",
       "4    0.0    0.0    0.0    0.0    0.0    0.0    0.0    0.0    0.0     0.0  ...   \n",
       "\n",
       "   vs1_51  vs1_52  vs1_53  vs1_54  vs1_55  vs1_56  vs1_57  vs1_58  vs1_59  \\\n",
       "0   0.554   0.552   0.545   0.553   0.553   0.539   0.544   0.545   0.535   \n",
       "1   0.555   0.547   0.548   0.544   0.536   0.542   0.540   0.533   0.531   \n",
       "2   0.543   0.544   0.543   0.554   0.544   0.544   0.545   0.544   0.530   \n",
       "3   0.549   0.538   0.553   0.543   0.553   0.555   0.544   0.543   0.543   \n",
       "4   0.546   0.546   0.544   0.552   0.539   0.540   0.549   0.542   0.533   \n",
       "\n",
       "   vs1_60  \n",
       "0   0.543  \n",
       "1   0.534  \n",
       "2   0.534  \n",
       "3   0.542  \n",
       "4   0.537  \n",
       "\n",
       "[5 rows x 19020 columns]"
      ]
     },
     "execution_count": 15,
     "metadata": {},
     "output_type": "execute_result"
    }
   ],
   "source": [
    "df = pd.concat([df_ps, df_ts, df_fs, df_vir], axis = 1)\n",
    "df.head()"
   ]
  },
  {
   "cell_type": "markdown",
   "metadata": {},
   "source": [
    "#### Checking for clustering tendency in each Sensor\n",
    "#### Ideas for feature extraction and dimensionality reduction\n",
    "\n",
    "1. **Rolling window of size 60 and follow it with statistical measures**  \n",
    "2. **Use Python frameworks like tfresh and TSFEL**\n",
    "3. Make clusters using k-means and SVM \n",
    "4. **Rolling window of size 60 and follow it with PCA. Use this article for reference : https://www.analyticsvidhya.com/blog/2019/12/6-powerful-feature-engineering-techniques-time-series/**\n"
   ]
  },
  {
   "cell_type": "code",
   "execution_count": 16,
   "metadata": {},
   "outputs": [],
   "source": [
    "profile = pd.read_csv('profile.txt', delimiter = '\\t', header = None)\n",
    "profile.columns = [\"Cooler Condition\",\"Valve Condition\",\"Internal Pump Leakage\",\"Hydraulic Accumulator\",\"Stable Flag\"]"
   ]
  },
  {
   "cell_type": "code",
   "execution_count": 17,
   "metadata": {},
   "outputs": [
    {
     "data": {
      "text/html": [
       "<div>\n",
       "<style scoped>\n",
       "    .dataframe tbody tr th:only-of-type {\n",
       "        vertical-align: middle;\n",
       "    }\n",
       "\n",
       "    .dataframe tbody tr th {\n",
       "        vertical-align: top;\n",
       "    }\n",
       "\n",
       "    .dataframe thead th {\n",
       "        text-align: right;\n",
       "    }\n",
       "</style>\n",
       "<table border=\"1\" class=\"dataframe\">\n",
       "  <thead>\n",
       "    <tr style=\"text-align: right;\">\n",
       "      <th></th>\n",
       "      <th>ps4_1</th>\n",
       "      <th>ps4_2</th>\n",
       "      <th>ps4_3</th>\n",
       "      <th>ps4_4</th>\n",
       "      <th>ps4_5</th>\n",
       "      <th>ps4_6</th>\n",
       "      <th>ps4_7</th>\n",
       "      <th>ps4_8</th>\n",
       "      <th>ps4_9</th>\n",
       "      <th>ps4_10</th>\n",
       "      <th>...</th>\n",
       "      <th>vs1_57</th>\n",
       "      <th>vs1_58</th>\n",
       "      <th>vs1_59</th>\n",
       "      <th>vs1_60</th>\n",
       "      <th>Cooler Condition</th>\n",
       "      <th>Valve Condition</th>\n",
       "      <th>Internal Pump Leakage</th>\n",
       "      <th>Hydraulic Accumulator</th>\n",
       "      <th>Stable Flag</th>\n",
       "      <th>Cycle</th>\n",
       "    </tr>\n",
       "  </thead>\n",
       "  <tbody>\n",
       "    <tr>\n",
       "      <th>0</th>\n",
       "      <td>0.0</td>\n",
       "      <td>0.0</td>\n",
       "      <td>0.0</td>\n",
       "      <td>0.0</td>\n",
       "      <td>0.0</td>\n",
       "      <td>0.0</td>\n",
       "      <td>0.0</td>\n",
       "      <td>0.0</td>\n",
       "      <td>0.0</td>\n",
       "      <td>0.0</td>\n",
       "      <td>...</td>\n",
       "      <td>0.544</td>\n",
       "      <td>0.545</td>\n",
       "      <td>0.535</td>\n",
       "      <td>0.543</td>\n",
       "      <td>3</td>\n",
       "      <td>100</td>\n",
       "      <td>0</td>\n",
       "      <td>130</td>\n",
       "      <td>1</td>\n",
       "      <td>0</td>\n",
       "    </tr>\n",
       "    <tr>\n",
       "      <th>1</th>\n",
       "      <td>0.0</td>\n",
       "      <td>0.0</td>\n",
       "      <td>0.0</td>\n",
       "      <td>0.0</td>\n",
       "      <td>0.0</td>\n",
       "      <td>0.0</td>\n",
       "      <td>0.0</td>\n",
       "      <td>0.0</td>\n",
       "      <td>0.0</td>\n",
       "      <td>0.0</td>\n",
       "      <td>...</td>\n",
       "      <td>0.540</td>\n",
       "      <td>0.533</td>\n",
       "      <td>0.531</td>\n",
       "      <td>0.534</td>\n",
       "      <td>3</td>\n",
       "      <td>100</td>\n",
       "      <td>0</td>\n",
       "      <td>130</td>\n",
       "      <td>1</td>\n",
       "      <td>1</td>\n",
       "    </tr>\n",
       "    <tr>\n",
       "      <th>2</th>\n",
       "      <td>0.0</td>\n",
       "      <td>0.0</td>\n",
       "      <td>0.0</td>\n",
       "      <td>0.0</td>\n",
       "      <td>0.0</td>\n",
       "      <td>0.0</td>\n",
       "      <td>0.0</td>\n",
       "      <td>0.0</td>\n",
       "      <td>0.0</td>\n",
       "      <td>0.0</td>\n",
       "      <td>...</td>\n",
       "      <td>0.545</td>\n",
       "      <td>0.544</td>\n",
       "      <td>0.530</td>\n",
       "      <td>0.534</td>\n",
       "      <td>3</td>\n",
       "      <td>100</td>\n",
       "      <td>0</td>\n",
       "      <td>130</td>\n",
       "      <td>1</td>\n",
       "      <td>2</td>\n",
       "    </tr>\n",
       "    <tr>\n",
       "      <th>3</th>\n",
       "      <td>0.0</td>\n",
       "      <td>0.0</td>\n",
       "      <td>0.0</td>\n",
       "      <td>0.0</td>\n",
       "      <td>0.0</td>\n",
       "      <td>0.0</td>\n",
       "      <td>0.0</td>\n",
       "      <td>0.0</td>\n",
       "      <td>0.0</td>\n",
       "      <td>0.0</td>\n",
       "      <td>...</td>\n",
       "      <td>0.544</td>\n",
       "      <td>0.543</td>\n",
       "      <td>0.543</td>\n",
       "      <td>0.542</td>\n",
       "      <td>3</td>\n",
       "      <td>100</td>\n",
       "      <td>0</td>\n",
       "      <td>130</td>\n",
       "      <td>1</td>\n",
       "      <td>3</td>\n",
       "    </tr>\n",
       "    <tr>\n",
       "      <th>4</th>\n",
       "      <td>0.0</td>\n",
       "      <td>0.0</td>\n",
       "      <td>0.0</td>\n",
       "      <td>0.0</td>\n",
       "      <td>0.0</td>\n",
       "      <td>0.0</td>\n",
       "      <td>0.0</td>\n",
       "      <td>0.0</td>\n",
       "      <td>0.0</td>\n",
       "      <td>0.0</td>\n",
       "      <td>...</td>\n",
       "      <td>0.549</td>\n",
       "      <td>0.542</td>\n",
       "      <td>0.533</td>\n",
       "      <td>0.537</td>\n",
       "      <td>3</td>\n",
       "      <td>100</td>\n",
       "      <td>0</td>\n",
       "      <td>130</td>\n",
       "      <td>1</td>\n",
       "      <td>4</td>\n",
       "    </tr>\n",
       "  </tbody>\n",
       "</table>\n",
       "<p>5 rows × 19026 columns</p>\n",
       "</div>"
      ],
      "text/plain": [
       "   ps4_1  ps4_2  ps4_3  ps4_4  ps4_5  ps4_6  ps4_7  ps4_8  ps4_9  ps4_10  ...  \\\n",
       "0    0.0    0.0    0.0    0.0    0.0    0.0    0.0    0.0    0.0     0.0  ...   \n",
       "1    0.0    0.0    0.0    0.0    0.0    0.0    0.0    0.0    0.0     0.0  ...   \n",
       "2    0.0    0.0    0.0    0.0    0.0    0.0    0.0    0.0    0.0     0.0  ...   \n",
       "3    0.0    0.0    0.0    0.0    0.0    0.0    0.0    0.0    0.0     0.0  ...   \n",
       "4    0.0    0.0    0.0    0.0    0.0    0.0    0.0    0.0    0.0     0.0  ...   \n",
       "\n",
       "   vs1_57  vs1_58  vs1_59  vs1_60  Cooler Condition  Valve Condition  \\\n",
       "0   0.544   0.545   0.535   0.543                 3              100   \n",
       "1   0.540   0.533   0.531   0.534                 3              100   \n",
       "2   0.545   0.544   0.530   0.534                 3              100   \n",
       "3   0.544   0.543   0.543   0.542                 3              100   \n",
       "4   0.549   0.542   0.533   0.537                 3              100   \n",
       "\n",
       "   Internal Pump Leakage  Hydraulic Accumulator  Stable Flag  Cycle  \n",
       "0                      0                    130            1      0  \n",
       "1                      0                    130            1      1  \n",
       "2                      0                    130            1      2  \n",
       "3                      0                    130            1      3  \n",
       "4                      0                    130            1      4  \n",
       "\n",
       "[5 rows x 19026 columns]"
      ]
     },
     "execution_count": 17,
     "metadata": {},
     "output_type": "execute_result"
    }
   ],
   "source": [
    "Final = pd.concat([df, profile], axis = 1)\n",
    "Final['Cycle'] = np.arange(len(Final))\n",
    "Final.head()"
   ]
  },
  {
   "cell_type": "markdown",
   "metadata": {},
   "source": [
    "# Statistical features"
   ]
  },
  {
   "cell_type": "markdown",
   "metadata": {},
   "source": [
    "<a id = 'Extracting_Median_and_EDA'></a>\n",
    "\n",
    "## Extracting Median"
   ]
  },
  {
   "cell_type": "code",
   "execution_count": 18,
   "metadata": {},
   "outputs": [],
   "source": [
    "def median_conversion(df):\n",
    "    df1 = pd.DataFrame()\n",
    "    df1 = df.median(axis=1) ## AVERAGE ALONG THE ROW\n",
    "    return df1"
   ]
  },
  {
   "cell_type": "code",
   "execution_count": 19,
   "metadata": {},
   "outputs": [],
   "source": [
    "\n",
    "PS4_median = pd.DataFrame(median_conversion(df_ps4))\n",
    "PS4_median.columns = ['PS4_median']\n",
    "\n",
    "PS5_median = pd.DataFrame(median_conversion(df_ps5))\n",
    "PS5_median.columns = ['PS5_median']\n",
    "\n",
    "PS6_median = pd.DataFrame(median_conversion(df_ps6))\n",
    "PS6_median.columns = ['PS6_median']\n",
    "\n",
    "TS1_median = pd.DataFrame(median_conversion(df_ts1))\n",
    "TS1_median.columns = ['TS1_median']\n",
    "\n",
    "TS2_median = pd.DataFrame(median_conversion(df_ts2))\n",
    "TS2_median.columns = ['TS2_median']\n",
    "\n",
    "TS3_median = pd.DataFrame(median_conversion(df_ts3))\n",
    "TS3_median.columns = ['TS3_median']\n",
    "\n",
    "TS4_median = pd.DataFrame(median_conversion(df_ts4))\n",
    "TS4_median.columns = ['TS4_median']\n",
    "\n",
    "\n",
    "FS2_median = pd.DataFrame(median_conversion(df_fs2))\n",
    "FS2_median.columns = ['FS2_median']\n",
    "\n",
    "\n",
    "VS1_median = pd.DataFrame(median_conversion(df_vs1))\n",
    "VS1_median.columns = ['VS1_median']\n",
    "\n",
    "CE1_median = pd.DataFrame(median_conversion(df_ce))\n",
    "CE1_median.columns = ['CE1_median']\n",
    "\n",
    "CP1_median = pd.DataFrame(median_conversion(df_cp))\n",
    "CP1_median.columns = ['CP1_median']\n"
   ]
  },
  {
   "cell_type": "code",
   "execution_count": 20,
   "metadata": {},
   "outputs": [],
   "source": [
    "Median = pd.concat([PS4_median,PS5_median,PS6_median,TS1_median,TS2_median,TS3_median,TS4_median,FS2_median,\n",
    "                    VS1_median,CE1_median,CP1_median],axis = 1)"
   ]
  },
  {
   "cell_type": "markdown",
   "metadata": {},
   "source": [
    "<a id = 'Extracting_Variance'></a>\n",
    "\n",
    "## Extracting Variance"
   ]
  },
  {
   "cell_type": "code",
   "execution_count": 21,
   "metadata": {},
   "outputs": [],
   "source": [
    "def var_conversion(df):\n",
    "    df1 = pd.DataFrame()\n",
    "    df1 = df.var(axis=1) ## AVERAGE ALONG |THE ROW\n",
    "    return df1"
   ]
  },
  {
   "cell_type": "code",
   "execution_count": 22,
   "metadata": {},
   "outputs": [],
   "source": [
    "PS4_var = pd.DataFrame(var_conversion(df_ps4))\n",
    "PS4_var.columns = ['PS4_var']\n",
    "\n",
    "PS5_var = pd.DataFrame(var_conversion(df_ps5))\n",
    "PS5_var.columns = ['PS5_var']\n",
    "\n",
    "PS6_var = pd.DataFrame(var_conversion(df_ps6))\n",
    "PS6_var.columns = ['PS6_var']\n",
    "\n",
    "TS1_var = pd.DataFrame(var_conversion(df_ts1))\n",
    "TS1_var.columns = ['TS1_var']\n",
    "\n",
    "TS2_var = pd.DataFrame(var_conversion(df_ts2))\n",
    "TS2_var.columns = ['TS2_var']\n",
    "\n",
    "TS3_var = pd.DataFrame(var_conversion(df_ts3))\n",
    "TS3_var.columns = ['TS3_var']\n",
    "\n",
    "TS4_var = pd.DataFrame(var_conversion(df_ts4))\n",
    "TS4_var.columns = ['TS4_var']\n",
    "\n",
    "\n",
    "FS2_var = pd.DataFrame(var_conversion(df_fs2))\n",
    "FS2_var.columns = ['FS2_var']\n",
    "\n",
    "VS1_var = pd.DataFrame(var_conversion(df_vs1))\n",
    "VS1_var.columns = ['VS1_var']\n",
    "\n",
    "CE1_var = pd.DataFrame(var_conversion(df_ce))\n",
    "CE1_var.columns = ['CE1_var']\n",
    "\n",
    "CP1_var = pd.DataFrame(var_conversion(df_cp))\n",
    "CP1_var.columns = ['CP1_var']\n",
    "\n",
    "Var = pd.concat([PS4_var,PS5_var,PS6_var,TS1_var,TS2_var,TS3_var,TS4_var,\n",
    "                 FS2_var,VS1_var,CE1_var,CP1_var],axis = 1)\n"
   ]
  },
  {
   "cell_type": "markdown",
   "metadata": {},
   "source": [
    "<a id = 'Extracting_std'></a>\n",
    "\n",
    "## Extracting Standard Deviation"
   ]
  },
  {
   "cell_type": "code",
   "execution_count": 23,
   "metadata": {},
   "outputs": [],
   "source": [
    "def std_conversion(df):\n",
    "    df1 = pd.DataFrame()\n",
    "    df1 = df.std(axis=1) ## AVERAGE ALONG THE ROW\n",
    "    return df1"
   ]
  },
  {
   "cell_type": "code",
   "execution_count": 24,
   "metadata": {},
   "outputs": [],
   "source": [
    "PS4_std = pd.DataFrame(std_conversion(df_ps4))\n",
    "PS4_std.columns = ['PS4_std']\n",
    "\n",
    "PS5_std = pd.DataFrame(std_conversion(df_ps5))\n",
    "PS5_std.columns = ['PS5_std']\n",
    "\n",
    "PS6_std = pd.DataFrame(std_conversion(df_ps6))\n",
    "PS6_std.columns = ['PS6_std']\n",
    "\n",
    "TS1_std = pd.DataFrame(std_conversion(df_ts1))\n",
    "TS1_std.columns = ['TS1_std']\n",
    "\n",
    "TS2_std = pd.DataFrame(std_conversion(df_ts2))\n",
    "TS2_std.columns = ['TS2_std']\n",
    "\n",
    "TS3_std = pd.DataFrame(std_conversion(df_ts3))\n",
    "TS3_std.columns = ['TS3_std']\n",
    "\n",
    "TS4_std = pd.DataFrame(std_conversion(df_ts4))\n",
    "TS4_std.columns = ['TS4_std']\n",
    "\n",
    "FS2_std = pd.DataFrame(std_conversion(df_fs2))\n",
    "FS2_std.columns = ['FS2_std']\n",
    "\n",
    "VS1_std = pd.DataFrame(std_conversion(df_vs1))\n",
    "VS1_std.columns = ['VS1_std']\n",
    "\n",
    "CE1_std = pd.DataFrame(std_conversion(df_ce))\n",
    "CE1_std.columns = ['CE1_std']\n",
    "\n",
    "CP1_std = pd.DataFrame(std_conversion(df_cp))\n",
    "CP1_std.columns = ['CP1_std']\n",
    "\n",
    "Std = pd.concat([PS4_std,PS5_std,PS6_std,TS1_std,TS2_std,TS3_std,TS4_std,\n",
    "                 FS2_std,VS1_std,CE1_std,CP1_std],axis = 1)\n"
   ]
  },
  {
   "cell_type": "markdown",
   "metadata": {},
   "source": [
    "<a id = 'Extracting_ptp'></a>\n",
    "\n",
    "## Extracting MAX"
   ]
  },
  {
   "cell_type": "code",
   "execution_count": 25,
   "metadata": {},
   "outputs": [],
   "source": [
    "def max_con(df):\n",
    "    df1 = pd.DataFrame()\n",
    "    df1 = df.max(axis=1) ## AVERAGE ALONG THE ROW\n",
    "    return df1"
   ]
  },
  {
   "cell_type": "code",
   "execution_count": 26,
   "metadata": {},
   "outputs": [],
   "source": [
    "PS4_ptp = pd.DataFrame(max_con(df_ps4))\n",
    "PS4_ptp.columns = ['PS4_ptp']\n",
    "\n",
    "PS5_ptp = pd.DataFrame(max_con(df_ps5))\n",
    "PS5_ptp.columns = ['PS5_ptp']\n",
    "\n",
    "PS6_ptp = pd.DataFrame(max_con(df_ps6))\n",
    "PS6_ptp.columns = ['PS6_ptp']\n",
    "\n",
    "TS1_ptp = pd.DataFrame(max_con(df_ts1))\n",
    "TS1_ptp.columns = ['TS1_ptp']\n",
    "\n",
    "TS2_ptp = pd.DataFrame(max_con(df_ts2))\n",
    "TS2_ptp.columns = ['TS2_ptp']\n",
    "\n",
    "TS3_ptp = pd.DataFrame(max_con(df_ts3))\n",
    "TS3_ptp.columns = ['TS3_ptp']\n",
    "\n",
    "TS4_ptp = pd.DataFrame(max_con(df_ts4))\n",
    "TS4_ptp.columns = ['TS4_ptp']\n",
    "\n",
    "FS2_ptp = pd.DataFrame(max_con(df_fs2))\n",
    "FS2_ptp.columns = ['FS2_ptp']\n",
    "\n",
    "VS1_ptp = pd.DataFrame(max_con(df_vs1))\n",
    "VS1_ptp.columns = ['VS1_ptp']\n",
    "\n",
    "CE1_ptp = pd.DataFrame(max_con(df_ce))\n",
    "CE1_ptp.columns = ['CE1_ptp']\n",
    "\n",
    "CP1_ptp = pd.DataFrame(max_con(df_cp))\n",
    "CP1_ptp.columns = ['CP1_ptp']\n",
    "\n",
    "\n",
    "Max = pd.concat([PS4_ptp,PS5_ptp,PS6_ptp,TS1_ptp,TS2_ptp,TS3_ptp,TS4_ptp,\n",
    "                 FS2_ptp,VS1_ptp,CE1_ptp,CP1_ptp],axis = 1)"
   ]
  },
  {
   "cell_type": "code",
   "execution_count": 27,
   "metadata": {},
   "outputs": [],
   "source": [
    "statsfinal = pd.concat([Median, Std, Var, Max], axis = 1)"
   ]
  },
  {
   "cell_type": "code",
   "execution_count": 28,
   "metadata": {
    "scrolled": true
   },
   "outputs": [
    {
     "data": {
      "text/html": [
       "<div>\n",
       "<style scoped>\n",
       "    .dataframe tbody tr th:only-of-type {\n",
       "        vertical-align: middle;\n",
       "    }\n",
       "\n",
       "    .dataframe tbody tr th {\n",
       "        vertical-align: top;\n",
       "    }\n",
       "\n",
       "    .dataframe thead th {\n",
       "        text-align: right;\n",
       "    }\n",
       "</style>\n",
       "<table border=\"1\" class=\"dataframe\">\n",
       "  <thead>\n",
       "    <tr style=\"text-align: right;\">\n",
       "      <th></th>\n",
       "      <th>PS4_median</th>\n",
       "      <th>PS5_median</th>\n",
       "      <th>PS6_median</th>\n",
       "      <th>TS1_median</th>\n",
       "      <th>TS2_median</th>\n",
       "      <th>TS3_median</th>\n",
       "      <th>TS4_median</th>\n",
       "      <th>FS2_median</th>\n",
       "      <th>VS1_median</th>\n",
       "      <th>CE1_median</th>\n",
       "      <th>...</th>\n",
       "      <th>PS5_ptp</th>\n",
       "      <th>PS6_ptp</th>\n",
       "      <th>TS1_ptp</th>\n",
       "      <th>TS2_ptp</th>\n",
       "      <th>TS3_ptp</th>\n",
       "      <th>TS4_ptp</th>\n",
       "      <th>FS2_ptp</th>\n",
       "      <th>VS1_ptp</th>\n",
       "      <th>CE1_ptp</th>\n",
       "      <th>CP1_ptp</th>\n",
       "    </tr>\n",
       "  </thead>\n",
       "  <tbody>\n",
       "    <tr>\n",
       "      <th>0</th>\n",
       "      <td>0.0</td>\n",
       "      <td>9.844</td>\n",
       "      <td>9.733</td>\n",
       "      <td>35.5720</td>\n",
       "      <td>40.9630</td>\n",
       "      <td>38.4960</td>\n",
       "      <td>31.576</td>\n",
       "      <td>10.327</td>\n",
       "      <td>0.5770</td>\n",
       "      <td>40.6755</td>\n",
       "      <td>...</td>\n",
       "      <td>10.016</td>\n",
       "      <td>9.887</td>\n",
       "      <td>36.152</td>\n",
       "      <td>41.250</td>\n",
       "      <td>38.613</td>\n",
       "      <td>33.594</td>\n",
       "      <td>10.446</td>\n",
       "      <td>0.624</td>\n",
       "      <td>47.438</td>\n",
       "      <td>2.188</td>\n",
       "    </tr>\n",
       "    <tr>\n",
       "      <th>1</th>\n",
       "      <td>0.0</td>\n",
       "      <td>9.632</td>\n",
       "      <td>9.526</td>\n",
       "      <td>36.7675</td>\n",
       "      <td>41.5180</td>\n",
       "      <td>38.9845</td>\n",
       "      <td>34.553</td>\n",
       "      <td>10.403</td>\n",
       "      <td>0.5595</td>\n",
       "      <td>25.3855</td>\n",
       "      <td>...</td>\n",
       "      <td>9.745</td>\n",
       "      <td>9.637</td>\n",
       "      <td>37.488</td>\n",
       "      <td>42.105</td>\n",
       "      <td>39.254</td>\n",
       "      <td>35.148</td>\n",
       "      <td>10.453</td>\n",
       "      <td>0.626</td>\n",
       "      <td>29.208</td>\n",
       "      <td>1.414</td>\n",
       "    </tr>\n",
       "    <tr>\n",
       "      <th>2</th>\n",
       "      <td>0.0</td>\n",
       "      <td>9.528</td>\n",
       "      <td>9.425</td>\n",
       "      <td>38.0235</td>\n",
       "      <td>42.4235</td>\n",
       "      <td>39.6270</td>\n",
       "      <td>35.635</td>\n",
       "      <td>10.367</td>\n",
       "      <td>0.5620</td>\n",
       "      <td>22.1040</td>\n",
       "      <td>...</td>\n",
       "      <td>9.640</td>\n",
       "      <td>9.536</td>\n",
       "      <td>38.621</td>\n",
       "      <td>43.039</td>\n",
       "      <td>40.062</td>\n",
       "      <td>36.141</td>\n",
       "      <td>10.443</td>\n",
       "      <td>0.662</td>\n",
       "      <td>23.554</td>\n",
       "      <td>1.159</td>\n",
       "    </tr>\n",
       "    <tr>\n",
       "      <th>3</th>\n",
       "      <td>0.0</td>\n",
       "      <td>9.436</td>\n",
       "      <td>9.335</td>\n",
       "      <td>39.0550</td>\n",
       "      <td>43.3650</td>\n",
       "      <td>40.3420</td>\n",
       "      <td>36.635</td>\n",
       "      <td>10.302</td>\n",
       "      <td>0.5550</td>\n",
       "      <td>20.4805</td>\n",
       "      <td>...</td>\n",
       "      <td>9.535</td>\n",
       "      <td>9.431</td>\n",
       "      <td>39.473</td>\n",
       "      <td>43.988</td>\n",
       "      <td>40.934</td>\n",
       "      <td>36.988</td>\n",
       "      <td>10.382</td>\n",
       "      <td>0.645</td>\n",
       "      <td>21.565</td>\n",
       "      <td>1.107</td>\n",
       "    </tr>\n",
       "    <tr>\n",
       "      <th>4</th>\n",
       "      <td>0.0</td>\n",
       "      <td>9.358</td>\n",
       "      <td>9.260</td>\n",
       "      <td>39.9670</td>\n",
       "      <td>44.3355</td>\n",
       "      <td>41.3400</td>\n",
       "      <td>37.439</td>\n",
       "      <td>10.236</td>\n",
       "      <td>0.5760</td>\n",
       "      <td>19.7985</td>\n",
       "      <td>...</td>\n",
       "      <td>9.443</td>\n",
       "      <td>9.342</td>\n",
       "      <td>40.391</td>\n",
       "      <td>44.887</td>\n",
       "      <td>41.777</td>\n",
       "      <td>37.781</td>\n",
       "      <td>10.312</td>\n",
       "      <td>0.660</td>\n",
       "      <td>20.460</td>\n",
       "      <td>1.106</td>\n",
       "    </tr>\n",
       "  </tbody>\n",
       "</table>\n",
       "<p>5 rows × 44 columns</p>\n",
       "</div>"
      ],
      "text/plain": [
       "   PS4_median  PS5_median  PS6_median  TS1_median  TS2_median  TS3_median  \\\n",
       "0         0.0       9.844       9.733     35.5720     40.9630     38.4960   \n",
       "1         0.0       9.632       9.526     36.7675     41.5180     38.9845   \n",
       "2         0.0       9.528       9.425     38.0235     42.4235     39.6270   \n",
       "3         0.0       9.436       9.335     39.0550     43.3650     40.3420   \n",
       "4         0.0       9.358       9.260     39.9670     44.3355     41.3400   \n",
       "\n",
       "   TS4_median  FS2_median  VS1_median  CE1_median  ...  PS5_ptp  PS6_ptp  \\\n",
       "0      31.576      10.327      0.5770     40.6755  ...   10.016    9.887   \n",
       "1      34.553      10.403      0.5595     25.3855  ...    9.745    9.637   \n",
       "2      35.635      10.367      0.5620     22.1040  ...    9.640    9.536   \n",
       "3      36.635      10.302      0.5550     20.4805  ...    9.535    9.431   \n",
       "4      37.439      10.236      0.5760     19.7985  ...    9.443    9.342   \n",
       "\n",
       "   TS1_ptp  TS2_ptp  TS3_ptp  TS4_ptp  FS2_ptp  VS1_ptp  CE1_ptp  CP1_ptp  \n",
       "0   36.152   41.250   38.613   33.594   10.446    0.624   47.438    2.188  \n",
       "1   37.488   42.105   39.254   35.148   10.453    0.626   29.208    1.414  \n",
       "2   38.621   43.039   40.062   36.141   10.443    0.662   23.554    1.159  \n",
       "3   39.473   43.988   40.934   36.988   10.382    0.645   21.565    1.107  \n",
       "4   40.391   44.887   41.777   37.781   10.312    0.660   20.460    1.106  \n",
       "\n",
       "[5 rows x 44 columns]"
      ]
     },
     "execution_count": 28,
     "metadata": {},
     "output_type": "execute_result"
    }
   ],
   "source": [
    "statsfinal.head()"
   ]
  },
  {
   "cell_type": "markdown",
   "metadata": {},
   "source": [
    "## Extracting MIN"
   ]
  },
  {
   "cell_type": "code",
   "execution_count": 29,
   "metadata": {},
   "outputs": [],
   "source": [
    "def min_con(df):\n",
    "    df1 = pd.DataFrame()\n",
    "    df1 = df.min(axis=1) ## AVERAGE ALONG THE ROW\n",
    "    return df1"
   ]
  },
  {
   "cell_type": "code",
   "execution_count": 30,
   "metadata": {},
   "outputs": [],
   "source": [
    "PS4_min = pd.DataFrame(min_con(df_ps4))\n",
    "PS4_min.columns = ['PS4_min']\n",
    "\n",
    "PS5_min = pd.DataFrame(min_con(df_ps5))\n",
    "PS5_min.columns = ['PS5_min']\n",
    "\n",
    "PS6_min = pd.DataFrame(min_con(df_ps6))\n",
    "PS6_min.columns = ['PS6_min']\n",
    "\n",
    "TS1_min = pd.DataFrame(min_con(df_ts1))\n",
    "TS1_min.columns = ['TS1_min']\n",
    "\n",
    "TS2_min = pd.DataFrame(min_con(df_ts2))\n",
    "TS2_min.columns = ['TS2_min']\n",
    "\n",
    "TS3_min = pd.DataFrame(min_con(df_ts3))\n",
    "TS3_min.columns = ['TS3_min']\n",
    "\n",
    "TS4_min = pd.DataFrame(min_con(df_ts4))\n",
    "TS4_min.columns = ['TS4_min']\n",
    "\n",
    "FS2_min = pd.DataFrame(min_con(df_fs2))\n",
    "FS2_min.columns = ['FS2_min']\n",
    "\n",
    "VS1_min = pd.DataFrame(min_con(df_vs1))\n",
    "VS1_min.columns = ['VS1_min']\n",
    "\n",
    "CE1_min = pd.DataFrame(min_con(df_ce))\n",
    "CE1_min.columns = ['CE1_min']\n",
    "\n",
    "CP1_min = pd.DataFrame(min_con(df_cp))\n",
    "CP1_min.columns = ['CP1_min']\n",
    "\n",
    "\n",
    "Min = pd.concat([PS4_min,PS5_min,PS6_min,TS1_min,TS2_min,TS3_min,TS4_min,\n",
    "                 FS2_min,VS1_min,CE1_min,CP1_min],axis = 1)"
   ]
  },
  {
   "cell_type": "markdown",
   "metadata": {},
   "source": [
    "<a id = 'Extracting_iqr'></a>\n",
    "\n",
    "## Extracting Interquartile Range"
   ]
  },
  {
   "cell_type": "code",
   "execution_count": 31,
   "metadata": {},
   "outputs": [],
   "source": [
    "def iqr_conversion(df):\n",
    "    df1 = pd.DataFrame()\n",
    "    q3, q1 = np.percentile(df, [75 ,25])\n",
    "    iqr = q3 - q1\n",
    "    df1 = df.max(axis=1)-df.min(axis=1) ## AVERAGE ALONG THE ROW\n",
    "    return df1"
   ]
  },
  {
   "cell_type": "code",
   "execution_count": 32,
   "metadata": {},
   "outputs": [],
   "source": [
    "\n",
    "PS4_iqr = pd.DataFrame(iqr_conversion(df_ps4))\n",
    "PS4_iqr.columns = ['PS4_iqr']\n",
    "\n",
    "PS5_iqr = pd.DataFrame(iqr_conversion(df_ps5))\n",
    "PS5_iqr.columns = ['PS5_iqr']\n",
    "\n",
    "PS6_iqr = pd.DataFrame(iqr_conversion(df_ps6))\n",
    "PS6_iqr.columns = ['PS6_iqr']\n",
    "\n",
    "TS1_iqr = pd.DataFrame(iqr_conversion(df_ts1))\n",
    "TS1_iqr.columns = ['TS1_iqr']\n",
    "\n",
    "TS2_iqr = pd.DataFrame(iqr_conversion(df_ts2))\n",
    "TS2_iqr.columns = ['TS2_iqr']\n",
    "\n",
    "TS3_iqr = pd.DataFrame(iqr_conversion(df_ts3))\n",
    "TS3_iqr.columns = ['TS3_iqr']\n",
    "\n",
    "TS4_iqr = pd.DataFrame(iqr_conversion(df_ts4))\n",
    "TS4_iqr.columns = ['TS4_iqr']\n",
    "\n",
    "\n",
    "FS2_iqr = pd.DataFrame(iqr_conversion(df_fs2))\n",
    "FS2_iqr.columns = ['FS2_iqr']\n",
    "\n",
    "\n",
    "VS1_iqr = pd.DataFrame(iqr_conversion(df_vs1))\n",
    "VS1_iqr.columns = ['VS1_iqr']\n",
    "\n",
    "CE1_iqr = pd.DataFrame(iqr_conversion(df_ce))\n",
    "CE1_iqr.columns = ['CE1_iqr']\n",
    "\n",
    "CP1_iqr = pd.DataFrame(iqr_conversion(df_cp))\n",
    "CP1_iqr.columns = ['CP1_iqr']\n",
    "\n",
    "\n",
    "Iqr = pd.concat([PS4_iqr,PS5_iqr,PS6_iqr,TS1_iqr,TS2_iqr,TS3_iqr,TS4_iqr,\n",
    "                 FS2_iqr,VS1_iqr,CE1_iqr,CP1_iqr],axis = 1)\n"
   ]
  },
  {
   "cell_type": "code",
   "execution_count": 33,
   "metadata": {},
   "outputs": [],
   "source": [
    "statsfinal = pd.concat([statsfinal, Max, Min, Iqr],axis = 1)"
   ]
  },
  {
   "cell_type": "code",
   "execution_count": 34,
   "metadata": {
    "scrolled": true
   },
   "outputs": [
    {
     "data": {
      "text/html": [
       "<div>\n",
       "<style scoped>\n",
       "    .dataframe tbody tr th:only-of-type {\n",
       "        vertical-align: middle;\n",
       "    }\n",
       "\n",
       "    .dataframe tbody tr th {\n",
       "        vertical-align: top;\n",
       "    }\n",
       "\n",
       "    .dataframe thead th {\n",
       "        text-align: right;\n",
       "    }\n",
       "</style>\n",
       "<table border=\"1\" class=\"dataframe\">\n",
       "  <thead>\n",
       "    <tr style=\"text-align: right;\">\n",
       "      <th></th>\n",
       "      <th>PS4_median</th>\n",
       "      <th>PS5_median</th>\n",
       "      <th>PS6_median</th>\n",
       "      <th>TS1_median</th>\n",
       "      <th>TS2_median</th>\n",
       "      <th>TS3_median</th>\n",
       "      <th>TS4_median</th>\n",
       "      <th>FS2_median</th>\n",
       "      <th>VS1_median</th>\n",
       "      <th>CE1_median</th>\n",
       "      <th>...</th>\n",
       "      <th>PS5_iqr</th>\n",
       "      <th>PS6_iqr</th>\n",
       "      <th>TS1_iqr</th>\n",
       "      <th>TS2_iqr</th>\n",
       "      <th>TS3_iqr</th>\n",
       "      <th>TS4_iqr</th>\n",
       "      <th>FS2_iqr</th>\n",
       "      <th>VS1_iqr</th>\n",
       "      <th>CE1_iqr</th>\n",
       "      <th>CP1_iqr</th>\n",
       "    </tr>\n",
       "  </thead>\n",
       "  <tbody>\n",
       "    <tr>\n",
       "      <th>0</th>\n",
       "      <td>0.0</td>\n",
       "      <td>9.844</td>\n",
       "      <td>9.733</td>\n",
       "      <td>35.5720</td>\n",
       "      <td>40.9630</td>\n",
       "      <td>38.4960</td>\n",
       "      <td>31.576</td>\n",
       "      <td>10.327</td>\n",
       "      <td>0.5770</td>\n",
       "      <td>40.6755</td>\n",
       "      <td>...</td>\n",
       "      <td>0.335</td>\n",
       "      <td>0.319</td>\n",
       "      <td>0.996</td>\n",
       "      <td>0.477</td>\n",
       "      <td>0.297</td>\n",
       "      <td>3.231</td>\n",
       "      <td>0.298</td>\n",
       "      <td>0.092</td>\n",
       "      <td>18.572</td>\n",
       "      <td>0.805</td>\n",
       "    </tr>\n",
       "    <tr>\n",
       "      <th>1</th>\n",
       "      <td>0.0</td>\n",
       "      <td>9.632</td>\n",
       "      <td>9.526</td>\n",
       "      <td>36.7675</td>\n",
       "      <td>41.5180</td>\n",
       "      <td>38.9845</td>\n",
       "      <td>34.553</td>\n",
       "      <td>10.403</td>\n",
       "      <td>0.5595</td>\n",
       "      <td>25.3855</td>\n",
       "      <td>...</td>\n",
       "      <td>0.188</td>\n",
       "      <td>0.183</td>\n",
       "      <td>1.840</td>\n",
       "      <td>1.074</td>\n",
       "      <td>0.586</td>\n",
       "      <td>1.500</td>\n",
       "      <td>0.101</td>\n",
       "      <td>0.102</td>\n",
       "      <td>5.888</td>\n",
       "      <td>0.267</td>\n",
       "    </tr>\n",
       "    <tr>\n",
       "      <th>2</th>\n",
       "      <td>0.0</td>\n",
       "      <td>9.528</td>\n",
       "      <td>9.425</td>\n",
       "      <td>38.0235</td>\n",
       "      <td>42.4235</td>\n",
       "      <td>39.6270</td>\n",
       "      <td>35.635</td>\n",
       "      <td>10.367</td>\n",
       "      <td>0.5620</td>\n",
       "      <td>22.1040</td>\n",
       "      <td>...</td>\n",
       "      <td>0.185</td>\n",
       "      <td>0.188</td>\n",
       "      <td>1.742</td>\n",
       "      <td>1.207</td>\n",
       "      <td>0.828</td>\n",
       "      <td>1.043</td>\n",
       "      <td>0.147</td>\n",
       "      <td>0.133</td>\n",
       "      <td>2.334</td>\n",
       "      <td>0.083</td>\n",
       "    </tr>\n",
       "    <tr>\n",
       "      <th>3</th>\n",
       "      <td>0.0</td>\n",
       "      <td>9.436</td>\n",
       "      <td>9.335</td>\n",
       "      <td>39.0550</td>\n",
       "      <td>43.3650</td>\n",
       "      <td>40.3420</td>\n",
       "      <td>36.635</td>\n",
       "      <td>10.302</td>\n",
       "      <td>0.5550</td>\n",
       "      <td>20.4805</td>\n",
       "      <td>...</td>\n",
       "      <td>0.172</td>\n",
       "      <td>0.174</td>\n",
       "      <td>1.586</td>\n",
       "      <td>1.183</td>\n",
       "      <td>0.911</td>\n",
       "      <td>0.883</td>\n",
       "      <td>0.141</td>\n",
       "      <td>0.118</td>\n",
       "      <td>1.892</td>\n",
       "      <td>0.085</td>\n",
       "    </tr>\n",
       "    <tr>\n",
       "      <th>4</th>\n",
       "      <td>0.0</td>\n",
       "      <td>9.358</td>\n",
       "      <td>9.260</td>\n",
       "      <td>39.9670</td>\n",
       "      <td>44.3355</td>\n",
       "      <td>41.3400</td>\n",
       "      <td>37.439</td>\n",
       "      <td>10.236</td>\n",
       "      <td>0.5760</td>\n",
       "      <td>19.7985</td>\n",
       "      <td>...</td>\n",
       "      <td>0.153</td>\n",
       "      <td>0.147</td>\n",
       "      <td>1.602</td>\n",
       "      <td>1.145</td>\n",
       "      <td>0.918</td>\n",
       "      <td>0.789</td>\n",
       "      <td>0.133</td>\n",
       "      <td>0.136</td>\n",
       "      <td>1.327</td>\n",
       "      <td>0.090</td>\n",
       "    </tr>\n",
       "  </tbody>\n",
       "</table>\n",
       "<p>5 rows × 77 columns</p>\n",
       "</div>"
      ],
      "text/plain": [
       "   PS4_median  PS5_median  PS6_median  TS1_median  TS2_median  TS3_median  \\\n",
       "0         0.0       9.844       9.733     35.5720     40.9630     38.4960   \n",
       "1         0.0       9.632       9.526     36.7675     41.5180     38.9845   \n",
       "2         0.0       9.528       9.425     38.0235     42.4235     39.6270   \n",
       "3         0.0       9.436       9.335     39.0550     43.3650     40.3420   \n",
       "4         0.0       9.358       9.260     39.9670     44.3355     41.3400   \n",
       "\n",
       "   TS4_median  FS2_median  VS1_median  CE1_median  ...  PS5_iqr  PS6_iqr  \\\n",
       "0      31.576      10.327      0.5770     40.6755  ...    0.335    0.319   \n",
       "1      34.553      10.403      0.5595     25.3855  ...    0.188    0.183   \n",
       "2      35.635      10.367      0.5620     22.1040  ...    0.185    0.188   \n",
       "3      36.635      10.302      0.5550     20.4805  ...    0.172    0.174   \n",
       "4      37.439      10.236      0.5760     19.7985  ...    0.153    0.147   \n",
       "\n",
       "   TS1_iqr  TS2_iqr  TS3_iqr  TS4_iqr  FS2_iqr  VS1_iqr  CE1_iqr  CP1_iqr  \n",
       "0    0.996    0.477    0.297    3.231    0.298    0.092   18.572    0.805  \n",
       "1    1.840    1.074    0.586    1.500    0.101    0.102    5.888    0.267  \n",
       "2    1.742    1.207    0.828    1.043    0.147    0.133    2.334    0.083  \n",
       "3    1.586    1.183    0.911    0.883    0.141    0.118    1.892    0.085  \n",
       "4    1.602    1.145    0.918    0.789    0.133    0.136    1.327    0.090  \n",
       "\n",
       "[5 rows x 77 columns]"
      ]
     },
     "execution_count": 34,
     "metadata": {},
     "output_type": "execute_result"
    }
   ],
   "source": [
    "statsfinal.head()"
   ]
  },
  {
   "cell_type": "code",
   "execution_count": 35,
   "metadata": {},
   "outputs": [],
   "source": [
    "statsfinal_target = pd.concat([statsfinal,profile], axis = 1)"
   ]
  },
  {
   "cell_type": "code",
   "execution_count": 36,
   "metadata": {},
   "outputs": [
    {
     "data": {
      "text/html": [
       "<div>\n",
       "<style scoped>\n",
       "    .dataframe tbody tr th:only-of-type {\n",
       "        vertical-align: middle;\n",
       "    }\n",
       "\n",
       "    .dataframe tbody tr th {\n",
       "        vertical-align: top;\n",
       "    }\n",
       "\n",
       "    .dataframe thead th {\n",
       "        text-align: right;\n",
       "    }\n",
       "</style>\n",
       "<table border=\"1\" class=\"dataframe\">\n",
       "  <thead>\n",
       "    <tr style=\"text-align: right;\">\n",
       "      <th></th>\n",
       "      <th>PS4_median</th>\n",
       "      <th>PS5_median</th>\n",
       "      <th>PS6_median</th>\n",
       "      <th>TS1_median</th>\n",
       "      <th>TS2_median</th>\n",
       "      <th>TS3_median</th>\n",
       "      <th>TS4_median</th>\n",
       "      <th>FS2_median</th>\n",
       "      <th>VS1_median</th>\n",
       "      <th>CE1_median</th>\n",
       "      <th>...</th>\n",
       "      <th>PS5_iqr</th>\n",
       "      <th>PS6_iqr</th>\n",
       "      <th>TS1_iqr</th>\n",
       "      <th>TS2_iqr</th>\n",
       "      <th>TS3_iqr</th>\n",
       "      <th>TS4_iqr</th>\n",
       "      <th>FS2_iqr</th>\n",
       "      <th>VS1_iqr</th>\n",
       "      <th>CE1_iqr</th>\n",
       "      <th>CP1_iqr</th>\n",
       "    </tr>\n",
       "  </thead>\n",
       "  <tbody>\n",
       "    <tr>\n",
       "      <th>0</th>\n",
       "      <td>0.0</td>\n",
       "      <td>9.844</td>\n",
       "      <td>9.733</td>\n",
       "      <td>35.5720</td>\n",
       "      <td>40.9630</td>\n",
       "      <td>38.4960</td>\n",
       "      <td>31.576</td>\n",
       "      <td>10.327</td>\n",
       "      <td>0.5770</td>\n",
       "      <td>40.6755</td>\n",
       "      <td>...</td>\n",
       "      <td>0.335</td>\n",
       "      <td>0.319</td>\n",
       "      <td>0.996</td>\n",
       "      <td>0.477</td>\n",
       "      <td>0.297</td>\n",
       "      <td>3.231</td>\n",
       "      <td>0.298</td>\n",
       "      <td>0.092</td>\n",
       "      <td>18.572</td>\n",
       "      <td>0.805</td>\n",
       "    </tr>\n",
       "    <tr>\n",
       "      <th>1</th>\n",
       "      <td>0.0</td>\n",
       "      <td>9.632</td>\n",
       "      <td>9.526</td>\n",
       "      <td>36.7675</td>\n",
       "      <td>41.5180</td>\n",
       "      <td>38.9845</td>\n",
       "      <td>34.553</td>\n",
       "      <td>10.403</td>\n",
       "      <td>0.5595</td>\n",
       "      <td>25.3855</td>\n",
       "      <td>...</td>\n",
       "      <td>0.188</td>\n",
       "      <td>0.183</td>\n",
       "      <td>1.840</td>\n",
       "      <td>1.074</td>\n",
       "      <td>0.586</td>\n",
       "      <td>1.500</td>\n",
       "      <td>0.101</td>\n",
       "      <td>0.102</td>\n",
       "      <td>5.888</td>\n",
       "      <td>0.267</td>\n",
       "    </tr>\n",
       "    <tr>\n",
       "      <th>2</th>\n",
       "      <td>0.0</td>\n",
       "      <td>9.528</td>\n",
       "      <td>9.425</td>\n",
       "      <td>38.0235</td>\n",
       "      <td>42.4235</td>\n",
       "      <td>39.6270</td>\n",
       "      <td>35.635</td>\n",
       "      <td>10.367</td>\n",
       "      <td>0.5620</td>\n",
       "      <td>22.1040</td>\n",
       "      <td>...</td>\n",
       "      <td>0.185</td>\n",
       "      <td>0.188</td>\n",
       "      <td>1.742</td>\n",
       "      <td>1.207</td>\n",
       "      <td>0.828</td>\n",
       "      <td>1.043</td>\n",
       "      <td>0.147</td>\n",
       "      <td>0.133</td>\n",
       "      <td>2.334</td>\n",
       "      <td>0.083</td>\n",
       "    </tr>\n",
       "    <tr>\n",
       "      <th>3</th>\n",
       "      <td>0.0</td>\n",
       "      <td>9.436</td>\n",
       "      <td>9.335</td>\n",
       "      <td>39.0550</td>\n",
       "      <td>43.3650</td>\n",
       "      <td>40.3420</td>\n",
       "      <td>36.635</td>\n",
       "      <td>10.302</td>\n",
       "      <td>0.5550</td>\n",
       "      <td>20.4805</td>\n",
       "      <td>...</td>\n",
       "      <td>0.172</td>\n",
       "      <td>0.174</td>\n",
       "      <td>1.586</td>\n",
       "      <td>1.183</td>\n",
       "      <td>0.911</td>\n",
       "      <td>0.883</td>\n",
       "      <td>0.141</td>\n",
       "      <td>0.118</td>\n",
       "      <td>1.892</td>\n",
       "      <td>0.085</td>\n",
       "    </tr>\n",
       "    <tr>\n",
       "      <th>4</th>\n",
       "      <td>0.0</td>\n",
       "      <td>9.358</td>\n",
       "      <td>9.260</td>\n",
       "      <td>39.9670</td>\n",
       "      <td>44.3355</td>\n",
       "      <td>41.3400</td>\n",
       "      <td>37.439</td>\n",
       "      <td>10.236</td>\n",
       "      <td>0.5760</td>\n",
       "      <td>19.7985</td>\n",
       "      <td>...</td>\n",
       "      <td>0.153</td>\n",
       "      <td>0.147</td>\n",
       "      <td>1.602</td>\n",
       "      <td>1.145</td>\n",
       "      <td>0.918</td>\n",
       "      <td>0.789</td>\n",
       "      <td>0.133</td>\n",
       "      <td>0.136</td>\n",
       "      <td>1.327</td>\n",
       "      <td>0.090</td>\n",
       "    </tr>\n",
       "  </tbody>\n",
       "</table>\n",
       "<p>5 rows × 77 columns</p>\n",
       "</div>"
      ],
      "text/plain": [
       "   PS4_median  PS5_median  PS6_median  TS1_median  TS2_median  TS3_median  \\\n",
       "0         0.0       9.844       9.733     35.5720     40.9630     38.4960   \n",
       "1         0.0       9.632       9.526     36.7675     41.5180     38.9845   \n",
       "2         0.0       9.528       9.425     38.0235     42.4235     39.6270   \n",
       "3         0.0       9.436       9.335     39.0550     43.3650     40.3420   \n",
       "4         0.0       9.358       9.260     39.9670     44.3355     41.3400   \n",
       "\n",
       "   TS4_median  FS2_median  VS1_median  CE1_median  ...  PS5_iqr  PS6_iqr  \\\n",
       "0      31.576      10.327      0.5770     40.6755  ...    0.335    0.319   \n",
       "1      34.553      10.403      0.5595     25.3855  ...    0.188    0.183   \n",
       "2      35.635      10.367      0.5620     22.1040  ...    0.185    0.188   \n",
       "3      36.635      10.302      0.5550     20.4805  ...    0.172    0.174   \n",
       "4      37.439      10.236      0.5760     19.7985  ...    0.153    0.147   \n",
       "\n",
       "   TS1_iqr  TS2_iqr  TS3_iqr  TS4_iqr  FS2_iqr  VS1_iqr  CE1_iqr  CP1_iqr  \n",
       "0    0.996    0.477    0.297    3.231    0.298    0.092   18.572    0.805  \n",
       "1    1.840    1.074    0.586    1.500    0.101    0.102    5.888    0.267  \n",
       "2    1.742    1.207    0.828    1.043    0.147    0.133    2.334    0.083  \n",
       "3    1.586    1.183    0.911    0.883    0.141    0.118    1.892    0.085  \n",
       "4    1.602    1.145    0.918    0.789    0.133    0.136    1.327    0.090  \n",
       "\n",
       "[5 rows x 77 columns]"
      ]
     },
     "execution_count": 36,
     "metadata": {},
     "output_type": "execute_result"
    }
   ],
   "source": [
    "statsfinal.head()"
   ]
  },
  {
   "cell_type": "code",
   "execution_count": 37,
   "metadata": {},
   "outputs": [],
   "source": [
    "profile_cooler = profile['Cooler Condition']"
   ]
  },
  {
   "cell_type": "markdown",
   "metadata": {},
   "source": [
    "<a id = 'Classification_models_for_Cooler_failure'></a>\n",
    "\n",
    "# Classification of Cooler condition"
   ]
  },
  {
   "cell_type": "markdown",
   "metadata": {},
   "source": [
    "### Train -Test split"
   ]
  },
  {
   "cell_type": "code",
   "execution_count": 38,
   "metadata": {},
   "outputs": [],
   "source": [
    "from sklearn.model_selection import train_test_split\n",
    "\n",
    "# Splitting the data into train and test\n",
    "X_train, X_test, y_train, y_test = train_test_split(statsfinal, profile_cooler, train_size=0.7, test_size=0.3, random_state=100, stratify = profile_cooler )"
   ]
  },
  {
   "cell_type": "markdown",
   "metadata": {},
   "source": [
    "### Standardisation of Data"
   ]
  },
  {
   "cell_type": "code",
   "execution_count": 39,
   "metadata": {},
   "outputs": [],
   "source": [
    "from sklearn.preprocessing import StandardScaler\n",
    "\n",
    "scaler = StandardScaler() ## x-mean/std\n",
    "\n",
    "X_train_scaled = scaler.fit_transform(X_train)\n",
    "X_test_scaled = scaler.transform(X_test)"
   ]
  },
  {
   "cell_type": "code",
   "execution_count": 40,
   "metadata": {},
   "outputs": [],
   "source": [
    "X_train_scaled = pd.DataFrame(X_train_scaled)\n",
    "X_test_scaled = pd.DataFrame(X_test_scaled)"
   ]
  },
  {
   "cell_type": "code",
   "execution_count": 41,
   "metadata": {},
   "outputs": [],
   "source": [
    "X_train_scaled.columns = statsfinal.columns \n",
    "X_test_scaled.columns = statsfinal.columns "
   ]
  },
  {
   "cell_type": "code",
   "execution_count": 42,
   "metadata": {},
   "outputs": [
    {
     "name": "stdout",
     "output_type": "stream",
     "text": [
      "(662, 77)\n",
      "(1543, 77)\n"
     ]
    }
   ],
   "source": [
    "print(X_test_scaled.shape)\n",
    "print(X_train_scaled.shape)"
   ]
  },
  {
   "cell_type": "code",
   "execution_count": 43,
   "metadata": {},
   "outputs": [
    {
     "name": "stdout",
     "output_type": "stream",
     "text": [
      "100    519\n",
      "20     512\n",
      "3      512\n",
      "Name: Cooler Condition, dtype: int64\n",
      "100    222\n",
      "20     220\n",
      "3      220\n",
      "Name: Cooler Condition, dtype: int64\n"
     ]
    }
   ],
   "source": [
    "SFy_traindf = pd.DataFrame(y_train)\n",
    "SFy_testdf = pd.DataFrame(y_test)\n",
    "\n",
    "print(y_train.value_counts())\n",
    "print(y_test.value_counts())\n"
   ]
  },
  {
   "cell_type": "markdown",
   "metadata": {},
   "source": [
    "Dataset is fairly balanced"
   ]
  },
  {
   "cell_type": "code",
   "execution_count": 44,
   "metadata": {},
   "outputs": [
    {
     "name": "stderr",
     "output_type": "stream",
     "text": [
      "C:\\Users\\Admin\\anaconda3\\lib\\site-packages\\tpot\\builtins\\__init__.py:36: UserWarning: Warning: optional dependency `torch` is not available. - skipping import of NN models.\n",
      "  warnings.warn(\"Warning: optional dependency `torch` is not available. - skipping import of NN models.\")\n"
     ]
    }
   ],
   "source": [
    "from sklearn.svm import SVC\n",
    "from sklearn.ensemble import RandomForestClassifier\n",
    "from sklearn.metrics import confusion_matrix,accuracy_score,precision_score,recall_score,f1_score\n",
    "from sklearn.model_selection import cross_validate,GridSearchCV,RandomizedSearchCV\n",
    "from tpot import TPOTClassifier\n",
    "from scipy.stats import randint\n",
    "from sklearn.neighbors import KNeighborsClassifier\n",
    "from sklearn.naive_bayes import GaussianNB\n",
    "from sklearn.tree import DecisionTreeClassifier\n",
    "from sklearn.preprocessing import StandardScaler\n",
    "from sklearn.model_selection import train_test_split\n",
    "from sklearn import metrics"
   ]
  },
  {
   "cell_type": "code",
   "execution_count": 45,
   "metadata": {},
   "outputs": [],
   "source": [
    "def evaluate_model(dt_classifier,y_train,X_train,y_test,X_test):\n",
    "    print(\"Train Precision :\", (precision_score(y_train, dt_classifier.predict(X_train)))*100)\n",
    "    print(\"Train Confusion Matrix:\")\n",
    "    print(confusion_matrix(y_train, dt_classifier.predict(X_train)))\n",
    "    print(\"-\"*50)\n",
    "    print(\"Test Precision :\", (precision_score(y_test, dt_classifier.predict(X_test)))*100)\n",
    "    print(\"Test Confusion Matrix:\")\n",
    "    print(confusion_matrix(y_test, dt_classifier.predict(X_test)))"
   ]
  },
  {
   "cell_type": "markdown",
   "metadata": {},
   "source": [
    "<a id = 'SVM_for_cooler_failure_classification.'></a>\n",
    "\n",
    "### SVM for cooler failure classification"
   ]
  },
  {
   "cell_type": "markdown",
   "metadata": {},
   "source": [
    "## PCA"
   ]
  },
  {
   "cell_type": "code",
   "execution_count": 46,
   "metadata": {},
   "outputs": [],
   "source": [
    "from sklearn.decomposition import PCA"
   ]
  },
  {
   "cell_type": "code",
   "execution_count": 47,
   "metadata": {},
   "outputs": [],
   "source": [
    "pca = PCA(random_state=42)\n",
    "X_train_pca = pca.fit(X_train_scaled)"
   ]
  },
  {
   "cell_type": "code",
   "execution_count": null,
   "metadata": {},
   "outputs": [],
   "source": []
  },
  {
   "cell_type": "code",
   "execution_count": 48,
   "metadata": {},
   "outputs": [
    {
     "data": {
      "image/png": "[encoded data removed]",
      "text/plain": [
       "<Figure size 1440x360 with 1 Axes>"
      ]
     },
     "metadata": {
      "needs_background": "light"
     },
     "output_type": "display_data"
    }
   ],
   "source": [
    "pca = PCA(random_state=42)\n",
    "X_train_pca = pca.fit(X_train_scaled)\n",
    "\n",
    "var_cumu = np.cumsum(pca.explained_variance_ratio_)\n",
    "fig = plt.figure(figsize=[20,5])\n",
    "plt.vlines(x=15, ymax=1, ymin=0, colors=\"r\", linestyles=\"--\")\n",
    "plt.hlines(y=0.95, xmax=30, xmin=0, colors=\"g\", linestyles=\"--\")\n",
    "plt.plot(var_cumu)\n",
    "plt.ylabel(\"Cumulative variance explained\")\n",
    "plt.show()\n",
    "\n",
    "\n"
   ]
  },
  {
   "cell_type": "code",
   "execution_count": 49,
   "metadata": {},
   "outputs": [],
   "source": [
    "\n",
    "from sklearn.decomposition import IncrementalPCA\n",
    "pca_final = IncrementalPCA(n_components=17)\n"
   ]
  },
  {
   "cell_type": "code",
   "execution_count": 50,
   "metadata": {},
   "outputs": [
    {
     "name": "stdout",
     "output_type": "stream",
     "text": [
      "(1543, 17)\n",
      "(662, 17)\n"
     ]
    }
   ],
   "source": [
    "X_train_pca = pca_final.fit_transform(X_train_scaled)\n",
    "X_test_pca = pca_final.transform(X_test_scaled)\n",
    "\n",
    "print(X_train_pca.shape)\n",
    "print(X_test_pca.shape)"
   ]
  },
  {
   "cell_type": "code",
   "execution_count": 51,
   "metadata": {},
   "outputs": [],
   "source": [
    "from sklearn.metrics import roc_curve, auc"
   ]
  },
  {
   "cell_type": "code",
   "execution_count": null,
   "metadata": {},
   "outputs": [],
   "source": []
  },
  {
   "cell_type": "code",
   "execution_count": 52,
   "metadata": {},
   "outputs": [],
   "source": [
    "# training a linear SVM classifier\n",
    "from sklearn.svm import SVC\n",
    "svm_model_linear = SVC(kernel = 'linear', C = 1).fit(X_train_pca, y_train)\n",
    "svm_predictions = svm_model_linear.predict(X_test_pca)"
   ]
  },
  {
   "cell_type": "code",
   "execution_count": 53,
   "metadata": {},
   "outputs": [
    {
     "data": {
      "text/plain": [
       "array([[219,   0,   1],\n",
       "       [  1, 219,   0],\n",
       "       [  0,   0, 222]], dtype=int64)"
      ]
     },
     "execution_count": 53,
     "metadata": {},
     "output_type": "execute_result"
    }
   ],
   "source": [
    "# creating a confusion matrix\n",
    "cm = confusion_matrix(y_test, svm_predictions)\n",
    "cm"
   ]
  },
  {
   "cell_type": "code",
   "execution_count": 54,
   "metadata": {},
   "outputs": [],
   "source": [
    "def cmatrix(model):\n",
    "    fig, ax = plt.subplots(figsize=(10, 6))\n",
    "    ax.set_title('Confusion Matrix')\n",
    "    disp = metrics.plot_confusion_matrix(model, X_test_pca,y_test, display_labels= ['Close to Failure','Reduced efficiency','Full Efficiency'],  ax = ax)\n",
    "    return disp.confusion_matrix\n",
    "    "
   ]
  },
  {
   "cell_type": "code",
   "execution_count": 55,
   "metadata": {},
   "outputs": [
    {
     "data": {
      "text/plain": [
       "array([[219,   0,   1],\n",
       "       [  1, 219,   0],\n",
       "       [  0,   0, 222]], dtype=int64)"
      ]
     },
     "execution_count": 55,
     "metadata": {},
     "output_type": "execute_result"
    },
    {
     "data": {
      "image/png": "[encoded data removed]",
      "text/plain": [
       "<Figure size 720x432 with 2 Axes>"
      ]
     },
     "metadata": {
      "needs_background": "light"
     },
     "output_type": "display_data"
    }
   ],
   "source": [
    "cmatrix(svm_model_linear)"
   ]
  },
  {
   "cell_type": "code",
   "execution_count": 56,
   "metadata": {},
   "outputs": [
    {
     "name": "stdout",
     "output_type": "stream",
     "text": [
      "              precision    recall  f1-score   support\n",
      "\n",
      "           3       1.00      1.00      1.00       220\n",
      "          20       1.00      1.00      1.00       220\n",
      "         100       1.00      1.00      1.00       222\n",
      "\n",
      "    accuracy                           1.00       662\n",
      "   macro avg       1.00      1.00      1.00       662\n",
      "weighted avg       1.00      1.00      1.00       662\n",
      "\n"
     ]
    }
   ],
   "source": [
    "print(metrics.classification_report(y_test, svm_model_linear.predict(X_test_pca)))"
   ]
  },
  {
   "cell_type": "code",
   "execution_count": 57,
   "metadata": {},
   "outputs": [
    {
     "data": {
      "text/plain": [
       "array([[ 2.31221495,  0.70722882, -0.29442067],\n",
       "       [ 2.32304113,  0.69360276, -0.31746939],\n",
       "       [ 2.32686711,  0.68494608, -0.32361927],\n",
       "       ...,\n",
       "       [ 2.32649763,  0.68586083, -0.32304437],\n",
       "       [ 2.32693085,  0.6848421 , -0.32373364],\n",
       "       [ 2.32296308,  0.69375118, -0.31733544]])"
      ]
     },
     "execution_count": 57,
     "metadata": {},
     "output_type": "execute_result"
    }
   ],
   "source": [
    "y_score_svm = svm_model_linear.fit(X_train_scaled, y_train).decision_function(X_test)\n",
    "y_score_svm"
   ]
  },
  {
   "cell_type": "code",
   "execution_count": 58,
   "metadata": {},
   "outputs": [],
   "source": [
    "def plot_multiclass_roc(y_score, X_test, y_test, n_classes= 3, figsize = (20,6)):\n",
    "\n",
    "    # structures\n",
    "    fpr = dict()\n",
    "    tpr = dict()\n",
    "    roc_auc = dict()\n",
    "\n",
    "    # calculate dummies once\n",
    "    y_test_dummies = pd.get_dummies(y_test, drop_first=False).values\n",
    "    for i in range(n_classes):\n",
    "        fpr[i], tpr[i], _ = roc_curve(y_test_dummies[:, i], y_score[:, i])\n",
    "        roc_auc[i] = auc(fpr[i], tpr[i])\n",
    "\n",
    "    fig, ax = plt.subplots(figsize=figsize)\n",
    "    ax.plot([0, 1], [0, 1], 'k--')\n",
    "    ax.set_xlim([0.0, 1.0])\n",
    "    ax.set_ylim([0.0, 1.05])\n",
    "    ax.set_xlabel('False Positive Rate')\n",
    "    ax.set_ylabel('True Positive Rate')\n",
    "    ax.set_title('Receiver operating characteristic')\n",
    "    for i in range(n_classes):\n",
    "        ax.plot(fpr[i], tpr[i], label='ROC curve (area = %0.2f) for label %i' % (roc_auc[i], i))\n",
    "    ax.legend(loc=\"best\")\n",
    "    ax.grid(alpha=.4)\n",
    "    sns.despine()\n",
    "    plt.show()"
   ]
  },
  {
   "cell_type": "code",
   "execution_count": 59,
   "metadata": {},
   "outputs": [
    {
     "data": {
      "image/png": "[encoded data removed]",
      "text/plain": [
       "<Figure size 1440x432 with 1 Axes>"
      ]
     },
     "metadata": {
      "needs_background": "light"
     },
     "output_type": "display_data"
    }
   ],
   "source": [
    "plot_multiclass_roc(y_score_svm,X_test_pca, y_test, 3)"
   ]
  },
  {
   "cell_type": "markdown",
   "metadata": {},
   "source": [
    "<a id = 'kNN_for_cooler_failure_classification.'></a>\n",
    "\n",
    "### kNN for cooler failure classification"
   ]
  },
  {
   "cell_type": "code",
   "execution_count": 60,
   "metadata": {},
   "outputs": [],
   "source": [
    "# training a KNN classifier\n",
    "from sklearn.neighbors import KNeighborsClassifier\n",
    "knn = KNeighborsClassifier(n_neighbors = 7).fit(X_train_pca, y_train)\n"
   ]
  },
  {
   "cell_type": "code",
   "execution_count": 61,
   "metadata": {},
   "outputs": [
    {
     "data": {
      "text/plain": [
       "array([[219,   0,   1],\n",
       "       [  1, 219,   0],\n",
       "       [  0,   0, 222]], dtype=int64)"
      ]
     },
     "execution_count": 61,
     "metadata": {},
     "output_type": "execute_result"
    },
    {
     "data": {
      "image/png": "[encoded data removed]",
      "text/plain": [
       "<Figure size 720x432 with 2 Axes>"
      ]
     },
     "metadata": {
      "needs_background": "light"
     },
     "output_type": "display_data"
    }
   ],
   "source": [
    "cmatrix(knn)"
   ]
  },
  {
   "cell_type": "code",
   "execution_count": 62,
   "metadata": {},
   "outputs": [
    {
     "data": {
      "text/plain": [
       "array([[0.        , 0.14285714, 0.85714286],\n",
       "       [0.        , 1.        , 0.        ],\n",
       "       [1.        , 0.        , 0.        ],\n",
       "       ...,\n",
       "       [1.        , 0.        , 0.        ],\n",
       "       [1.        , 0.        , 0.        ],\n",
       "       [0.        , 1.        , 0.        ]])"
      ]
     },
     "execution_count": 62,
     "metadata": {},
     "output_type": "execute_result"
    }
   ],
   "source": [
    "y_score_knn = knn.fit(X_train_pca, y_train).predict_proba(X_test_pca)\n",
    "y_score_knn"
   ]
  },
  {
   "cell_type": "code",
   "execution_count": 63,
   "metadata": {
    "scrolled": true
   },
   "outputs": [
    {
     "data": {
      "image/png": "[encoded data removed]",
      "text/plain": [
       "<Figure size 1440x432 with 1 Axes>"
      ]
     },
     "metadata": {
      "needs_background": "light"
     },
     "output_type": "display_data"
    }
   ],
   "source": [
    "plot_multiclass_roc(y_score_knn, X_test_pca, y_test, n_classes=3, figsize=(20, 6))"
   ]
  },
  {
   "cell_type": "code",
   "execution_count": 64,
   "metadata": {},
   "outputs": [
    {
     "name": "stdout",
     "output_type": "stream",
     "text": [
      "              precision    recall  f1-score   support\n",
      "\n",
      "           3       1.00      1.00      1.00       220\n",
      "          20       1.00      1.00      1.00       220\n",
      "         100       1.00      1.00      1.00       222\n",
      "\n",
      "    accuracy                           1.00       662\n",
      "   macro avg       1.00      1.00      1.00       662\n",
      "weighted avg       1.00      1.00      1.00       662\n",
      "\n"
     ]
    }
   ],
   "source": [
    "print(metrics.classification_report(y_test, knn.predict(X_test_pca)))"
   ]
  },
  {
   "cell_type": "markdown",
   "metadata": {},
   "source": [
    "<a id = 'RF_for_cooler_failure_classification.'></a>\n",
    "\n",
    "### RF for cooler failure classification"
   ]
  },
  {
   "cell_type": "code",
   "execution_count": 66,
   "metadata": {},
   "outputs": [
    {
     "data": {
      "text/plain": [
       "RandomForestClassifier(criterion='entropy', n_estimators=10, random_state=42)"
      ]
     },
     "execution_count": 66,
     "metadata": {},
     "output_type": "execute_result"
    }
   ],
   "source": [
    "from sklearn.ensemble import RandomForestClassifier\n",
    "\n",
    "# Fitting Random Forest Classification to the Training set\n",
    "\n",
    "classifier_rf = RandomForestClassifier(n_estimators = 10, criterion = 'entropy', random_state = 42)\n",
    "classifier_rf.fit(X_train_scaled, y_train)"
   ]
  },
  {
   "cell_type": "code",
   "execution_count": 74,
   "metadata": {},
   "outputs": [],
   "source": [
    "def cmatrixrf(model):\n",
    "    fig, ax = plt.subplots(figsize=(10, 6))\n",
    "    ax.set_title('Confusion Matrix')\n",
    "    disp = metrics.plot_confusion_matrix(model, X_test_scaled,y_test, display_labels= ['Close to Failure','Reduced efficiency','Full Efficiency'],  ax = ax)\n",
    "    return disp.confusion_matrix\n",
    "    "
   ]
  },
  {
   "cell_type": "code",
   "execution_count": 75,
   "metadata": {},
   "outputs": [
    {
     "data": {
      "text/plain": [
       "array([[219,   0,   1],\n",
       "       [  0, 220,   0],\n",
       "       [  0,   0, 222]], dtype=int64)"
      ]
     },
     "execution_count": 75,
     "metadata": {},
     "output_type": "execute_result"
    },
    {
     "data": {
      "image/png": "[encoded data removed]",
      "text/plain": [
       "<Figure size 720x432 with 2 Axes>"
      ]
     },
     "metadata": {
      "needs_background": "light"
     },
     "output_type": "display_data"
    }
   ],
   "source": [
    "cmatrixrf(classifier_rf)"
   ]
  },
  {
   "cell_type": "code",
   "execution_count": 68,
   "metadata": {},
   "outputs": [
    {
     "data": {
      "text/plain": [
       "array([[0., 0., 1.],\n",
       "       [0., 1., 0.],\n",
       "       [1., 0., 0.],\n",
       "       ...,\n",
       "       [1., 0., 0.],\n",
       "       [1., 0., 0.],\n",
       "       [0., 1., 0.]])"
      ]
     },
     "execution_count": 68,
     "metadata": {},
     "output_type": "execute_result"
    }
   ],
   "source": [
    "y_score_rf = classifier_rf.fit(X_train_scaled, y_train).predict_proba(X_test_scaled)\n",
    "y_score_rf"
   ]
  },
  {
   "cell_type": "code",
   "execution_count": 69,
   "metadata": {
    "scrolled": true
   },
   "outputs": [
    {
     "data": {
      "image/png": "[encoded data removed]",
      "text/plain": [
       "<Figure size 1440x432 with 1 Axes>"
      ]
     },
     "metadata": {
      "needs_background": "light"
     },
     "output_type": "display_data"
    }
   ],
   "source": [
    "plot_multiclass_roc(y_score_rf, X_test_scaled, y_test, n_classes=3, figsize=(20, 6))"
   ]
  },
  {
   "cell_type": "markdown",
   "metadata": {},
   "source": [
    "#### Hypertune parameters"
   ]
  },
  {
   "cell_type": "code",
   "execution_count": 70,
   "metadata": {},
   "outputs": [],
   "source": [
    "rf_hyper = RandomForestClassifier(random_state=42, n_jobs=-1,class_weight = 'balanced')"
   ]
  },
  {
   "cell_type": "code",
   "execution_count": 71,
   "metadata": {},
   "outputs": [],
   "source": [
    "# Create the parameter grid based on the results of random search \n",
    "params = {\n",
    "    'max_depth': [1, 2, 5, 10, 20],\n",
    "    'min_samples_leaf': [5, 10, 20, 50, 100],\n",
    "    'max_features': [2,3,4],\n",
    "    'n_estimators': [10, 30, 50, 100, 200]\n",
    "}\n",
    "\n",
    "## maximum depth is 1,2,5,10,20\n",
    "## minimum sample leaf is 5,10,20,50,100\n",
    "## maximum no. of features is 2,3,4\n",
    "## no. of trees is 10, 30,50,100,200"
   ]
  },
  {
   "cell_type": "code",
   "execution_count": 72,
   "metadata": {},
   "outputs": [],
   "source": [
    "# Instantiate the grid search model\n",
    "grid_search = GridSearchCV(estimator= rf_hyper, param_grid=params, \n",
    "                          cv=4, n_jobs=-1, verbose=1, scoring = \"f1_macro\")"
   ]
  },
  {
   "cell_type": "code",
   "execution_count": 73,
   "metadata": {},
   "outputs": [
    {
     "name": "stdout",
     "output_type": "stream",
     "text": [
      "Fitting 4 folds for each of 375 candidates, totalling 1500 fits\n"
     ]
    },
    {
     "name": "stderr",
     "output_type": "stream",
     "text": [
      "[Parallel(n_jobs=-1)]: Using backend LokyBackend with 8 concurrent workers.\n",
      "[Parallel(n_jobs=-1)]: Done  34 tasks      | elapsed:    6.8s\n",
      "[Parallel(n_jobs=-1)]: Done 184 tasks      | elapsed:   18.6s\n",
      "[Parallel(n_jobs=-1)]: Done 434 tasks      | elapsed:   42.7s\n",
      "[Parallel(n_jobs=-1)]: Done 784 tasks      | elapsed:  1.3min\n",
      "[Parallel(n_jobs=-1)]: Done 1234 tasks      | elapsed:  1.9min\n",
      "[Parallel(n_jobs=-1)]: Done 1500 out of 1500 | elapsed:  2.3min finished\n"
     ]
    },
    {
     "name": "stdout",
     "output_type": "stream",
     "text": [
      "Wall time: 2min 15s\n"
     ]
    },
    {
     "data": {
      "text/plain": [
       "GridSearchCV(cv=4,\n",
       "             estimator=RandomForestClassifier(class_weight='balanced',\n",
       "                                              n_jobs=-1, random_state=42),\n",
       "             n_jobs=-1,\n",
       "             param_grid={'max_depth': [1, 2, 5, 10, 20],\n",
       "                         'max_features': [2, 3, 4],\n",
       "                         'min_samples_leaf': [5, 10, 20, 50, 100],\n",
       "                         'n_estimators': [10, 30, 50, 100, 200]},\n",
       "             scoring='f1_macro', verbose=1)"
      ]
     },
     "execution_count": 73,
     "metadata": {},
     "output_type": "execute_result"
    }
   ],
   "source": [
    "%%time\n",
    "grid_search.fit(X_train_scaled,y_train)"
   ]
  },
  {
   "cell_type": "code",
   "execution_count": 76,
   "metadata": {},
   "outputs": [
    {
     "data": {
      "text/plain": [
       "RandomForestClassifier(class_weight='balanced', max_depth=1, max_features=3,\n",
       "                       min_samples_leaf=5, n_estimators=50, n_jobs=-1,\n",
       "                       random_state=42)"
      ]
     },
     "execution_count": 76,
     "metadata": {},
     "output_type": "execute_result"
    }
   ],
   "source": [
    "rf_best = grid_search.best_estimator_ ## best estimator is assigned to rf_best\n",
    "rf_best"
   ]
  },
  {
   "cell_type": "code",
   "execution_count": 77,
   "metadata": {},
   "outputs": [
    {
     "data": {
      "text/plain": [
       "array([[219,   0,   1],\n",
       "       [  1, 219,   0],\n",
       "       [  0,   0, 222]], dtype=int64)"
      ]
     },
     "execution_count": 77,
     "metadata": {},
     "output_type": "execute_result"
    },
    {
     "data": {
      "image/png": "[encoded data removed]",
      "text/plain": [
       "<Figure size 720x432 with 2 Axes>"
      ]
     },
     "metadata": {
      "needs_background": "light"
     },
     "output_type": "display_data"
    }
   ],
   "source": [
    "cmatrixrf(rf_best)"
   ]
  },
  {
   "cell_type": "code",
   "execution_count": 78,
   "metadata": {},
   "outputs": [
    {
     "data": {
      "text/plain": [
       "array([[0.11701608, 0.22278889, 0.66019503],\n",
       "       [0.36289392, 0.50003596, 0.13707012],\n",
       "       [0.61508384, 0.36048817, 0.02442799],\n",
       "       ...,\n",
       "       [0.62191295, 0.36964063, 0.00844642],\n",
       "       [0.62191295, 0.36964063, 0.00844642],\n",
       "       [0.37490193, 0.49369458, 0.13140349]])"
      ]
     },
     "execution_count": 78,
     "metadata": {},
     "output_type": "execute_result"
    }
   ],
   "source": [
    "y_score_rf_hyper = rf_best.fit(X_train_scaled, y_train).predict_proba(X_test_scaled)\n",
    "y_score_rf_hyper"
   ]
  },
  {
   "cell_type": "code",
   "execution_count": 79,
   "metadata": {},
   "outputs": [
    {
     "data": {
      "image/png": "[encoded data removed]",
      "text/plain": [
       "<Figure size 1440x432 with 1 Axes>"
      ]
     },
     "metadata": {
      "needs_background": "light"
     },
     "output_type": "display_data"
    }
   ],
   "source": [
    "plot_multiclass_roc(y_score_rf_hyper, X_test_scaled, y_test, n_classes=3, figsize=(20, 6))"
   ]
  },
  {
   "cell_type": "code",
   "execution_count": 80,
   "metadata": {},
   "outputs": [
    {
     "name": "stdout",
     "output_type": "stream",
     "text": [
      "              precision    recall  f1-score   support\n",
      "\n",
      "           3       1.00      1.00      1.00       220\n",
      "          20       1.00      1.00      1.00       220\n",
      "         100       1.00      1.00      1.00       222\n",
      "\n",
      "    accuracy                           1.00       662\n",
      "   macro avg       1.00      1.00      1.00       662\n",
      "weighted avg       1.00      1.00      1.00       662\n",
      "\n"
     ]
    }
   ],
   "source": [
    "from sklearn.metrics import classification_report\n",
    "\n",
    "print(classification_report(y_test, rf_best.predict(X_test_scaled)))"
   ]
  },
  {
   "cell_type": "markdown",
   "metadata": {},
   "source": [
    "### Feature extraction using PCA"
   ]
  },
  {
   "cell_type": "code",
   "execution_count": null,
   "metadata": {},
   "outputs": [],
   "source": [
    "from sklearn.decomposition import PCA"
   ]
  },
  {
   "cell_type": "code",
   "execution_count": null,
   "metadata": {},
   "outputs": [],
   "source": [
    "pca = PCA(random_state=42)\n",
    "X_train_pca = pca.fit(X_train_scaled)"
   ]
  },
  {
   "cell_type": "code",
   "execution_count": null,
   "metadata": {},
   "outputs": [],
   "source": [
    "pca.components_"
   ]
  },
  {
   "cell_type": "code",
   "execution_count": null,
   "metadata": {},
   "outputs": [],
   "source": [
    "pca.explained_variance_ratio_"
   ]
  },
  {
   "cell_type": "code",
   "execution_count": null,
   "metadata": {},
   "outputs": [],
   "source": [
    "var_cumu = np.cumsum(pca.explained_variance_ratio_)\n",
    "fig = plt.figure(figsize=[10,5])\n",
    "plt.vlines(x=15, ymax=1, ymin=0, colors=\"r\", linestyles=\"--\")\n",
    "plt.hlines(y=0.95, xmax=30, xmin=0, colors=\"g\", linestyles=\"--\")\n",
    "plt.plot(var_cumu)\n",
    "plt.ylabel(\"Cumulative variance explained\")\n",
    "plt.show()"
   ]
  },
  {
   "cell_type": "code",
   "execution_count": null,
   "metadata": {},
   "outputs": [],
   "source": [
    "from sklearn.decomposition import IncrementalPCA\n",
    "pca_final = IncrementalPCA(n_components=17)\n",
    "\n",
    "X_train_pca = pca_final.fit_transform(X_train_scaled)\n",
    "X_test_pca = pca_final.transform(X_test_scaled)\n"
   ]
  },
  {
   "cell_type": "code",
   "execution_count": null,
   "metadata": {},
   "outputs": [],
   "source": [
    "print(X_train_pca.shape)\n",
    "print(X_test_pca.shape)"
   ]
  },
  {
   "cell_type": "markdown",
   "metadata": {},
   "source": [
    "### SVM + PCA"
   ]
  },
  {
   "cell_type": "code",
   "execution_count": null,
   "metadata": {},
   "outputs": [],
   "source": [
    "svm_model_linear = SVC(kernel = 'linear', C = 1).fit(X_train_pca, y_train)\n",
    "svm_predictions = svm_model_linear.predict(X_test_pca)"
   ]
  },
  {
   "cell_type": "code",
   "execution_count": 92,
   "metadata": {},
   "outputs": [],
   "source": [
    "def cmatrixpca(model):\n",
    "    fig, ax = plt.subplots(figsize=(6, 6))\n",
    "    ax.set_title('Confusion Matrix')\n",
    "    disp = metrics.plot_confusion_matrix(model, X_test_pca,y_test,display_labels= ['Close to Failure','Reduced efficiency','Full Efficiency'],   ax = ax)\n",
    "    return disp.confusion_matrix\n",
    "    "
   ]
  },
  {
   "cell_type": "code",
   "execution_count": null,
   "metadata": {
    "scrolled": true
   },
   "outputs": [],
   "source": [
    "cmatrixpca(svm_model_linear)"
   ]
  },
  {
   "cell_type": "code",
   "execution_count": null,
   "metadata": {},
   "outputs": [],
   "source": [
    "y_score_svm_pca = svm_model_linear.fit(X_train_pca, y_train).decision_function(X_test_pca)\n",
    "y_score_svm_pca"
   ]
  },
  {
   "cell_type": "code",
   "execution_count": 85,
   "metadata": {},
   "outputs": [],
   "source": [
    "def plot_multiclass_roc_pca(y_score, X_test, y_test, n_classes= 3, figsize = (20,6)):\n",
    "\n",
    "    # structures\n",
    "    fpr = dict()\n",
    "    tpr = dict()\n",
    "    roc_auc = dict()\n",
    "\n",
    "    # calculate dummies once\n",
    "    y_test_dummies = pd.get_dummies(y_test, drop_first=False).values\n",
    "    for i in range(n_classes):\n",
    "        fpr[i], tpr[i], _ = roc_curve(y_test_dummies[:, i], y_score[:, i])\n",
    "        roc_auc[i] = auc(fpr[i], tpr[i])\n",
    "\n",
    "    fig, ax = plt.subplots(figsize=figsize)\n",
    "    ax.plot([0, 1], [0, 1], 'k--')\n",
    "    ax.set_xlim([0.0, 1.0])\n",
    "    ax.set_ylim([0.0, 1.05])\n",
    "    ax.set_xlabel('False Positive Rate')\n",
    "    ax.set_ylabel('True Positive Rate')\n",
    "    ax.set_title('Receiver operating curve')\n",
    "    for i in range(n_classes):\n",
    "        ax.plot(fpr[i], tpr[i], label='ROC curve (area = %0.2f) for label %i' % (roc_auc[i], i))\n",
    "    ax.legend(loc=\"best\")\n",
    "    ax.grid(alpha=.4)\n",
    "    sns.despine()\n",
    "    plt.show()"
   ]
  },
  {
   "cell_type": "code",
   "execution_count": null,
   "metadata": {},
   "outputs": [],
   "source": [
    "plot_multiclass_roc_pca(y_score_svm_pca, X_test_pca, y_test, n_classes=3, figsize=(20, 6))"
   ]
  },
  {
   "cell_type": "code",
   "execution_count": null,
   "metadata": {},
   "outputs": [],
   "source": [
    "print(classification_report(y_test, svm_model_linear.predict(X_test_pca)))"
   ]
  },
  {
   "cell_type": "markdown",
   "metadata": {},
   "source": [
    "### kNN + PCA"
   ]
  },
  {
   "cell_type": "code",
   "execution_count": 90,
   "metadata": {},
   "outputs": [],
   "source": [
    "# training a KNN classifier\n",
    "from sklearn.neighbors import KNeighborsClassifier\n",
    "knn_pca = KNeighborsClassifier(n_neighbors = 7).fit(X_train_pca, y_train)\n"
   ]
  },
  {
   "cell_type": "code",
   "execution_count": 93,
   "metadata": {},
   "outputs": [
    {
     "data": {
      "text/plain": [
       "array([[219,   0,   1],\n",
       "       [  1, 219,   0],\n",
       "       [  0,   0, 222]], dtype=int64)"
      ]
     },
     "execution_count": 93,
     "metadata": {},
     "output_type": "execute_result"
    },
    {
     "data": {
      "image/png": "[encoded data removed]",
      "text/plain": [
       "<Figure size 432x432 with 2 Axes>"
      ]
     },
     "metadata": {
      "needs_background": "light"
     },
     "output_type": "display_data"
    }
   ],
   "source": [
    "cmatrixpca(knn_pca)"
   ]
  },
  {
   "cell_type": "code",
   "execution_count": 94,
   "metadata": {},
   "outputs": [
    {
     "data": {
      "text/plain": [
       "array([[0.        , 0.14285714, 0.85714286],\n",
       "       [0.        , 1.        , 0.        ],\n",
       "       [1.        , 0.        , 0.        ],\n",
       "       ...,\n",
       "       [1.        , 0.        , 0.        ],\n",
       "       [1.        , 0.        , 0.        ],\n",
       "       [0.        , 1.        , 0.        ]])"
      ]
     },
     "execution_count": 94,
     "metadata": {},
     "output_type": "execute_result"
    }
   ],
   "source": [
    "y_score_knnpca = knn_pca.fit(X_train_pca, y_train).predict_proba(X_test_pca)\n",
    "y_score_knnpca"
   ]
  },
  {
   "cell_type": "code",
   "execution_count": 95,
   "metadata": {},
   "outputs": [
    {
     "data": {
      "image/png": "[encoded data removed]",
      "text/plain": [
       "<Figure size 1440x432 with 1 Axes>"
      ]
     },
     "metadata": {
      "needs_background": "light"
     },
     "output_type": "display_data"
    }
   ],
   "source": [
    "plot_multiclass_roc_pca(y_score_knnpca, X_test_pca, y_test, n_classes=3, figsize=(20, 6))"
   ]
  },
  {
   "cell_type": "code",
   "execution_count": 96,
   "metadata": {},
   "outputs": [
    {
     "name": "stdout",
     "output_type": "stream",
     "text": [
      "              precision    recall  f1-score   support\n",
      "\n",
      "           3       1.00      1.00      1.00       220\n",
      "          20       1.00      1.00      1.00       220\n",
      "         100       1.00      1.00      1.00       222\n",
      "\n",
      "    accuracy                           1.00       662\n",
      "   macro avg       1.00      1.00      1.00       662\n",
      "weighted avg       1.00      1.00      1.00       662\n",
      "\n"
     ]
    }
   ],
   "source": [
    "print(classification_report(y_test, knn_pca.predict(X_test_pca)))"
   ]
  },
  {
   "cell_type": "markdown",
   "metadata": {},
   "source": [
    "### Noise "
   ]
  },
  {
   "cell_type": "code",
   "execution_count": 87,
   "metadata": {},
   "outputs": [],
   "source": [
    "import numpy as np \n",
    "mu, sigma = 0, np.std(X_test_scaled)*0.20\n",
    "noise = np.random.normal(mu, sigma, X_test_scaled.shape)\n",
    "noise.shape\n",
    "\n",
    "X_testnoise = X_test_scaled + noise"
   ]
  },
  {
   "cell_type": "code",
   "execution_count": 82,
   "metadata": {},
   "outputs": [
    {
     "name": "stdout",
     "output_type": "stream",
     "text": [
      "              precision    recall  f1-score   support\n",
      "\n",
      "           3       0.95      0.99      0.97       220\n",
      "          20       1.00      0.95      0.97       220\n",
      "         100       0.99      1.00      1.00       222\n",
      "\n",
      "    accuracy                           0.98       662\n",
      "   macro avg       0.98      0.98      0.98       662\n",
      "weighted avg       0.98      0.98      0.98       662\n",
      "\n"
     ]
    }
   ],
   "source": [
    "\n",
    "print(classification_report(y_test, rf_best.predict(X_testnoise)))"
   ]
  },
  {
   "cell_type": "code",
   "execution_count": 83,
   "metadata": {},
   "outputs": [
    {
     "data": {
      "text/plain": [
       "array([[0.1470433 , 0.25208281, 0.60087389],\n",
       "       [0.3116322 , 0.45147481, 0.23689298],\n",
       "       [0.61213326, 0.36014251, 0.02772423],\n",
       "       ...,\n",
       "       [0.5862652 , 0.36041949, 0.05331531],\n",
       "       [0.59309431, 0.36957195, 0.03733374],\n",
       "       [0.38826823, 0.44462674, 0.16710503]])"
      ]
     },
     "execution_count": 83,
     "metadata": {},
     "output_type": "execute_result"
    }
   ],
   "source": [
    "y_score_RFNOISE = rf_best.fit(X_train_scaled, y_train).predict_proba(X_testnoise)\n",
    "y_score_RFNOISE"
   ]
  },
  {
   "cell_type": "code",
   "execution_count": 86,
   "metadata": {},
   "outputs": [
    {
     "data": {
      "image/png": "[encoded data removed]",
      "text/plain": [
       "<Figure size 1440x432 with 1 Axes>"
      ]
     },
     "metadata": {
      "needs_background": "light"
     },
     "output_type": "display_data"
    }
   ],
   "source": [
    "plot_multiclass_roc_pca(y_score_RFNOISE, X_testnoise, y_test, n_classes=3, figsize=(20, 6))"
   ]
  },
  {
   "cell_type": "markdown",
   "metadata": {},
   "source": [
    "### Noise + kNN"
   ]
  },
  {
   "cell_type": "code",
   "execution_count": 88,
   "metadata": {},
   "outputs": [],
   "source": [
    "import numpy as np \n",
    "mu, sigma = 0, np.std(X_test_pca)*0.20\n",
    "noise = np.random.normal(mu, sigma, X_test_pca.shape)\n",
    "noise.shape\n",
    "\n",
    "X_testpcanoise = X_test_pca + noise"
   ]
  },
  {
   "cell_type": "code",
   "execution_count": 97,
   "metadata": {},
   "outputs": [
    {
     "data": {
      "text/plain": [
       "array([[0.        , 0.14285714, 0.85714286],\n",
       "       [0.        , 1.        , 0.        ],\n",
       "       [1.        , 0.        , 0.        ],\n",
       "       ...,\n",
       "       [1.        , 0.        , 0.        ],\n",
       "       [1.        , 0.        , 0.        ],\n",
       "       [0.        , 1.        , 0.        ]])"
      ]
     },
     "execution_count": 97,
     "metadata": {},
     "output_type": "execute_result"
    }
   ],
   "source": [
    "y_score_knnnoise = knn_pca.fit(X_train_pca, y_train).predict_proba(X_testpcanoise)\n",
    "y_score_knnnoise"
   ]
  },
  {
   "cell_type": "code",
   "execution_count": 98,
   "metadata": {},
   "outputs": [
    {
     "data": {
      "image/png": "[encoded data removed]",
      "text/plain": [
       "<Figure size 1440x432 with 1 Axes>"
      ]
     },
     "metadata": {
      "needs_background": "light"
     },
     "output_type": "display_data"
    }
   ],
   "source": [
    "plot_multiclass_roc_pca(y_score_knnnoise, X_testpcanoise, y_test, n_classes=3, figsize=(20, 6))"
   ]
  },
  {
   "cell_type": "code",
   "execution_count": 99,
   "metadata": {},
   "outputs": [
    {
     "name": "stdout",
     "output_type": "stream",
     "text": [
      "              precision    recall  f1-score   support\n",
      "\n",
      "           3       1.00      1.00      1.00       220\n",
      "          20       1.00      1.00      1.00       220\n",
      "         100       1.00      1.00      1.00       222\n",
      "\n",
      "    accuracy                           1.00       662\n",
      "   macro avg       1.00      1.00      1.00       662\n",
      "weighted avg       1.00      1.00      1.00       662\n",
      "\n"
     ]
    }
   ],
   "source": [
    "\n",
    "print(classification_report(y_test, knn_pca.predict(X_testpcanoise)))"
   ]
  },
  {
   "cell_type": "markdown",
   "metadata": {},
   "source": [
    "### Noise + SVM"
   ]
  },
  {
   "cell_type": "code",
   "execution_count": 100,
   "metadata": {},
   "outputs": [
    {
     "data": {
      "text/plain": [
       "array([[-0.30053008,  1.28539036,  2.25413589],\n",
       "       [ 0.79792342,  2.24994004, -0.19769811],\n",
       "       [ 2.25103153,  1.18197558, -0.26987055],\n",
       "       ...,\n",
       "       [ 2.23333162,  1.19831637, -0.26391929],\n",
       "       [ 2.26532279,  1.15740664, -0.27582171],\n",
       "       [ 0.78415911,  2.25443583, -0.19373651]])"
      ]
     },
     "execution_count": 100,
     "metadata": {},
     "output_type": "execute_result"
    }
   ],
   "source": [
    "y_score_svm_pcaNOISE = svm_model_linear.fit(X_train_pca, y_train).decision_function(X_testpcanoise)\n",
    "y_score_svm_pcaNOISE"
   ]
  },
  {
   "cell_type": "code",
   "execution_count": 101,
   "metadata": {},
   "outputs": [
    {
     "data": {
      "image/png": "[encoded data removed]",
      "text/plain": [
       "<Figure size 1440x432 with 1 Axes>"
      ]
     },
     "metadata": {
      "needs_background": "light"
     },
     "output_type": "display_data"
    }
   ],
   "source": [
    "plot_multiclass_roc_pca(y_score_svm_pcaNOISE, X_testpcanoise, y_test, n_classes=3, figsize=(20, 6))"
   ]
  },
  {
   "cell_type": "code",
   "execution_count": 102,
   "metadata": {},
   "outputs": [
    {
     "name": "stdout",
     "output_type": "stream",
     "text": [
      "              precision    recall  f1-score   support\n",
      "\n",
      "           3       1.00      1.00      1.00       220\n",
      "          20       1.00      1.00      1.00       220\n",
      "         100       1.00      1.00      1.00       222\n",
      "\n",
      "    accuracy                           1.00       662\n",
      "   macro avg       1.00      1.00      1.00       662\n",
      "weighted avg       1.00      1.00      1.00       662\n",
      "\n"
     ]
    }
   ],
   "source": [
    "print(classification_report(y_test, svm_model_linear.predict(X_testpcanoise)))"
   ]
  },
  {
   "cell_type": "code",
   "execution_count": null,
   "metadata": {},
   "outputs": [],
   "source": []
  }
 ],
 "metadata": {
  "kernelspec": {
   "display_name": "Python 3",
   "language": "python",
   "name": "python3"
  },
  "language_info": {
   "codemirror_mode": {
    "name": "ipython",
    "version": 3
   },
   "file_extension": ".py",
   "mimetype": "text/x-python",
   "name": "python",
   "nbconvert_exporter": "python",
   "pygments_lexer": "ipython3",
   "version": "3.7.6"
  }
 },
 "nbformat": 4,
 "nbformat_minor": 4
}
