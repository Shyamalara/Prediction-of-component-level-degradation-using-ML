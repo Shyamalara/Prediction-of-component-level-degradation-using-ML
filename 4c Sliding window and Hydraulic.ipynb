{
 "cells": [
  {
   "cell_type": "markdown",
   "metadata": {},
   "source": [
    "### Importing the data"
   ]
  },
  {
   "cell_type": "code",
   "execution_count": 1,
   "metadata": {},
   "outputs": [],
   "source": [
    "import numpy as np \n",
    "import pandas as pd "
   ]
  },
  {
   "cell_type": "code",
   "execution_count": 2,
   "metadata": {},
   "outputs": [],
   "source": [
    "## importing the data\n",
    "## pressure sensors are imported as PS. There are around 6 pressure sensors. They are named as ps1, ps2, ps3, ps4, ps5, ps6. \n",
    "\n",
    "df_ps1 = pd.read_csv('PS1.txt', delimiter = '\\t', header = None)\n",
    "df_ps2 = pd.read_csv('PS2.txt', delimiter = '\\t', header = None)\n",
    "df_ps3 = pd.read_csv('PS3.txt', delimiter = '\\t', header = None)\n",
    "df_ps4 = pd.read_csv('PS4.txt', delimiter = '\\t', header = None)\n",
    "df_ps5 = pd.read_csv('PS5.txt', delimiter = '\\t', header = None)\n",
    "df_ps6 = pd.read_csv('PS6.txt', delimiter = '\\t', header = None)"
   ]
  },
  {
   "cell_type": "code",
   "execution_count": 3,
   "metadata": {},
   "outputs": [],
   "source": [
    "## cooling efficiency and cooling power are imported as ce and cp respectively. \n",
    "\n",
    "df_ce = pd.read_csv('CE.txt',delimiter = '\\t', header = None)\n",
    "df_cp = pd.read_csv('CP.txt', delimiter = '\\t', header = None)\n"
   ]
  },
  {
   "cell_type": "code",
   "execution_count": 4,
   "metadata": {},
   "outputs": [],
   "source": [
    "# temperature sensors are imported as ts. There are around 4 pressure sensors. They are named as ts1, ts2, ts3, ts4.\n",
    "\n",
    "df_ts1 = pd.read_csv('TS1.txt', delimiter = '\\t', header = None)\n",
    "df_ts2 = pd.read_csv('TS2.txt', delimiter = '\\t', header = None)\n",
    "df_ts3 = pd.read_csv('TS3.txt', delimiter = '\\t', header = None)\n",
    "df_ts4 = pd.read_csv('TS4.txt', delimiter = '\\t', header = None)\n"
   ]
  },
  {
   "cell_type": "code",
   "execution_count": 5,
   "metadata": {},
   "outputs": [],
   "source": [
    "# flow sensors are imported as fs. There are around 2 pressure sensors. They are named as fs1, fs2.\n",
    "\n",
    "df_fs1 = pd.read_csv('FS1.txt', delimiter = '\\t', header = None)\n",
    "df_fs2 = pd.read_csv('FS2.txt', delimiter = '\\t', header = None)\n"
   ]
  },
  {
   "cell_type": "code",
   "execution_count": 6,
   "metadata": {},
   "outputs": [],
   "source": [
    "# motor power sensors is imported as eps. \n",
    "# vibration sensors is imported as vs\n",
    "# efficiency power is imported as se\n",
    "\n",
    "\n",
    "df_eps1 = pd.read_csv('EPS1.txt', delimiter = '\\t', header = None)\n",
    "df_se = pd.read_csv('SE.txt', delimiter = '\\t', header = None)\n",
    "df_vs1 = pd.read_csv('VS1.txt', delimiter = '\\t', header = None)\n"
   ]
  },
  {
   "cell_type": "code",
   "execution_count": 7,
   "metadata": {},
   "outputs": [],
   "source": [
    "## function for defining variables like ps1_1, ps1_2 for 17 sensors with different sampling rates\n",
    "\n",
    "def col(n, var):\n",
    "    l = []\n",
    "    for i in range(1,n):\n",
    "        temp = str(var) + '_' + '%d' %i\n",
    "        l.append(temp)\n",
    "    return l\n"
   ]
  },
  {
   "cell_type": "code",
   "execution_count": 8,
   "metadata": {},
   "outputs": [],
   "source": [
    "\n",
    "df_ps1.columns = col(6001,'ps1')\n",
    "df_ps2.columns = col(6001,'ps2')\n",
    "df_ps3.columns = col(6001,'ps3')\n",
    "df_ps4.columns = col(6001,'ps4')\n",
    "df_ps5.columns = col(6001,'ps5')\n",
    "df_ps6.columns = col(6001,'ps6')\n",
    "\n"
   ]
  },
  {
   "cell_type": "code",
   "execution_count": 9,
   "metadata": {},
   "outputs": [],
   "source": [
    "df_ts1.columns = col(61,'ts1')\n",
    "df_ts2.columns = col(61,'ts2')\n",
    "df_ts3.columns = col(61,'ts3')\n",
    "df_ts4.columns = col(61,'ts4')\n"
   ]
  },
  {
   "cell_type": "code",
   "execution_count": 10,
   "metadata": {},
   "outputs": [],
   "source": [
    "df_fs1.columns = col(601,'fs1')\n",
    "df_fs2.columns = col(601,'fs2')"
   ]
  },
  {
   "cell_type": "code",
   "execution_count": 11,
   "metadata": {},
   "outputs": [],
   "source": [
    "df_vs1.columns = col(61,'vs1')"
   ]
  },
  {
   "cell_type": "code",
   "execution_count": 12,
   "metadata": {},
   "outputs": [],
   "source": [
    "df_ce.columns = col(61,'ce')"
   ]
  },
  {
   "cell_type": "code",
   "execution_count": 13,
   "metadata": {},
   "outputs": [],
   "source": [
    "df_cp.columns = col(61,'cp')"
   ]
  },
  {
   "cell_type": "code",
   "execution_count": 14,
   "metadata": {},
   "outputs": [],
   "source": [
    "df_ps = pd.concat([df_ps1, df_ps2, df_ps3, df_ps4, df_ps5, df_ps6], axis = 1)\n",
    "df_ts = pd.concat([df_ts1, df_ts2, df_ts3, df_ts4], axis = 1)\n",
    "df_fs = pd.concat([df_fs1, df_fs2], axis = 1)\n",
    "df_vir = pd.concat([df_cp, df_ce, df_eps1, df_se, df_vs1], axis = 1)"
   ]
  },
  {
   "cell_type": "code",
   "execution_count": 15,
   "metadata": {},
   "outputs": [
    {
     "data": {
      "text/html": [
       "<div>\n",
       "<style scoped>\n",
       "    .dataframe tbody tr th:only-of-type {\n",
       "        vertical-align: middle;\n",
       "    }\n",
       "\n",
       "    .dataframe tbody tr th {\n",
       "        vertical-align: top;\n",
       "    }\n",
       "\n",
       "    .dataframe thead th {\n",
       "        text-align: right;\n",
       "    }\n",
       "</style>\n",
       "<table border=\"1\" class=\"dataframe\">\n",
       "  <thead>\n",
       "    <tr style=\"text-align: right;\">\n",
       "      <th></th>\n",
       "      <th>ps1_1</th>\n",
       "      <th>ps1_2</th>\n",
       "      <th>ps1_3</th>\n",
       "      <th>ps1_4</th>\n",
       "      <th>ps1_5</th>\n",
       "      <th>ps1_6</th>\n",
       "      <th>ps1_7</th>\n",
       "      <th>ps1_8</th>\n",
       "      <th>ps1_9</th>\n",
       "      <th>ps1_10</th>\n",
       "      <th>...</th>\n",
       "      <th>vs1_51</th>\n",
       "      <th>vs1_52</th>\n",
       "      <th>vs1_53</th>\n",
       "      <th>vs1_54</th>\n",
       "      <th>vs1_55</th>\n",
       "      <th>vs1_56</th>\n",
       "      <th>vs1_57</th>\n",
       "      <th>vs1_58</th>\n",
       "      <th>vs1_59</th>\n",
       "      <th>vs1_60</th>\n",
       "    </tr>\n",
       "  </thead>\n",
       "  <tbody>\n",
       "    <tr>\n",
       "      <th>0</th>\n",
       "      <td>151.47</td>\n",
       "      <td>151.45</td>\n",
       "      <td>151.52</td>\n",
       "      <td>151.27</td>\n",
       "      <td>150.80</td>\n",
       "      <td>150.69</td>\n",
       "      <td>153.89</td>\n",
       "      <td>154.67</td>\n",
       "      <td>152.88</td>\n",
       "      <td>153.82</td>\n",
       "      <td>...</td>\n",
       "      <td>0.554</td>\n",
       "      <td>0.552</td>\n",
       "      <td>0.545</td>\n",
       "      <td>0.553</td>\n",
       "      <td>0.553</td>\n",
       "      <td>0.539</td>\n",
       "      <td>0.544</td>\n",
       "      <td>0.545</td>\n",
       "      <td>0.535</td>\n",
       "      <td>0.543</td>\n",
       "    </tr>\n",
       "    <tr>\n",
       "      <th>1</th>\n",
       "      <td>151.11</td>\n",
       "      <td>151.12</td>\n",
       "      <td>151.16</td>\n",
       "      <td>150.92</td>\n",
       "      <td>150.70</td>\n",
       "      <td>150.62</td>\n",
       "      <td>152.40</td>\n",
       "      <td>153.21</td>\n",
       "      <td>152.81</td>\n",
       "      <td>153.53</td>\n",
       "      <td>...</td>\n",
       "      <td>0.555</td>\n",
       "      <td>0.547</td>\n",
       "      <td>0.548</td>\n",
       "      <td>0.544</td>\n",
       "      <td>0.536</td>\n",
       "      <td>0.542</td>\n",
       "      <td>0.540</td>\n",
       "      <td>0.533</td>\n",
       "      <td>0.531</td>\n",
       "      <td>0.534</td>\n",
       "    </tr>\n",
       "    <tr>\n",
       "      <th>2</th>\n",
       "      <td>150.81</td>\n",
       "      <td>150.79</td>\n",
       "      <td>150.84</td>\n",
       "      <td>150.65</td>\n",
       "      <td>150.35</td>\n",
       "      <td>150.23</td>\n",
       "      <td>152.03</td>\n",
       "      <td>152.81</td>\n",
       "      <td>152.44</td>\n",
       "      <td>153.27</td>\n",
       "      <td>...</td>\n",
       "      <td>0.543</td>\n",
       "      <td>0.544</td>\n",
       "      <td>0.543</td>\n",
       "      <td>0.554</td>\n",
       "      <td>0.544</td>\n",
       "      <td>0.544</td>\n",
       "      <td>0.545</td>\n",
       "      <td>0.544</td>\n",
       "      <td>0.530</td>\n",
       "      <td>0.534</td>\n",
       "    </tr>\n",
       "    <tr>\n",
       "      <th>3</th>\n",
       "      <td>150.48</td>\n",
       "      <td>150.47</td>\n",
       "      <td>150.52</td>\n",
       "      <td>150.31</td>\n",
       "      <td>150.04</td>\n",
       "      <td>149.98</td>\n",
       "      <td>151.63</td>\n",
       "      <td>152.48</td>\n",
       "      <td>152.24</td>\n",
       "      <td>152.94</td>\n",
       "      <td>...</td>\n",
       "      <td>0.549</td>\n",
       "      <td>0.538</td>\n",
       "      <td>0.553</td>\n",
       "      <td>0.543</td>\n",
       "      <td>0.553</td>\n",
       "      <td>0.555</td>\n",
       "      <td>0.544</td>\n",
       "      <td>0.543</td>\n",
       "      <td>0.543</td>\n",
       "      <td>0.542</td>\n",
       "    </tr>\n",
       "    <tr>\n",
       "      <th>4</th>\n",
       "      <td>150.41</td>\n",
       "      <td>150.35</td>\n",
       "      <td>150.24</td>\n",
       "      <td>150.12</td>\n",
       "      <td>149.87</td>\n",
       "      <td>149.71</td>\n",
       "      <td>151.64</td>\n",
       "      <td>152.37</td>\n",
       "      <td>151.78</td>\n",
       "      <td>152.68</td>\n",
       "      <td>...</td>\n",
       "      <td>0.546</td>\n",
       "      <td>0.546</td>\n",
       "      <td>0.544</td>\n",
       "      <td>0.552</td>\n",
       "      <td>0.539</td>\n",
       "      <td>0.540</td>\n",
       "      <td>0.549</td>\n",
       "      <td>0.542</td>\n",
       "      <td>0.533</td>\n",
       "      <td>0.537</td>\n",
       "    </tr>\n",
       "  </tbody>\n",
       "</table>\n",
       "<p>5 rows × 43680 columns</p>\n",
       "</div>"
      ],
      "text/plain": [
       "    ps1_1   ps1_2   ps1_3   ps1_4   ps1_5   ps1_6   ps1_7   ps1_8   ps1_9  \\\n",
       "0  151.47  151.45  151.52  151.27  150.80  150.69  153.89  154.67  152.88   \n",
       "1  151.11  151.12  151.16  150.92  150.70  150.62  152.40  153.21  152.81   \n",
       "2  150.81  150.79  150.84  150.65  150.35  150.23  152.03  152.81  152.44   \n",
       "3  150.48  150.47  150.52  150.31  150.04  149.98  151.63  152.48  152.24   \n",
       "4  150.41  150.35  150.24  150.12  149.87  149.71  151.64  152.37  151.78   \n",
       "\n",
       "   ps1_10  ...  vs1_51  vs1_52  vs1_53  vs1_54  vs1_55  vs1_56  vs1_57  \\\n",
       "0  153.82  ...   0.554   0.552   0.545   0.553   0.553   0.539   0.544   \n",
       "1  153.53  ...   0.555   0.547   0.548   0.544   0.536   0.542   0.540   \n",
       "2  153.27  ...   0.543   0.544   0.543   0.554   0.544   0.544   0.545   \n",
       "3  152.94  ...   0.549   0.538   0.553   0.543   0.553   0.555   0.544   \n",
       "4  152.68  ...   0.546   0.546   0.544   0.552   0.539   0.540   0.549   \n",
       "\n",
       "   vs1_58  vs1_59  vs1_60  \n",
       "0   0.545   0.535   0.543  \n",
       "1   0.533   0.531   0.534  \n",
       "2   0.544   0.530   0.534  \n",
       "3   0.543   0.543   0.542  \n",
       "4   0.542   0.533   0.537  \n",
       "\n",
       "[5 rows x 43680 columns]"
      ]
     },
     "execution_count": 15,
     "metadata": {},
     "output_type": "execute_result"
    }
   ],
   "source": [
    "df = pd.concat([df_ps, df_ts, df_fs, df_vir], axis = 1)\n",
    "df.head()"
   ]
  },
  {
   "cell_type": "code",
   "execution_count": 16,
   "metadata": {},
   "outputs": [],
   "source": [
    "#pip install tsfresh"
   ]
  },
  {
   "cell_type": "markdown",
   "metadata": {},
   "source": [
    "### Function for window statistical features"
   ]
  },
  {
   "cell_type": "code",
   "execution_count": 17,
   "metadata": {},
   "outputs": [
    {
     "data": {
      "text/html": [
       "<div>\n",
       "<style scoped>\n",
       "    .dataframe tbody tr th:only-of-type {\n",
       "        vertical-align: middle;\n",
       "    }\n",
       "\n",
       "    .dataframe tbody tr th {\n",
       "        vertical-align: top;\n",
       "    }\n",
       "\n",
       "    .dataframe thead th {\n",
       "        text-align: right;\n",
       "    }\n",
       "</style>\n",
       "<table border=\"1\" class=\"dataframe\">\n",
       "  <thead>\n",
       "    <tr style=\"text-align: right;\">\n",
       "      <th></th>\n",
       "    </tr>\n",
       "  </thead>\n",
       "  <tbody>\n",
       "    <tr>\n",
       "      <th>0</th>\n",
       "    </tr>\n",
       "    <tr>\n",
       "      <th>1</th>\n",
       "    </tr>\n",
       "    <tr>\n",
       "      <th>2</th>\n",
       "    </tr>\n",
       "    <tr>\n",
       "      <th>3</th>\n",
       "    </tr>\n",
       "    <tr>\n",
       "      <th>4</th>\n",
       "    </tr>\n",
       "  </tbody>\n",
       "</table>\n",
       "</div>"
      ],
      "text/plain": [
       "Empty DataFrame\n",
       "Columns: []\n",
       "Index: [0, 1, 2, 3, 4]"
      ]
     },
     "execution_count": 17,
     "metadata": {},
     "output_type": "execute_result"
    }
   ],
   "source": [
    "df_ps4.filter(regex=\"ps_mean_.*\").head()"
   ]
  },
  {
   "cell_type": "code",
   "execution_count": 18,
   "metadata": {},
   "outputs": [],
   "source": [
    "def sensor_statistic(dataframe, window_length, sensor) : \n",
    "    df_statistic = pd.DataFrame(index = dataframe.index)\n",
    "    columns = dataframe.columns.tolist()[1:]\n",
    "\n",
    "    # window_length = 60 \n",
    "    start = 0\n",
    "\n",
    "    windows = []\n",
    "    for i in range(start,len(columns),window_length) : \n",
    "        windows.append(columns[start : start + window_length])\n",
    "        start = start + window_length\n",
    "\n",
    "    print(len(windows),window_length,dataframe.shape)\n",
    "\n",
    "    for i in range(len(windows)) :  # change the mean to appropriate statistic\n",
    "            df_statistic[str(sensor)+str(i)] = dataframe[windows[i]].mean(axis=1)\n",
    "\n",
    "    return df_statistic\n",
    "\n"
   ]
  },
  {
   "cell_type": "code",
   "execution_count": 19,
   "metadata": {},
   "outputs": [
    {
     "name": "stdout",
     "output_type": "stream",
     "text": [
      "20 300 (2205, 6000)\n",
      "20 300 (2205, 6000)\n",
      "20 300 (2205, 6000)\n",
      "20 300 (2205, 6000)\n",
      "20 300 (2205, 6000)\n",
      "20 300 (2205, 6000)\n"
     ]
    }
   ],
   "source": [
    "window_length = 300\n",
    "ps1_window_mean  = sensor_statistic(df_ps1, window_length, 'ps1_mean_')\n",
    "\n",
    "ps2_window_mean  = sensor_statistic(df_ps2, window_length, 'ps2_mean_')\n",
    "\n",
    "ps3_window_mean  = sensor_statistic(df_ps3, window_length, 'ps3_mean_')\n",
    "\n",
    "ps4_window_mean  = sensor_statistic(df_ps4, window_length, 'ps4_mean_')\n",
    "\n",
    "ps5_window_mean  = sensor_statistic(df_ps5, window_length, 'ps5_mean_')\n",
    "\n",
    "ps6_window_mean  = sensor_statistic(df_ps6, window_length, 'ps6_mean_')"
   ]
  },
  {
   "cell_type": "code",
   "execution_count": 20,
   "metadata": {},
   "outputs": [
    {
     "name": "stdout",
     "output_type": "stream",
     "text": [
      "20 3 (2205, 60)\n",
      "20 3 (2205, 60)\n",
      "20 3 (2205, 60)\n",
      "20 3 (2205, 60)\n"
     ]
    }
   ],
   "source": [
    "window_length = 3\n",
    "ts1_window_mean  = sensor_statistic(df_ts1, window_length, 'ts1_mean_')\n",
    "\n",
    "ts2_window_mean  = sensor_statistic(df_ts2, window_length,'ts2_mean_')\n",
    "\n",
    "ts3_window_mean  = sensor_statistic(df_ts3, window_length,'ts3_mean_')\n",
    "\n",
    "ts4_window_mean  = sensor_statistic(df_ts4, window_length,'ts4_mean_')\n",
    "\n"
   ]
  },
  {
   "cell_type": "code",
   "execution_count": 21,
   "metadata": {},
   "outputs": [
    {
     "name": "stdout",
     "output_type": "stream",
     "text": [
      "20 30 (2205, 600)\n",
      "20 30 (2205, 600)\n"
     ]
    }
   ],
   "source": [
    "window_length = 30\n",
    "fs1_window_mean  = sensor_statistic(df_fs1, window_length,'fs1_mean_')\n",
    "\n",
    "fs2_window_mean  = sensor_statistic(df_fs2, window_length,'fs2_mean_')\n"
   ]
  },
  {
   "cell_type": "code",
   "execution_count": 22,
   "metadata": {},
   "outputs": [
    {
     "name": "stdout",
     "output_type": "stream",
     "text": [
      "20 3 (2205, 60)\n",
      "20 3 (2205, 60)\n",
      "20 3 (2205, 60)\n",
      "20 3 (2205, 60)\n"
     ]
    }
   ],
   "source": [
    "window_length = 3\n",
    "\n",
    "ce_window_mean  = sensor_statistic(df_ce, window_length,'ce_mean_')\n",
    "\n",
    "cp_window_mean  = sensor_statistic(df_cp, window_length,'cp_mean_')\n",
    "\n",
    "se_window_mean  = sensor_statistic(df_se, window_length,'se_mean_')\n",
    "\n",
    "vs1_window_mean  = sensor_statistic(df_vs1, window_length,'vs1_mean_')\n",
    "\n",
    "\n"
   ]
  },
  {
   "cell_type": "code",
   "execution_count": 23,
   "metadata": {},
   "outputs": [
    {
     "name": "stdout",
     "output_type": "stream",
     "text": [
      "20 300 (2205, 6000)\n"
     ]
    }
   ],
   "source": [
    "window_length = 300\n",
    "eps1_window_mean  = sensor_statistic(df_eps1, window_length,'eps1_mean_')\n"
   ]
  },
  {
   "cell_type": "code",
   "execution_count": 24,
   "metadata": {},
   "outputs": [],
   "source": [
    "mean_data = pd.concat([ps1_window_mean, ps2_window_mean, ps3_window_mean, ps4_window_mean, ps5_window_mean, \n",
    "                      ps6_window_mean, ts1_window_mean, ts2_window_mean, ts3_window_mean, ts4_window_mean,\n",
    "                      fs1_window_mean, fs2_window_mean, eps1_window_mean, vs1_window_mean, ce_window_mean, \n",
    "                      cp_window_mean, se_window_mean], axis = 1)"
   ]
  },
  {
   "cell_type": "code",
   "execution_count": 25,
   "metadata": {
    "scrolled": true
   },
   "outputs": [
    {
     "data": {
      "text/plain": [
       "(2205, 340)"
      ]
     },
     "execution_count": 25,
     "metadata": {},
     "output_type": "execute_result"
    }
   ],
   "source": [
    "mean_data.shape"
   ]
  },
  {
   "cell_type": "markdown",
   "metadata": {},
   "source": [
    "### Calculate median for all sensors"
   ]
  },
  {
   "cell_type": "code",
   "execution_count": 26,
   "metadata": {},
   "outputs": [],
   "source": [
    "def sensor_median(dataframe, window_length, sensor) : \n",
    "    df_statistic = pd.DataFrame(index = dataframe.index)\n",
    "    columns = dataframe.columns.tolist()[1:]\n",
    "\n",
    "    # window_length = 60 \n",
    "    start = 0\n",
    "\n",
    "    windows = []\n",
    "    for i in range(start,len(columns),window_length) : \n",
    "        windows.append(columns[start : start + window_length])\n",
    "        start = start + window_length\n",
    "\n",
    "    print(len(windows),window_length,dataframe.shape)\n",
    "\n",
    "    for i in range(len(windows)) :  # change the mean to appropriate statistic\n",
    "            df_statistic[str(sensor)+str(i)] = dataframe[windows[i]].median(axis=1)\n",
    "\n",
    "    return df_statistic\n",
    "\n"
   ]
  },
  {
   "cell_type": "code",
   "execution_count": 27,
   "metadata": {},
   "outputs": [
    {
     "name": "stdout",
     "output_type": "stream",
     "text": [
      "20 300 (2205, 6000)\n",
      "20 300 (2205, 6000)\n",
      "20 300 (2205, 6000)\n",
      "20 300 (2205, 6000)\n",
      "20 300 (2205, 6000)\n",
      "20 300 (2205, 6000)\n",
      "20 300 (2205, 6000)\n"
     ]
    }
   ],
   "source": [
    "window_length = 300\n",
    "\n",
    "ps1_window_median  = sensor_median(df_ps1, window_length, 'ps1_median_')\n",
    "\n",
    "ps2_window_median  = sensor_median(df_ps2, window_length, 'ps2_median_')\n",
    "\n",
    "ps3_window_median  = sensor_median(df_ps3, window_length, 'ps3_median_')\n",
    "\n",
    "ps4_window_median  = sensor_median(df_ps4, window_length, 'ps4_median_')\n",
    "\n",
    "ps5_window_median  = sensor_median(df_ps5, window_length, 'ps5_median_')\n",
    "\n",
    "ps6_window_median  = sensor_median(df_ps6, window_length, 'ps6_median_')\n",
    "\n",
    "eps1_window_median  = sensor_median(df_eps1, window_length,'eps1_median_')"
   ]
  },
  {
   "cell_type": "code",
   "execution_count": 28,
   "metadata": {},
   "outputs": [
    {
     "name": "stdout",
     "output_type": "stream",
     "text": [
      "20 3 (2205, 60)\n",
      "20 3 (2205, 60)\n",
      "20 3 (2205, 60)\n",
      "20 3 (2205, 60)\n"
     ]
    }
   ],
   "source": [
    "window_length = 3\n",
    "ts1_window_median  = sensor_median(df_ts1, window_length, 'ts1_median_')\n",
    "\n",
    "ts2_window_median  = sensor_median(df_ts2, window_length,'ts2_median_')\n",
    "\n",
    "ts3_window_median  = sensor_median(df_ts3, window_length,'ts3_median_')\n",
    "\n",
    "ts4_window_median  = sensor_median(df_ts4, window_length,'ts4_median_')\n",
    "\n"
   ]
  },
  {
   "cell_type": "code",
   "execution_count": 29,
   "metadata": {},
   "outputs": [
    {
     "name": "stdout",
     "output_type": "stream",
     "text": [
      "20 30 (2205, 600)\n",
      "20 30 (2205, 600)\n"
     ]
    }
   ],
   "source": [
    "window_length = 30\n",
    "fs1_window_median  = sensor_median(df_fs1, window_length,'fs1_median_')\n",
    "\n",
    "fs2_window_median  = sensor_median(df_fs2, window_length,'fs2_median_')\n"
   ]
  },
  {
   "cell_type": "code",
   "execution_count": 30,
   "metadata": {},
   "outputs": [
    {
     "name": "stdout",
     "output_type": "stream",
     "text": [
      "20 3 (2205, 60)\n",
      "20 3 (2205, 60)\n",
      "20 3 (2205, 60)\n",
      "20 3 (2205, 60)\n"
     ]
    }
   ],
   "source": [
    "window_length = 3\n",
    "\n",
    "ce_window_median  = sensor_median(df_ce, window_length,'ce_median_')\n",
    "\n",
    "cp_window_median  = sensor_median(df_cp, window_length,'cp_median_')\n",
    "\n",
    "se_window_median  = sensor_median(df_se, window_length,'se_median_')\n",
    "\n",
    "vs1_window_median  = sensor_median(df_vs1, window_length,'vs1_median_')\n",
    "\n",
    "\n"
   ]
  },
  {
   "cell_type": "code",
   "execution_count": 31,
   "metadata": {},
   "outputs": [],
   "source": [
    "median_data = pd.concat([ps1_window_median, ps2_window_median, ps3_window_median, ps4_window_median, ps5_window_median,\n",
    "                                    ps6_window_median, ts1_window_median, ts2_window_median, ts3_window_median, ts4_window_median,\n",
    "                                    fs1_window_median, fs2_window_median, eps1_window_median, vs1_window_median, ce_window_median,\n",
    "                                    cp_window_median, se_window_median], axis = 1)\n",
    "                         "
   ]
  },
  {
   "cell_type": "code",
   "execution_count": 32,
   "metadata": {},
   "outputs": [
    {
     "data": {
      "text/plain": [
       "(2205, 340)"
      ]
     },
     "execution_count": 32,
     "metadata": {},
     "output_type": "execute_result"
    }
   ],
   "source": [
    "median_data.shape"
   ]
  },
  {
   "cell_type": "markdown",
   "metadata": {},
   "source": [
    "### Finding the maximum "
   ]
  },
  {
   "cell_type": "code",
   "execution_count": 33,
   "metadata": {},
   "outputs": [],
   "source": [
    "def sensor_max(dataframe, window_length, sensor) : \n",
    "    df_statistic = pd.DataFrame(index = dataframe.index)\n",
    "    columns = dataframe.columns.tolist()[1:]\n",
    "\n",
    "    # window_length = 60 \n",
    "    start = 0\n",
    "\n",
    "    windows = []\n",
    "    for i in range(start,len(columns),window_length) : \n",
    "        windows.append(columns[start : start + window_length])\n",
    "        start = start + window_length\n",
    "\n",
    "    print(len(windows),window_length,dataframe.shape)\n",
    "\n",
    "    for i in range(len(windows)) :  # change the mean to appropriate statistic\n",
    "            df_statistic[str(sensor)+str(i)] = dataframe[windows[i]].max(axis=1)\n",
    "\n",
    "    return df_statistic\n",
    "\n"
   ]
  },
  {
   "cell_type": "code",
   "execution_count": 34,
   "metadata": {},
   "outputs": [
    {
     "name": "stdout",
     "output_type": "stream",
     "text": [
      "20 300 (2205, 6000)\n",
      "20 300 (2205, 6000)\n",
      "20 300 (2205, 6000)\n",
      "20 300 (2205, 6000)\n",
      "20 300 (2205, 6000)\n",
      "20 300 (2205, 6000)\n",
      "20 300 (2205, 6000)\n"
     ]
    }
   ],
   "source": [
    "window_length = 300\n",
    "\n",
    "ps1_window_max  = sensor_max(df_ps1, window_length, 'ps1_max_')\n",
    "\n",
    "ps2_window_max  = sensor_max(df_ps2, window_length, 'ps2_max_')\n",
    "\n",
    "ps3_window_max  = sensor_max(df_ps3, window_length, 'ps3_max_')\n",
    "\n",
    "ps4_window_max  = sensor_max(df_ps4, window_length, 'ps4_max_')\n",
    "\n",
    "ps5_window_max  = sensor_max(df_ps5, window_length, 'ps5_max_')\n",
    "\n",
    "ps6_window_max  = sensor_max(df_ps6, window_length, 'ps6_max_')\n",
    "\n",
    "eps1_window_max  = sensor_max(df_eps1, window_length,'eps1_max_')"
   ]
  },
  {
   "cell_type": "code",
   "execution_count": 35,
   "metadata": {},
   "outputs": [
    {
     "name": "stdout",
     "output_type": "stream",
     "text": [
      "20 3 (2205, 60)\n",
      "20 3 (2205, 60)\n",
      "20 3 (2205, 60)\n",
      "20 3 (2205, 60)\n"
     ]
    }
   ],
   "source": [
    "window_length = 3\n",
    "ts1_window_max  = sensor_max(df_ts1, window_length, 'ts1_max_')\n",
    "\n",
    "ts2_window_max  = sensor_max(df_ts2, window_length,'ts2_max_')\n",
    "\n",
    "ts3_window_max  = sensor_max(df_ts3, window_length,'ts3_max_')\n",
    "\n",
    "ts4_window_max  = sensor_max(df_ts4, window_length,'ts4_max_')\n",
    "\n"
   ]
  },
  {
   "cell_type": "code",
   "execution_count": 36,
   "metadata": {},
   "outputs": [
    {
     "name": "stdout",
     "output_type": "stream",
     "text": [
      "20 30 (2205, 600)\n",
      "20 30 (2205, 600)\n"
     ]
    }
   ],
   "source": [
    "window_length = 30\n",
    "fs1_window_max  = sensor_max(df_fs1, window_length,'fs1_max_')\n",
    "\n",
    "fs2_window_max  = sensor_max(df_fs2, window_length,'fs2_max_')\n"
   ]
  },
  {
   "cell_type": "code",
   "execution_count": 37,
   "metadata": {},
   "outputs": [
    {
     "name": "stdout",
     "output_type": "stream",
     "text": [
      "20 3 (2205, 60)\n",
      "20 3 (2205, 60)\n",
      "20 3 (2205, 60)\n",
      "20 3 (2205, 60)\n"
     ]
    }
   ],
   "source": [
    "window_length = 3\n",
    "\n",
    "ce_window_max  = sensor_max(df_ce, window_length,'ce_max_')\n",
    "\n",
    "cp_window_max  = sensor_max(df_cp, window_length,'cp_max_')\n",
    "\n",
    "se_window_max  = sensor_max(df_se, window_length,'se_max_')\n",
    "\n",
    "vs1_window_max  = sensor_max(df_vs1, window_length,'vs1_max_')\n",
    "\n",
    "\n"
   ]
  },
  {
   "cell_type": "code",
   "execution_count": 38,
   "metadata": {},
   "outputs": [],
   "source": [
    "max_data = pd.concat([ps1_window_max, ps2_window_max, ps3_window_max, ps4_window_max, ps5_window_max,\n",
    "                      ps6_window_max, ts1_window_max, ts2_window_max, ts3_window_max, ts4_window_max,\n",
    "                      fs1_window_max, fs2_window_max, eps1_window_max, vs1_window_max,\n",
    "                      ce_window_max, cp_window_max, se_window_max], axis = 1)"
   ]
  },
  {
   "cell_type": "code",
   "execution_count": 39,
   "metadata": {},
   "outputs": [
    {
     "data": {
      "text/plain": [
       "(2205, 340)"
      ]
     },
     "execution_count": 39,
     "metadata": {},
     "output_type": "execute_result"
    }
   ],
   "source": [
    "max_data.shape"
   ]
  },
  {
   "cell_type": "markdown",
   "metadata": {},
   "source": [
    "### Calculating the min "
   ]
  },
  {
   "cell_type": "code",
   "execution_count": 40,
   "metadata": {},
   "outputs": [],
   "source": [
    "def sensor_min(dataframe, window_length, sensor) : \n",
    "    df_statistic = pd.DataFrame(index = dataframe.index)\n",
    "    columns = dataframe.columns.tolist()[1:]\n",
    "\n",
    "    # window_length = 60 \n",
    "    start = 0\n",
    "\n",
    "    windows = []\n",
    "    for i in range(start,len(columns),window_length) : \n",
    "        windows.append(columns[start : start + window_length])\n",
    "        start = start + window_length\n",
    "\n",
    "    print(len(windows),window_length,dataframe.shape)\n",
    "\n",
    "    for i in range(len(windows)) :  # change the mean to appropriate statistic\n",
    "            df_statistic[str(sensor)+str(i)] = dataframe[windows[i]].min(axis=1)\n",
    "\n",
    "    return df_statistic\n"
   ]
  },
  {
   "cell_type": "code",
   "execution_count": 41,
   "metadata": {},
   "outputs": [
    {
     "name": "stdout",
     "output_type": "stream",
     "text": [
      "20 300 (2205, 6000)\n",
      "20 300 (2205, 6000)\n",
      "20 300 (2205, 6000)\n",
      "20 300 (2205, 6000)\n",
      "20 300 (2205, 6000)\n",
      "20 300 (2205, 6000)\n",
      "20 300 (2205, 6000)\n"
     ]
    }
   ],
   "source": [
    "window_length = 300\n",
    "\n",
    "ps1_window_min  = sensor_min(df_ps1, window_length, 'ps1_min_')\n",
    "\n",
    "ps2_window_min  = sensor_max(df_ps2, window_length, 'ps2_min_')\n",
    "\n",
    "ps3_window_min  = sensor_max(df_ps3, window_length, 'ps3_min_')\n",
    "\n",
    "ps4_window_min  = sensor_max(df_ps4, window_length, 'ps4_min_')\n",
    "\n",
    "ps5_window_min  = sensor_max(df_ps5, window_length, 'ps5_min_')\n",
    "\n",
    "ps6_window_min  = sensor_max(df_ps6, window_length, 'ps6_min_')\n",
    "\n",
    "eps1_window_min  = sensor_max(df_eps1, window_length,'eps1_min_')"
   ]
  },
  {
   "cell_type": "code",
   "execution_count": 42,
   "metadata": {},
   "outputs": [
    {
     "name": "stdout",
     "output_type": "stream",
     "text": [
      "20 3 (2205, 60)\n",
      "20 3 (2205, 60)\n",
      "20 3 (2205, 60)\n",
      "20 3 (2205, 60)\n"
     ]
    }
   ],
   "source": [
    "window_length = 3\n",
    "ts1_window_min  = sensor_min(df_ts1, window_length, 'ts1_min_')\n",
    "\n",
    "ts2_window_min  = sensor_min(df_ts2, window_length,'ts2_min_')\n",
    "\n",
    "ts3_window_min  = sensor_min(df_ts3, window_length,'ts3_min_')\n",
    "\n",
    "ts4_window_min  = sensor_min(df_ts4, window_length,'ts4_min_')\n",
    "\n"
   ]
  },
  {
   "cell_type": "code",
   "execution_count": 43,
   "metadata": {},
   "outputs": [
    {
     "name": "stdout",
     "output_type": "stream",
     "text": [
      "20 30 (2205, 600)\n",
      "20 30 (2205, 600)\n"
     ]
    }
   ],
   "source": [
    "window_length = 30\n",
    "fs1_window_min  = sensor_min(df_fs1, window_length,'fs1_min_')\n",
    "\n",
    "fs2_window_min  = sensor_min(df_fs2, window_length,'fs2_min_')\n"
   ]
  },
  {
   "cell_type": "code",
   "execution_count": 44,
   "metadata": {},
   "outputs": [
    {
     "name": "stdout",
     "output_type": "stream",
     "text": [
      "20 3 (2205, 60)\n",
      "20 3 (2205, 60)\n",
      "20 3 (2205, 60)\n",
      "20 3 (2205, 60)\n"
     ]
    }
   ],
   "source": [
    "window_length = 3\n",
    "\n",
    "ce_window_min  = sensor_min(df_ce, window_length,'ce_min_')\n",
    "\n",
    "cp_window_min  = sensor_min(df_cp, window_length,'cp_min_')\n",
    "\n",
    "se_window_min  = sensor_min(df_se, window_length,'se_min_')\n",
    "\n",
    "vs1_window_min  = sensor_min(df_vs1, window_length,'vs1_min_')\n",
    "\n",
    "\n"
   ]
  },
  {
   "cell_type": "code",
   "execution_count": 45,
   "metadata": {},
   "outputs": [],
   "source": [
    "Min_data = pd.concat([ps1_window_min, ps2_window_min, ps3_window_min, ps4_window_min, ps5_window_min,  ps6_window_min, \n",
    "                      ts1_window_min, ts2_window_min, ts3_window_min, ts4_window_min, \n",
    "                      fs1_window_min, fs2_window_min, eps1_window_min, vs1_window_min, \n",
    "                      ce_window_min, cp_window_min, se_window_min], axis = 1)"
   ]
  },
  {
   "cell_type": "code",
   "execution_count": 46,
   "metadata": {},
   "outputs": [],
   "source": [
    "import statistics as st"
   ]
  },
  {
   "cell_type": "markdown",
   "metadata": {},
   "source": [
    "### Calculate the variance "
   ]
  },
  {
   "cell_type": "code",
   "execution_count": 47,
   "metadata": {},
   "outputs": [],
   "source": [
    "def sensor_variance(dataframe, window_length, sensor) : \n",
    "    df_statistic = pd.DataFrame(index = dataframe.index)\n",
    "    columns = dataframe.columns.tolist()[1:]\n",
    "\n",
    "    # window_length = 60 \n",
    "    start = 0\n",
    "\n",
    "    windows = []\n",
    "    for i in range(start,len(columns),window_length) : \n",
    "        windows.append(columns[start : start + window_length])\n",
    "        start = start + window_length\n",
    "\n",
    "    print(len(windows),window_length,dataframe.shape)\n",
    "\n",
    "    for i in range(len(windows)) :  # change the mean to appropriate statistic\n",
    "            df_statistic[str(sensor)+str(i)] = dataframe[windows[i]].var(axis=1)\n",
    "\n",
    "    return df_statistic\n"
   ]
  },
  {
   "cell_type": "code",
   "execution_count": 48,
   "metadata": {},
   "outputs": [
    {
     "name": "stdout",
     "output_type": "stream",
     "text": [
      "20 300 (2205, 6000)\n",
      "20 300 (2205, 6000)\n",
      "20 300 (2205, 6000)\n",
      "20 300 (2205, 6000)\n",
      "20 300 (2205, 6000)\n",
      "20 300 (2205, 6000)\n",
      "20 300 (2205, 6000)\n"
     ]
    }
   ],
   "source": [
    "window_length = 300\n",
    "\n",
    "ps1_window_variance  = sensor_variance(df_ps1, window_length, 'ps1_variance_')\n",
    "\n",
    "ps2_window_variance  = sensor_variance(df_ps2, window_length, 'ps2_variance_')\n",
    "\n",
    "ps3_window_variance  = sensor_variance(df_ps3, window_length, 'ps3_variance_')\n",
    "\n",
    "ps4_window_variance  = sensor_variance(df_ps4, window_length, 'ps4_variance_')\n",
    "\n",
    "ps5_window_variance  = sensor_variance(df_ps5, window_length, 'ps5_variance_')\n",
    "\n",
    "ps6_window_variance  = sensor_variance(df_ps6, window_length, 'ps6_variance_')\n",
    "\n",
    "eps1_window_variance  = sensor_variance(df_eps1, window_length,'eps1_variance_')"
   ]
  },
  {
   "cell_type": "code",
   "execution_count": 49,
   "metadata": {},
   "outputs": [
    {
     "name": "stdout",
     "output_type": "stream",
     "text": [
      "20 3 (2205, 60)\n",
      "20 3 (2205, 60)\n",
      "20 3 (2205, 60)\n",
      "20 3 (2205, 60)\n"
     ]
    }
   ],
   "source": [
    "window_length = 3\n",
    "ts1_window_variance  = sensor_variance(df_ts1, window_length, 'ts1_variance_')\n",
    "\n",
    "ts2_window_variance  = sensor_variance(df_ts2, window_length,'ts2_variance_')\n",
    "\n",
    "ts3_window_variance  = sensor_variance(df_ts3, window_length,'ts3_variance_')\n",
    "\n",
    "ts4_window_variance  = sensor_variance(df_ts4, window_length,'ts4_variance_')\n",
    "\n"
   ]
  },
  {
   "cell_type": "code",
   "execution_count": 50,
   "metadata": {},
   "outputs": [
    {
     "name": "stdout",
     "output_type": "stream",
     "text": [
      "20 30 (2205, 600)\n",
      "20 30 (2205, 600)\n"
     ]
    }
   ],
   "source": [
    "window_length = 30\n",
    "\n",
    "fs1_window_variance  = sensor_variance(df_fs1, window_length,'fs1_variance_')\n",
    "\n",
    "fs2_window_variance  = sensor_variance(df_fs2, window_length,'fs2_variance_')\n"
   ]
  },
  {
   "cell_type": "code",
   "execution_count": 51,
   "metadata": {},
   "outputs": [
    {
     "name": "stdout",
     "output_type": "stream",
     "text": [
      "20 3 (2205, 60)\n",
      "20 3 (2205, 60)\n",
      "20 3 (2205, 60)\n",
      "20 3 (2205, 60)\n"
     ]
    }
   ],
   "source": [
    "window_length = 3\n",
    "\n",
    "ce_window_variance  = sensor_variance(df_ce, window_length,'ce_variance_')\n",
    "\n",
    "cp_window_variance  = sensor_variance(df_cp, window_length,'cp_variance_')\n",
    "\n",
    "se_window_variance  = sensor_variance(df_se, window_length,'se_variance_')\n",
    "\n",
    "vs1_window_variance  = sensor_variance(df_vs1, window_length,'vs1_variance_')\n",
    "\n",
    "\n"
   ]
  },
  {
   "cell_type": "code",
   "execution_count": 52,
   "metadata": {},
   "outputs": [],
   "source": [
    "variance_data = pd.concat([ps1_window_variance, ps2_window_variance, ps3_window_variance, ps4_window_variance, ps5_window_variance,  ps6_window_variance, \n",
    "                           ts1_window_variance, ts2_window_variance, ts3_window_variance, ts4_window_variance, \n",
    "                           fs1_window_variance, fs2_window_variance, eps1_window_variance, vs1_window_variance, \n",
    "                           ce_window_variance, cp_window_variance, se_window_variance], axis = 1)"
   ]
  },
  {
   "cell_type": "markdown",
   "metadata": {},
   "source": [
    "### Calculating standard deviation"
   ]
  },
  {
   "cell_type": "code",
   "execution_count": 53,
   "metadata": {},
   "outputs": [],
   "source": [
    "def sensor_std(dataframe, window_length, sensor) : \n",
    "    df_statistic = pd.DataFrame(index = dataframe.index)\n",
    "    columns = dataframe.columns.tolist()[1:]\n",
    "\n",
    "    # window_length = 60 \n",
    "    start = 0\n",
    "\n",
    "    windows = []\n",
    "    for i in range(start,len(columns),window_length) : \n",
    "        windows.append(columns[start : start + window_length])\n",
    "        start = start + window_length\n",
    "\n",
    "    print(len(windows),window_length,dataframe.shape)\n",
    "\n",
    "    for i in range(len(windows)) :  # change the mean to appropriate statistic\n",
    "            df_statistic[str(sensor)+str(i)] = dataframe[windows[i]].std(axis=1)\n",
    "\n",
    "    return df_statistic\n"
   ]
  },
  {
   "cell_type": "code",
   "execution_count": 54,
   "metadata": {},
   "outputs": [
    {
     "name": "stdout",
     "output_type": "stream",
     "text": [
      "20 300 (2205, 6000)\n",
      "20 300 (2205, 6000)\n",
      "20 300 (2205, 6000)\n",
      "20 300 (2205, 6000)\n",
      "20 300 (2205, 6000)\n",
      "20 300 (2205, 6000)\n",
      "20 300 (2205, 6000)\n"
     ]
    }
   ],
   "source": [
    "window_length = 300\n",
    "\n",
    "ps1_window_std  = sensor_std(df_ps1, window_length, 'ps1_std_')\n",
    "\n",
    "ps2_window_std  = sensor_std(df_ps2, window_length, 'ps2_std_')\n",
    "\n",
    "ps3_window_std  = sensor_std(df_ps3, window_length, 'ps3_std_')\n",
    "\n",
    "ps4_window_std  = sensor_std(df_ps4, window_length, 'ps4_std_')\n",
    "\n",
    "ps5_window_std  = sensor_std(df_ps5, window_length, 'ps5_std_')\n",
    "\n",
    "ps6_window_std  = sensor_std(df_ps6, window_length, 'ps6_std_')\n",
    "\n",
    "eps1_window_std  = sensor_std(df_eps1, window_length,'eps1_std_')"
   ]
  },
  {
   "cell_type": "code",
   "execution_count": 55,
   "metadata": {},
   "outputs": [
    {
     "name": "stdout",
     "output_type": "stream",
     "text": [
      "20 3 (2205, 60)\n",
      "20 3 (2205, 60)\n",
      "20 3 (2205, 60)\n",
      "20 3 (2205, 60)\n"
     ]
    }
   ],
   "source": [
    "window_length = 3\n",
    "ts1_window_std  = sensor_std(df_ts1, window_length, 'ts1_std_')\n",
    "\n",
    "ts2_window_std  = sensor_std(df_ts2, window_length,'ts2_std_')\n",
    "\n",
    "ts3_window_std  = sensor_std(df_ts3, window_length,'ts3_std_')\n",
    "\n",
    "ts4_window_std  = sensor_std(df_ts4, window_length,'ts4_std_')\n",
    "\n"
   ]
  },
  {
   "cell_type": "code",
   "execution_count": 56,
   "metadata": {},
   "outputs": [
    {
     "name": "stdout",
     "output_type": "stream",
     "text": [
      "20 30 (2205, 600)\n",
      "20 30 (2205, 600)\n"
     ]
    }
   ],
   "source": [
    "window_length = 30\n",
    "\n",
    "fs1_window_std  = sensor_std(df_fs1, window_length,'fs1_std_')\n",
    "\n",
    "fs2_window_std  = sensor_std(df_fs2, window_length,'fs2_std_')\n"
   ]
  },
  {
   "cell_type": "code",
   "execution_count": 57,
   "metadata": {},
   "outputs": [
    {
     "name": "stdout",
     "output_type": "stream",
     "text": [
      "20 3 (2205, 60)\n",
      "20 3 (2205, 60)\n",
      "20 3 (2205, 60)\n",
      "20 3 (2205, 60)\n"
     ]
    }
   ],
   "source": [
    "window_length = 3\n",
    "\n",
    "ce_window_std  = sensor_std(df_ce, window_length,'ce_std_')\n",
    "\n",
    "cp_window_std  = sensor_std(df_cp, window_length,'cp_std_')\n",
    "\n",
    "se_window_std  = sensor_std(df_se, window_length,'se_std_')\n",
    "\n",
    "vs1_window_std  = sensor_std(df_vs1, window_length,'vs1_std_')\n",
    "\n",
    "\n"
   ]
  },
  {
   "cell_type": "code",
   "execution_count": 58,
   "metadata": {},
   "outputs": [],
   "source": [
    "std_data = pd.concat([ps1_window_std, ps2_window_std, ps3_window_std, ps4_window_std, ps5_window_std,  ps6_window_std,\n",
    "                      ts1_window_std, ts2_window_std, ts3_window_std, ts4_window_std, fs1_window_std, fs2_window_std,\n",
    "                      eps1_window_std, vs1_window_std, ce_window_std, cp_window_std, se_window_std], axis = 1)"
   ]
  },
  {
   "cell_type": "markdown",
   "metadata": {},
   "source": [
    "### Calculating IQR"
   ]
  },
  {
   "cell_type": "code",
   "execution_count": 59,
   "metadata": {},
   "outputs": [],
   "source": [
    "from scipy.stats import iqr\n",
    "\n",
    "\n",
    "def sensor_iqr(dataframe, window_length, sensor) : \n",
    "    df_statistic = pd.DataFrame(index = dataframe.index)\n",
    "    columns = dataframe.columns.tolist()[1:]\n",
    "\n",
    "    # window_length = 60 \n",
    "    start = 0\n",
    "\n",
    "    windows = []\n",
    "    for i in range(start,len(columns),window_length) : \n",
    "        windows.append(columns[start : start + window_length])\n",
    "        start = start + window_length\n",
    "\n",
    "    print(len(windows),window_length,dataframe.shape)\n",
    "\n",
    "    for i in range(len(windows)) :  # change the mean to appropriate statistic\n",
    "        \n",
    "            df_statistic[str(sensor)+str(i)] = iqr(dataframe[windows[i]],axis=1)\n",
    "\n",
    "    return df_statistic\n"
   ]
  },
  {
   "cell_type": "code",
   "execution_count": 60,
   "metadata": {},
   "outputs": [
    {
     "name": "stdout",
     "output_type": "stream",
     "text": [
      "20 300 (2205, 6000)\n",
      "20 300 (2205, 6000)\n",
      "20 300 (2205, 6000)\n",
      "20 300 (2205, 6000)\n",
      "20 300 (2205, 6000)\n",
      "20 300 (2205, 6000)\n",
      "20 300 (2205, 6000)\n"
     ]
    }
   ],
   "source": [
    "window_length = 300\n",
    "\n",
    "ps1_window_iqr  = sensor_iqr(df_ps1, window_length, 'ps1_iqr_')\n",
    "\n",
    "ps2_window_iqr  = sensor_iqr(df_ps2, window_length, 'ps2_iqr_')\n",
    "\n",
    "ps3_window_iqr  = sensor_iqr(df_ps3, window_length, 'ps3_iqr_')\n",
    "\n",
    "ps4_window_iqr  = sensor_iqr(df_ps4, window_length, 'ps4_iqr_')\n",
    "\n",
    "ps5_window_iqr  = sensor_iqr(df_ps5, window_length, 'ps5_iqr_')\n",
    "\n",
    "ps6_window_iqr  = sensor_iqr(df_ps6, window_length, 'ps6_iqr_')\n",
    "\n",
    "eps1_window_iqr  = sensor_iqr(df_eps1, window_length,'eps1_iqr_')"
   ]
  },
  {
   "cell_type": "code",
   "execution_count": 61,
   "metadata": {},
   "outputs": [
    {
     "name": "stdout",
     "output_type": "stream",
     "text": [
      "20 3 (2205, 60)\n",
      "20 3 (2205, 60)\n",
      "20 3 (2205, 60)\n",
      "20 3 (2205, 60)\n"
     ]
    }
   ],
   "source": [
    "window_length = 3\n",
    "ts1_window_iqr  = sensor_iqr(df_ts1, window_length, 'ts1_iqr_')\n",
    "\n",
    "ts2_window_iqr  = sensor_iqr(df_ts2, window_length,'ts2_iqr_')\n",
    "\n",
    "ts3_window_iqr  = sensor_iqr(df_ts3, window_length,'ts3_iqr_')\n",
    "\n",
    "ts4_window_iqr  = sensor_iqr(df_ts4, window_length,'ts4_iqr_')"
   ]
  },
  {
   "cell_type": "code",
   "execution_count": 62,
   "metadata": {},
   "outputs": [
    {
     "name": "stdout",
     "output_type": "stream",
     "text": [
      "20 30 (2205, 600)\n",
      "20 30 (2205, 600)\n"
     ]
    }
   ],
   "source": [
    "window_length = 30\n",
    "\n",
    "fs1_window_iqr  = sensor_iqr(df_fs1, window_length,'fs1_iqr_')\n",
    "\n",
    "fs2_window_iqr  = sensor_iqr(df_fs2, window_length,'fs2_iqr_')\n"
   ]
  },
  {
   "cell_type": "code",
   "execution_count": 63,
   "metadata": {},
   "outputs": [
    {
     "name": "stdout",
     "output_type": "stream",
     "text": [
      "20 3 (2205, 60)\n",
      "20 3 (2205, 60)\n",
      "20 3 (2205, 60)\n",
      "20 3 (2205, 60)\n"
     ]
    }
   ],
   "source": [
    "window_length = 3\n",
    "\n",
    "ce_window_iqr  = sensor_iqr(df_ce, window_length,'ce_iqr_')\n",
    "\n",
    "cp_window_iqr  = sensor_iqr(df_cp, window_length,'cp_iqr_')\n",
    "\n",
    "se_window_iqr  = sensor_iqr(df_se, window_length,'se_iqr_')\n",
    "\n",
    "vs1_window_iqr  = sensor_iqr(df_vs1, window_length,'vs1_iqr_')"
   ]
  },
  {
   "cell_type": "code",
   "execution_count": 64,
   "metadata": {},
   "outputs": [],
   "source": [
    "iqr_data = pd.concat([ps1_window_iqr, ps2_window_iqr, ps3_window_iqr, ps4_window_iqr, ps5_window_iqr,  ps6_window_iqr,\n",
    "                      ts1_window_iqr, ts2_window_iqr, ts3_window_iqr, ts4_window_iqr, fs1_window_iqr, fs2_window_iqr,\n",
    "                      eps1_window_iqr, vs1_window_iqr, ce_window_iqr, cp_window_iqr, se_window_iqr], axis = 1)"
   ]
  },
  {
   "cell_type": "markdown",
   "metadata": {},
   "source": [
    "### Merge all datasets to get the final dataset"
   ]
  },
  {
   "cell_type": "code",
   "execution_count": 65,
   "metadata": {},
   "outputs": [],
   "source": [
    "Final = pd.concat([median_data, max_data, Min_data, std_data, variance_data, iqr_data], axis = 1)"
   ]
  },
  {
   "cell_type": "code",
   "execution_count": 66,
   "metadata": {},
   "outputs": [
    {
     "data": {
      "text/plain": [
       "(2205, 2040)"
      ]
     },
     "execution_count": 66,
     "metadata": {},
     "output_type": "execute_result"
    }
   ],
   "source": [
    "Final.shape"
   ]
  },
  {
   "cell_type": "code",
   "execution_count": null,
   "metadata": {},
   "outputs": [],
   "source": []
  },
  {
   "cell_type": "code",
   "execution_count": 67,
   "metadata": {},
   "outputs": [],
   "source": [
    "profile = pd.read_csv('profile.txt', delimiter = '\\t', header = None)\n",
    "profile.columns = [\"Cooler Condition\",\"Valve Condition\",\"Internal Pump Leakage\",\"Hydraulic Accumulator\",\"Stable Flag\"]"
   ]
  },
  {
   "cell_type": "code",
   "execution_count": 68,
   "metadata": {},
   "outputs": [],
   "source": [
    "Final_target = pd.concat([Final, profile], axis = 1)"
   ]
  },
  {
   "cell_type": "code",
   "execution_count": 69,
   "metadata": {
    "scrolled": true
   },
   "outputs": [
    {
     "data": {
      "text/plain": [
       "(2205, 2045)"
      ]
     },
     "execution_count": 69,
     "metadata": {},
     "output_type": "execute_result"
    }
   ],
   "source": [
    "Final_target.shape"
   ]
  },
  {
   "cell_type": "code",
   "execution_count": 70,
   "metadata": {},
   "outputs": [],
   "source": [
    "profile_hydra = profile['Hydraulic Accumulator']"
   ]
  },
  {
   "cell_type": "markdown",
   "metadata": {},
   "source": [
    "## Hydraulic Classification"
   ]
  },
  {
   "cell_type": "markdown",
   "metadata": {},
   "source": [
    "### Train-test split"
   ]
  },
  {
   "cell_type": "code",
   "execution_count": 71,
   "metadata": {},
   "outputs": [],
   "source": [
    "from sklearn.model_selection import train_test_split"
   ]
  },
  {
   "cell_type": "code",
   "execution_count": 72,
   "metadata": {},
   "outputs": [],
   "source": [
    "# Splitting the data into train and test\n",
    "X_train, X_test, y_train, y_test = train_test_split(Final, profile_hydra, train_size=0.7, test_size=0.3, random_state=42,stratify = profile_hydra)"
   ]
  },
  {
   "cell_type": "markdown",
   "metadata": {},
   "source": []
  },
  {
   "cell_type": "code",
   "execution_count": 73,
   "metadata": {},
   "outputs": [
    {
     "name": "stdout",
     "output_type": "stream",
     "text": [
      "90     566\n",
      "130    419\n",
      "115    279\n",
      "100    279\n",
      "Name: Hydraulic Accumulator, dtype: int64\n",
      "90     242\n",
      "130    180\n",
      "115    120\n",
      "100    120\n",
      "Name: Hydraulic Accumulator, dtype: int64\n"
     ]
    }
   ],
   "source": [
    "y_traindf = pd.DataFrame(y_train)\n",
    "y_testdf = pd.DataFrame(y_test)\n",
    "\n",
    "print(y_train.value_counts())\n",
    "print(y_test.value_counts())"
   ]
  },
  {
   "cell_type": "markdown",
   "metadata": {},
   "source": [
    "### Balancing the Data"
   ]
  },
  {
   "cell_type": "code",
   "execution_count": 74,
   "metadata": {},
   "outputs": [],
   "source": [
    "\n",
    "## SMOTE method is used to balance data\n",
    "from imblearn import under_sampling \n",
    "from imblearn import over_sampling\n",
    "from imblearn.over_sampling import SMOTE\n",
    "\n",
    "smt = SMOTE(random_state=45, k_neighbors=5)\n",
    "X_train, y_train = smt.fit_sample(X_train,y_train)\n",
    "X_train = pd.DataFrame(X_train, columns=X_train.columns)\n",
    "\n",
    "y_train_smt = pd.DataFrame(y_train)"
   ]
  },
  {
   "cell_type": "code",
   "execution_count": 75,
   "metadata": {},
   "outputs": [
    {
     "data": {
      "text/plain": [
       "115    566\n",
       "130    566\n",
       "100    566\n",
       "90     566\n",
       "Name: Hydraulic Accumulator, dtype: int64"
      ]
     },
     "execution_count": 75,
     "metadata": {},
     "output_type": "execute_result"
    }
   ],
   "source": [
    "y_train_smt['Hydraulic Accumulator'].value_counts()"
   ]
  },
  {
   "cell_type": "markdown",
   "metadata": {},
   "source": [
    "**Dataset is fairly balanced**"
   ]
  },
  {
   "cell_type": "markdown",
   "metadata": {},
   "source": [
    "## Standardisation of Data"
   ]
  },
  {
   "cell_type": "code",
   "execution_count": 76,
   "metadata": {},
   "outputs": [],
   "source": [
    "from sklearn.preprocessing import StandardScaler"
   ]
  },
  {
   "cell_type": "code",
   "execution_count": 77,
   "metadata": {},
   "outputs": [],
   "source": [
    "scaler = StandardScaler() ## x-mean/std\n",
    "\n",
    "X_train_scaled = scaler.fit_transform(X_train)\n",
    "X_test_scaled = scaler.transform(X_test)"
   ]
  },
  {
   "cell_type": "code",
   "execution_count": 78,
   "metadata": {},
   "outputs": [],
   "source": [
    "X_train_scaled = pd.DataFrame(X_train_scaled)\n",
    "X_test_scaled = pd.DataFrame(X_test_scaled)"
   ]
  },
  {
   "cell_type": "code",
   "execution_count": 79,
   "metadata": {},
   "outputs": [],
   "source": [
    "X_train_scaled.columns = Final.columns \n",
    "X_test_scaled.columns = Final.columns "
   ]
  },
  {
   "cell_type": "code",
   "execution_count": 80,
   "metadata": {},
   "outputs": [
    {
     "name": "stdout",
     "output_type": "stream",
     "text": [
      "(662, 2040)\n",
      "(2264, 2040)\n"
     ]
    }
   ],
   "source": [
    "print(X_test_scaled.shape)\n",
    "print(X_train_scaled.shape)"
   ]
  },
  {
   "cell_type": "code",
   "execution_count": 81,
   "metadata": {},
   "outputs": [],
   "source": [
    "\n",
    "from sklearn.svm import SVC\n",
    "from sklearn.ensemble import RandomForestClassifier\n",
    "from sklearn.metrics import confusion_matrix,accuracy_score,precision_score,recall_score,f1_score\n",
    "from sklearn.model_selection import cross_validate,GridSearchCV,RandomizedSearchCV\n",
    "\n",
    "from scipy.stats import randint\n",
    "from sklearn.neighbors import KNeighborsClassifier\n",
    "from sklearn.naive_bayes import GaussianNB\n",
    "from sklearn.tree import DecisionTreeClassifier\n",
    "from sklearn.preprocessing import StandardScaler\n",
    "from sklearn.model_selection import train_test_split\n",
    "from sklearn import metrics"
   ]
  },
  {
   "cell_type": "code",
   "execution_count": 82,
   "metadata": {},
   "outputs": [],
   "source": [
    "def evaluate_model(dt_classifier,y_train,X_train,y_test,X_test):\n",
    "    print(\"Train Precision :\", (precision_score(y_train, dt_classifier.predict(X_train)))*100)\n",
    "    print(\"Train Confusion Matrix:\")\n",
    "    print(confusion_matrix(y_train, dt_classifier.predict(X_train)))\n",
    "    print(\"-\"*50)\n",
    "    print(\"Test Precision :\", (precision_score(y_test, dt_classifier.predict(X_test)))*100)\n",
    "    print(\"Test Confusion Matrix:\")\n",
    "    print(confusion_matrix(y_test, dt_classifier.predict(X_test)))"
   ]
  },
  {
   "cell_type": "markdown",
   "metadata": {},
   "source": [
    "### SVM for Valve condition classification"
   ]
  },
  {
   "cell_type": "markdown",
   "metadata": {},
   "source": [
    "### PCA"
   ]
  },
  {
   "cell_type": "code",
   "execution_count": 83,
   "metadata": {},
   "outputs": [],
   "source": [
    "from sklearn.decomposition import PCA"
   ]
  },
  {
   "cell_type": "code",
   "execution_count": 84,
   "metadata": {},
   "outputs": [],
   "source": [
    "pca = PCA(random_state=42)\n",
    "X_train_pca = pca.fit(X_train_scaled)"
   ]
  },
  {
   "cell_type": "code",
   "execution_count": 85,
   "metadata": {},
   "outputs": [
    {
     "data": {
      "image/png": "[encoded data removed]",
      "text/plain": [
       "<Figure size 1440x360 with 1 Axes>"
      ]
     },
     "metadata": {
      "needs_background": "light"
     },
     "output_type": "display_data"
    }
   ],
   "source": [
    "import matplotlib.pyplot as plt\n",
    "\n",
    "var_cumu = np.cumsum(pca.explained_variance_ratio_)\n",
    "fig = plt.figure(figsize=[20,5])\n",
    "plt.vlines(x=15, ymax=1, ymin=0, colors=\"r\", linestyles=\"--\")\n",
    "plt.hlines(y=0.95, xmax=30, xmin=0, colors=\"g\", linestyles=\"--\")\n",
    "plt.plot(var_cumu)\n",
    "plt.ylabel(\"Cumulative variance explained\")\n",
    "plt.show()"
   ]
  },
  {
   "cell_type": "code",
   "execution_count": 86,
   "metadata": {},
   "outputs": [],
   "source": [
    "from sklearn.decomposition import IncrementalPCA\n",
    "pca_final = IncrementalPCA(n_components=20)\n",
    "\n",
    "X_train_pca = pca_final.fit_transform(X_train_scaled)\n",
    "X_test_pca = pca_final.transform(X_test_scaled)\n"
   ]
  },
  {
   "cell_type": "code",
   "execution_count": 87,
   "metadata": {},
   "outputs": [
    {
     "name": "stdout",
     "output_type": "stream",
     "text": [
      "(2264, 20)\n",
      "(662, 20)\n"
     ]
    }
   ],
   "source": [
    "print(X_train_pca.shape)\n",
    "print(X_test_pca.shape)"
   ]
  },
  {
   "cell_type": "code",
   "execution_count": null,
   "metadata": {},
   "outputs": [],
   "source": []
  },
  {
   "cell_type": "code",
   "execution_count": 88,
   "metadata": {},
   "outputs": [],
   "source": [
    "import seaborn as sns \n",
    "import matplotlib.pyplot as plt"
   ]
  },
  {
   "cell_type": "code",
   "execution_count": 89,
   "metadata": {},
   "outputs": [],
   "source": [
    "# training a linear SVM classifier\n",
    "from sklearn.svm import SVC\n",
    "svm_model_linear = SVC(kernel = 'linear', C = 1).fit(X_train_pca, y_train)\n",
    "svm_predictions = svm_model_linear.predict(X_test_pca)"
   ]
  },
  {
   "cell_type": "code",
   "execution_count": 90,
   "metadata": {},
   "outputs": [
    {
     "data": {
      "text/plain": [
       "array([[150,  73,  17,   2],\n",
       "       [ 10,  93,  12,   5],\n",
       "       [ 11,  19,  85,   5],\n",
       "       [  0,  17,  16, 147]], dtype=int64)"
      ]
     },
     "execution_count": 90,
     "metadata": {},
     "output_type": "execute_result"
    }
   ],
   "source": [
    "# creating a confusion matrix\n",
    "cm = confusion_matrix(y_test, svm_predictions)\n",
    "cm"
   ]
  },
  {
   "cell_type": "code",
   "execution_count": 91,
   "metadata": {},
   "outputs": [],
   "source": [
    "def cmatrix(model,test):\n",
    "    fig, ax = plt.subplots(figsize=(15, 15))\n",
    "    ax.set_title('Confusion Matrix')\n",
    "    disp = metrics.plot_confusion_matrix(model, test ,y_test, \n",
    "                                         display_labels= ['Close to Total failure','Severely reduced pressure','Slightly reduced pressure','Optimum pressure'],\n",
    "                                         ax = ax)\n",
    "    return disp.confusion_matrix\n",
    "    "
   ]
  },
  {
   "cell_type": "code",
   "execution_count": 92,
   "metadata": {},
   "outputs": [
    {
     "data": {
      "text/plain": [
       "array([[150,  73,  17,   2],\n",
       "       [ 10,  93,  12,   5],\n",
       "       [ 11,  19,  85,   5],\n",
       "       [  0,  17,  16, 147]], dtype=int64)"
      ]
     },
     "execution_count": 92,
     "metadata": {},
     "output_type": "execute_result"
    },
    {
     "data": {
      "image/png": "[encoded data removed]",
      "text/plain": [
       "<Figure size 1080x1080 with 2 Axes>"
      ]
     },
     "metadata": {
      "needs_background": "light"
     },
     "output_type": "display_data"
    }
   ],
   "source": [
    "cmatrix(svm_model_linear, X_test_pca)"
   ]
  },
  {
   "cell_type": "code",
   "execution_count": 93,
   "metadata": {},
   "outputs": [
    {
     "name": "stdout",
     "output_type": "stream",
     "text": [
      "              precision    recall  f1-score   support\n",
      "\n",
      "          90       0.88      0.62      0.73       242\n",
      "         100       0.46      0.78      0.58       120\n",
      "         115       0.65      0.71      0.68       120\n",
      "         130       0.92      0.82      0.87       180\n",
      "\n",
      "    accuracy                           0.72       662\n",
      "   macro avg       0.73      0.73      0.71       662\n",
      "weighted avg       0.77      0.72      0.73       662\n",
      "\n"
     ]
    }
   ],
   "source": [
    "print(metrics.classification_report(y_test, svm_model_linear.predict(X_test_pca)))"
   ]
  },
  {
   "cell_type": "code",
   "execution_count": 94,
   "metadata": {},
   "outputs": [
    {
     "data": {
      "text/plain": [
       "array([[ 2.27587573,  3.29512864,  0.9132761 , -0.30803221],\n",
       "       [ 3.32052963,  2.07721044,  0.7535904 , -0.31914943],\n",
       "       [ 0.69132702, -0.29705094,  3.29840535,  2.30800543],\n",
       "       ...,\n",
       "       [ 1.78094898,  0.69078425, -0.30314961,  3.32040412],\n",
       "       [ 3.27553325,  1.26634722,  2.28980986, -0.31301044],\n",
       "       [ 0.75876095,  1.93566946,  3.27544652, -0.2183805 ]])"
      ]
     },
     "execution_count": 94,
     "metadata": {},
     "output_type": "execute_result"
    }
   ],
   "source": [
    "y_score_svm = svm_model_linear.fit(X_train_pca, y_train).decision_function(X_test_pca)\n",
    "y_score_svm"
   ]
  },
  {
   "cell_type": "code",
   "execution_count": 95,
   "metadata": {},
   "outputs": [],
   "source": [
    "from sklearn.metrics import roc_curve, auc\n",
    "def plot_multiclass_roc(y_score, X_test, y_test, n_classes= 4, figsize = (20,6)):\n",
    "\n",
    "    # structures\n",
    "    fpr = dict()\n",
    "    tpr = dict()\n",
    "    roc_auc = dict()\n",
    "\n",
    "    # calculate dummies once\n",
    "    y_test_dummies = pd.get_dummies(y_test, drop_first=False).values\n",
    "    for i in range(n_classes):\n",
    "        fpr[i], tpr[i], _ = roc_curve(y_test_dummies[:, i], y_score[:, i])\n",
    "        roc_auc[i] = auc(fpr[i], tpr[i])\n",
    "\n",
    "    fig, ax = plt.subplots(figsize=figsize)\n",
    "    ax.plot([0, 1], [0, 1], 'k--')\n",
    "    ax.set_xlim([0.0, 1.0])\n",
    "    ax.set_ylim([0.0, 1.05])\n",
    "    ax.set_xlabel('False Positive Rate')\n",
    "    ax.set_ylabel('True Positive Rate')\n",
    "    ax.set_title('Receiver operating characteristic')\n",
    "    for i in range(n_classes):\n",
    "        ax.plot(fpr[i], tpr[i], label='ROC curve (area = %0.2f) for label %i' % (roc_auc[i], i))\n",
    "    ax.legend(loc=\"best\")\n",
    "    ax.grid(alpha=.4)\n",
    "    sns.despine()\n",
    "    plt.show()"
   ]
  },
  {
   "cell_type": "code",
   "execution_count": 96,
   "metadata": {},
   "outputs": [
    {
     "data": {
      "image/png": "[encoded data removed]",
      "text/plain": [
       "<Figure size 1440x432 with 1 Axes>"
      ]
     },
     "metadata": {
      "needs_background": "light"
     },
     "output_type": "display_data"
    }
   ],
   "source": [
    "plot_multiclass_roc(y_score_svm,X_test_pca, y_test, 4)"
   ]
  },
  {
   "cell_type": "markdown",
   "metadata": {},
   "source": [
    "### Building an RF classifier for Cooler "
   ]
  },
  {
   "cell_type": "code",
   "execution_count": 97,
   "metadata": {},
   "outputs": [
    {
     "data": {
      "text/plain": [
       "RandomForestClassifier(criterion='entropy', n_estimators=10, random_state=42)"
      ]
     },
     "execution_count": 97,
     "metadata": {},
     "output_type": "execute_result"
    }
   ],
   "source": [
    "classifier_rf = RandomForestClassifier(n_estimators = 10, criterion = 'entropy', random_state = 42)\n",
    "classifier_rf.fit(X_train_scaled, y_train)"
   ]
  },
  {
   "cell_type": "code",
   "execution_count": 98,
   "metadata": {},
   "outputs": [
    {
     "data": {
      "text/plain": [
       "array([[242,   0,   0,   0],\n",
       "       [  4, 115,   1,   0],\n",
       "       [  0,   1, 119,   0],\n",
       "       [  0,   0,   0, 180]], dtype=int64)"
      ]
     },
     "execution_count": 98,
     "metadata": {},
     "output_type": "execute_result"
    },
    {
     "data": {
      "image/png": "[encoded data removed]",
      "text/plain": [
       "<Figure size 1080x1080 with 2 Axes>"
      ]
     },
     "metadata": {
      "needs_background": "light"
     },
     "output_type": "display_data"
    }
   ],
   "source": [
    "cmatrix(classifier_rf, X_test_scaled)"
   ]
  },
  {
   "cell_type": "code",
   "execution_count": 99,
   "metadata": {},
   "outputs": [
    {
     "data": {
      "text/plain": [
       "array([[0. , 0.9, 0.1, 0. ],\n",
       "       [1. , 0. , 0. , 0. ],\n",
       "       [0.4, 0.3, 0.3, 0. ],\n",
       "       ...,\n",
       "       [0. , 0. , 0. , 1. ],\n",
       "       [1. , 0. , 0. , 0. ],\n",
       "       [0. , 0. , 0.1, 0.9]])"
      ]
     },
     "execution_count": 99,
     "metadata": {},
     "output_type": "execute_result"
    }
   ],
   "source": [
    "y_score_rf = classifier_rf.fit(X_train_scaled, y_train).predict_proba(X_test_scaled)\n",
    "y_score_rf"
   ]
  },
  {
   "cell_type": "code",
   "execution_count": 100,
   "metadata": {
    "scrolled": true
   },
   "outputs": [
    {
     "data": {
      "image/png": "[encoded data removed]",
      "text/plain": [
       "<Figure size 1440x432 with 1 Axes>"
      ]
     },
     "metadata": {
      "needs_background": "light"
     },
     "output_type": "display_data"
    }
   ],
   "source": [
    "plot_multiclass_roc(y_score_rf, X_test_scaled, y_test, n_classes=4, figsize=(20, 6))"
   ]
  },
  {
   "cell_type": "code",
   "execution_count": 101,
   "metadata": {},
   "outputs": [
    {
     "name": "stdout",
     "output_type": "stream",
     "text": [
      "              precision    recall  f1-score   support\n",
      "\n",
      "          90       0.98      1.00      0.99       242\n",
      "         100       0.99      0.96      0.97       120\n",
      "         115       0.99      0.99      0.99       120\n",
      "         130       1.00      1.00      1.00       180\n",
      "\n",
      "    accuracy                           0.99       662\n",
      "   macro avg       0.99      0.99      0.99       662\n",
      "weighted avg       0.99      0.99      0.99       662\n",
      "\n"
     ]
    }
   ],
   "source": [
    "print(metrics.classification_report(y_test, classifier_rf.predict(X_test_scaled)))"
   ]
  },
  {
   "cell_type": "markdown",
   "metadata": {},
   "source": [
    "#### Hypertune the parameters"
   ]
  },
  {
   "cell_type": "code",
   "execution_count": 102,
   "metadata": {},
   "outputs": [],
   "source": [
    "rf_hyper = RandomForestClassifier(random_state=42, n_jobs=-1,class_weight = 'balanced')"
   ]
  },
  {
   "cell_type": "code",
   "execution_count": 103,
   "metadata": {},
   "outputs": [],
   "source": [
    "# Create the parameter grid based on the results of random search \n",
    "params = {\n",
    "    'max_depth': [1, 2, 5, 10, 20],\n",
    "    'min_samples_leaf': [5, 10, 20, 50, 100],\n",
    "    'max_features': [2,3,4],\n",
    "    'n_estimators': [10, 30, 50, 100, 200]\n",
    "}\n",
    "\n",
    "## maximum depth is 1,2,5,10,20\n",
    "## minimum sample leaf is 5,10,20,50,100\n",
    "## maximum no. of features is 2,3,4\n",
    "## no. of trees is 10, 30,50,100,200"
   ]
  },
  {
   "cell_type": "code",
   "execution_count": 104,
   "metadata": {},
   "outputs": [],
   "source": [
    "# Instantiate the grid search model\n",
    "grid_search = GridSearchCV(estimator= rf_hyper, param_grid=params, \n",
    "                          cv=4, n_jobs=-1, verbose=1, scoring = \"f1_macro\")"
   ]
  },
  {
   "cell_type": "code",
   "execution_count": 105,
   "metadata": {},
   "outputs": [
    {
     "name": "stdout",
     "output_type": "stream",
     "text": [
      "Fitting 4 folds for each of 375 candidates, totalling 1500 fits\n"
     ]
    },
    {
     "name": "stderr",
     "output_type": "stream",
     "text": [
      "[Parallel(n_jobs=-1)]: Using backend LokyBackend with 8 concurrent workers.\n",
      "[Parallel(n_jobs=-1)]: Done  34 tasks      | elapsed:   10.1s\n",
      "[Parallel(n_jobs=-1)]: Done 184 tasks      | elapsed:   26.2s\n",
      "[Parallel(n_jobs=-1)]: Done 434 tasks      | elapsed:   54.6s\n",
      "[Parallel(n_jobs=-1)]: Done 784 tasks      | elapsed:  1.7min\n",
      "[Parallel(n_jobs=-1)]: Done 1234 tasks      | elapsed:  2.7min\n",
      "[Parallel(n_jobs=-1)]: Done 1500 out of 1500 | elapsed:  3.4min finished\n"
     ]
    },
    {
     "name": "stdout",
     "output_type": "stream",
     "text": [
      "Wall time: 3min 21s\n"
     ]
    },
    {
     "data": {
      "text/plain": [
       "GridSearchCV(cv=4,\n",
       "             estimator=RandomForestClassifier(class_weight='balanced',\n",
       "                                              n_jobs=-1, random_state=42),\n",
       "             n_jobs=-1,\n",
       "             param_grid={'max_depth': [1, 2, 5, 10, 20],\n",
       "                         'max_features': [2, 3, 4],\n",
       "                         'min_samples_leaf': [5, 10, 20, 50, 100],\n",
       "                         'n_estimators': [10, 30, 50, 100, 200]},\n",
       "             scoring='f1_macro', verbose=1)"
      ]
     },
     "execution_count": 105,
     "metadata": {},
     "output_type": "execute_result"
    }
   ],
   "source": [
    "%%time\n",
    "grid_search.fit(X_train_scaled,y_train)"
   ]
  },
  {
   "cell_type": "code",
   "execution_count": 106,
   "metadata": {},
   "outputs": [],
   "source": [
    "rf_best = grid_search.best_estimator_ ## best estimator is assigned to rf_best"
   ]
  },
  {
   "cell_type": "code",
   "execution_count": 107,
   "metadata": {},
   "outputs": [
    {
     "data": {
      "text/plain": [
       "RandomForestClassifier(class_weight='balanced', max_depth=20, max_features=4,\n",
       "                       min_samples_leaf=5, n_jobs=-1, random_state=42)"
      ]
     },
     "execution_count": 107,
     "metadata": {},
     "output_type": "execute_result"
    }
   ],
   "source": [
    "rf_best"
   ]
  },
  {
   "cell_type": "code",
   "execution_count": 109,
   "metadata": {},
   "outputs": [
    {
     "data": {
      "text/plain": [
       "array([[236,   5,   1,   0],\n",
       "       [  4, 108,   8,   0],\n",
       "       [  0,   0, 120,   0],\n",
       "       [  1,   0,   1, 178]], dtype=int64)"
      ]
     },
     "execution_count": 109,
     "metadata": {},
     "output_type": "execute_result"
    },
    {
     "data": {
      "image/png": "[encoded data removed]",
      "text/plain": [
       "<Figure size 1080x1080 with 2 Axes>"
      ]
     },
     "metadata": {
      "needs_background": "light"
     },
     "output_type": "display_data"
    }
   ],
   "source": [
    "cmatrix(rf_best, X_test_scaled)"
   ]
  },
  {
   "cell_type": "code",
   "execution_count": 110,
   "metadata": {},
   "outputs": [
    {
     "data": {
      "text/plain": [
       "array([[0.21364915, 0.75252945, 0.02284918, 0.01097222],\n",
       "       [0.98333333, 0.00285714, 0.00428571, 0.00952381],\n",
       "       [0.30264993, 0.18654287, 0.44285023, 0.06795696],\n",
       "       ...,\n",
       "       [0.00333333, 0.001     , 0.011     , 0.98466667],\n",
       "       [0.96883088, 0.002     , 0.00552941, 0.02363971],\n",
       "       [0.0207803 , 0.11657398, 0.30178999, 0.56085573]])"
      ]
     },
     "execution_count": 110,
     "metadata": {},
     "output_type": "execute_result"
    }
   ],
   "source": [
    "y_score_rf_hyper = rf_best.fit(X_train_scaled, y_train).predict_proba(X_test_scaled)\n",
    "y_score_rf_hyper"
   ]
  },
  {
   "cell_type": "code",
   "execution_count": 111,
   "metadata": {},
   "outputs": [
    {
     "data": {
      "image/png": "[encoded data removed]",
      "text/plain": [
       "<Figure size 1440x432 with 1 Axes>"
      ]
     },
     "metadata": {
      "needs_background": "light"
     },
     "output_type": "display_data"
    }
   ],
   "source": [
    "plot_multiclass_roc(y_score_rf_hyper, X_test_scaled, y_test, n_classes=4, figsize=(20, 6))"
   ]
  },
  {
   "cell_type": "code",
   "execution_count": 113,
   "metadata": {},
   "outputs": [
    {
     "name": "stdout",
     "output_type": "stream",
     "text": [
      "              precision    recall  f1-score   support\n",
      "\n",
      "          90       0.98      0.98      0.98       242\n",
      "         100       0.96      0.90      0.93       120\n",
      "         115       0.92      1.00      0.96       120\n",
      "         130       1.00      0.99      0.99       180\n",
      "\n",
      "    accuracy                           0.97       662\n",
      "   macro avg       0.96      0.97      0.96       662\n",
      "weighted avg       0.97      0.97      0.97       662\n",
      "\n"
     ]
    }
   ],
   "source": [
    "print(metrics.classification_report(y_test, rf_best.predict(X_test_scaled)))"
   ]
  },
  {
   "cell_type": "markdown",
   "metadata": {},
   "source": [
    "### kNN for cooler failure classification"
   ]
  },
  {
   "cell_type": "code",
   "execution_count": 114,
   "metadata": {},
   "outputs": [],
   "source": [
    "# training a KNN classifier\n",
    "from sklearn.neighbors import KNeighborsClassifier\n",
    "knn = KNeighborsClassifier(n_neighbors = 7).fit(X_train_pca, y_train)\n"
   ]
  },
  {
   "cell_type": "code",
   "execution_count": 115,
   "metadata": {},
   "outputs": [
    {
     "data": {
      "text/plain": [
       "array([[181,  44,  12,   5],\n",
       "       [  6,  98,  15,   1],\n",
       "       [  5,  19,  96,   0],\n",
       "       [  5,   5,  11, 159]], dtype=int64)"
      ]
     },
     "execution_count": 115,
     "metadata": {},
     "output_type": "execute_result"
    },
    {
     "data": {
      "image/png": "[encoded data removed]",
      "text/plain": [
       "<Figure size 1080x1080 with 2 Axes>"
      ]
     },
     "metadata": {
      "needs_background": "light"
     },
     "output_type": "display_data"
    }
   ],
   "source": [
    "cmatrix(knn, X_test_pca)"
   ]
  },
  {
   "cell_type": "code",
   "execution_count": 116,
   "metadata": {},
   "outputs": [
    {
     "data": {
      "text/plain": [
       "array([[0.57142857, 0.28571429, 0.14285714, 0.        ],\n",
       "       [1.        , 0.        , 0.        , 0.        ],\n",
       "       [0.14285714, 0.71428571, 0.14285714, 0.        ],\n",
       "       ...,\n",
       "       [0.        , 0.        , 0.        , 1.        ],\n",
       "       [1.        , 0.        , 0.        , 0.        ],\n",
       "       [0.14285714, 0.        , 0.42857143, 0.42857143]])"
      ]
     },
     "execution_count": 116,
     "metadata": {},
     "output_type": "execute_result"
    }
   ],
   "source": [
    "y_score_knn = knn.fit(X_train_pca, y_train).predict_proba(X_test_pca)\n",
    "y_score_knn"
   ]
  },
  {
   "cell_type": "code",
   "execution_count": 117,
   "metadata": {},
   "outputs": [
    {
     "data": {
      "image/png": "[encoded data removed]",
      "text/plain": [
       "<Figure size 1440x432 with 1 Axes>"
      ]
     },
     "metadata": {
      "needs_background": "light"
     },
     "output_type": "display_data"
    }
   ],
   "source": [
    "plot_multiclass_roc(y_score_knn, X_test_pca, y_test, n_classes=4, figsize=(20, 6))"
   ]
  },
  {
   "cell_type": "code",
   "execution_count": 118,
   "metadata": {},
   "outputs": [
    {
     "name": "stdout",
     "output_type": "stream",
     "text": [
      "              precision    recall  f1-score   support\n",
      "\n",
      "          90       0.92      0.75      0.82       242\n",
      "         100       0.59      0.82      0.69       120\n",
      "         115       0.72      0.80      0.76       120\n",
      "         130       0.96      0.88      0.92       180\n",
      "\n",
      "    accuracy                           0.81       662\n",
      "   macro avg       0.80      0.81      0.80       662\n",
      "weighted avg       0.83      0.81      0.81       662\n",
      "\n"
     ]
    }
   ],
   "source": [
    "print(metrics.classification_report(y_test, knn.predict(X_test_pca)))"
   ]
  },
  {
   "cell_type": "markdown",
   "metadata": {},
   "source": [
    "### Noise "
   ]
  },
  {
   "cell_type": "code",
   "execution_count": 119,
   "metadata": {},
   "outputs": [],
   "source": [
    "import numpy as np \n",
    "mu, sigma = 0, np.std(X_test_scaled)*0.20\n",
    "noise = np.random.normal(mu, sigma, X_test_scaled.shape)\n",
    "\n",
    "X_testnoise = X_test_scaled + noise"
   ]
  },
  {
   "cell_type": "code",
   "execution_count": 121,
   "metadata": {
    "scrolled": true
   },
   "outputs": [
    {
     "data": {
      "image/png": "[encoded data removed]",
      "text/plain": [
       "<Figure size 1440x432 with 1 Axes>"
      ]
     },
     "metadata": {
      "needs_background": "light"
     },
     "output_type": "display_data"
    },
    {
     "name": "stdout",
     "output_type": "stream",
     "text": [
      "              precision    recall  f1-score   support\n",
      "\n",
      "          90       0.75      0.92      0.83       242\n",
      "         100       0.69      0.38      0.49       120\n",
      "         115       0.83      0.59      0.69       120\n",
      "         130       0.80      0.95      0.87       180\n",
      "\n",
      "    accuracy                           0.77       662\n",
      "   macro avg       0.77      0.71      0.72       662\n",
      "weighted avg       0.77      0.77      0.75       662\n",
      "\n"
     ]
    }
   ],
   "source": [
    "y_score_rfnoise = rf_best.fit(X_train_scaled, y_train).predict_proba(X_testnoise)\n",
    "y_score_rfnoise\n",
    "\n",
    "plot_multiclass_roc(y_score_rfnoise, X_testnoise, y_test, n_classes=4, figsize=(20, 6))\n",
    "\n",
    "\n",
    "print(metrics.classification_report(y_test, rf_best.predict(X_testnoise)))"
   ]
  },
  {
   "cell_type": "code",
   "execution_count": 122,
   "metadata": {},
   "outputs": [],
   "source": [
    "import numpy as np \n",
    "mu, sigma = 0, np.std(X_test_pca)*0.20\n",
    "noise = np.random.normal(mu, sigma, X_test_pca.shape)\n",
    "\n",
    "X_testpcanoise = X_test_pca + noise"
   ]
  },
  {
   "cell_type": "code",
   "execution_count": 123,
   "metadata": {},
   "outputs": [
    {
     "data": {
      "image/png": "[encoded data removed]",
      "text/plain": [
       "<Figure size 1440x432 with 1 Axes>"
      ]
     },
     "metadata": {
      "needs_background": "light"
     },
     "output_type": "display_data"
    },
    {
     "name": "stdout",
     "output_type": "stream",
     "text": [
      "              precision    recall  f1-score   support\n",
      "\n",
      "          90       0.89      0.72      0.80       242\n",
      "         100       0.53      0.77      0.63       120\n",
      "         115       0.65      0.72      0.69       120\n",
      "         130       0.94      0.83      0.88       180\n",
      "\n",
      "    accuracy                           0.76       662\n",
      "   macro avg       0.75      0.76      0.75       662\n",
      "weighted avg       0.80      0.76      0.77       662\n",
      "\n"
     ]
    }
   ],
   "source": [
    "y_score_knnnoise = knn.fit(X_train_pca, y_train).predict_proba(X_testpcanoise)\n",
    "y_score_knnnoise\n",
    "\n",
    "plot_multiclass_roc(y_score_knnnoise, X_testpcanoise, y_test, n_classes=4, figsize=(20, 6))\n",
    "\n",
    "\n",
    "print(metrics.classification_report(y_test, knn.predict(X_testpcanoise)))"
   ]
  },
  {
   "cell_type": "code",
   "execution_count": null,
   "metadata": {},
   "outputs": [],
   "source": []
  },
  {
   "cell_type": "code",
   "execution_count": 124,
   "metadata": {},
   "outputs": [
    {
     "data": {
      "image/png": "[encoded data removed]",
      "text/plain": [
       "<Figure size 1440x432 with 1 Axes>"
      ]
     },
     "metadata": {
      "needs_background": "light"
     },
     "output_type": "display_data"
    },
    {
     "name": "stdout",
     "output_type": "stream",
     "text": [
      "              precision    recall  f1-score   support\n",
      "\n",
      "          90       0.70      0.67      0.69       242\n",
      "         100       0.42      0.47      0.44       120\n",
      "         115       0.50      0.53      0.51       120\n",
      "         130       0.79      0.73      0.76       180\n",
      "\n",
      "    accuracy                           0.63       662\n",
      "   macro avg       0.60      0.60      0.60       662\n",
      "weighted avg       0.64      0.63      0.63       662\n",
      "\n"
     ]
    }
   ],
   "source": [
    "y_score_svmnoise = svm_model_linear.fit(X_train_pca, y_train).decision_function(X_testpcanoise)\n",
    "y_score_svmnoise\n",
    "\n",
    "plot_multiclass_roc(y_score_svmnoise, X_testpcanoise, y_test, n_classes=4, figsize=(20, 6))\n",
    "\n",
    "\n",
    "print(metrics.classification_report(y_test, svm_model_linear.predict(X_testpcanoise)))"
   ]
  },
  {
   "cell_type": "code",
   "execution_count": null,
   "metadata": {},
   "outputs": [],
   "source": []
  },
  {
   "cell_type": "code",
   "execution_count": null,
   "metadata": {},
   "outputs": [],
   "source": []
  },
  {
   "cell_type": "code",
   "execution_count": null,
   "metadata": {},
   "outputs": [],
   "source": []
  },
  {
   "cell_type": "code",
   "execution_count": null,
   "metadata": {},
   "outputs": [],
   "source": []
  },
  {
   "cell_type": "code",
   "execution_count": null,
   "metadata": {},
   "outputs": [],
   "source": []
  },
  {
   "cell_type": "code",
   "execution_count": null,
   "metadata": {},
   "outputs": [],
   "source": []
  },
  {
   "cell_type": "code",
   "execution_count": null,
   "metadata": {},
   "outputs": [],
   "source": []
  },
  {
   "cell_type": "markdown",
   "metadata": {},
   "source": [
    "# PCA on multivariate Time series \n",
    "\n",
    "Source : https://github.com/ansjin/blogs/blob/master/Dimensionality%20Reduction/Dimensionality%20Reduction%20using%20PCA%20on%20multivariate%20timeseries%20data.ipynb"
   ]
  },
  {
   "cell_type": "code",
   "execution_count": null,
   "metadata": {},
   "outputs": [],
   "source": [
    "import pandas as pd # for using pandas daraframe\n",
    "import numpy as np # for som math operations\n",
    "from sklearn.preprocessing import StandardScaler # for standardizing the Data\n",
    "from sklearn.decomposition import PCA # for PCA calculation\n",
    "import matplotlib.pyplot as plt # for plotting"
   ]
  },
  {
   "cell_type": "code",
   "execution_count": null,
   "metadata": {},
   "outputs": [],
   "source": [
    "#Window1 = [s for s in Final.columns if \"_0\" in s] #for extracting _0 values"
   ]
  },
  {
   "cell_type": "code",
   "execution_count": null,
   "metadata": {},
   "outputs": [],
   "source": [
    "X = Final_target.values # getting all values as a matrix of dataframe \n",
    "sc = StandardScaler() # creating a StandardScaler object\n",
    "X_std = sc.fit_transform(X) # standardizing the data"
   ]
  },
  {
   "cell_type": "code",
   "execution_count": null,
   "metadata": {},
   "outputs": [],
   "source": [
    "pca = PCA()\n",
    "X_pca = pca.fit(X_std)"
   ]
  },
  {
   "cell_type": "code",
   "execution_count": null,
   "metadata": {},
   "outputs": [],
   "source": [
    "plt.plot(np.cumsum(pca.explained_variance_ratio_))\n",
    "plt.xlabel('number of components')\n",
    "plt.ylabel('cumulative explained variance');"
   ]
  },
  {
   "cell_type": "code",
   "execution_count": null,
   "metadata": {},
   "outputs": [],
   "source": [
    "num_components = 1000\n",
    "pca = PCA(num_components)  \n",
    "X_pca = pca.fit_transform(X_std) # fit and reduce dimension"
   ]
  },
  {
   "cell_type": "code",
   "execution_count": null,
   "metadata": {},
   "outputs": [],
   "source": [
    "pca = PCA(n_components = 0.99)\n",
    "X_pca = pca.fit_transform(X_std) # this will fit and reduce dimensions\n",
    "print(pca.n_components_) # one can print and see how many components are selected. In this case it is 4 same as above we saw in step 5"
   ]
  },
  {
   "cell_type": "code",
   "execution_count": null,
   "metadata": {},
   "outputs": [],
   "source": [
    "pd.DataFrame(pca.components_, columns = Final_target.columns)"
   ]
  },
  {
   "cell_type": "code",
   "execution_count": null,
   "metadata": {},
   "outputs": [],
   "source": [
    "n_pcs= pca.n_components_ # get number of component\n",
    "# get the index of the most important feature on EACH component\n",
    "most_important = [np.abs(pca.components_[i]).argmax() for i in range(n_pcs)]\n",
    "initial_feature_names = Final_target.columns\n",
    "# get the most important feature names\n",
    "most_important_names = [initial_feature_names[most_important[i]] for i in range(n_pcs)]"
   ]
  },
  {
   "cell_type": "code",
   "execution_count": null,
   "metadata": {},
   "outputs": [],
   "source": [
    "most_important_names"
   ]
  },
  {
   "cell_type": "code",
   "execution_count": null,
   "metadata": {},
   "outputs": [],
   "source": []
  }
 ],
 "metadata": {
  "kernelspec": {
   "display_name": "Python 3",
   "language": "python",
   "name": "python3"
  },
  "language_info": {
   "codemirror_mode": {
    "name": "ipython",
    "version": 3
   },
   "file_extension": ".py",
   "mimetype": "text/x-python",
   "name": "python",
   "nbconvert_exporter": "python",
   "pygments_lexer": "ipython3",
   "version": "3.7.6"
  }
 },
 "nbformat": 4,
 "nbformat_minor": 4
}
