{
 "cells": [
  {
   "cell_type": "markdown",
   "metadata": {},
   "source": [
    "### Importing the data"
   ]
  },
  {
   "cell_type": "code",
   "execution_count": 1,
   "metadata": {},
   "outputs": [],
   "source": [
    "import numpy as np \n",
    "import pandas as pd \n",
    "import seaborn as sns \n",
    "import matplotlib.pyplot as plt\n",
    "from numpy.fft import fft, ifft"
   ]
  },
  {
   "cell_type": "code",
   "execution_count": 2,
   "metadata": {},
   "outputs": [],
   "source": [
    "from sklearn.tree import DecisionTreeClassifier\n",
    "from sklearn.model_selection import train_test_split\n",
    "from sklearn.metrics import classification_report\n",
    "import sklearn.metrics as metrics \n",
    "\n",
    "from random import randint\n",
    "\n",
    "from sklearn.model_selection import RandomizedSearchCV\n",
    "from sklearn.metrics import confusion_matrix, accuracy_score\n",
    "from sklearn.model_selection import GridSearchCV"
   ]
  },
  {
   "cell_type": "code",
   "execution_count": 3,
   "metadata": {},
   "outputs": [],
   "source": [
    "from tsfresh import select_features\n",
    "from tsfresh import extract_features\n",
    "from tsfresh.utilities.dataframe_functions import impute\n",
    "from tsfresh import extract_relevant_features"
   ]
  },
  {
   "cell_type": "code",
   "execution_count": 4,
   "metadata": {},
   "outputs": [],
   "source": [
    "from tsfresh import extract_features, extract_relevant_features, select_features\n",
    "from tsfresh.utilities.dataframe_functions import impute\n",
    "from tsfresh.feature_extraction import ComprehensiveFCParameters"
   ]
  },
  {
   "cell_type": "code",
   "execution_count": 5,
   "metadata": {},
   "outputs": [],
   "source": [
    "from sklearn.linear_model import LogisticRegression\n",
    "from sklearn.svm import SVC\n",
    "from sklearn.ensemble import RandomForestClassifier\n",
    "from sklearn.metrics import confusion_matrix,accuracy_score,precision_score,recall_score,f1_score\n",
    "from sklearn.model_selection import cross_validate\n",
    "\n",
    "from sklearn.neighbors import KNeighborsClassifier\n",
    "\n",
    "from sklearn.preprocessing import StandardScaler\n",
    "from sklearn.model_selection import train_test_split\n"
   ]
  },
  {
   "cell_type": "markdown",
   "metadata": {},
   "source": [
    "## Loading the Datasets"
   ]
  },
  {
   "cell_type": "code",
   "execution_count": 6,
   "metadata": {},
   "outputs": [],
   "source": [
    "## importing the data\n",
    "## pressure sensors are imported as PS. There are around 6 pressure sensors. They are named as ps1, ps2, ps3, ps4, ps5, ps6. \n",
    "\n",
    "df_ps4 = pd.read_csv('PS4.txt', delimiter = '\\t', header = None)\n",
    "df_ps5 = pd.read_csv('PS5.txt', delimiter = '\\t', header = None)\n",
    "df_ps6 = pd.read_csv('PS6.txt', delimiter = '\\t', header = None)\n"
   ]
  },
  {
   "cell_type": "code",
   "execution_count": 7,
   "metadata": {},
   "outputs": [],
   "source": [
    "## cooling efficiency and cooling power are imported as ce and cp respectively. \n",
    "\n",
    "df_ce = pd.read_csv('CE.txt',delimiter = '\\t', header = None)\n",
    "df_cp = pd.read_csv('CP.txt', delimiter = '\\t', header = None)\n"
   ]
  },
  {
   "cell_type": "code",
   "execution_count": 8,
   "metadata": {},
   "outputs": [],
   "source": [
    "# temperature sensors are imported as ts. There are around 4 pressure sensors. They are named as ts1, ts2, ts3, ts4.\n",
    "\n",
    "df_ts1 = pd.read_csv('TS1.txt', delimiter = '\\t', header = None)\n",
    "df_ts2 = pd.read_csv('TS2.txt', delimiter = '\\t', header = None)\n",
    "df_ts3 = pd.read_csv('TS3.txt', delimiter = '\\t', header = None)\n",
    "df_ts4 = pd.read_csv('TS4.txt', delimiter = '\\t', header = None)\n"
   ]
  },
  {
   "cell_type": "code",
   "execution_count": 9,
   "metadata": {},
   "outputs": [],
   "source": [
    "# flow sensors are imported as fs. There are around 2 pressure sensors. They are named as fs1, fs2.\n",
    "\n",
    "df_fs2 = pd.read_csv('FS2.txt', delimiter = '\\t', header = None)\n"
   ]
  },
  {
   "cell_type": "code",
   "execution_count": 10,
   "metadata": {},
   "outputs": [],
   "source": [
    "\n",
    "# vibration sensors is imported as vs\n",
    "\n",
    "df_vs1 = pd.read_csv('VS1.txt', delimiter = '\\t', header = None)\n",
    "\n"
   ]
  },
  {
   "cell_type": "code",
   "execution_count": 11,
   "metadata": {},
   "outputs": [],
   "source": [
    "## function for defining variables like ps1_1, ps1_2 for 17 sensors with different sampling rates\n",
    "\n",
    "def col(n, var):\n",
    "    l = []\n",
    "    for i in range(1,n):\n",
    "        temp = str(var) + '_' + '%d' %i\n",
    "        l.append(temp)\n",
    "    return l\n"
   ]
  },
  {
   "cell_type": "code",
   "execution_count": 12,
   "metadata": {},
   "outputs": [],
   "source": [
    "\n",
    "df_ps4.columns = col(6001,'ps4')\n",
    "df_ps5.columns = col(6001,'ps5')\n",
    "df_ps6.columns = col(6001,'ps6')\n",
    "\n",
    "\n"
   ]
  },
  {
   "cell_type": "code",
   "execution_count": 13,
   "metadata": {},
   "outputs": [],
   "source": [
    "df_ts1.columns = col(61,'ts1')\n",
    "df_ts2.columns = col(61,'ts2')\n",
    "df_ts3.columns = col(61,'ts3')\n",
    "df_ts4.columns = col(61,'ts4')\n"
   ]
  },
  {
   "cell_type": "code",
   "execution_count": null,
   "metadata": {},
   "outputs": [],
   "source": []
  },
  {
   "cell_type": "code",
   "execution_count": 14,
   "metadata": {},
   "outputs": [],
   "source": [
    "\n",
    "df_fs2.columns = col(601,'fs2')"
   ]
  },
  {
   "cell_type": "code",
   "execution_count": 15,
   "metadata": {},
   "outputs": [],
   "source": [
    "df_vs1.columns = col(61,'vs1')"
   ]
  },
  {
   "cell_type": "code",
   "execution_count": 16,
   "metadata": {},
   "outputs": [],
   "source": [
    "df_ce.columns = col(61,'ce')"
   ]
  },
  {
   "cell_type": "code",
   "execution_count": 17,
   "metadata": {},
   "outputs": [],
   "source": [
    "df_cp.columns = col(61,'cp')\n"
   ]
  },
  {
   "cell_type": "code",
   "execution_count": null,
   "metadata": {},
   "outputs": [],
   "source": []
  },
  {
   "cell_type": "code",
   "execution_count": 18,
   "metadata": {},
   "outputs": [],
   "source": [
    "df_ps = pd.concat([df_ps4, df_ps5, df_ps6], axis = 1)\n",
    "df_ts = pd.concat([df_ts1, df_ts2, df_ts3, df_ts4], axis = 1)\n",
    "df_fs = pd.concat([df_fs2], axis = 1)\n",
    "df_vir = pd.concat([df_cp, df_ce, df_vs1], axis = 1)\n"
   ]
  },
  {
   "cell_type": "code",
   "execution_count": 19,
   "metadata": {},
   "outputs": [
    {
     "data": {
      "text/html": [
       "<div>\n",
       "<style scoped>\n",
       "    .dataframe tbody tr th:only-of-type {\n",
       "        vertical-align: middle;\n",
       "    }\n",
       "\n",
       "    .dataframe tbody tr th {\n",
       "        vertical-align: top;\n",
       "    }\n",
       "\n",
       "    .dataframe thead th {\n",
       "        text-align: right;\n",
       "    }\n",
       "</style>\n",
       "<table border=\"1\" class=\"dataframe\">\n",
       "  <thead>\n",
       "    <tr style=\"text-align: right;\">\n",
       "      <th></th>\n",
       "      <th>ps4_1</th>\n",
       "      <th>ps4_2</th>\n",
       "      <th>ps4_3</th>\n",
       "      <th>ps4_4</th>\n",
       "      <th>ps4_5</th>\n",
       "      <th>ps4_6</th>\n",
       "      <th>ps4_7</th>\n",
       "      <th>ps4_8</th>\n",
       "      <th>ps4_9</th>\n",
       "      <th>ps4_10</th>\n",
       "      <th>...</th>\n",
       "      <th>vs1_51</th>\n",
       "      <th>vs1_52</th>\n",
       "      <th>vs1_53</th>\n",
       "      <th>vs1_54</th>\n",
       "      <th>vs1_55</th>\n",
       "      <th>vs1_56</th>\n",
       "      <th>vs1_57</th>\n",
       "      <th>vs1_58</th>\n",
       "      <th>vs1_59</th>\n",
       "      <th>vs1_60</th>\n",
       "    </tr>\n",
       "  </thead>\n",
       "  <tbody>\n",
       "    <tr>\n",
       "      <th>0</th>\n",
       "      <td>0.0</td>\n",
       "      <td>0.0</td>\n",
       "      <td>0.0</td>\n",
       "      <td>0.0</td>\n",
       "      <td>0.0</td>\n",
       "      <td>0.0</td>\n",
       "      <td>0.0</td>\n",
       "      <td>0.0</td>\n",
       "      <td>0.0</td>\n",
       "      <td>0.0</td>\n",
       "      <td>...</td>\n",
       "      <td>0.554</td>\n",
       "      <td>0.552</td>\n",
       "      <td>0.545</td>\n",
       "      <td>0.553</td>\n",
       "      <td>0.553</td>\n",
       "      <td>0.539</td>\n",
       "      <td>0.544</td>\n",
       "      <td>0.545</td>\n",
       "      <td>0.535</td>\n",
       "      <td>0.543</td>\n",
       "    </tr>\n",
       "    <tr>\n",
       "      <th>1</th>\n",
       "      <td>0.0</td>\n",
       "      <td>0.0</td>\n",
       "      <td>0.0</td>\n",
       "      <td>0.0</td>\n",
       "      <td>0.0</td>\n",
       "      <td>0.0</td>\n",
       "      <td>0.0</td>\n",
       "      <td>0.0</td>\n",
       "      <td>0.0</td>\n",
       "      <td>0.0</td>\n",
       "      <td>...</td>\n",
       "      <td>0.555</td>\n",
       "      <td>0.547</td>\n",
       "      <td>0.548</td>\n",
       "      <td>0.544</td>\n",
       "      <td>0.536</td>\n",
       "      <td>0.542</td>\n",
       "      <td>0.540</td>\n",
       "      <td>0.533</td>\n",
       "      <td>0.531</td>\n",
       "      <td>0.534</td>\n",
       "    </tr>\n",
       "    <tr>\n",
       "      <th>2</th>\n",
       "      <td>0.0</td>\n",
       "      <td>0.0</td>\n",
       "      <td>0.0</td>\n",
       "      <td>0.0</td>\n",
       "      <td>0.0</td>\n",
       "      <td>0.0</td>\n",
       "      <td>0.0</td>\n",
       "      <td>0.0</td>\n",
       "      <td>0.0</td>\n",
       "      <td>0.0</td>\n",
       "      <td>...</td>\n",
       "      <td>0.543</td>\n",
       "      <td>0.544</td>\n",
       "      <td>0.543</td>\n",
       "      <td>0.554</td>\n",
       "      <td>0.544</td>\n",
       "      <td>0.544</td>\n",
       "      <td>0.545</td>\n",
       "      <td>0.544</td>\n",
       "      <td>0.530</td>\n",
       "      <td>0.534</td>\n",
       "    </tr>\n",
       "    <tr>\n",
       "      <th>3</th>\n",
       "      <td>0.0</td>\n",
       "      <td>0.0</td>\n",
       "      <td>0.0</td>\n",
       "      <td>0.0</td>\n",
       "      <td>0.0</td>\n",
       "      <td>0.0</td>\n",
       "      <td>0.0</td>\n",
       "      <td>0.0</td>\n",
       "      <td>0.0</td>\n",
       "      <td>0.0</td>\n",
       "      <td>...</td>\n",
       "      <td>0.549</td>\n",
       "      <td>0.538</td>\n",
       "      <td>0.553</td>\n",
       "      <td>0.543</td>\n",
       "      <td>0.553</td>\n",
       "      <td>0.555</td>\n",
       "      <td>0.544</td>\n",
       "      <td>0.543</td>\n",
       "      <td>0.543</td>\n",
       "      <td>0.542</td>\n",
       "    </tr>\n",
       "    <tr>\n",
       "      <th>4</th>\n",
       "      <td>0.0</td>\n",
       "      <td>0.0</td>\n",
       "      <td>0.0</td>\n",
       "      <td>0.0</td>\n",
       "      <td>0.0</td>\n",
       "      <td>0.0</td>\n",
       "      <td>0.0</td>\n",
       "      <td>0.0</td>\n",
       "      <td>0.0</td>\n",
       "      <td>0.0</td>\n",
       "      <td>...</td>\n",
       "      <td>0.546</td>\n",
       "      <td>0.546</td>\n",
       "      <td>0.544</td>\n",
       "      <td>0.552</td>\n",
       "      <td>0.539</td>\n",
       "      <td>0.540</td>\n",
       "      <td>0.549</td>\n",
       "      <td>0.542</td>\n",
       "      <td>0.533</td>\n",
       "      <td>0.537</td>\n",
       "    </tr>\n",
       "  </tbody>\n",
       "</table>\n",
       "<p>5 rows × 19020 columns</p>\n",
       "</div>"
      ],
      "text/plain": [
       "   ps4_1  ps4_2  ps4_3  ps4_4  ps4_5  ps4_6  ps4_7  ps4_8  ps4_9  ps4_10  ...  \\\n",
       "0    0.0    0.0    0.0    0.0    0.0    0.0    0.0    0.0    0.0     0.0  ...   \n",
       "1    0.0    0.0    0.0    0.0    0.0    0.0    0.0    0.0    0.0     0.0  ...   \n",
       "2    0.0    0.0    0.0    0.0    0.0    0.0    0.0    0.0    0.0     0.0  ...   \n",
       "3    0.0    0.0    0.0    0.0    0.0    0.0    0.0    0.0    0.0     0.0  ...   \n",
       "4    0.0    0.0    0.0    0.0    0.0    0.0    0.0    0.0    0.0     0.0  ...   \n",
       "\n",
       "   vs1_51  vs1_52  vs1_53  vs1_54  vs1_55  vs1_56  vs1_57  vs1_58  vs1_59  \\\n",
       "0   0.554   0.552   0.545   0.553   0.553   0.539   0.544   0.545   0.535   \n",
       "1   0.555   0.547   0.548   0.544   0.536   0.542   0.540   0.533   0.531   \n",
       "2   0.543   0.544   0.543   0.554   0.544   0.544   0.545   0.544   0.530   \n",
       "3   0.549   0.538   0.553   0.543   0.553   0.555   0.544   0.543   0.543   \n",
       "4   0.546   0.546   0.544   0.552   0.539   0.540   0.549   0.542   0.533   \n",
       "\n",
       "   vs1_60  \n",
       "0   0.543  \n",
       "1   0.534  \n",
       "2   0.534  \n",
       "3   0.542  \n",
       "4   0.537  \n",
       "\n",
       "[5 rows x 19020 columns]"
      ]
     },
     "execution_count": 19,
     "metadata": {},
     "output_type": "execute_result"
    }
   ],
   "source": [
    "df = pd.concat([df_ps, df_ts, df_fs, df_vir], axis = 1)\n",
    "df.head()"
   ]
  },
  {
   "cell_type": "code",
   "execution_count": 20,
   "metadata": {},
   "outputs": [],
   "source": [
    "profile = pd.read_csv('profile.txt', delimiter = '\\t', header = None)"
   ]
  },
  {
   "cell_type": "code",
   "execution_count": 21,
   "metadata": {},
   "outputs": [],
   "source": [
    "profile.columns = [\"Cooler Condition\",\"Valve Condition\",\"Internal Pump Leakage\",\"Hydraulic Accumulator\",\"Stable Flag\"]"
   ]
  },
  {
   "cell_type": "code",
   "execution_count": 22,
   "metadata": {},
   "outputs": [],
   "source": [
    "profile_cooler = profile['Cooler Condition']"
   ]
  },
  {
   "cell_type": "code",
   "execution_count": null,
   "metadata": {},
   "outputs": [],
   "source": []
  },
  {
   "cell_type": "markdown",
   "metadata": {},
   "source": [
    "# Test Train split"
   ]
  },
  {
   "cell_type": "code",
   "execution_count": 23,
   "metadata": {},
   "outputs": [],
   "source": [
    "from sklearn.model_selection import train_test_split\n",
    "\n",
    "# Splitting the data into train and test\n",
    "X_train, X_test, y_train, y_test = train_test_split(df, profile_cooler, train_size=0.7, test_size=0.3, random_state=42,stratify = profile_cooler)"
   ]
  },
  {
   "cell_type": "code",
   "execution_count": 24,
   "metadata": {},
   "outputs": [
    {
     "name": "stdout",
     "output_type": "stream",
     "text": [
      "100    519\n",
      "20     512\n",
      "3      512\n",
      "Name: Cooler Condition, dtype: int64\n",
      "100    222\n",
      "20     220\n",
      "3      220\n",
      "Name: Cooler Condition, dtype: int64\n"
     ]
    }
   ],
   "source": [
    "y_traindf = pd.DataFrame(y_train)\n",
    "y_testdf = pd.DataFrame(y_test)\n",
    "\n",
    "print(y_train.value_counts())\n",
    "print(y_test.value_counts())"
   ]
  },
  {
   "cell_type": "markdown",
   "metadata": {},
   "source": [
    "## Standardisation of Data"
   ]
  },
  {
   "cell_type": "code",
   "execution_count": 25,
   "metadata": {},
   "outputs": [],
   "source": [
    "from sklearn.preprocessing import StandardScaler"
   ]
  },
  {
   "cell_type": "code",
   "execution_count": 26,
   "metadata": {},
   "outputs": [],
   "source": [
    "scaler = StandardScaler() ## x-mean/std\n",
    "\n",
    "X_train_scaled = scaler.fit_transform(X_train)\n",
    "X_test_scaled = scaler.transform(X_test)"
   ]
  },
  {
   "cell_type": "code",
   "execution_count": 27,
   "metadata": {},
   "outputs": [],
   "source": [
    "X_train_scaled = pd.DataFrame(X_train_scaled)\n",
    "X_test_scaled = pd.DataFrame(X_test_scaled)"
   ]
  },
  {
   "cell_type": "code",
   "execution_count": 28,
   "metadata": {},
   "outputs": [],
   "source": [
    "X_train_scaled.columns = df.columns \n",
    "X_test_scaled.columns = df.columns "
   ]
  },
  {
   "cell_type": "code",
   "execution_count": 29,
   "metadata": {},
   "outputs": [
    {
     "name": "stdout",
     "output_type": "stream",
     "text": [
      "(662, 19020)\n",
      "(1543, 19020)\n"
     ]
    }
   ],
   "source": [
    "print(X_test_scaled.shape)\n",
    "print(X_train_scaled.shape)"
   ]
  },
  {
   "cell_type": "code",
   "execution_count": 30,
   "metadata": {},
   "outputs": [],
   "source": [
    "X_train_scaled.to_csv('X_train_cooler.csv')"
   ]
  },
  {
   "cell_type": "code",
   "execution_count": 31,
   "metadata": {},
   "outputs": [],
   "source": [
    "X_test_scaled.to_csv('X_test_cooler.csv')"
   ]
  },
  {
   "cell_type": "code",
   "execution_count": 32,
   "metadata": {},
   "outputs": [],
   "source": [
    "\n",
    "from sklearn.svm import SVC\n",
    "from sklearn.ensemble import RandomForestClassifier\n",
    "from sklearn.metrics import confusion_matrix,accuracy_score,precision_score,recall_score,f1_score\n",
    "from sklearn.model_selection import cross_validate,GridSearchCV,RandomizedSearchCV\n",
    "\n",
    "from scipy.stats import randint\n",
    "from sklearn.neighbors import KNeighborsClassifier\n",
    "from sklearn.naive_bayes import GaussianNB\n",
    "from sklearn.tree import DecisionTreeClassifier\n",
    "from sklearn.preprocessing import StandardScaler\n",
    "from sklearn.model_selection import train_test_split\n",
    "from sklearn import metrics"
   ]
  },
  {
   "cell_type": "code",
   "execution_count": 33,
   "metadata": {},
   "outputs": [],
   "source": [
    "def evaluate_model(dt_classifier,y_train,X_train,y_test,X_test):\n",
    "    print(\"Train Precision :\", (precision_score(y_train, dt_classifier.predict(X_train)))*100)\n",
    "    print(\"Train Confusion Matrix:\")\n",
    "    print(confusion_matrix(y_train, dt_classifier.predict(X_train)))\n",
    "    print(\"-\"*50)\n",
    "    print(\"Test Precision :\", (precision_score(y_test, dt_classifier.predict(X_test)))*100)\n",
    "    print(\"Test Confusion Matrix:\")\n",
    "    print(confusion_matrix(y_test, dt_classifier.predict(X_test)))"
   ]
  },
  {
   "cell_type": "markdown",
   "metadata": {},
   "source": [
    "### Extract features from tsfresh"
   ]
  },
  {
   "cell_type": "code",
   "execution_count": 34,
   "metadata": {},
   "outputs": [],
   "source": [
    "from tsfresh import select_features\n",
    "from tsfresh import extract_features\n",
    "from tsfresh.utilities.dataframe_functions import impute\n",
    "from tsfresh import extract_relevant_features\n",
    "\n",
    "from tsfresh import extract_features, extract_relevant_features, select_features\n",
    "from tsfresh.utilities.dataframe_functions import impute\n",
    "from tsfresh.feature_extraction import ComprehensiveFCParameters\n",
    "from tsfresh.feature_extraction import EfficientFCParameters, MinimalFCParameters"
   ]
  },
  {
   "cell_type": "code",
   "execution_count": 35,
   "metadata": {},
   "outputs": [],
   "source": [
    "def tsfreshextract(df):\n",
    "    df[\"id\"] = df.index\n",
    "    df = df.melt(id_vars=\"id\", var_name=\"time\").sort_values([\"id\", \"time\"]).reset_index(drop=True)\n",
    "    df['T'] = df.time.str.extract('(\\d+)')\n",
    "    df['T'].astype(int)\n",
    "    \n",
    "#     y = profile['Stable Flag']\n",
    "#     y = pd.DataFrame(y)\n",
    "#     y = y.reset_index()\n",
    "#     y = y.rename(columns = {'index':'id'})\n",
    "    \n",
    "#     new = pd.merge(left = df, right = y, how = 'inner', on = ['id'])\n",
    "    \n",
    "#     y = new.pop('Stable Flag')\n",
    "    \n",
    "    df = df.drop(['time'], axis = 1)\n",
    "    \n",
    "    X = extract_features(df, column_id=\"id\", column_sort=\"T\", default_fc_parameters = MinimalFCParameters(), \n",
    "                         n_jobs = 1, impute_function=impute)\n",
    "   \n",
    "    \n",
    "    return X"
   ]
  },
  {
   "cell_type": "code",
   "execution_count": 36,
   "metadata": {},
   "outputs": [],
   "source": [
    "X_traindf = pd.read_csv('X_train_cooler.csv')"
   ]
  },
  {
   "cell_type": "code",
   "execution_count": 37,
   "metadata": {},
   "outputs": [
    {
     "name": "stderr",
     "output_type": "stream",
     "text": [
      "Feature Extraction: 100%|██████████| 5/5 [00:32<00:00,  6.46s/it]\n"
     ]
    }
   ],
   "source": [
    "X_df = tsfreshextract(X_traindf)"
   ]
  },
  {
   "cell_type": "code",
   "execution_count": 38,
   "metadata": {},
   "outputs": [],
   "source": [
    "X_testdf = pd.read_csv('X_test_cooler.csv')"
   ]
  },
  {
   "cell_type": "code",
   "execution_count": 39,
   "metadata": {},
   "outputs": [
    {
     "name": "stderr",
     "output_type": "stream",
     "text": [
      "Feature Extraction: 100%|██████████| 5/5 [00:12<00:00,  2.47s/it]\n"
     ]
    }
   ],
   "source": [
    "X_testdf = tsfreshextract(X_testdf)"
   ]
  },
  {
   "cell_type": "code",
   "execution_count": 40,
   "metadata": {},
   "outputs": [
    {
     "name": "stdout",
     "output_type": "stream",
     "text": [
      "(662, 9)\n"
     ]
    }
   ],
   "source": [
    "print(X_testdf.shape)"
   ]
  },
  {
   "cell_type": "code",
   "execution_count": 41,
   "metadata": {},
   "outputs": [
    {
     "data": {
      "text/html": [
       "<div>\n",
       "<style scoped>\n",
       "    .dataframe tbody tr th:only-of-type {\n",
       "        vertical-align: middle;\n",
       "    }\n",
       "\n",
       "    .dataframe tbody tr th {\n",
       "        vertical-align: top;\n",
       "    }\n",
       "\n",
       "    .dataframe thead th {\n",
       "        text-align: right;\n",
       "    }\n",
       "</style>\n",
       "<table border=\"1\" class=\"dataframe\">\n",
       "  <thead>\n",
       "    <tr style=\"text-align: right;\">\n",
       "      <th></th>\n",
       "      <th>value__sum_values</th>\n",
       "      <th>value__median</th>\n",
       "      <th>value__mean</th>\n",
       "      <th>value__length</th>\n",
       "      <th>value__standard_deviation</th>\n",
       "      <th>value__variance</th>\n",
       "      <th>value__root_mean_square</th>\n",
       "      <th>value__maximum</th>\n",
       "      <th>value__minimum</th>\n",
       "    </tr>\n",
       "  </thead>\n",
       "  <tbody>\n",
       "    <tr>\n",
       "      <th>0</th>\n",
       "      <td>-17423.734693</td>\n",
       "      <td>-1.102718</td>\n",
       "      <td>-0.916026</td>\n",
       "      <td>19021.0</td>\n",
       "      <td>0.375380</td>\n",
       "      <td>0.140910</td>\n",
       "      <td>0.989957</td>\n",
       "      <td>1.413764</td>\n",
       "      <td>-1.230216</td>\n",
       "    </tr>\n",
       "    <tr>\n",
       "      <th>1</th>\n",
       "      <td>17774.217212</td>\n",
       "      <td>1.294576</td>\n",
       "      <td>0.934452</td>\n",
       "      <td>19021.0</td>\n",
       "      <td>0.586834</td>\n",
       "      <td>0.344374</td>\n",
       "      <td>1.103438</td>\n",
       "      <td>1.414831</td>\n",
       "      <td>-1.247389</td>\n",
       "    </tr>\n",
       "    <tr>\n",
       "      <th>2</th>\n",
       "      <td>24988.573717</td>\n",
       "      <td>1.193537</td>\n",
       "      <td>1.313736</td>\n",
       "      <td>19021.0</td>\n",
       "      <td>0.412152</td>\n",
       "      <td>0.169869</td>\n",
       "      <td>1.376870</td>\n",
       "      <td>2.000000</td>\n",
       "      <td>-1.598181</td>\n",
       "    </tr>\n",
       "    <tr>\n",
       "      <th>3</th>\n",
       "      <td>-4460.426978</td>\n",
       "      <td>-0.101983</td>\n",
       "      <td>-0.234500</td>\n",
       "      <td>19021.0</td>\n",
       "      <td>0.253074</td>\n",
       "      <td>0.064046</td>\n",
       "      <td>0.345017</td>\n",
       "      <td>3.000000</td>\n",
       "      <td>-0.628080</td>\n",
       "    </tr>\n",
       "    <tr>\n",
       "      <th>4</th>\n",
       "      <td>-19577.707178</td>\n",
       "      <td>-1.247811</td>\n",
       "      <td>-1.029268</td>\n",
       "      <td>19021.0</td>\n",
       "      <td>0.461864</td>\n",
       "      <td>0.213318</td>\n",
       "      <td>1.128145</td>\n",
       "      <td>4.000000</td>\n",
       "      <td>-1.685510</td>\n",
       "    </tr>\n",
       "  </tbody>\n",
       "</table>\n",
       "</div>"
      ],
      "text/plain": [
       "   value__sum_values  value__median  value__mean  value__length  \\\n",
       "0      -17423.734693      -1.102718    -0.916026        19021.0   \n",
       "1       17774.217212       1.294576     0.934452        19021.0   \n",
       "2       24988.573717       1.193537     1.313736        19021.0   \n",
       "3       -4460.426978      -0.101983    -0.234500        19021.0   \n",
       "4      -19577.707178      -1.247811    -1.029268        19021.0   \n",
       "\n",
       "   value__standard_deviation  value__variance  value__root_mean_square  \\\n",
       "0                   0.375380         0.140910                 0.989957   \n",
       "1                   0.586834         0.344374                 1.103438   \n",
       "2                   0.412152         0.169869                 1.376870   \n",
       "3                   0.253074         0.064046                 0.345017   \n",
       "4                   0.461864         0.213318                 1.128145   \n",
       "\n",
       "   value__maximum  value__minimum  \n",
       "0        1.413764       -1.230216  \n",
       "1        1.414831       -1.247389  \n",
       "2        2.000000       -1.598181  \n",
       "3        3.000000       -0.628080  \n",
       "4        4.000000       -1.685510  "
      ]
     },
     "execution_count": 41,
     "metadata": {},
     "output_type": "execute_result"
    }
   ],
   "source": [
    "X_df.head()"
   ]
  },
  {
   "cell_type": "markdown",
   "metadata": {},
   "source": [
    "### SVM for Cooler condition classification"
   ]
  },
  {
   "cell_type": "code",
   "execution_count": 42,
   "metadata": {},
   "outputs": [],
   "source": [
    "import seaborn as sns \n",
    "import matplotlib.pyplot as plt"
   ]
  },
  {
   "cell_type": "code",
   "execution_count": 43,
   "metadata": {},
   "outputs": [],
   "source": [
    "# training a linear SVM classifier\n",
    "from sklearn.svm import SVC\n",
    "svm_model_linear = SVC(kernel = 'linear', C = 1).fit(X_df, y_train)\n",
    "svm_predictions = svm_model_linear.predict(X_testdf)"
   ]
  },
  {
   "cell_type": "code",
   "execution_count": 44,
   "metadata": {},
   "outputs": [
    {
     "data": {
      "text/plain": [
       "(662, 9)"
      ]
     },
     "execution_count": 44,
     "metadata": {},
     "output_type": "execute_result"
    }
   ],
   "source": [
    "X_testdf.shape"
   ]
  },
  {
   "cell_type": "code",
   "execution_count": 45,
   "metadata": {},
   "outputs": [
    {
     "data": {
      "text/plain": [
       "array([[217,   2,   1],\n",
       "       [ 10, 210,   0],\n",
       "       [  0,   0, 222]], dtype=int64)"
      ]
     },
     "execution_count": 45,
     "metadata": {},
     "output_type": "execute_result"
    }
   ],
   "source": [
    "# creating a confusion matrix\n",
    "cm = confusion_matrix(y_test, svm_predictions)\n",
    "cm"
   ]
  },
  {
   "cell_type": "code",
   "execution_count": 46,
   "metadata": {},
   "outputs": [],
   "source": [
    "def cmatrix(model):\n",
    "    fig, ax = plt.subplots(figsize=(10, 6))\n",
    "    ax.set_title('Confusion Matrix')\n",
    "    disp = metrics.plot_confusion_matrix(model, X_testdf,y_test, display_labels= ['Close to Failure','Reduced efficiency','Full Efficiency'],  ax = ax)\n",
    "    return disp.confusion_matrix\n",
    "    "
   ]
  },
  {
   "cell_type": "code",
   "execution_count": 47,
   "metadata": {},
   "outputs": [
    {
     "data": {
      "text/plain": [
       "array([[217,   2,   1],\n",
       "       [ 10, 210,   0],\n",
       "       [  0,   0, 222]], dtype=int64)"
      ]
     },
     "execution_count": 47,
     "metadata": {},
     "output_type": "execute_result"
    },
    {
     "data": {
      "image/png": "[encoded data removed]",
      "text/plain": [
       "<Figure size 720x432 with 2 Axes>"
      ]
     },
     "metadata": {
      "needs_background": "light"
     },
     "output_type": "display_data"
    }
   ],
   "source": [
    "cmatrix(svm_model_linear)"
   ]
  },
  {
   "cell_type": "code",
   "execution_count": 48,
   "metadata": {},
   "outputs": [
    {
     "name": "stdout",
     "output_type": "stream",
     "text": [
      "              precision    recall  f1-score   support\n",
      "\n",
      "           3       0.96      0.99      0.97       220\n",
      "          20       0.99      0.95      0.97       220\n",
      "         100       1.00      1.00      1.00       222\n",
      "\n",
      "    accuracy                           0.98       662\n",
      "   macro avg       0.98      0.98      0.98       662\n",
      "weighted avg       0.98      0.98      0.98       662\n",
      "\n"
     ]
    }
   ],
   "source": [
    "print(metrics.classification_report(y_test, svm_model_linear.predict(X_testdf)))"
   ]
  },
  {
   "cell_type": "code",
   "execution_count": 49,
   "metadata": {},
   "outputs": [
    {
     "data": {
      "text/plain": [
       "array([[-0.33299763,  1.33269858,  2.33262228],\n",
       "       [ 0.66828385,  2.33227791, -0.33032243],\n",
       "       [ 2.332385  ,  1.33101088, -0.3326586 ],\n",
       "       ...,\n",
       "       [ 2.33168591,  1.33126567, -0.33241392],\n",
       "       [ 2.33265527,  1.32798714, -0.3327305 ],\n",
       "       [-0.33299179,  1.332661  ,  2.3326406 ]])"
      ]
     },
     "execution_count": 49,
     "metadata": {},
     "output_type": "execute_result"
    }
   ],
   "source": [
    "y_score_svm = svm_model_linear.fit(X_df, y_train).decision_function(X_testdf)\n",
    "y_score_svm"
   ]
  },
  {
   "cell_type": "code",
   "execution_count": 50,
   "metadata": {},
   "outputs": [],
   "source": [
    "from sklearn.metrics import roc_curve, auc\n",
    "def plot_multiclass_roc(y_score, X_testdf, y_test, n_classes= 3, figsize = (20,6)):\n",
    "\n",
    "    # structures\n",
    "    fpr = dict()\n",
    "    tpr = dict()\n",
    "    roc_auc = dict()\n",
    "\n",
    "    # calculate dummies once\n",
    "    y_test_dummies = pd.get_dummies(y_test, drop_first=False).values\n",
    "    for i in range(n_classes):\n",
    "        fpr[i], tpr[i], _ = roc_curve(y_test_dummies[:, i], y_score[:, i])\n",
    "        roc_auc[i] = auc(fpr[i], tpr[i])\n",
    "\n",
    "    fig, ax = plt.subplots(figsize=figsize)\n",
    "    ax.plot([0, 1], [0, 1], 'k--')\n",
    "    ax.set_xlim([0.0, 1.0])\n",
    "    ax.set_ylim([0.0, 1.05])\n",
    "    ax.set_xlabel('False Positive Rate')\n",
    "    ax.set_ylabel('True Positive Rate')\n",
    "    ax.set_title('Receiver operating characteristic')\n",
    "    for i in range(n_classes):\n",
    "        ax.plot(fpr[i], tpr[i], label='ROC curve (area = %0.2f) for label %i' % (roc_auc[i], i))\n",
    "    ax.legend(loc=\"best\")\n",
    "    ax.grid(alpha=.4)\n",
    "    sns.despine()\n",
    "    plt.show()"
   ]
  },
  {
   "cell_type": "code",
   "execution_count": 51,
   "metadata": {
    "scrolled": true
   },
   "outputs": [
    {
     "data": {
      "image/png": "[encoded data removed]",
      "text/plain": [
       "<Figure size 1440x432 with 1 Axes>"
      ]
     },
     "metadata": {
      "needs_background": "light"
     },
     "output_type": "display_data"
    }
   ],
   "source": [
    "plot_multiclass_roc(y_score_svm,X_testdf, y_test, 3)"
   ]
  },
  {
   "cell_type": "code",
   "execution_count": 68,
   "metadata": {},
   "outputs": [
    {
     "name": "stdout",
     "output_type": "stream",
     "text": [
      "              precision    recall  f1-score   support\n",
      "\n",
      "           3       0.96      0.99      0.97       220\n",
      "          20       0.99      0.95      0.97       220\n",
      "         100       1.00      1.00      1.00       222\n",
      "\n",
      "    accuracy                           0.98       662\n",
      "   macro avg       0.98      0.98      0.98       662\n",
      "weighted avg       0.98      0.98      0.98       662\n",
      "\n"
     ]
    }
   ],
   "source": [
    "print(metrics.classification_report(y_test, svm_model_linear.predict(X_testdf)))"
   ]
  },
  {
   "cell_type": "markdown",
   "metadata": {},
   "source": [
    "### Building an RF classifier for Cooler "
   ]
  },
  {
   "cell_type": "code",
   "execution_count": 52,
   "metadata": {},
   "outputs": [
    {
     "data": {
      "text/plain": [
       "RandomForestClassifier(criterion='entropy', n_estimators=10, random_state=42)"
      ]
     },
     "execution_count": 52,
     "metadata": {},
     "output_type": "execute_result"
    }
   ],
   "source": [
    "classifier_rf = RandomForestClassifier(n_estimators = 10, criterion = 'entropy', random_state = 42)\n",
    "classifier_rf.fit(X_df, y_train)"
   ]
  },
  {
   "cell_type": "code",
   "execution_count": 53,
   "metadata": {},
   "outputs": [
    {
     "data": {
      "text/plain": [
       "array([[219,   0,   1],\n",
       "       [  7, 213,   0],\n",
       "       [  0,   2, 220]], dtype=int64)"
      ]
     },
     "execution_count": 53,
     "metadata": {},
     "output_type": "execute_result"
    },
    {
     "data": {
      "image/png": "[encoded data removed]",
      "text/plain": [
       "<Figure size 720x432 with 2 Axes>"
      ]
     },
     "metadata": {
      "needs_background": "light"
     },
     "output_type": "display_data"
    }
   ],
   "source": [
    "cmatrix(classifier_rf)"
   ]
  },
  {
   "cell_type": "code",
   "execution_count": 54,
   "metadata": {},
   "outputs": [
    {
     "data": {
      "text/plain": [
       "array([[0., 0., 1.],\n",
       "       [0., 1., 0.],\n",
       "       [1., 0., 0.],\n",
       "       ...,\n",
       "       [1., 0., 0.],\n",
       "       [1., 0., 0.],\n",
       "       [0., 0., 1.]])"
      ]
     },
     "execution_count": 54,
     "metadata": {},
     "output_type": "execute_result"
    }
   ],
   "source": [
    "y_score_rf = classifier_rf.fit(X_df, y_train).predict_proba(X_testdf)\n",
    "y_score_rf"
   ]
  },
  {
   "cell_type": "code",
   "execution_count": 55,
   "metadata": {
    "scrolled": false
   },
   "outputs": [
    {
     "data": {
      "image/png": "[encoded data removed]",
      "text/plain": [
       "<Figure size 1440x432 with 1 Axes>"
      ]
     },
     "metadata": {
      "needs_background": "light"
     },
     "output_type": "display_data"
    }
   ],
   "source": [
    "plot_multiclass_roc(y_score_rf, X_testdf, y_test, n_classes=3, figsize=(20, 6))"
   ]
  },
  {
   "cell_type": "code",
   "execution_count": 69,
   "metadata": {},
   "outputs": [
    {
     "name": "stdout",
     "output_type": "stream",
     "text": [
      "              precision    recall  f1-score   support\n",
      "\n",
      "           3       0.97      1.00      0.98       220\n",
      "          20       0.99      0.97      0.98       220\n",
      "         100       1.00      0.99      0.99       222\n",
      "\n",
      "    accuracy                           0.98       662\n",
      "   macro avg       0.99      0.98      0.98       662\n",
      "weighted avg       0.99      0.98      0.98       662\n",
      "\n"
     ]
    }
   ],
   "source": [
    "print(metrics.classification_report(y_test, classifier_rf.predict(X_testdf)))"
   ]
  },
  {
   "cell_type": "markdown",
   "metadata": {},
   "source": [
    "### Hypertune parameters"
   ]
  },
  {
   "cell_type": "code",
   "execution_count": 56,
   "metadata": {},
   "outputs": [],
   "source": [
    "rf_hyper = RandomForestClassifier(random_state=42, n_jobs=-1,class_weight = 'balanced')"
   ]
  },
  {
   "cell_type": "code",
   "execution_count": 57,
   "metadata": {},
   "outputs": [],
   "source": [
    "# Create the parameter grid based on the results of random search \n",
    "params = {\n",
    "    'max_depth': [1, 2, 5, 10, 20],\n",
    "    'min_samples_leaf': [5, 10, 20, 50, 100],\n",
    "    'max_features': [2,3,4],\n",
    "    'n_estimators': [10, 30, 50, 100, 200]\n",
    "}\n",
    "\n",
    "## maximum depth is 1,2,5,10,20\n",
    "## minimum sample leaf is 5,10,20,50,100\n",
    "## maximum no. of features is 2,3,4\n",
    "## no. of trees is 10, 30,50,100,200"
   ]
  },
  {
   "cell_type": "code",
   "execution_count": 58,
   "metadata": {},
   "outputs": [],
   "source": [
    "# Instantiate the grid search model\n",
    "grid_search = GridSearchCV(estimator= rf_hyper, param_grid=params, \n",
    "                          cv=4, n_jobs=-1, verbose=1, scoring = \"f1_micro\")"
   ]
  },
  {
   "cell_type": "code",
   "execution_count": 59,
   "metadata": {},
   "outputs": [
    {
     "name": "stdout",
     "output_type": "stream",
     "text": [
      "Fitting 4 folds for each of 375 candidates, totalling 1500 fits\n"
     ]
    },
    {
     "name": "stderr",
     "output_type": "stream",
     "text": [
      "[Parallel(n_jobs=-1)]: Using backend LokyBackend with 8 concurrent workers.\n",
      "[Parallel(n_jobs=-1)]: Done  34 tasks      | elapsed:   10.1s\n",
      "[Parallel(n_jobs=-1)]: Done 184 tasks      | elapsed:   23.2s\n",
      "[Parallel(n_jobs=-1)]: Done 434 tasks      | elapsed:   45.6s\n",
      "[Parallel(n_jobs=-1)]: Done 784 tasks      | elapsed:  1.3min\n",
      "[Parallel(n_jobs=-1)]: Done 1234 tasks      | elapsed:  2.0min\n",
      "[Parallel(n_jobs=-1)]: Done 1500 out of 1500 | elapsed:  2.5min finished\n"
     ]
    },
    {
     "name": "stdout",
     "output_type": "stream",
     "text": [
      "Wall time: 2min 31s\n"
     ]
    },
    {
     "data": {
      "text/plain": [
       "GridSearchCV(cv=4,\n",
       "             estimator=RandomForestClassifier(class_weight='balanced',\n",
       "                                              n_jobs=-1, random_state=42),\n",
       "             n_jobs=-1,\n",
       "             param_grid={'max_depth': [1, 2, 5, 10, 20],\n",
       "                         'max_features': [2, 3, 4],\n",
       "                         'min_samples_leaf': [5, 10, 20, 50, 100],\n",
       "                         'n_estimators': [10, 30, 50, 100, 200]},\n",
       "             scoring='f1_micro', verbose=1)"
      ]
     },
     "execution_count": 59,
     "metadata": {},
     "output_type": "execute_result"
    }
   ],
   "source": [
    "%%time\n",
    "grid_search.fit(X_df,y_train)"
   ]
  },
  {
   "cell_type": "code",
   "execution_count": 60,
   "metadata": {},
   "outputs": [
    {
     "data": {
      "text/plain": [
       "RandomForestClassifier(class_weight='balanced', max_depth=5, max_features=4,\n",
       "                       min_samples_leaf=5, n_estimators=200, n_jobs=-1,\n",
       "                       random_state=42)"
      ]
     },
     "execution_count": 60,
     "metadata": {},
     "output_type": "execute_result"
    }
   ],
   "source": [
    "rf_best = grid_search.best_estimator_ ## best estimator is assigned to rf_best\n",
    "rf_best"
   ]
  },
  {
   "cell_type": "code",
   "execution_count": 61,
   "metadata": {},
   "outputs": [
    {
     "data": {
      "text/plain": [
       "array([[219,   0,   1],\n",
       "       [  8, 212,   0],\n",
       "       [  0,   2, 220]], dtype=int64)"
      ]
     },
     "execution_count": 61,
     "metadata": {},
     "output_type": "execute_result"
    },
    {
     "data": {
      "image/png": "[encoded data removed]",
      "text/plain": [
       "<Figure size 720x432 with 2 Axes>"
      ]
     },
     "metadata": {
      "needs_background": "light"
     },
     "output_type": "display_data"
    }
   ],
   "source": [
    "cmatrix(rf_best)"
   ]
  },
  {
   "cell_type": "code",
   "execution_count": 62,
   "metadata": {},
   "outputs": [
    {
     "data": {
      "text/plain": [
       "array([[0.00000000e+00, 0.00000000e+00, 1.00000000e+00],\n",
       "       [4.91433839e-04, 9.99421837e-01, 8.67288750e-05],\n",
       "       [9.62535389e-01, 3.74646110e-02, 0.00000000e+00],\n",
       "       ...,\n",
       "       [9.99946228e-01, 5.37716272e-05, 0.00000000e+00],\n",
       "       [9.99978908e-01, 2.10918886e-05, 0.00000000e+00],\n",
       "       [0.00000000e+00, 0.00000000e+00, 1.00000000e+00]])"
      ]
     },
     "execution_count": 62,
     "metadata": {},
     "output_type": "execute_result"
    }
   ],
   "source": [
    "y_score_rf_hyper = rf_best.fit(X_df, y_train).predict_proba(X_testdf)\n",
    "y_score_rf_hyper"
   ]
  },
  {
   "cell_type": "code",
   "execution_count": 63,
   "metadata": {},
   "outputs": [
    {
     "data": {
      "image/png": "[encoded data removed]",
      "text/plain": [
       "<Figure size 1440x432 with 1 Axes>"
      ]
     },
     "metadata": {
      "needs_background": "light"
     },
     "output_type": "display_data"
    }
   ],
   "source": [
    "plot_multiclass_roc(y_score_rf_hyper, X_testdf, y_test, n_classes=3, figsize=(20, 6))"
   ]
  },
  {
   "cell_type": "code",
   "execution_count": null,
   "metadata": {},
   "outputs": [],
   "source": []
  },
  {
   "cell_type": "markdown",
   "metadata": {},
   "source": [
    "### kNN for cooler failure classification"
   ]
  },
  {
   "cell_type": "code",
   "execution_count": 64,
   "metadata": {},
   "outputs": [],
   "source": [
    "# training a KNN classifier\n",
    "from sklearn.neighbors import KNeighborsClassifier\n",
    "knn = KNeighborsClassifier(n_neighbors = 7).fit(X_df, y_train)\n"
   ]
  },
  {
   "cell_type": "code",
   "execution_count": 65,
   "metadata": {},
   "outputs": [
    {
     "data": {
      "text/plain": [
       "array([[216,   3,   1],\n",
       "       [ 10, 210,   0],\n",
       "       [  1,   1, 220]], dtype=int64)"
      ]
     },
     "execution_count": 65,
     "metadata": {},
     "output_type": "execute_result"
    },
    {
     "data": {
      "image/png": "[encoded data removed]",
      "text/plain": [
       "<Figure size 720x432 with 2 Axes>"
      ]
     },
     "metadata": {
      "needs_background": "light"
     },
     "output_type": "display_data"
    }
   ],
   "source": [
    "cmatrix(knn)"
   ]
  },
  {
   "cell_type": "code",
   "execution_count": 66,
   "metadata": {},
   "outputs": [
    {
     "data": {
      "text/plain": [
       "array([[0., 0., 1.],\n",
       "       [0., 1., 0.],\n",
       "       [1., 0., 0.],\n",
       "       ...,\n",
       "       [1., 0., 0.],\n",
       "       [1., 0., 0.],\n",
       "       [0., 0., 1.]])"
      ]
     },
     "execution_count": 66,
     "metadata": {},
     "output_type": "execute_result"
    }
   ],
   "source": [
    "y_score_knn = knn.fit(X_df, y_train).predict_proba(X_testdf)\n",
    "y_score_knn"
   ]
  },
  {
   "cell_type": "code",
   "execution_count": 70,
   "metadata": {
    "scrolled": true
   },
   "outputs": [
    {
     "data": {
      "image/png": "[encoded data removed]",
      "text/plain": [
       "<Figure size 1440x432 with 1 Axes>"
      ]
     },
     "metadata": {
      "needs_background": "light"
     },
     "output_type": "display_data"
    }
   ],
   "source": [
    "plot_multiclass_roc(y_score_knn, X_testdf, y_test, n_classes=3, figsize=(20, 6))"
   ]
  },
  {
   "cell_type": "code",
   "execution_count": 71,
   "metadata": {},
   "outputs": [
    {
     "name": "stdout",
     "output_type": "stream",
     "text": [
      "              precision    recall  f1-score   support\n",
      "\n",
      "           3       0.95      0.98      0.97       220\n",
      "          20       0.98      0.95      0.97       220\n",
      "         100       1.00      0.99      0.99       222\n",
      "\n",
      "    accuracy                           0.98       662\n",
      "   macro avg       0.98      0.98      0.98       662\n",
      "weighted avg       0.98      0.98      0.98       662\n",
      "\n"
     ]
    }
   ],
   "source": [
    "print(metrics.classification_report(y_test, knn.predict(X_testdf)))"
   ]
  },
  {
   "cell_type": "code",
   "execution_count": null,
   "metadata": {},
   "outputs": [],
   "source": []
  },
  {
   "cell_type": "code",
   "execution_count": null,
   "metadata": {},
   "outputs": [],
   "source": []
  },
  {
   "cell_type": "code",
   "execution_count": null,
   "metadata": {},
   "outputs": [],
   "source": []
  },
  {
   "cell_type": "code",
   "execution_count": null,
   "metadata": {},
   "outputs": [],
   "source": []
  },
  {
   "cell_type": "code",
   "execution_count": null,
   "metadata": {},
   "outputs": [],
   "source": []
  },
  {
   "cell_type": "code",
   "execution_count": null,
   "metadata": {},
   "outputs": [],
   "source": []
  },
  {
   "cell_type": "code",
   "execution_count": null,
   "metadata": {},
   "outputs": [],
   "source": []
  },
  {
   "cell_type": "code",
   "execution_count": null,
   "metadata": {},
   "outputs": [],
   "source": []
  },
  {
   "cell_type": "code",
   "execution_count": null,
   "metadata": {},
   "outputs": [],
   "source": []
  },
  {
   "cell_type": "code",
   "execution_count": null,
   "metadata": {},
   "outputs": [],
   "source": []
  },
  {
   "cell_type": "markdown",
   "metadata": {},
   "source": [
    "### Building a Gradient boosting Classifier"
   ]
  },
  {
   "cell_type": "code",
   "execution_count": null,
   "metadata": {},
   "outputs": [],
   "source": [
    "from sklearn.ensemble import GradientBoostingClassifier\n",
    "\n",
    "# First we construct our gradient boosting model, \n",
    "# We specify 500 trees to start, each with a maximum \n",
    "# depth of three. We also specify the random_state \n",
    "# hyperparameter to ensure reproduceability.\n",
    "gbtc = GradientBoostingClassifier(n_estimators=100, random_state= 42)"
   ]
  },
  {
   "cell_type": "code",
   "execution_count": null,
   "metadata": {},
   "outputs": [],
   "source": [
    "parameters = {'max_depth':np.arange( 2,6,1 ).tolist()}"
   ]
  },
  {
   "cell_type": "code",
   "execution_count": null,
   "metadata": {},
   "outputs": [],
   "source": [
    "clf_gbtc = GridSearchCV(gbtc, parameters,cv=6, n_jobs= -1, iid = True,  refit= True,pre_dispatch= '2*n_jobs')"
   ]
  },
  {
   "cell_type": "code",
   "execution_count": null,
   "metadata": {},
   "outputs": [],
   "source": [
    "clf_gbtc.fit(X_train_scaled, y_train)"
   ]
  },
  {
   "cell_type": "code",
   "execution_count": null,
   "metadata": {},
   "outputs": [],
   "source": [
    "cmatrix(clf_gbtc)"
   ]
  },
  {
   "cell_type": "code",
   "execution_count": null,
   "metadata": {},
   "outputs": [],
   "source": [
    "y_score_gbtc = clf_gbtc.fit(X_train_scaled, y_train).predict_proba(X_test_scaled)\n",
    "y_score_gbtc"
   ]
  },
  {
   "cell_type": "code",
   "execution_count": null,
   "metadata": {
    "scrolled": true
   },
   "outputs": [],
   "source": [
    "plot_multiclass_roc(y_score_gbtc, X_test_scaled, y_test, n_classes=3, figsize=(20, 6))"
   ]
  },
  {
   "cell_type": "code",
   "execution_count": null,
   "metadata": {},
   "outputs": [],
   "source": [
    "import xgboost as xgb"
   ]
  },
  {
   "cell_type": "code",
   "execution_count": null,
   "metadata": {},
   "outputs": [],
   "source": []
  },
  {
   "cell_type": "code",
   "execution_count": null,
   "metadata": {},
   "outputs": [],
   "source": [
    "seed= 24\n",
    "xgb1 = xgb.sklearn.XGBClassifier(learning_rate =0.1,n_estimators=100,max_depth=5,min_child_weight=11,\n",
    "             gamma=0.1,subsample=0.8,colsample_bytree=0.7,objective='multi:softprob',n_jobs=-1,scale_pos_weight=1,\n",
    "             seed=seed)\n",
    "    \n",
    "xgb1.fit(X_train, y_train)\n",
    "    \n",
    "y_pred= xgb1.predict(X_test)\n",
    "    \n",
    "    #confusion matrix and classification report\n",
    "    \n",
    "cm = confusion_matrix(y_test, y_pred)\n",
    "    \n",
    "print(classification_report(y_test, y_pred))"
   ]
  },
  {
   "cell_type": "code",
   "execution_count": null,
   "metadata": {},
   "outputs": [],
   "source": []
  }
 ],
 "metadata": {
  "kernelspec": {
   "display_name": "Python 3",
   "language": "python",
   "name": "python3"
  },
  "language_info": {
   "codemirror_mode": {
    "name": "ipython",
    "version": 3
   },
   "file_extension": ".py",
   "mimetype": "text/x-python",
   "name": "python",
   "nbconvert_exporter": "python",
   "pygments_lexer": "ipython3",
   "version": "3.7.6"
  }
 },
 "nbformat": 4,
 "nbformat_minor": 4
}
