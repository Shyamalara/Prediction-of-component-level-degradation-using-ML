{
 "cells": [
  {
   "cell_type": "markdown",
   "metadata": {},
   "source": [
    "Sources : https://analyticsindiamag.com/guide-to-multi-class-classification/\n",
    "\n",
    "https://colab.research.google.com/drive/19dQTVjbjhKQoqVj0v4x34fNTpc0co5cf?usp=sharing#scrollTo=pZug4ZF56w5e\n",
    "\n",
    "https://stackoverflow.com/questions/33547965/computing-auc-and-roc-curve-from-multi-class-data-in-scikit-learn-sklearn\n",
    "\n",
    "https://www.kaggle.com/willkoehrsen/intro-to-model-tuning-grid-and-random-search\n",
    "\n",
    "https://towardsdatascience.com/how-to-check-if-a-classification-model-is-overfitted-using-scikit-learn-148b6b19af8b"
   ]
  },
  {
   "cell_type": "markdown",
   "metadata": {},
   "source": [
    "### Importing the data"
   ]
  },
  {
   "cell_type": "markdown",
   "metadata": {},
   "source": [
    "2. [Extracting Median and EDA](#Extracting_Median_and_EDA)\n",
    "\n",
    "3. [Extracting_Minimum](#Extracting_Minimum)\n",
    "\n",
    "4. [Extracting_Maximum](#Extracting_Maximum)\n",
    "\n",
    "5. [Extracting_Variance](#Extracting_Variance)\n",
    "\n",
    "6. [Extracting_std](#Extracting_std)\n",
    "\n",
    "7. [Extracting_ptp](#Extracting_ptp)\n",
    "\n",
    "8. [Extracting_iqr](#Extracting_iqr)\n",
    "\n",
    "9. [Stable_Flag_Classification](#Stable_Flag_Classification)\n",
    "\n",
    "    9a. [Building_an_Logistic_Regression_classifier](#Building_an_Logistic_Regression_classifier)\n",
    "    \n",
    "    9b. [Building_a_RF_classifier](#Building_a_RF_classifier)\n",
    "    \n",
    "    9c. [Building_a_Decision_Tree_classifier](#Building_a_Decision_Tree_classifier)\n",
    "    \n",
    "    9d. [Building_a_SVM_classifier](#Building_a_SVM_classifier)\n",
    "    \n",
    "    9e. [Building_a_kNN_classifier](#Building_a_kNN_classifier)\n",
    "    \n",
    "    \n",
    "10. [Classification_models_for_Cooler_failure](#Classification_models_for_Cooler_failure)\n",
    "\n",
    "    10a. [Logistic regression using One vs All](#Logistic_regression_using_One_vs_All)\n",
    "    \n",
    "    10b. [SVM for cooler failure classification](#SVM_for_cooler_failure_classification.)\n",
    "    \n",
    "    10c. [DT_for_cooler_failure_classification](#DT_for_cooler_failure_classification.)\n",
    "    \n",
    "    10d. [kNN_for_cooler_failure_classification](#kNN_for_cooler_failure_classification.)\n",
    "    \n",
    "    10e. [RF_for_cooler_failure_classification](#RF_for_cooler_failure_classification.)"
   ]
  },
  {
   "cell_type": "markdown",
   "metadata": {},
   "source": [
    "Inducing noise : https://stackoverflow.com/questions/46093073/adding-gaussian-noise-to-a-dataset-of-floating-points-and-save-it-python"
   ]
  },
  {
   "cell_type": "code",
   "execution_count": 33,
   "metadata": {},
   "outputs": [],
   "source": [
    "import numpy as np \n",
    "import pandas as pd \n",
    "import seaborn as sns \n",
    "import matplotlib.pyplot as plt"
   ]
  },
  {
   "cell_type": "code",
   "execution_count": 2,
   "metadata": {},
   "outputs": [],
   "source": [
    "#pip install PyWavelets"
   ]
  },
  {
   "cell_type": "code",
   "execution_count": 3,
   "metadata": {},
   "outputs": [],
   "source": [
    "#pip install tsfel"
   ]
  },
  {
   "cell_type": "code",
   "execution_count": 2,
   "metadata": {},
   "outputs": [],
   "source": [
    "## importing the data\n",
    "## pressure sensors are imported as PS. There are around 6 pressure sensors. They are named as ps1, ps2, ps3, ps4, ps5, ps6. \n",
    "\n",
    "df_ps1 = pd.read_csv('PS1.txt', delimiter = '\\t', header = None)\n",
    "df_ps2 = pd.read_csv('PS2.txt', delimiter = '\\t', header = None)\n",
    "df_ps3 = pd.read_csv('PS3.txt', delimiter = '\\t', header = None)\n",
    "df_ps4 = pd.read_csv('PS4.txt', delimiter = '\\t', header = None)\n",
    "df_ps5 = pd.read_csv('PS5.txt', delimiter = '\\t', header = None)\n",
    "df_ps6 = pd.read_csv('PS6.txt', delimiter = '\\t', header = None)\n"
   ]
  },
  {
   "cell_type": "code",
   "execution_count": 3,
   "metadata": {},
   "outputs": [],
   "source": [
    "## cooling efficiency and cooling power are imported as ce and cp respectively. \n",
    "\n",
    "df_ce = pd.read_csv('CE.txt',delimiter = '\\t', header = None)\n",
    "df_cp = pd.read_csv('CP.txt', delimiter = '\\t', header = None)\n"
   ]
  },
  {
   "cell_type": "code",
   "execution_count": 4,
   "metadata": {},
   "outputs": [],
   "source": [
    "# temperature sensors are imported as ts. There are around 4 pressure sensors. They are named as ts1, ts2, ts3, ts4.\n",
    "\n",
    "df_ts1 = pd.read_csv('TS1.txt', delimiter = '\\t', header = None)\n",
    "df_ts2 = pd.read_csv('TS2.txt', delimiter = '\\t', header = None)\n",
    "df_ts3 = pd.read_csv('TS3.txt', delimiter = '\\t', header = None)\n",
    "df_ts4 = pd.read_csv('TS4.txt', delimiter = '\\t', header = None)\n"
   ]
  },
  {
   "cell_type": "code",
   "execution_count": 5,
   "metadata": {},
   "outputs": [],
   "source": [
    "# flow sensors are imported as fs. There are around 2 pressure sensors. They are named as fs1, fs2.\n",
    "\n",
    "df_fs1 = pd.read_csv('FS1.txt', delimiter = '\\t', header = None)\n",
    "df_fs2 = pd.read_csv('FS2.txt', delimiter = '\\t', header = None)\n"
   ]
  },
  {
   "cell_type": "code",
   "execution_count": 6,
   "metadata": {},
   "outputs": [],
   "source": [
    "# motor power sensors is imported as eps. \n",
    "# vibration sensors is imported as vs\n",
    "# efficiency power is imported as se\n",
    "\n",
    "df_eps1 = pd.read_csv('EPS1.txt', delimiter = '\\t', header = None)\n",
    "df_se = pd.read_csv('SE.txt', delimiter = '\\t', header = None)\n",
    "df_vs1 = pd.read_csv('VS1.txt', delimiter = '\\t', header = None)\n",
    "\n"
   ]
  },
  {
   "cell_type": "code",
   "execution_count": 7,
   "metadata": {},
   "outputs": [],
   "source": [
    "## function for defining variables like ps1_1, ps1_2 for 17 sensors with different sampling rates\n",
    "\n",
    "def col(n, var):\n",
    "    l = []\n",
    "    for i in range(1,n):\n",
    "        temp = str(var) + '_' + '%d' %i\n",
    "        l.append(temp)\n",
    "    return l\n"
   ]
  },
  {
   "cell_type": "code",
   "execution_count": 8,
   "metadata": {},
   "outputs": [],
   "source": [
    "# \n",
    "df_ps1.columns = col(6001,'ps1')\n",
    "df_ps2.columns = col(6001,'ps2')\n",
    "df_ps3.columns = col(6001,'ps3')\n",
    "df_ps4.columns = col(6001,'ps4')\n",
    "df_ps5.columns = col(6001,'ps5')\n",
    "df_ps6.columns = col(6001,'ps6')\n",
    "\n",
    "\n"
   ]
  },
  {
   "cell_type": "code",
   "execution_count": 9,
   "metadata": {},
   "outputs": [],
   "source": [
    "df_ts1.columns = col(61,'ts1')\n",
    "df_ts2.columns = col(61,'ts2')\n",
    "df_ts3.columns = col(61,'ts3')\n",
    "df_ts4.columns = col(61,'ts4')\n"
   ]
  },
  {
   "cell_type": "code",
   "execution_count": 10,
   "metadata": {},
   "outputs": [],
   "source": [
    "df_eps1.columns = col(6001,'eps1')"
   ]
  },
  {
   "cell_type": "code",
   "execution_count": 11,
   "metadata": {},
   "outputs": [],
   "source": [
    "df_fs1.columns = col(601,'fs1')\n",
    "df_fs2.columns = col(601,'fs2')"
   ]
  },
  {
   "cell_type": "code",
   "execution_count": 12,
   "metadata": {},
   "outputs": [],
   "source": [
    "df_vs1.columns = col(61,'vs1')"
   ]
  },
  {
   "cell_type": "code",
   "execution_count": 13,
   "metadata": {},
   "outputs": [],
   "source": [
    "df_ce.columns = col(61,'ce')"
   ]
  },
  {
   "cell_type": "code",
   "execution_count": 14,
   "metadata": {},
   "outputs": [],
   "source": [
    "df_cp.columns = col(61,'cp')"
   ]
  },
  {
   "cell_type": "code",
   "execution_count": 15,
   "metadata": {},
   "outputs": [],
   "source": [
    "df_se.columns = col(61,'se')"
   ]
  },
  {
   "cell_type": "code",
   "execution_count": 16,
   "metadata": {},
   "outputs": [],
   "source": [
    "df_ps = pd.concat([df_ps1, df_ps2, df_ps3, df_ps4, df_ps5, df_ps6], axis = 1)\n",
    "df_ts = pd.concat([df_ts1, df_ts2, df_ts3, df_ts4], axis = 1)\n",
    "df_fs = pd.concat([df_fs1, df_fs2], axis = 1)\n",
    "df_vir = pd.concat([df_cp, df_ce, df_eps1, df_se, df_vs1], axis = 1)\n"
   ]
  },
  {
   "cell_type": "code",
   "execution_count": 17,
   "metadata": {},
   "outputs": [
    {
     "data": {
      "text/html": [
       "<div>\n",
       "<style scoped>\n",
       "    .dataframe tbody tr th:only-of-type {\n",
       "        vertical-align: middle;\n",
       "    }\n",
       "\n",
       "    .dataframe tbody tr th {\n",
       "        vertical-align: top;\n",
       "    }\n",
       "\n",
       "    .dataframe thead th {\n",
       "        text-align: right;\n",
       "    }\n",
       "</style>\n",
       "<table border=\"1\" class=\"dataframe\">\n",
       "  <thead>\n",
       "    <tr style=\"text-align: right;\">\n",
       "      <th></th>\n",
       "      <th>ps1_1</th>\n",
       "      <th>ps1_2</th>\n",
       "      <th>ps1_3</th>\n",
       "      <th>ps1_4</th>\n",
       "      <th>ps1_5</th>\n",
       "      <th>ps1_6</th>\n",
       "      <th>ps1_7</th>\n",
       "      <th>ps1_8</th>\n",
       "      <th>ps1_9</th>\n",
       "      <th>ps1_10</th>\n",
       "      <th>...</th>\n",
       "      <th>vs1_51</th>\n",
       "      <th>vs1_52</th>\n",
       "      <th>vs1_53</th>\n",
       "      <th>vs1_54</th>\n",
       "      <th>vs1_55</th>\n",
       "      <th>vs1_56</th>\n",
       "      <th>vs1_57</th>\n",
       "      <th>vs1_58</th>\n",
       "      <th>vs1_59</th>\n",
       "      <th>vs1_60</th>\n",
       "    </tr>\n",
       "  </thead>\n",
       "  <tbody>\n",
       "    <tr>\n",
       "      <th>0</th>\n",
       "      <td>151.47</td>\n",
       "      <td>151.45</td>\n",
       "      <td>151.52</td>\n",
       "      <td>151.27</td>\n",
       "      <td>150.80</td>\n",
       "      <td>150.69</td>\n",
       "      <td>153.89</td>\n",
       "      <td>154.67</td>\n",
       "      <td>152.88</td>\n",
       "      <td>153.82</td>\n",
       "      <td>...</td>\n",
       "      <td>0.554</td>\n",
       "      <td>0.552</td>\n",
       "      <td>0.545</td>\n",
       "      <td>0.553</td>\n",
       "      <td>0.553</td>\n",
       "      <td>0.539</td>\n",
       "      <td>0.544</td>\n",
       "      <td>0.545</td>\n",
       "      <td>0.535</td>\n",
       "      <td>0.543</td>\n",
       "    </tr>\n",
       "    <tr>\n",
       "      <th>1</th>\n",
       "      <td>151.11</td>\n",
       "      <td>151.12</td>\n",
       "      <td>151.16</td>\n",
       "      <td>150.92</td>\n",
       "      <td>150.70</td>\n",
       "      <td>150.62</td>\n",
       "      <td>152.40</td>\n",
       "      <td>153.21</td>\n",
       "      <td>152.81</td>\n",
       "      <td>153.53</td>\n",
       "      <td>...</td>\n",
       "      <td>0.555</td>\n",
       "      <td>0.547</td>\n",
       "      <td>0.548</td>\n",
       "      <td>0.544</td>\n",
       "      <td>0.536</td>\n",
       "      <td>0.542</td>\n",
       "      <td>0.540</td>\n",
       "      <td>0.533</td>\n",
       "      <td>0.531</td>\n",
       "      <td>0.534</td>\n",
       "    </tr>\n",
       "    <tr>\n",
       "      <th>2</th>\n",
       "      <td>150.81</td>\n",
       "      <td>150.79</td>\n",
       "      <td>150.84</td>\n",
       "      <td>150.65</td>\n",
       "      <td>150.35</td>\n",
       "      <td>150.23</td>\n",
       "      <td>152.03</td>\n",
       "      <td>152.81</td>\n",
       "      <td>152.44</td>\n",
       "      <td>153.27</td>\n",
       "      <td>...</td>\n",
       "      <td>0.543</td>\n",
       "      <td>0.544</td>\n",
       "      <td>0.543</td>\n",
       "      <td>0.554</td>\n",
       "      <td>0.544</td>\n",
       "      <td>0.544</td>\n",
       "      <td>0.545</td>\n",
       "      <td>0.544</td>\n",
       "      <td>0.530</td>\n",
       "      <td>0.534</td>\n",
       "    </tr>\n",
       "    <tr>\n",
       "      <th>3</th>\n",
       "      <td>150.48</td>\n",
       "      <td>150.47</td>\n",
       "      <td>150.52</td>\n",
       "      <td>150.31</td>\n",
       "      <td>150.04</td>\n",
       "      <td>149.98</td>\n",
       "      <td>151.63</td>\n",
       "      <td>152.48</td>\n",
       "      <td>152.24</td>\n",
       "      <td>152.94</td>\n",
       "      <td>...</td>\n",
       "      <td>0.549</td>\n",
       "      <td>0.538</td>\n",
       "      <td>0.553</td>\n",
       "      <td>0.543</td>\n",
       "      <td>0.553</td>\n",
       "      <td>0.555</td>\n",
       "      <td>0.544</td>\n",
       "      <td>0.543</td>\n",
       "      <td>0.543</td>\n",
       "      <td>0.542</td>\n",
       "    </tr>\n",
       "    <tr>\n",
       "      <th>4</th>\n",
       "      <td>150.41</td>\n",
       "      <td>150.35</td>\n",
       "      <td>150.24</td>\n",
       "      <td>150.12</td>\n",
       "      <td>149.87</td>\n",
       "      <td>149.71</td>\n",
       "      <td>151.64</td>\n",
       "      <td>152.37</td>\n",
       "      <td>151.78</td>\n",
       "      <td>152.68</td>\n",
       "      <td>...</td>\n",
       "      <td>0.546</td>\n",
       "      <td>0.546</td>\n",
       "      <td>0.544</td>\n",
       "      <td>0.552</td>\n",
       "      <td>0.539</td>\n",
       "      <td>0.540</td>\n",
       "      <td>0.549</td>\n",
       "      <td>0.542</td>\n",
       "      <td>0.533</td>\n",
       "      <td>0.537</td>\n",
       "    </tr>\n",
       "  </tbody>\n",
       "</table>\n",
       "<p>5 rows × 43680 columns</p>\n",
       "</div>"
      ],
      "text/plain": [
       "    ps1_1   ps1_2   ps1_3   ps1_4   ps1_5   ps1_6   ps1_7   ps1_8   ps1_9  \\\n",
       "0  151.47  151.45  151.52  151.27  150.80  150.69  153.89  154.67  152.88   \n",
       "1  151.11  151.12  151.16  150.92  150.70  150.62  152.40  153.21  152.81   \n",
       "2  150.81  150.79  150.84  150.65  150.35  150.23  152.03  152.81  152.44   \n",
       "3  150.48  150.47  150.52  150.31  150.04  149.98  151.63  152.48  152.24   \n",
       "4  150.41  150.35  150.24  150.12  149.87  149.71  151.64  152.37  151.78   \n",
       "\n",
       "   ps1_10  ...  vs1_51  vs1_52  vs1_53  vs1_54  vs1_55  vs1_56  vs1_57  \\\n",
       "0  153.82  ...   0.554   0.552   0.545   0.553   0.553   0.539   0.544   \n",
       "1  153.53  ...   0.555   0.547   0.548   0.544   0.536   0.542   0.540   \n",
       "2  153.27  ...   0.543   0.544   0.543   0.554   0.544   0.544   0.545   \n",
       "3  152.94  ...   0.549   0.538   0.553   0.543   0.553   0.555   0.544   \n",
       "4  152.68  ...   0.546   0.546   0.544   0.552   0.539   0.540   0.549   \n",
       "\n",
       "   vs1_58  vs1_59  vs1_60  \n",
       "0   0.545   0.535   0.543  \n",
       "1   0.533   0.531   0.534  \n",
       "2   0.544   0.530   0.534  \n",
       "3   0.543   0.543   0.542  \n",
       "4   0.542   0.533   0.537  \n",
       "\n",
       "[5 rows x 43680 columns]"
      ]
     },
     "execution_count": 17,
     "metadata": {},
     "output_type": "execute_result"
    }
   ],
   "source": [
    "df = pd.concat([df_ps, df_ts, df_fs, df_vir], axis = 1)\n",
    "df.head()"
   ]
  },
  {
   "cell_type": "markdown",
   "metadata": {},
   "source": [
    "#### Checking for clustering tendency in each Sensor\n",
    "#### Ideas for feature extraction and dimensionality reduction\n",
    "\n",
    "1. **Sliding window of size 60 and follow it with statistical measures**  \n",
    "2. **Use Python frameworks like tfresh and TSFEL**\n",
    "3. **Rolling window of size 60 and follow it with PCA. Use this article for reference : https://www.analyticsvidhya.com/blog/2019/12/6-powerful-feature-engineering-techniques-time-series/**\n"
   ]
  },
  {
   "cell_type": "code",
   "execution_count": 18,
   "metadata": {},
   "outputs": [],
   "source": [
    "profile = pd.read_csv('profile.txt', delimiter = '\\t', header = None)\n",
    "profile.columns = [\"Cooler Condition\",\"Valve Condition\",\"Internal Pump Leakage\",\"Hydraulic Accumulator\",\"Stable Flag\"]"
   ]
  },
  {
   "cell_type": "code",
   "execution_count": 19,
   "metadata": {},
   "outputs": [],
   "source": [
    "#!pip install tsfel"
   ]
  },
  {
   "cell_type": "code",
   "execution_count": 24,
   "metadata": {},
   "outputs": [
    {
     "data": {
      "text/html": [
       "<div>\n",
       "<style scoped>\n",
       "    .dataframe tbody tr th:only-of-type {\n",
       "        vertical-align: middle;\n",
       "    }\n",
       "\n",
       "    .dataframe tbody tr th {\n",
       "        vertical-align: top;\n",
       "    }\n",
       "\n",
       "    .dataframe thead th {\n",
       "        text-align: right;\n",
       "    }\n",
       "</style>\n",
       "<table border=\"1\" class=\"dataframe\">\n",
       "  <thead>\n",
       "    <tr style=\"text-align: right;\">\n",
       "      <th></th>\n",
       "      <th>ps1_1</th>\n",
       "      <th>ps1_2</th>\n",
       "      <th>ps1_3</th>\n",
       "      <th>ps1_4</th>\n",
       "      <th>ps1_5</th>\n",
       "      <th>ps1_6</th>\n",
       "      <th>ps1_7</th>\n",
       "      <th>ps1_8</th>\n",
       "      <th>ps1_9</th>\n",
       "      <th>ps1_10</th>\n",
       "      <th>...</th>\n",
       "      <th>vs1_57</th>\n",
       "      <th>vs1_58</th>\n",
       "      <th>vs1_59</th>\n",
       "      <th>vs1_60</th>\n",
       "      <th>Cooler Condition</th>\n",
       "      <th>Valve Condition</th>\n",
       "      <th>Internal Pump Leakage</th>\n",
       "      <th>Hydraulic Accumulator</th>\n",
       "      <th>Stable Flag</th>\n",
       "      <th>Cycle</th>\n",
       "    </tr>\n",
       "  </thead>\n",
       "  <tbody>\n",
       "    <tr>\n",
       "      <th>0</th>\n",
       "      <td>151.47</td>\n",
       "      <td>151.45</td>\n",
       "      <td>151.52</td>\n",
       "      <td>151.27</td>\n",
       "      <td>150.80</td>\n",
       "      <td>150.69</td>\n",
       "      <td>153.89</td>\n",
       "      <td>154.67</td>\n",
       "      <td>152.88</td>\n",
       "      <td>153.82</td>\n",
       "      <td>...</td>\n",
       "      <td>0.544</td>\n",
       "      <td>0.545</td>\n",
       "      <td>0.535</td>\n",
       "      <td>0.543</td>\n",
       "      <td>3</td>\n",
       "      <td>100</td>\n",
       "      <td>0</td>\n",
       "      <td>130</td>\n",
       "      <td>1</td>\n",
       "      <td>0</td>\n",
       "    </tr>\n",
       "    <tr>\n",
       "      <th>1</th>\n",
       "      <td>151.11</td>\n",
       "      <td>151.12</td>\n",
       "      <td>151.16</td>\n",
       "      <td>150.92</td>\n",
       "      <td>150.70</td>\n",
       "      <td>150.62</td>\n",
       "      <td>152.40</td>\n",
       "      <td>153.21</td>\n",
       "      <td>152.81</td>\n",
       "      <td>153.53</td>\n",
       "      <td>...</td>\n",
       "      <td>0.540</td>\n",
       "      <td>0.533</td>\n",
       "      <td>0.531</td>\n",
       "      <td>0.534</td>\n",
       "      <td>3</td>\n",
       "      <td>100</td>\n",
       "      <td>0</td>\n",
       "      <td>130</td>\n",
       "      <td>1</td>\n",
       "      <td>1</td>\n",
       "    </tr>\n",
       "    <tr>\n",
       "      <th>2</th>\n",
       "      <td>150.81</td>\n",
       "      <td>150.79</td>\n",
       "      <td>150.84</td>\n",
       "      <td>150.65</td>\n",
       "      <td>150.35</td>\n",
       "      <td>150.23</td>\n",
       "      <td>152.03</td>\n",
       "      <td>152.81</td>\n",
       "      <td>152.44</td>\n",
       "      <td>153.27</td>\n",
       "      <td>...</td>\n",
       "      <td>0.545</td>\n",
       "      <td>0.544</td>\n",
       "      <td>0.530</td>\n",
       "      <td>0.534</td>\n",
       "      <td>3</td>\n",
       "      <td>100</td>\n",
       "      <td>0</td>\n",
       "      <td>130</td>\n",
       "      <td>1</td>\n",
       "      <td>2</td>\n",
       "    </tr>\n",
       "    <tr>\n",
       "      <th>3</th>\n",
       "      <td>150.48</td>\n",
       "      <td>150.47</td>\n",
       "      <td>150.52</td>\n",
       "      <td>150.31</td>\n",
       "      <td>150.04</td>\n",
       "      <td>149.98</td>\n",
       "      <td>151.63</td>\n",
       "      <td>152.48</td>\n",
       "      <td>152.24</td>\n",
       "      <td>152.94</td>\n",
       "      <td>...</td>\n",
       "      <td>0.544</td>\n",
       "      <td>0.543</td>\n",
       "      <td>0.543</td>\n",
       "      <td>0.542</td>\n",
       "      <td>3</td>\n",
       "      <td>100</td>\n",
       "      <td>0</td>\n",
       "      <td>130</td>\n",
       "      <td>1</td>\n",
       "      <td>3</td>\n",
       "    </tr>\n",
       "    <tr>\n",
       "      <th>4</th>\n",
       "      <td>150.41</td>\n",
       "      <td>150.35</td>\n",
       "      <td>150.24</td>\n",
       "      <td>150.12</td>\n",
       "      <td>149.87</td>\n",
       "      <td>149.71</td>\n",
       "      <td>151.64</td>\n",
       "      <td>152.37</td>\n",
       "      <td>151.78</td>\n",
       "      <td>152.68</td>\n",
       "      <td>...</td>\n",
       "      <td>0.549</td>\n",
       "      <td>0.542</td>\n",
       "      <td>0.533</td>\n",
       "      <td>0.537</td>\n",
       "      <td>3</td>\n",
       "      <td>100</td>\n",
       "      <td>0</td>\n",
       "      <td>130</td>\n",
       "      <td>1</td>\n",
       "      <td>4</td>\n",
       "    </tr>\n",
       "  </tbody>\n",
       "</table>\n",
       "<p>5 rows × 43686 columns</p>\n",
       "</div>"
      ],
      "text/plain": [
       "    ps1_1   ps1_2   ps1_3   ps1_4   ps1_5   ps1_6   ps1_7   ps1_8   ps1_9  \\\n",
       "0  151.47  151.45  151.52  151.27  150.80  150.69  153.89  154.67  152.88   \n",
       "1  151.11  151.12  151.16  150.92  150.70  150.62  152.40  153.21  152.81   \n",
       "2  150.81  150.79  150.84  150.65  150.35  150.23  152.03  152.81  152.44   \n",
       "3  150.48  150.47  150.52  150.31  150.04  149.98  151.63  152.48  152.24   \n",
       "4  150.41  150.35  150.24  150.12  149.87  149.71  151.64  152.37  151.78   \n",
       "\n",
       "   ps1_10  ...  vs1_57  vs1_58  vs1_59  vs1_60  Cooler Condition  \\\n",
       "0  153.82  ...   0.544   0.545   0.535   0.543                 3   \n",
       "1  153.53  ...   0.540   0.533   0.531   0.534                 3   \n",
       "2  153.27  ...   0.545   0.544   0.530   0.534                 3   \n",
       "3  152.94  ...   0.544   0.543   0.543   0.542                 3   \n",
       "4  152.68  ...   0.549   0.542   0.533   0.537                 3   \n",
       "\n",
       "   Valve Condition  Internal Pump Leakage  Hydraulic Accumulator  Stable Flag  \\\n",
       "0              100                      0                    130            1   \n",
       "1              100                      0                    130            1   \n",
       "2              100                      0                    130            1   \n",
       "3              100                      0                    130            1   \n",
       "4              100                      0                    130            1   \n",
       "\n",
       "   Cycle  \n",
       "0      0  \n",
       "1      1  \n",
       "2      2  \n",
       "3      3  \n",
       "4      4  \n",
       "\n",
       "[5 rows x 43686 columns]"
      ]
     },
     "execution_count": 24,
     "metadata": {},
     "output_type": "execute_result"
    }
   ],
   "source": [
    "Final = pd.concat([df, profile], axis = 1)\n",
    "Final['Cycle'] = np.arange(len(Final))\n",
    "Final.head()"
   ]
  },
  {
   "cell_type": "code",
   "execution_count": null,
   "metadata": {},
   "outputs": [],
   "source": []
  },
  {
   "cell_type": "markdown",
   "metadata": {},
   "source": [
    "# Statistical features"
   ]
  },
  {
   "cell_type": "markdown",
   "metadata": {},
   "source": [
    "<a id = 'Extracting_Median_and_EDA'></a>\n",
    "\n",
    "## Extracting Median"
   ]
  },
  {
   "cell_type": "code",
   "execution_count": 20,
   "metadata": {},
   "outputs": [],
   "source": [
    "def median_conversion(df):\n",
    "    df1 = pd.DataFrame()\n",
    "    df1 = df.median(axis=1) ## AVERAGE ALONG THE ROW\n",
    "    return df1"
   ]
  },
  {
   "cell_type": "code",
   "execution_count": 21,
   "metadata": {},
   "outputs": [],
   "source": [
    "PS1_median = pd.DataFrame(median_conversion(df_ps1))\n",
    "PS1_median.columns = ['PS1_median']\n",
    "\n",
    "PS2_median = pd.DataFrame(median_conversion(df_ps2))\n",
    "PS2_median.columns = ['PS2_median']\n",
    "\n",
    "PS3_median = pd.DataFrame(median_conversion(df_ps3))\n",
    "PS3_median.columns = ['PS3_median']\n",
    "\n",
    "PS4_median = pd.DataFrame(median_conversion(df_ps4))\n",
    "PS4_median.columns = ['PS4_median']\n",
    "\n",
    "PS5_median = pd.DataFrame(median_conversion(df_ps5))\n",
    "PS5_median.columns = ['PS5_median']\n",
    "\n",
    "PS6_median = pd.DataFrame(median_conversion(df_ps6))\n",
    "PS6_median.columns = ['PS6_median']\n",
    "\n",
    "TS1_median = pd.DataFrame(median_conversion(df_ts1))\n",
    "TS1_median.columns = ['TS1_median']\n",
    "\n",
    "TS2_median = pd.DataFrame(median_conversion(df_ts2))\n",
    "TS2_median.columns = ['TS2_median']\n",
    "\n",
    "TS3_median = pd.DataFrame(median_conversion(df_ts3))\n",
    "TS3_median.columns = ['TS3_median']\n",
    "\n",
    "TS4_median = pd.DataFrame(median_conversion(df_ts4))\n",
    "TS4_median.columns = ['TS4_median']\n",
    "\n",
    "FS1_median = pd.DataFrame(median_conversion(df_fs1))\n",
    "FS1_median.columns = ['FS1_median']\n",
    "\n",
    "FS2_median = pd.DataFrame(median_conversion(df_fs2))\n",
    "FS2_median.columns = ['FS2_median']\n",
    "\n",
    "P1_median = pd.DataFrame(median_conversion(df_eps1))\n",
    "P1_median.columns = ['P1_median']\n",
    "\n",
    "VS1_median = pd.DataFrame(median_conversion(df_vs1))\n",
    "VS1_median.columns = ['VS1_median']\n",
    "\n",
    "CE1_median = pd.DataFrame(median_conversion(df_ce))\n",
    "CE1_median.columns = ['CE1_median']\n",
    "\n",
    "CP1_median = pd.DataFrame(median_conversion(df_cp))\n",
    "CP1_median.columns = ['CP1_median']\n",
    "\n",
    "SE1_median = pd.DataFrame(median_conversion(df_se))\n",
    "SE1_median.columns = ['SE1_median']"
   ]
  },
  {
   "cell_type": "code",
   "execution_count": 22,
   "metadata": {},
   "outputs": [],
   "source": [
    "Median = pd.concat([PS1_median,PS2_median,PS3_median,PS4_median,PS5_median,PS6_median,\n",
    "                    TS1_median,TS2_median,TS3_median,TS4_median,FS1_median,FS2_median,\n",
    "                    P1_median,VS1_median,CE1_median,CP1_median,SE1_median],axis = 1)"
   ]
  },
  {
   "cell_type": "markdown",
   "metadata": {},
   "source": [
    "<a id = 'Extracting_Variance'></a>\n",
    "\n",
    "## Extracting Variance"
   ]
  },
  {
   "cell_type": "code",
   "execution_count": 23,
   "metadata": {},
   "outputs": [],
   "source": [
    "def var_conversion(df):\n",
    "    df1 = pd.DataFrame()\n",
    "    df1 = df.var(axis=1) ## AVERAGE ALONG THE ROW\n",
    "    return df1"
   ]
  },
  {
   "cell_type": "code",
   "execution_count": 24,
   "metadata": {},
   "outputs": [],
   "source": [
    "PS1_var = pd.DataFrame(var_conversion(df_ps1))\n",
    "PS1_var.columns = ['PS1_var']\n",
    "\n",
    "PS2_var = pd.DataFrame(var_conversion(df_ps2))\n",
    "PS2_var.columns = ['PS2_var']\n",
    "\n",
    "PS3_var = pd.DataFrame(var_conversion(df_ps3))\n",
    "PS3_var.columns = ['PS3_var']\n",
    "\n",
    "PS4_var = pd.DataFrame(var_conversion(df_ps4))\n",
    "PS4_var.columns = ['PS4_var']\n",
    "\n",
    "PS5_var = pd.DataFrame(var_conversion(df_ps5))\n",
    "PS5_var.columns = ['PS5_var']\n",
    "\n",
    "PS6_var = pd.DataFrame(var_conversion(df_ps6))\n",
    "PS6_var.columns = ['PS6_var']\n",
    "\n",
    "TS1_var = pd.DataFrame(var_conversion(df_ts1))\n",
    "TS1_var.columns = ['TS1_var']\n",
    "\n",
    "TS2_var = pd.DataFrame(var_conversion(df_ts2))\n",
    "TS2_var.columns = ['TS2_var']\n",
    "\n",
    "TS3_var = pd.DataFrame(var_conversion(df_ts3))\n",
    "TS3_var.columns = ['TS3_var']\n",
    "\n",
    "TS4_var = pd.DataFrame(var_conversion(df_ts4))\n",
    "TS4_var.columns = ['TS4_var']\n",
    "\n",
    "FS1_var = pd.DataFrame(var_conversion(df_fs1))\n",
    "FS1_var.columns = ['FS1_var']\n",
    "\n",
    "FS2_var = pd.DataFrame(var_conversion(df_fs2))\n",
    "FS2_var.columns = ['FS2_var']\n",
    "\n",
    "P1_var = pd.DataFrame(var_conversion(df_eps1))\n",
    "P1_var.columns = ['P1_var']\n",
    "\n",
    "VS1_var = pd.DataFrame(var_conversion(df_vs1))\n",
    "VS1_var.columns = ['VS1_var']\n",
    "\n",
    "CE1_var = pd.DataFrame(var_conversion(df_ce))\n",
    "CE1_var.columns = ['CE1_var']\n",
    "\n",
    "CP1_var = pd.DataFrame(var_conversion(df_cp))\n",
    "CP1_var.columns = ['CP1_var']\n",
    "\n",
    "SE1_var = pd.DataFrame(var_conversion(df_se))\n",
    "SE1_var.columns = ['SE1_var']\n",
    "\n",
    "Var = pd.concat([PS1_var,PS2_var,PS3_var,PS4_var,PS5_var,PS6_var,\n",
    "                 TS1_var,TS2_var,TS3_var,TS4_var,FS1_var,FS2_var,P1_var,VS1_var,CE1_var,CP1_var,SE1_var],axis = 1)\n"
   ]
  },
  {
   "cell_type": "markdown",
   "metadata": {},
   "source": [
    "<a id = 'Extracting_std'></a>\n",
    "\n",
    "## Extracting Standard Deviation"
   ]
  },
  {
   "cell_type": "code",
   "execution_count": 25,
   "metadata": {},
   "outputs": [],
   "source": [
    "def std_conversion(df):\n",
    "    df1 = pd.DataFrame()\n",
    "    df1 = df.std(axis=1) ## AVERAGE ALONG THE ROW\n",
    "    return df1"
   ]
  },
  {
   "cell_type": "code",
   "execution_count": 26,
   "metadata": {},
   "outputs": [],
   "source": [
    "PS1_std = pd.DataFrame(std_conversion(df_ps1))\n",
    "PS1_std.columns = ['PS1_std']\n",
    "\n",
    "PS2_std = pd.DataFrame(std_conversion(df_ps2))\n",
    "PS2_std.columns = ['PS2_std']\n",
    "\n",
    "PS3_std = pd.DataFrame(std_conversion(df_ps3))\n",
    "PS3_std.columns = ['PS3_std']\n",
    "\n",
    "PS4_std = pd.DataFrame(std_conversion(df_ps4))\n",
    "PS4_std.columns = ['PS4_std']\n",
    "\n",
    "PS5_std = pd.DataFrame(std_conversion(df_ps5))\n",
    "PS5_std.columns = ['PS5_std']\n",
    "\n",
    "PS6_std = pd.DataFrame(std_conversion(df_ps6))\n",
    "PS6_std.columns = ['PS6_std']\n",
    "\n",
    "TS1_std = pd.DataFrame(std_conversion(df_ts1))\n",
    "TS1_std.columns = ['TS1_std']\n",
    "\n",
    "TS2_std = pd.DataFrame(std_conversion(df_ts2))\n",
    "TS2_std.columns = ['TS2_std']\n",
    "\n",
    "TS3_std = pd.DataFrame(std_conversion(df_ts3))\n",
    "TS3_std.columns = ['TS3_std']\n",
    "\n",
    "TS4_std = pd.DataFrame(std_conversion(df_ts4))\n",
    "TS4_std.columns = ['TS4_std']\n",
    "\n",
    "FS1_std = pd.DataFrame(std_conversion(df_fs1))\n",
    "FS1_std.columns = ['FS1_std']\n",
    "\n",
    "FS2_std = pd.DataFrame(std_conversion(df_fs2))\n",
    "FS2_std.columns = ['FS2_std']\n",
    "\n",
    "P1_std = pd.DataFrame(std_conversion(df_eps1))\n",
    "P1_std.columns = ['P1_std']\n",
    "\n",
    "VS1_std = pd.DataFrame(std_conversion(df_vs1))\n",
    "VS1_std.columns = ['VS1_std']\n",
    "\n",
    "CE1_std = pd.DataFrame(std_conversion(df_ce))\n",
    "CE1_std.columns = ['CE1_std']\n",
    "\n",
    "CP1_std = pd.DataFrame(std_conversion(df_cp))\n",
    "CP1_std.columns = ['CP1_std']\n",
    "\n",
    "SE1_std = pd.DataFrame(std_conversion(df_se))\n",
    "SE1_std.columns = ['SE1_std']\n",
    "\n",
    "Std = pd.concat([PS1_std,PS2_std,PS3_std,PS4_std,PS5_std,PS6_std,TS1_std,TS2_std,TS3_std,TS4_std,\n",
    "                 FS1_std,FS2_std,P1_std,VS1_std,CE1_std,CP1_std,SE1_std],axis = 1)\n"
   ]
  },
  {
   "cell_type": "markdown",
   "metadata": {},
   "source": [
    "<a id = 'Extracting_ptp'></a>\n",
    "\n",
    "## Extracting Peak to Peak"
   ]
  },
  {
   "cell_type": "code",
   "execution_count": 27,
   "metadata": {},
   "outputs": [],
   "source": [
    "def ptp_conversion(df):\n",
    "    df1 = pd.DataFrame()\n",
    "    df1 = df.max(axis=1)-df.min(axis=1) ## AVERAGE ALONG THE ROW\n",
    "    return df1"
   ]
  },
  {
   "cell_type": "code",
   "execution_count": 28,
   "metadata": {},
   "outputs": [],
   "source": [
    "PS1_ptp = pd.DataFrame(ptp_conversion(df_ps1))\n",
    "PS1_ptp.columns = ['PS1_ptp']\n",
    "\n",
    "PS2_ptp = pd.DataFrame(ptp_conversion(df_ps2))\n",
    "PS2_ptp.columns = ['PS2_ptp']\n",
    "\n",
    "PS3_ptp = pd.DataFrame(ptp_conversion(df_ps3))\n",
    "PS3_ptp.columns = ['PS3_ptp']\n",
    "\n",
    "PS4_ptp = pd.DataFrame(ptp_conversion(df_ps4))\n",
    "PS4_ptp.columns = ['PS4_ptp']\n",
    "\n",
    "PS5_ptp = pd.DataFrame(ptp_conversion(df_ps5))\n",
    "PS5_ptp.columns = ['PS5_ptp']\n",
    "\n",
    "PS6_ptp = pd.DataFrame(ptp_conversion(df_ps6))\n",
    "PS6_ptp.columns = ['PS6_ptp']\n",
    "\n",
    "TS1_ptp = pd.DataFrame(ptp_conversion(df_ts1))\n",
    "TS1_ptp.columns = ['TS1_ptp']\n",
    "\n",
    "TS2_ptp = pd.DataFrame(ptp_conversion(df_ts2))\n",
    "TS2_ptp.columns = ['TS2_ptp']\n",
    "\n",
    "TS3_ptp = pd.DataFrame(ptp_conversion(df_ts3))\n",
    "TS3_ptp.columns = ['TS3_ptp']\n",
    "\n",
    "TS4_ptp = pd.DataFrame(ptp_conversion(df_ts4))\n",
    "TS4_ptp.columns = ['TS4_ptp']\n",
    "\n",
    "FS1_ptp = pd.DataFrame(ptp_conversion(df_fs1))\n",
    "FS1_ptp.columns = ['FS1_ptp']\n",
    "\n",
    "FS2_ptp = pd.DataFrame(ptp_conversion(df_fs2))\n",
    "FS2_ptp.columns = ['FS2_ptp']\n",
    "\n",
    "P1_ptp = pd.DataFrame(ptp_conversion(df_eps1))\n",
    "P1_ptp.columns = ['P1_ptp']\n",
    "\n",
    "VS1_ptp = pd.DataFrame(ptp_conversion(df_vs1))\n",
    "VS1_ptp.columns = ['VS1_ptp']\n",
    "\n",
    "CE1_ptp = pd.DataFrame(ptp_conversion(df_ce))\n",
    "CE1_ptp.columns = ['CE1_ptp']\n",
    "\n",
    "CP1_ptp = pd.DataFrame(ptp_conversion(df_cp))\n",
    "CP1_ptp.columns = ['CP1_ptp']\n",
    "\n",
    "SE1_ptp = pd.DataFrame(ptp_conversion(df_se))\n",
    "SE1_ptp.columns = ['SE1_ptp']\n",
    "\n",
    "Ptp = pd.concat([PS1_ptp,PS2_ptp,PS3_ptp,PS4_ptp,PS5_ptp,PS6_ptp,TS1_ptp,TS2_ptp,TS3_ptp,TS4_ptp,\n",
    "                 FS1_ptp,FS2_ptp,P1_ptp,VS1_ptp,CE1_ptp,CP1_ptp,SE1_ptp],axis = 1)\n"
   ]
  },
  {
   "cell_type": "code",
   "execution_count": 29,
   "metadata": {},
   "outputs": [],
   "source": [
    "statsfinal = pd.concat([Median, Std, Var, Ptp], axis = 1)"
   ]
  },
  {
   "cell_type": "code",
   "execution_count": 30,
   "metadata": {},
   "outputs": [
    {
     "data": {
      "text/html": [
       "<div>\n",
       "<style scoped>\n",
       "    .dataframe tbody tr th:only-of-type {\n",
       "        vertical-align: middle;\n",
       "    }\n",
       "\n",
       "    .dataframe tbody tr th {\n",
       "        vertical-align: top;\n",
       "    }\n",
       "\n",
       "    .dataframe thead th {\n",
       "        text-align: right;\n",
       "    }\n",
       "</style>\n",
       "<table border=\"1\" class=\"dataframe\">\n",
       "  <thead>\n",
       "    <tr style=\"text-align: right;\">\n",
       "      <th></th>\n",
       "      <th>PS1_median</th>\n",
       "      <th>PS2_median</th>\n",
       "      <th>PS3_median</th>\n",
       "      <th>PS4_median</th>\n",
       "      <th>PS5_median</th>\n",
       "      <th>PS6_median</th>\n",
       "      <th>TS1_median</th>\n",
       "      <th>TS2_median</th>\n",
       "      <th>TS3_median</th>\n",
       "      <th>TS4_median</th>\n",
       "      <th>...</th>\n",
       "      <th>TS2_ptp</th>\n",
       "      <th>TS3_ptp</th>\n",
       "      <th>TS4_ptp</th>\n",
       "      <th>FS1_ptp</th>\n",
       "      <th>FS2_ptp</th>\n",
       "      <th>P1_ptp</th>\n",
       "      <th>VS1_ptp</th>\n",
       "      <th>CE1_ptp</th>\n",
       "      <th>CP1_ptp</th>\n",
       "      <th>SE1_ptp</th>\n",
       "    </tr>\n",
       "  </thead>\n",
       "  <tbody>\n",
       "    <tr>\n",
       "      <th>0</th>\n",
       "      <td>156.25</td>\n",
       "      <td>129.365</td>\n",
       "      <td>2.297</td>\n",
       "      <td>0.0</td>\n",
       "      <td>9.844</td>\n",
       "      <td>9.733</td>\n",
       "      <td>35.5720</td>\n",
       "      <td>40.9630</td>\n",
       "      <td>38.4960</td>\n",
       "      <td>31.576</td>\n",
       "      <td>...</td>\n",
       "      <td>0.477</td>\n",
       "      <td>0.297</td>\n",
       "      <td>3.231</td>\n",
       "      <td>18.710</td>\n",
       "      <td>0.298</td>\n",
       "      <td>611.8</td>\n",
       "      <td>0.092</td>\n",
       "      <td>18.572</td>\n",
       "      <td>0.805</td>\n",
       "      <td>79.568</td>\n",
       "    </tr>\n",
       "    <tr>\n",
       "      <th>1</th>\n",
       "      <td>156.06</td>\n",
       "      <td>129.385</td>\n",
       "      <td>2.273</td>\n",
       "      <td>0.0</td>\n",
       "      <td>9.632</td>\n",
       "      <td>9.526</td>\n",
       "      <td>36.7675</td>\n",
       "      <td>41.5180</td>\n",
       "      <td>38.9845</td>\n",
       "      <td>34.553</td>\n",
       "      <td>...</td>\n",
       "      <td>1.074</td>\n",
       "      <td>0.586</td>\n",
       "      <td>1.500</td>\n",
       "      <td>18.712</td>\n",
       "      <td>0.101</td>\n",
       "      <td>615.4</td>\n",
       "      <td>0.102</td>\n",
       "      <td>5.888</td>\n",
       "      <td>0.267</td>\n",
       "      <td>80.441</td>\n",
       "    </tr>\n",
       "    <tr>\n",
       "      <th>2</th>\n",
       "      <td>155.72</td>\n",
       "      <td>129.325</td>\n",
       "      <td>2.273</td>\n",
       "      <td>0.0</td>\n",
       "      <td>9.528</td>\n",
       "      <td>9.425</td>\n",
       "      <td>38.0235</td>\n",
       "      <td>42.4235</td>\n",
       "      <td>39.6270</td>\n",
       "      <td>35.635</td>\n",
       "      <td>...</td>\n",
       "      <td>1.207</td>\n",
       "      <td>0.828</td>\n",
       "      <td>1.043</td>\n",
       "      <td>18.698</td>\n",
       "      <td>0.147</td>\n",
       "      <td>621.2</td>\n",
       "      <td>0.133</td>\n",
       "      <td>2.334</td>\n",
       "      <td>0.083</td>\n",
       "      <td>80.824</td>\n",
       "    </tr>\n",
       "    <tr>\n",
       "      <th>3</th>\n",
       "      <td>155.56</td>\n",
       "      <td>128.865</td>\n",
       "      <td>2.242</td>\n",
       "      <td>0.0</td>\n",
       "      <td>9.436</td>\n",
       "      <td>9.335</td>\n",
       "      <td>39.0550</td>\n",
       "      <td>43.3650</td>\n",
       "      <td>40.3420</td>\n",
       "      <td>36.635</td>\n",
       "      <td>...</td>\n",
       "      <td>1.183</td>\n",
       "      <td>0.911</td>\n",
       "      <td>0.883</td>\n",
       "      <td>18.896</td>\n",
       "      <td>0.141</td>\n",
       "      <td>618.8</td>\n",
       "      <td>0.118</td>\n",
       "      <td>1.892</td>\n",
       "      <td>0.085</td>\n",
       "      <td>80.930</td>\n",
       "    </tr>\n",
       "    <tr>\n",
       "      <th>4</th>\n",
       "      <td>155.34</td>\n",
       "      <td>129.000</td>\n",
       "      <td>2.219</td>\n",
       "      <td>0.0</td>\n",
       "      <td>9.358</td>\n",
       "      <td>9.260</td>\n",
       "      <td>39.9670</td>\n",
       "      <td>44.3355</td>\n",
       "      <td>41.3400</td>\n",
       "      <td>37.439</td>\n",
       "      <td>...</td>\n",
       "      <td>1.145</td>\n",
       "      <td>0.918</td>\n",
       "      <td>0.789</td>\n",
       "      <td>18.876</td>\n",
       "      <td>0.133</td>\n",
       "      <td>622.0</td>\n",
       "      <td>0.136</td>\n",
       "      <td>1.327</td>\n",
       "      <td>0.090</td>\n",
       "      <td>81.100</td>\n",
       "    </tr>\n",
       "  </tbody>\n",
       "</table>\n",
       "<p>5 rows × 68 columns</p>\n",
       "</div>"
      ],
      "text/plain": [
       "   PS1_median  PS2_median  PS3_median  PS4_median  PS5_median  PS6_median  \\\n",
       "0      156.25     129.365       2.297         0.0       9.844       9.733   \n",
       "1      156.06     129.385       2.273         0.0       9.632       9.526   \n",
       "2      155.72     129.325       2.273         0.0       9.528       9.425   \n",
       "3      155.56     128.865       2.242         0.0       9.436       9.335   \n",
       "4      155.34     129.000       2.219         0.0       9.358       9.260   \n",
       "\n",
       "   TS1_median  TS2_median  TS3_median  TS4_median  ...  TS2_ptp  TS3_ptp  \\\n",
       "0     35.5720     40.9630     38.4960      31.576  ...    0.477    0.297   \n",
       "1     36.7675     41.5180     38.9845      34.553  ...    1.074    0.586   \n",
       "2     38.0235     42.4235     39.6270      35.635  ...    1.207    0.828   \n",
       "3     39.0550     43.3650     40.3420      36.635  ...    1.183    0.911   \n",
       "4     39.9670     44.3355     41.3400      37.439  ...    1.145    0.918   \n",
       "\n",
       "   TS4_ptp  FS1_ptp  FS2_ptp  P1_ptp  VS1_ptp  CE1_ptp  CP1_ptp  SE1_ptp  \n",
       "0    3.231   18.710    0.298   611.8    0.092   18.572    0.805   79.568  \n",
       "1    1.500   18.712    0.101   615.4    0.102    5.888    0.267   80.441  \n",
       "2    1.043   18.698    0.147   621.2    0.133    2.334    0.083   80.824  \n",
       "3    0.883   18.896    0.141   618.8    0.118    1.892    0.085   80.930  \n",
       "4    0.789   18.876    0.133   622.0    0.136    1.327    0.090   81.100  \n",
       "\n",
       "[5 rows x 68 columns]"
      ]
     },
     "execution_count": 30,
     "metadata": {},
     "output_type": "execute_result"
    }
   ],
   "source": [
    "statsfinal.head()"
   ]
  },
  {
   "cell_type": "markdown",
   "metadata": {},
   "source": [
    "<a id = 'Extracting_iqr'></a>\n",
    "\n",
    "## Extracting Interquartile Range"
   ]
  },
  {
   "cell_type": "code",
   "execution_count": 29,
   "metadata": {},
   "outputs": [],
   "source": [
    "def iqr_conversion(df):\n",
    "    df1 = pd.DataFrame()\n",
    "    q3, q1 = np.percentile(df, [75 ,25])\n",
    "    iqr = q3 - q1\n",
    "    df1 = df.max(axis=1)-df.min(axis=1) ## AVERAGE ALONG THE ROW\n",
    "    return df1"
   ]
  },
  {
   "cell_type": "code",
   "execution_count": 30,
   "metadata": {},
   "outputs": [],
   "source": [
    "PS1_iqr = pd.DataFrame(iqr_conversion(df_ps1))\n",
    "PS1_iqr.columns = ['PS1_iqr']\n",
    "\n",
    "PS2_iqr = pd.DataFrame(iqr_conversion(df_ps2))\n",
    "PS2_iqr.columns = ['PS2_iqr']\n",
    "\n",
    "PS3_iqr = pd.DataFrame(iqr_conversion(df_ps3))\n",
    "PS3_iqr.columns = ['PS3_iqr']\n",
    "\n",
    "PS4_iqr = pd.DataFrame(iqr_conversion(df_ps4))\n",
    "PS4_iqr.columns = ['PS4_iqr']\n",
    "\n",
    "PS5_iqr = pd.DataFrame(iqr_conversion(df_ps5))\n",
    "PS5_iqr.columns = ['PS5_iqr']\n",
    "\n",
    "PS6_iqr = pd.DataFrame(iqr_conversion(df_ps6))\n",
    "PS6_iqr.columns = ['PS6_iqr']\n",
    "\n",
    "TS1_iqr = pd.DataFrame(iqr_conversion(df_ts1))\n",
    "TS1_iqr.columns = ['TS1_iqr']\n",
    "\n",
    "TS2_iqr = pd.DataFrame(iqr_conversion(df_ts2))\n",
    "TS2_iqr.columns = ['TS2_iqr']\n",
    "\n",
    "TS3_iqr = pd.DataFrame(iqr_conversion(df_ts3))\n",
    "TS3_iqr.columns = ['TS3_iqr']\n",
    "\n",
    "TS4_iqr = pd.DataFrame(iqr_conversion(df_ts4))\n",
    "TS4_iqr.columns = ['TS4_iqr']\n",
    "\n",
    "FS1_iqr = pd.DataFrame(iqr_conversion(df_fs1))\n",
    "FS1_iqr.columns = ['FS1_iqr']\n",
    "\n",
    "FS2_iqr = pd.DataFrame(iqr_conversion(df_fs2))\n",
    "FS2_iqr.columns = ['FS2_iqr']\n",
    "\n",
    "P1_iqr = pd.DataFrame(iqr_conversion(df_eps1))\n",
    "P1_iqr.columns = ['P1_iqr']\n",
    "\n",
    "VS1_iqr = pd.DataFrame(iqr_conversion(df_vs1))\n",
    "VS1_iqr.columns = ['VS1_iqr']\n",
    "\n",
    "CE1_iqr = pd.DataFrame(iqr_conversion(df_ce))\n",
    "CE1_iqr.columns = ['CE1_iqr']\n",
    "\n",
    "CP1_iqr = pd.DataFrame(iqr_conversion(df_cp))\n",
    "CP1_iqr.columns = ['CP1_iqr']\n",
    "\n",
    "SE1_iqr = pd.DataFrame(iqr_conversion(df_se))\n",
    "SE1_iqr.columns = ['SE1_iqr']\n",
    "\n",
    "Iqr = pd.concat([PS1_iqr,PS2_iqr,PS3_iqr,PS4_iqr,PS5_iqr,PS6_iqr,\n",
    "                 TS1_iqr,TS2_iqr,TS3_iqr,TS4_iqr,FS1_iqr,FS2_iqr,P1_iqr,VS1_iqr,CE1_iqr,CP1_iqr,SE1_iqr],axis = 1)\n"
   ]
  },
  {
   "cell_type": "markdown",
   "metadata": {},
   "source": [
    "### Extracting Skewness "
   ]
  },
  {
   "cell_type": "code",
   "execution_count": 32,
   "metadata": {},
   "outputs": [],
   "source": [
    "def skew_conversion(df):\n",
    "    df1 = pd.DataFrame()\n",
    "    df1 = df.skew(axis=1) ## AVERAGE ALONG THE ROW\n",
    "    return df1"
   ]
  },
  {
   "cell_type": "code",
   "execution_count": null,
   "metadata": {},
   "outputs": [],
   "source": [
    "PS1_iqr = pd.DataFrame(skew_conversion(df_ps1))\n",
    "PS1_iqr.columns = ['PS1_skew']\n",
    "\n",
    "PS2_iqr = pd.DataFrame(skew_conversion(df_ps2))\n",
    "PS2_iqr.columns = ['PS2_skew']\n",
    "\n",
    "PS3_iqr = pd.DataFrame(skew_conversion(df_ps3))\n",
    "PS3_iqr.columns = ['PS3_skew']\n",
    "\n",
    "PS4_iqr = pd.DataFrame(skew_conversion(df_ps4))\n",
    "PS4_iqr.columns = ['PS4_skew']\n",
    "\n",
    "PS5_iqr = pd.DataFrame(skew_conversion(df_ps5))\n",
    "PS5_iqr.columns = ['PS5_skew']\n",
    "\n",
    "PS6_iqr = pd.DataFrame(skew_conversion(df_ps6))\n",
    "PS6_iqr.columns = ['PS6_skew']\n",
    "\n",
    "TS1_iqr = pd.DataFrame(skew_conversion(df_ts1))\n",
    "TS1_iqr.columns = ['TS1_skew']\n",
    "\n",
    "TS2_iqr = pd.DataFrame(skew_conversion(df_ts2))\n",
    "TS2_iqr.columns = ['TS2_skew']\n",
    "\n",
    "TS3_iqr = pd.DataFrame(skew_conversion(df_ts3))\n",
    "TS3_iqr.columns = ['TS3_skew']\n",
    "\n",
    "TS4_iqr = pd.DataFrame(skew_conversion(df_ts4))\n",
    "TS4_iqr.columns = ['TS4_iqr']\n",
    "\n",
    "FS1_iqr = pd.DataFrame(iqr_conversion(df_fs1))\n",
    "FS1_iqr.columns = ['FS1_iqr']\n",
    "\n",
    "FS2_iqr = pd.DataFrame(iqr_conversion(df_fs2))\n",
    "FS2_iqr.columns = ['FS2_iqr']\n",
    "\n",
    "P1_iqr = pd.DataFrame(iqr_conversion(df_eps1))\n",
    "P1_iqr.columns = ['P1_iqr']\n",
    "\n",
    "VS1_iqr = pd.DataFrame(iqr_conversion(df_vs1))\n",
    "VS1_iqr.columns = ['VS1_iqr']\n",
    "\n",
    "CE1_iqr = pd.DataFrame(iqr_conversion(df_ce))\n",
    "CE1_iqr.columns = ['CE1_iqr']\n",
    "\n",
    "CP1_iqr = pd.DataFrame(iqr_conversion(df_cp))\n",
    "CP1_iqr.columns = ['CP1_iqr']\n",
    "\n",
    "SE1_iqr = pd.DataFrame(iqr_conversion(df_se))\n",
    "SE1_iqr.columns = ['SE1_iqr']\n",
    "\n",
    "Iqr = pd.concat([PS1_iqr,PS2_iqr,PS3_iqr,PS4_iqr,PS5_iqr,PS6_iqr,\n",
    "                 TS1_iqr,TS2_iqr,TS3_iqr,TS4_iqr,FS1_iqr,FS2_iqr,P1_iqr,VS1_iqr,CE1_iqr,CP1_iqr,SE1_iqr],axis = 1)\n"
   ]
  },
  {
   "cell_type": "code",
   "execution_count": null,
   "metadata": {},
   "outputs": [],
   "source": []
  },
  {
   "cell_type": "code",
   "execution_count": 33,
   "metadata": {},
   "outputs": [],
   "source": [
    "statsfinal = pd.concat([statsfinal, Iqr],axis = 1)"
   ]
  },
  {
   "cell_type": "code",
   "execution_count": 34,
   "metadata": {
    "scrolled": true
   },
   "outputs": [
    {
     "data": {
      "text/html": [
       "<div>\n",
       "<style scoped>\n",
       "    .dataframe tbody tr th:only-of-type {\n",
       "        vertical-align: middle;\n",
       "    }\n",
       "\n",
       "    .dataframe tbody tr th {\n",
       "        vertical-align: top;\n",
       "    }\n",
       "\n",
       "    .dataframe thead th {\n",
       "        text-align: right;\n",
       "    }\n",
       "</style>\n",
       "<table border=\"1\" class=\"dataframe\">\n",
       "  <thead>\n",
       "    <tr style=\"text-align: right;\">\n",
       "      <th></th>\n",
       "      <th>PS1_median</th>\n",
       "      <th>PS2_median</th>\n",
       "      <th>PS3_median</th>\n",
       "      <th>PS4_median</th>\n",
       "      <th>PS5_median</th>\n",
       "      <th>PS6_median</th>\n",
       "      <th>TS1_median</th>\n",
       "      <th>TS2_median</th>\n",
       "      <th>TS3_median</th>\n",
       "      <th>TS4_median</th>\n",
       "      <th>...</th>\n",
       "      <th>TS2_iqr</th>\n",
       "      <th>TS3_iqr</th>\n",
       "      <th>TS4_iqr</th>\n",
       "      <th>FS1_iqr</th>\n",
       "      <th>FS2_iqr</th>\n",
       "      <th>P1_iqr</th>\n",
       "      <th>VS1_iqr</th>\n",
       "      <th>CE1_iqr</th>\n",
       "      <th>CP1_iqr</th>\n",
       "      <th>SE1_iqr</th>\n",
       "    </tr>\n",
       "  </thead>\n",
       "  <tbody>\n",
       "    <tr>\n",
       "      <th>0</th>\n",
       "      <td>156.25</td>\n",
       "      <td>129.365</td>\n",
       "      <td>2.297</td>\n",
       "      <td>0.0</td>\n",
       "      <td>9.844</td>\n",
       "      <td>9.733</td>\n",
       "      <td>35.5720</td>\n",
       "      <td>40.9630</td>\n",
       "      <td>38.4960</td>\n",
       "      <td>31.576</td>\n",
       "      <td>...</td>\n",
       "      <td>0.477</td>\n",
       "      <td>0.297</td>\n",
       "      <td>3.231</td>\n",
       "      <td>18.710</td>\n",
       "      <td>0.298</td>\n",
       "      <td>611.8</td>\n",
       "      <td>0.092</td>\n",
       "      <td>18.572</td>\n",
       "      <td>0.805</td>\n",
       "      <td>79.568</td>\n",
       "    </tr>\n",
       "    <tr>\n",
       "      <th>1</th>\n",
       "      <td>156.06</td>\n",
       "      <td>129.385</td>\n",
       "      <td>2.273</td>\n",
       "      <td>0.0</td>\n",
       "      <td>9.632</td>\n",
       "      <td>9.526</td>\n",
       "      <td>36.7675</td>\n",
       "      <td>41.5180</td>\n",
       "      <td>38.9845</td>\n",
       "      <td>34.553</td>\n",
       "      <td>...</td>\n",
       "      <td>1.074</td>\n",
       "      <td>0.586</td>\n",
       "      <td>1.500</td>\n",
       "      <td>18.712</td>\n",
       "      <td>0.101</td>\n",
       "      <td>615.4</td>\n",
       "      <td>0.102</td>\n",
       "      <td>5.888</td>\n",
       "      <td>0.267</td>\n",
       "      <td>80.441</td>\n",
       "    </tr>\n",
       "    <tr>\n",
       "      <th>2</th>\n",
       "      <td>155.72</td>\n",
       "      <td>129.325</td>\n",
       "      <td>2.273</td>\n",
       "      <td>0.0</td>\n",
       "      <td>9.528</td>\n",
       "      <td>9.425</td>\n",
       "      <td>38.0235</td>\n",
       "      <td>42.4235</td>\n",
       "      <td>39.6270</td>\n",
       "      <td>35.635</td>\n",
       "      <td>...</td>\n",
       "      <td>1.207</td>\n",
       "      <td>0.828</td>\n",
       "      <td>1.043</td>\n",
       "      <td>18.698</td>\n",
       "      <td>0.147</td>\n",
       "      <td>621.2</td>\n",
       "      <td>0.133</td>\n",
       "      <td>2.334</td>\n",
       "      <td>0.083</td>\n",
       "      <td>80.824</td>\n",
       "    </tr>\n",
       "    <tr>\n",
       "      <th>3</th>\n",
       "      <td>155.56</td>\n",
       "      <td>128.865</td>\n",
       "      <td>2.242</td>\n",
       "      <td>0.0</td>\n",
       "      <td>9.436</td>\n",
       "      <td>9.335</td>\n",
       "      <td>39.0550</td>\n",
       "      <td>43.3650</td>\n",
       "      <td>40.3420</td>\n",
       "      <td>36.635</td>\n",
       "      <td>...</td>\n",
       "      <td>1.183</td>\n",
       "      <td>0.911</td>\n",
       "      <td>0.883</td>\n",
       "      <td>18.896</td>\n",
       "      <td>0.141</td>\n",
       "      <td>618.8</td>\n",
       "      <td>0.118</td>\n",
       "      <td>1.892</td>\n",
       "      <td>0.085</td>\n",
       "      <td>80.930</td>\n",
       "    </tr>\n",
       "    <tr>\n",
       "      <th>4</th>\n",
       "      <td>155.34</td>\n",
       "      <td>129.000</td>\n",
       "      <td>2.219</td>\n",
       "      <td>0.0</td>\n",
       "      <td>9.358</td>\n",
       "      <td>9.260</td>\n",
       "      <td>39.9670</td>\n",
       "      <td>44.3355</td>\n",
       "      <td>41.3400</td>\n",
       "      <td>37.439</td>\n",
       "      <td>...</td>\n",
       "      <td>1.145</td>\n",
       "      <td>0.918</td>\n",
       "      <td>0.789</td>\n",
       "      <td>18.876</td>\n",
       "      <td>0.133</td>\n",
       "      <td>622.0</td>\n",
       "      <td>0.136</td>\n",
       "      <td>1.327</td>\n",
       "      <td>0.090</td>\n",
       "      <td>81.100</td>\n",
       "    </tr>\n",
       "  </tbody>\n",
       "</table>\n",
       "<p>5 rows × 85 columns</p>\n",
       "</div>"
      ],
      "text/plain": [
       "   PS1_median  PS2_median  PS3_median  PS4_median  PS5_median  PS6_median  \\\n",
       "0      156.25     129.365       2.297         0.0       9.844       9.733   \n",
       "1      156.06     129.385       2.273         0.0       9.632       9.526   \n",
       "2      155.72     129.325       2.273         0.0       9.528       9.425   \n",
       "3      155.56     128.865       2.242         0.0       9.436       9.335   \n",
       "4      155.34     129.000       2.219         0.0       9.358       9.260   \n",
       "\n",
       "   TS1_median  TS2_median  TS3_median  TS4_median  ...  TS2_iqr  TS3_iqr  \\\n",
       "0     35.5720     40.9630     38.4960      31.576  ...    0.477    0.297   \n",
       "1     36.7675     41.5180     38.9845      34.553  ...    1.074    0.586   \n",
       "2     38.0235     42.4235     39.6270      35.635  ...    1.207    0.828   \n",
       "3     39.0550     43.3650     40.3420      36.635  ...    1.183    0.911   \n",
       "4     39.9670     44.3355     41.3400      37.439  ...    1.145    0.918   \n",
       "\n",
       "   TS4_iqr  FS1_iqr  FS2_iqr  P1_iqr  VS1_iqr  CE1_iqr  CP1_iqr  SE1_iqr  \n",
       "0    3.231   18.710    0.298   611.8    0.092   18.572    0.805   79.568  \n",
       "1    1.500   18.712    0.101   615.4    0.102    5.888    0.267   80.441  \n",
       "2    1.043   18.698    0.147   621.2    0.133    2.334    0.083   80.824  \n",
       "3    0.883   18.896    0.141   618.8    0.118    1.892    0.085   80.930  \n",
       "4    0.789   18.876    0.133   622.0    0.136    1.327    0.090   81.100  \n",
       "\n",
       "[5 rows x 85 columns]"
      ]
     },
     "execution_count": 34,
     "metadata": {},
     "output_type": "execute_result"
    }
   ],
   "source": [
    "statsfinal.head()"
   ]
  },
  {
   "cell_type": "code",
   "execution_count": 35,
   "metadata": {},
   "outputs": [],
   "source": [
    "statsfinal_target = pd.concat([statsfinal,profile], axis = 1)"
   ]
  },
  {
   "cell_type": "code",
   "execution_count": 36,
   "metadata": {},
   "outputs": [
    {
     "data": {
      "text/html": [
       "<div>\n",
       "<style scoped>\n",
       "    .dataframe tbody tr th:only-of-type {\n",
       "        vertical-align: middle;\n",
       "    }\n",
       "\n",
       "    .dataframe tbody tr th {\n",
       "        vertical-align: top;\n",
       "    }\n",
       "\n",
       "    .dataframe thead th {\n",
       "        text-align: right;\n",
       "    }\n",
       "</style>\n",
       "<table border=\"1\" class=\"dataframe\">\n",
       "  <thead>\n",
       "    <tr style=\"text-align: right;\">\n",
       "      <th></th>\n",
       "      <th>PS1_median</th>\n",
       "      <th>PS2_median</th>\n",
       "      <th>PS3_median</th>\n",
       "      <th>PS4_median</th>\n",
       "      <th>PS5_median</th>\n",
       "      <th>PS6_median</th>\n",
       "      <th>TS1_median</th>\n",
       "      <th>TS2_median</th>\n",
       "      <th>TS3_median</th>\n",
       "      <th>TS4_median</th>\n",
       "      <th>...</th>\n",
       "      <th>TS2_iqr</th>\n",
       "      <th>TS3_iqr</th>\n",
       "      <th>TS4_iqr</th>\n",
       "      <th>FS1_iqr</th>\n",
       "      <th>FS2_iqr</th>\n",
       "      <th>P1_iqr</th>\n",
       "      <th>VS1_iqr</th>\n",
       "      <th>CE1_iqr</th>\n",
       "      <th>CP1_iqr</th>\n",
       "      <th>SE1_iqr</th>\n",
       "    </tr>\n",
       "  </thead>\n",
       "  <tbody>\n",
       "    <tr>\n",
       "      <th>0</th>\n",
       "      <td>156.25</td>\n",
       "      <td>129.365</td>\n",
       "      <td>2.297</td>\n",
       "      <td>0.0</td>\n",
       "      <td>9.844</td>\n",
       "      <td>9.733</td>\n",
       "      <td>35.5720</td>\n",
       "      <td>40.9630</td>\n",
       "      <td>38.4960</td>\n",
       "      <td>31.576</td>\n",
       "      <td>...</td>\n",
       "      <td>0.477</td>\n",
       "      <td>0.297</td>\n",
       "      <td>3.231</td>\n",
       "      <td>18.710</td>\n",
       "      <td>0.298</td>\n",
       "      <td>611.8</td>\n",
       "      <td>0.092</td>\n",
       "      <td>18.572</td>\n",
       "      <td>0.805</td>\n",
       "      <td>79.568</td>\n",
       "    </tr>\n",
       "    <tr>\n",
       "      <th>1</th>\n",
       "      <td>156.06</td>\n",
       "      <td>129.385</td>\n",
       "      <td>2.273</td>\n",
       "      <td>0.0</td>\n",
       "      <td>9.632</td>\n",
       "      <td>9.526</td>\n",
       "      <td>36.7675</td>\n",
       "      <td>41.5180</td>\n",
       "      <td>38.9845</td>\n",
       "      <td>34.553</td>\n",
       "      <td>...</td>\n",
       "      <td>1.074</td>\n",
       "      <td>0.586</td>\n",
       "      <td>1.500</td>\n",
       "      <td>18.712</td>\n",
       "      <td>0.101</td>\n",
       "      <td>615.4</td>\n",
       "      <td>0.102</td>\n",
       "      <td>5.888</td>\n",
       "      <td>0.267</td>\n",
       "      <td>80.441</td>\n",
       "    </tr>\n",
       "    <tr>\n",
       "      <th>2</th>\n",
       "      <td>155.72</td>\n",
       "      <td>129.325</td>\n",
       "      <td>2.273</td>\n",
       "      <td>0.0</td>\n",
       "      <td>9.528</td>\n",
       "      <td>9.425</td>\n",
       "      <td>38.0235</td>\n",
       "      <td>42.4235</td>\n",
       "      <td>39.6270</td>\n",
       "      <td>35.635</td>\n",
       "      <td>...</td>\n",
       "      <td>1.207</td>\n",
       "      <td>0.828</td>\n",
       "      <td>1.043</td>\n",
       "      <td>18.698</td>\n",
       "      <td>0.147</td>\n",
       "      <td>621.2</td>\n",
       "      <td>0.133</td>\n",
       "      <td>2.334</td>\n",
       "      <td>0.083</td>\n",
       "      <td>80.824</td>\n",
       "    </tr>\n",
       "    <tr>\n",
       "      <th>3</th>\n",
       "      <td>155.56</td>\n",
       "      <td>128.865</td>\n",
       "      <td>2.242</td>\n",
       "      <td>0.0</td>\n",
       "      <td>9.436</td>\n",
       "      <td>9.335</td>\n",
       "      <td>39.0550</td>\n",
       "      <td>43.3650</td>\n",
       "      <td>40.3420</td>\n",
       "      <td>36.635</td>\n",
       "      <td>...</td>\n",
       "      <td>1.183</td>\n",
       "      <td>0.911</td>\n",
       "      <td>0.883</td>\n",
       "      <td>18.896</td>\n",
       "      <td>0.141</td>\n",
       "      <td>618.8</td>\n",
       "      <td>0.118</td>\n",
       "      <td>1.892</td>\n",
       "      <td>0.085</td>\n",
       "      <td>80.930</td>\n",
       "    </tr>\n",
       "    <tr>\n",
       "      <th>4</th>\n",
       "      <td>155.34</td>\n",
       "      <td>129.000</td>\n",
       "      <td>2.219</td>\n",
       "      <td>0.0</td>\n",
       "      <td>9.358</td>\n",
       "      <td>9.260</td>\n",
       "      <td>39.9670</td>\n",
       "      <td>44.3355</td>\n",
       "      <td>41.3400</td>\n",
       "      <td>37.439</td>\n",
       "      <td>...</td>\n",
       "      <td>1.145</td>\n",
       "      <td>0.918</td>\n",
       "      <td>0.789</td>\n",
       "      <td>18.876</td>\n",
       "      <td>0.133</td>\n",
       "      <td>622.0</td>\n",
       "      <td>0.136</td>\n",
       "      <td>1.327</td>\n",
       "      <td>0.090</td>\n",
       "      <td>81.100</td>\n",
       "    </tr>\n",
       "  </tbody>\n",
       "</table>\n",
       "<p>5 rows × 85 columns</p>\n",
       "</div>"
      ],
      "text/plain": [
       "   PS1_median  PS2_median  PS3_median  PS4_median  PS5_median  PS6_median  \\\n",
       "0      156.25     129.365       2.297         0.0       9.844       9.733   \n",
       "1      156.06     129.385       2.273         0.0       9.632       9.526   \n",
       "2      155.72     129.325       2.273         0.0       9.528       9.425   \n",
       "3      155.56     128.865       2.242         0.0       9.436       9.335   \n",
       "4      155.34     129.000       2.219         0.0       9.358       9.260   \n",
       "\n",
       "   TS1_median  TS2_median  TS3_median  TS4_median  ...  TS2_iqr  TS3_iqr  \\\n",
       "0     35.5720     40.9630     38.4960      31.576  ...    0.477    0.297   \n",
       "1     36.7675     41.5180     38.9845      34.553  ...    1.074    0.586   \n",
       "2     38.0235     42.4235     39.6270      35.635  ...    1.207    0.828   \n",
       "3     39.0550     43.3650     40.3420      36.635  ...    1.183    0.911   \n",
       "4     39.9670     44.3355     41.3400      37.439  ...    1.145    0.918   \n",
       "\n",
       "   TS4_iqr  FS1_iqr  FS2_iqr  P1_iqr  VS1_iqr  CE1_iqr  CP1_iqr  SE1_iqr  \n",
       "0    3.231   18.710    0.298   611.8    0.092   18.572    0.805   79.568  \n",
       "1    1.500   18.712    0.101   615.4    0.102    5.888    0.267   80.441  \n",
       "2    1.043   18.698    0.147   621.2    0.133    2.334    0.083   80.824  \n",
       "3    0.883   18.896    0.141   618.8    0.118    1.892    0.085   80.930  \n",
       "4    0.789   18.876    0.133   622.0    0.136    1.327    0.090   81.100  \n",
       "\n",
       "[5 rows x 85 columns]"
      ]
     },
     "execution_count": 36,
     "metadata": {},
     "output_type": "execute_result"
    }
   ],
   "source": [
    "statsfinal.head()"
   ]
  },
  {
   "cell_type": "code",
   "execution_count": 37,
   "metadata": {},
   "outputs": [],
   "source": [
    "profile_stable = profile['Stable Flag']"
   ]
  },
  {
   "cell_type": "code",
   "execution_count": null,
   "metadata": {},
   "outputs": [],
   "source": []
  },
  {
   "cell_type": "markdown",
   "metadata": {},
   "source": [
    "<a id = 'Stable_Flag_Classification '></a>\n",
    "\n",
    "# Stable Flag Classification"
   ]
  },
  {
   "cell_type": "markdown",
   "metadata": {},
   "source": [
    "\n",
    "\n",
    "## Train test split"
   ]
  },
  {
   "cell_type": "code",
   "execution_count": 38,
   "metadata": {},
   "outputs": [],
   "source": [
    "from sklearn.model_selection import train_test_split"
   ]
  },
  {
   "cell_type": "code",
   "execution_count": 39,
   "metadata": {},
   "outputs": [],
   "source": [
    "# Splitting the data into train and test\n",
    "SFX_train, SFX_test, SFy_train, SFy_test = train_test_split(statsfinal, profile_stable, train_size=0.7, test_size=0.3, random_state=42,stratify = profile_stable)"
   ]
  },
  {
   "cell_type": "markdown",
   "metadata": {},
   "source": [
    "Stratify is used by the train_test_split() function to ensure that both the train and test sets have the proportion of examples in each class that is present in the provided “y” array."
   ]
  },
  {
   "cell_type": "code",
   "execution_count": 40,
   "metadata": {},
   "outputs": [
    {
     "name": "stdout",
     "output_type": "stream",
     "text": [
      "0    1014\n",
      "1     529\n",
      "Name: Stable Flag, dtype: int64\n",
      "0    435\n",
      "1    227\n",
      "Name: Stable Flag, dtype: int64\n"
     ]
    }
   ],
   "source": [
    "SFy_traindf = pd.DataFrame(SFy_train)\n",
    "SFy_testdf = pd.DataFrame(SFy_test)\n",
    "\n",
    "print(SFy_train.value_counts())\n",
    "print(SFy_test.value_counts())"
   ]
  },
  {
   "cell_type": "markdown",
   "metadata": {},
   "source": [
    "### Balancing the classes using SMOTE"
   ]
  },
  {
   "cell_type": "code",
   "execution_count": 41,
   "metadata": {},
   "outputs": [
    {
     "data": {
      "text/html": [
       "<div>\n",
       "<style scoped>\n",
       "    .dataframe tbody tr th:only-of-type {\n",
       "        vertical-align: middle;\n",
       "    }\n",
       "\n",
       "    .dataframe tbody tr th {\n",
       "        vertical-align: top;\n",
       "    }\n",
       "\n",
       "    .dataframe thead th {\n",
       "        text-align: right;\n",
       "    }\n",
       "</style>\n",
       "<table border=\"1\" class=\"dataframe\">\n",
       "  <thead>\n",
       "    <tr style=\"text-align: right;\">\n",
       "      <th></th>\n",
       "      <th>PS1_median</th>\n",
       "      <th>PS2_median</th>\n",
       "      <th>PS3_median</th>\n",
       "      <th>PS4_median</th>\n",
       "      <th>PS5_median</th>\n",
       "      <th>PS6_median</th>\n",
       "      <th>TS1_median</th>\n",
       "      <th>TS2_median</th>\n",
       "      <th>TS3_median</th>\n",
       "      <th>TS4_median</th>\n",
       "      <th>...</th>\n",
       "      <th>TS2_iqr</th>\n",
       "      <th>TS3_iqr</th>\n",
       "      <th>TS4_iqr</th>\n",
       "      <th>FS1_iqr</th>\n",
       "      <th>FS2_iqr</th>\n",
       "      <th>P1_iqr</th>\n",
       "      <th>VS1_iqr</th>\n",
       "      <th>CE1_iqr</th>\n",
       "      <th>CP1_iqr</th>\n",
       "      <th>SE1_iqr</th>\n",
       "    </tr>\n",
       "  </thead>\n",
       "  <tbody>\n",
       "    <tr>\n",
       "      <th>0</th>\n",
       "      <td>153.420</td>\n",
       "      <td>127.425</td>\n",
       "      <td>2.023</td>\n",
       "      <td>0.000</td>\n",
       "      <td>9.113</td>\n",
       "      <td>9.028</td>\n",
       "      <td>44.8630</td>\n",
       "      <td>49.8085</td>\n",
       "      <td>47.0040</td>\n",
       "      <td>40.428</td>\n",
       "      <td>...</td>\n",
       "      <td>0.343</td>\n",
       "      <td>0.254</td>\n",
       "      <td>0.043</td>\n",
       "      <td>20.479</td>\n",
       "      <td>0.092</td>\n",
       "      <td>640.0</td>\n",
       "      <td>0.107</td>\n",
       "      <td>0.776</td>\n",
       "      <td>0.072</td>\n",
       "      <td>78.338</td>\n",
       "    </tr>\n",
       "    <tr>\n",
       "      <th>1</th>\n",
       "      <td>156.440</td>\n",
       "      <td>130.160</td>\n",
       "      <td>2.305</td>\n",
       "      <td>0.641</td>\n",
       "      <td>9.934</td>\n",
       "      <td>9.814</td>\n",
       "      <td>35.6230</td>\n",
       "      <td>41.1700</td>\n",
       "      <td>38.4410</td>\n",
       "      <td>30.652</td>\n",
       "      <td>...</td>\n",
       "      <td>0.297</td>\n",
       "      <td>0.227</td>\n",
       "      <td>0.082</td>\n",
       "      <td>19.096</td>\n",
       "      <td>0.095</td>\n",
       "      <td>607.8</td>\n",
       "      <td>0.070</td>\n",
       "      <td>0.877</td>\n",
       "      <td>0.064</td>\n",
       "      <td>77.188</td>\n",
       "    </tr>\n",
       "    <tr>\n",
       "      <th>2</th>\n",
       "      <td>156.590</td>\n",
       "      <td>130.280</td>\n",
       "      <td>2.320</td>\n",
       "      <td>10.184</td>\n",
       "      <td>9.953</td>\n",
       "      <td>9.833</td>\n",
       "      <td>35.5000</td>\n",
       "      <td>41.0590</td>\n",
       "      <td>38.3590</td>\n",
       "      <td>30.551</td>\n",
       "      <td>...</td>\n",
       "      <td>0.184</td>\n",
       "      <td>0.262</td>\n",
       "      <td>0.129</td>\n",
       "      <td>19.709</td>\n",
       "      <td>0.098</td>\n",
       "      <td>613.0</td>\n",
       "      <td>0.095</td>\n",
       "      <td>0.873</td>\n",
       "      <td>0.065</td>\n",
       "      <td>77.488</td>\n",
       "    </tr>\n",
       "    <tr>\n",
       "      <th>3</th>\n",
       "      <td>153.995</td>\n",
       "      <td>124.880</td>\n",
       "      <td>1.719</td>\n",
       "      <td>0.000</td>\n",
       "      <td>8.405</td>\n",
       "      <td>8.356</td>\n",
       "      <td>57.2660</td>\n",
       "      <td>60.9370</td>\n",
       "      <td>58.7575</td>\n",
       "      <td>52.562</td>\n",
       "      <td>...</td>\n",
       "      <td>0.516</td>\n",
       "      <td>0.270</td>\n",
       "      <td>0.105</td>\n",
       "      <td>20.479</td>\n",
       "      <td>0.147</td>\n",
       "      <td>647.8</td>\n",
       "      <td>0.164</td>\n",
       "      <td>1.029</td>\n",
       "      <td>0.097</td>\n",
       "      <td>92.972</td>\n",
       "    </tr>\n",
       "    <tr>\n",
       "      <th>4</th>\n",
       "      <td>153.110</td>\n",
       "      <td>127.250</td>\n",
       "      <td>2.047</td>\n",
       "      <td>0.000</td>\n",
       "      <td>8.969</td>\n",
       "      <td>8.896</td>\n",
       "      <td>47.3085</td>\n",
       "      <td>52.3965</td>\n",
       "      <td>49.3670</td>\n",
       "      <td>42.742</td>\n",
       "      <td>...</td>\n",
       "      <td>0.274</td>\n",
       "      <td>0.282</td>\n",
       "      <td>0.098</td>\n",
       "      <td>19.858</td>\n",
       "      <td>0.108</td>\n",
       "      <td>646.6</td>\n",
       "      <td>0.176</td>\n",
       "      <td>1.203</td>\n",
       "      <td>0.101</td>\n",
       "      <td>79.361</td>\n",
       "    </tr>\n",
       "  </tbody>\n",
       "</table>\n",
       "<p>5 rows × 85 columns</p>\n",
       "</div>"
      ],
      "text/plain": [
       "   PS1_median  PS2_median  PS3_median  PS4_median  PS5_median  PS6_median  \\\n",
       "0     153.420     127.425       2.023       0.000       9.113       9.028   \n",
       "1     156.440     130.160       2.305       0.641       9.934       9.814   \n",
       "2     156.590     130.280       2.320      10.184       9.953       9.833   \n",
       "3     153.995     124.880       1.719       0.000       8.405       8.356   \n",
       "4     153.110     127.250       2.047       0.000       8.969       8.896   \n",
       "\n",
       "   TS1_median  TS2_median  TS3_median  TS4_median  ...  TS2_iqr  TS3_iqr  \\\n",
       "0     44.8630     49.8085     47.0040      40.428  ...    0.343    0.254   \n",
       "1     35.6230     41.1700     38.4410      30.652  ...    0.297    0.227   \n",
       "2     35.5000     41.0590     38.3590      30.551  ...    0.184    0.262   \n",
       "3     57.2660     60.9370     58.7575      52.562  ...    0.516    0.270   \n",
       "4     47.3085     52.3965     49.3670      42.742  ...    0.274    0.282   \n",
       "\n",
       "   TS4_iqr  FS1_iqr  FS2_iqr  P1_iqr  VS1_iqr  CE1_iqr  CP1_iqr  SE1_iqr  \n",
       "0    0.043   20.479    0.092   640.0    0.107    0.776    0.072   78.338  \n",
       "1    0.082   19.096    0.095   607.8    0.070    0.877    0.064   77.188  \n",
       "2    0.129   19.709    0.098   613.0    0.095    0.873    0.065   77.488  \n",
       "3    0.105   20.479    0.147   647.8    0.164    1.029    0.097   92.972  \n",
       "4    0.098   19.858    0.108   646.6    0.176    1.203    0.101   79.361  \n",
       "\n",
       "[5 rows x 85 columns]"
      ]
     },
     "execution_count": 41,
     "metadata": {},
     "output_type": "execute_result"
    }
   ],
   "source": [
    "\n",
    "## SMOTE method is used to balance data\n",
    "from imblearn import under_sampling \n",
    "from imblearn import over_sampling\n",
    "from imblearn.over_sampling import SMOTE\n",
    "\n",
    "smt = SMOTE(random_state=45, k_neighbors=5)\n",
    "SFX_train, SFy_train = smt.fit_sample(SFX_train,SFy_train)\n",
    "SFX_train = pd.DataFrame(SFX_train, columns=SFX_train.columns)\n",
    "\n",
    "#y_train_smt = pd.DataFrame(y_train_smt)\n",
    "\n",
    "SFX_train.head()"
   ]
  },
  {
   "cell_type": "markdown",
   "metadata": {},
   "source": [
    "## Standardisation of Data"
   ]
  },
  {
   "cell_type": "code",
   "execution_count": 42,
   "metadata": {},
   "outputs": [],
   "source": [
    "from sklearn.preprocessing import StandardScaler"
   ]
  },
  {
   "cell_type": "code",
   "execution_count": 43,
   "metadata": {},
   "outputs": [],
   "source": [
    "scaler = StandardScaler() ## x-mean/std\n",
    "\n",
    "SFX_train_scaled = scaler.fit_transform(SFX_train)\n",
    "SFX_test_scaled = scaler.transform(SFX_test)"
   ]
  },
  {
   "cell_type": "code",
   "execution_count": 44,
   "metadata": {},
   "outputs": [],
   "source": [
    "SFX_train_scaled = pd.DataFrame(SFX_train_scaled)\n",
    "SFX_test_scaled = pd.DataFrame(SFX_test_scaled)"
   ]
  },
  {
   "cell_type": "code",
   "execution_count": 45,
   "metadata": {},
   "outputs": [],
   "source": [
    "SFX_train_scaled.columns = statsfinal.columns \n",
    "SFX_test_scaled.columns = statsfinal.columns "
   ]
  },
  {
   "cell_type": "code",
   "execution_count": 46,
   "metadata": {},
   "outputs": [
    {
     "name": "stdout",
     "output_type": "stream",
     "text": [
      "(662, 85)\n",
      "(2028, 85)\n"
     ]
    }
   ],
   "source": [
    "print(SFX_test_scaled.shape)\n",
    "print(SFX_train_scaled.shape)"
   ]
  },
  {
   "cell_type": "markdown",
   "metadata": {},
   "source": [
    "<a id = 'Building_an_Logistic_Regression_classifier'></a>\n",
    "\n",
    "### Building an Logistic Regression classifier for Stable Flag"
   ]
  },
  {
   "cell_type": "code",
   "execution_count": 47,
   "metadata": {},
   "outputs": [
    {
     "name": "stderr",
     "output_type": "stream",
     "text": [
      "C:\\Users\\Admin\\anaconda3\\lib\\site-packages\\tpot\\builtins\\__init__.py:36: UserWarning: Warning: optional dependency `torch` is not available. - skipping import of NN models.\n",
      "  warnings.warn(\"Warning: optional dependency `torch` is not available. - skipping import of NN models.\")\n"
     ]
    }
   ],
   "source": [
    "from sklearn.linear_model import LogisticRegression\n",
    "from sklearn.svm import SVC\n",
    "from sklearn.ensemble import RandomForestClassifier\n",
    "from sklearn.metrics import confusion_matrix,accuracy_score,precision_score,recall_score,f1_score\n",
    "from sklearn.model_selection import cross_validate,GridSearchCV,RandomizedSearchCV\n",
    "from tpot import TPOTClassifier\n",
    "from scipy.stats import randint\n",
    "from sklearn.neighbors import KNeighborsClassifier\n",
    "from sklearn.naive_bayes import GaussianNB\n",
    "from sklearn.tree import DecisionTreeClassifier\n",
    "from sklearn.preprocessing import StandardScaler\n",
    "from sklearn.model_selection import train_test_split\n",
    "from sklearn import metrics"
   ]
  },
  {
   "cell_type": "code",
   "execution_count": 48,
   "metadata": {},
   "outputs": [],
   "source": [
    "l_classifier = LogisticRegression(random_state=100, max_iter= 400)"
   ]
  },
  {
   "cell_type": "code",
   "execution_count": 49,
   "metadata": {},
   "outputs": [
    {
     "data": {
      "text/plain": [
       "LogisticRegression(max_iter=400, random_state=100)"
      ]
     },
     "execution_count": 49,
     "metadata": {},
     "output_type": "execute_result"
    }
   ],
   "source": [
    "l_classifier.fit(SFX_train_scaled,SFy_train)"
   ]
  },
  {
   "cell_type": "code",
   "execution_count": 50,
   "metadata": {},
   "outputs": [],
   "source": [
    "def evaluate_model(dt_classifier,y_train,X_train,y_test,X_test):\n",
    "    print(\"Train Precision :\", (precision_score(y_train, dt_classifier.predict(X_train)))*100)\n",
    "    print(\"Train Confusion Matrix:\")\n",
    "    print(confusion_matrix(y_train, dt_classifier.predict(X_train)))\n",
    "    print(\"-\"*50)\n",
    "    print(\"Test Precision :\", (precision_score(y_test, dt_classifier.predict(X_test)))*100)\n",
    "    print(\"Test Confusion Matrix:\")\n",
    "    print(confusion_matrix(y_test, dt_classifier.predict(X_test)))"
   ]
  },
  {
   "cell_type": "code",
   "execution_count": 51,
   "metadata": {},
   "outputs": [
    {
     "name": "stdout",
     "output_type": "stream",
     "text": [
      "Train Precision : 93.76218323586744\n",
      "Train Confusion Matrix:\n",
      "[[950  64]\n",
      " [ 52 962]]\n",
      "--------------------------------------------------\n",
      "Test Precision : 90.09009009009009\n",
      "Test Confusion Matrix:\n",
      "[[413  22]\n",
      " [ 27 200]]\n"
     ]
    }
   ],
   "source": [
    "evaluate_model(l_classifier, SFy_train, SFX_train_scaled, SFy_test, SFX_test_scaled)"
   ]
  },
  {
   "cell_type": "code",
   "execution_count": 52,
   "metadata": {},
   "outputs": [
    {
     "data": {
      "image/png": "[encoded data removed]",
      "text/plain": [
       "<Figure size 432x288 with 1 Axes>"
      ]
     },
     "metadata": {
      "needs_background": "light"
     },
     "output_type": "display_data"
    }
   ],
   "source": [
    "import sklearn.metrics as metrics\n",
    "# calculate the fpr and tpr for all thresholds of the classification\n",
    "probs = l_classifier.predict_proba(SFX_test_scaled)\n",
    "preds = probs[:,1]\n",
    "fpr, tpr, threshold = metrics.roc_curve(SFy_test, preds)\n",
    "roc_auc = metrics.auc(fpr, tpr)\n",
    "\n",
    "# method I: plt\n",
    "import matplotlib.pyplot as plt\n",
    "plt.title('Receiver Operating Characteristic')\n",
    "plt.plot(fpr, tpr, 'b', label = 'AUC = %0.2f' % roc_auc)\n",
    "plt.legend(loc = 'lower right')\n",
    "plt.plot([0, 1], [0, 1],'r--')\n",
    "plt.xlim([0, 1])\n",
    "plt.ylim([0, 1])\n",
    "plt.ylabel('True Positive Rate')\n",
    "plt.xlabel('False Positive Rate')\n",
    "plt.show()"
   ]
  },
  {
   "cell_type": "markdown",
   "metadata": {},
   "source": [
    "#### Using RFE for dimension reduction"
   ]
  },
  {
   "cell_type": "code",
   "execution_count": 53,
   "metadata": {},
   "outputs": [
    {
     "name": "stderr",
     "output_type": "stream",
     "text": [
      "C:\\Users\\Admin\\anaconda3\\lib\\site-packages\\sklearn\\utils\\validation.py:70: FutureWarning: Pass n_features_to_select=20 as keyword args. From version 0.25 passing these as positional arguments will result in an error\n",
      "  FutureWarning)\n"
     ]
    }
   ],
   "source": [
    "ml1=l_classifier.fit(SFX_train_scaled,SFy_train)\n",
    "from sklearn.feature_selection import RFE\n",
    "rfe = RFE(ml1, 20)             # running RFE with 20 variables as output\n",
    "rfe = rfe.fit(SFX_train_scaled, SFy_train)"
   ]
  },
  {
   "cell_type": "code",
   "execution_count": 54,
   "metadata": {},
   "outputs": [
    {
     "data": {
      "text/plain": [
       "array([ True, False,  True, False, False, False, False, False, False,\n",
       "       False, False,  True,  True,  True, False,  True, False, False,\n",
       "        True, False, False, False, False, False, False, False, False,\n",
       "        True, False, False, False, False, False,  True, False,  True,\n",
       "        True, False, False, False,  True, False, False,  True,  True,\n",
       "       False, False, False, False, False,  True,  True, False, False,\n",
       "       False, False, False, False, False, False, False, False, False,\n",
       "       False, False, False, False,  True, False, False,  True, False,\n",
       "       False, False, False, False, False, False,  True, False, False,\n",
       "       False, False, False,  True])"
      ]
     },
     "execution_count": 54,
     "metadata": {},
     "output_type": "execute_result"
    }
   ],
   "source": [
    "rfe.support_"
   ]
  },
  {
   "cell_type": "code",
   "execution_count": 55,
   "metadata": {},
   "outputs": [
    {
     "data": {
      "text/plain": [
       "[('PS1_median', True, 1),\n",
       " ('PS2_median', False, 2),\n",
       " ('PS3_median', True, 1),\n",
       " ('PS4_median', False, 8),\n",
       " ('PS5_median', False, 16),\n",
       " ('PS6_median', False, 11),\n",
       " ('TS1_median', False, 44),\n",
       " ('TS2_median', False, 6),\n",
       " ('TS3_median', False, 45),\n",
       " ('TS4_median', False, 55),\n",
       " ('FS1_median', False, 56),\n",
       " ('FS2_median', True, 1),\n",
       " ('P1_median', True, 1),\n",
       " ('VS1_median', True, 1),\n",
       " ('CE1_median', False, 7),\n",
       " ('CP1_median', True, 1),\n",
       " ('SE1_median', False, 54),\n",
       " ('PS1_std', False, 36),\n",
       " ('PS2_std', True, 1),\n",
       " ('PS3_std', False, 3),\n",
       " ('PS4_std', False, 65),\n",
       " ('PS5_std', False, 17),\n",
       " ('PS6_std', False, 10),\n",
       " ('TS1_std', False, 15),\n",
       " ('TS2_std', False, 47),\n",
       " ('TS3_std', False, 25),\n",
       " ('TS4_std', False, 14),\n",
       " ('FS1_std', True, 1),\n",
       " ('FS2_std', False, 9),\n",
       " ('P1_std', False, 35),\n",
       " ('VS1_std', False, 4),\n",
       " ('CE1_std', False, 13),\n",
       " ('CP1_std', False, 28),\n",
       " ('SE1_std', True, 1),\n",
       " ('PS1_var', False, 24),\n",
       " ('PS2_var', True, 1),\n",
       " ('PS3_var', True, 1),\n",
       " ('PS4_var', False, 52),\n",
       " ('PS5_var', False, 42),\n",
       " ('PS6_var', False, 34),\n",
       " ('TS1_var', True, 1),\n",
       " ('TS2_var', False, 26),\n",
       " ('TS3_var', False, 20),\n",
       " ('TS4_var', True, 1),\n",
       " ('FS1_var', True, 1),\n",
       " ('FS2_var', False, 50),\n",
       " ('P1_var', False, 61),\n",
       " ('VS1_var', False, 29),\n",
       " ('CE1_var', False, 40),\n",
       " ('CP1_var', False, 21),\n",
       " ('SE1_var', True, 1),\n",
       " ('PS1_ptp', True, 1),\n",
       " ('PS2_ptp', False, 37),\n",
       " ('PS3_ptp', False, 19),\n",
       " ('PS4_ptp', False, 49),\n",
       " ('PS5_ptp', False, 18),\n",
       " ('PS6_ptp', False, 51),\n",
       " ('TS1_ptp', False, 63),\n",
       " ('TS2_ptp', False, 53),\n",
       " ('TS3_ptp', False, 48),\n",
       " ('TS4_ptp', False, 64),\n",
       " ('FS1_ptp', False, 27),\n",
       " ('FS2_ptp', False, 23),\n",
       " ('P1_ptp', False, 32),\n",
       " ('VS1_ptp', False, 41),\n",
       " ('CE1_ptp', False, 43),\n",
       " ('CP1_ptp', False, 22),\n",
       " ('SE1_ptp', True, 1),\n",
       " ('PS1_iqr', False, 30),\n",
       " ('PS2_iqr', False, 46),\n",
       " ('PS3_iqr', True, 1),\n",
       " ('PS4_iqr', False, 57),\n",
       " ('PS5_iqr', False, 33),\n",
       " ('PS6_iqr', False, 60),\n",
       " ('TS1_iqr', False, 59),\n",
       " ('TS2_iqr', False, 62),\n",
       " ('TS3_iqr', False, 58),\n",
       " ('TS4_iqr', False, 66),\n",
       " ('FS1_iqr', True, 1),\n",
       " ('FS2_iqr', False, 39),\n",
       " ('P1_iqr', False, 12),\n",
       " ('VS1_iqr', False, 5),\n",
       " ('CE1_iqr', False, 31),\n",
       " ('CP1_iqr', False, 38),\n",
       " ('SE1_iqr', True, 1)]"
      ]
     },
     "execution_count": 55,
     "metadata": {},
     "output_type": "execute_result"
    }
   ],
   "source": [
    "list(zip(SFX_train_scaled.columns, rfe.support_, rfe.ranking_))"
   ]
  },
  {
   "cell_type": "code",
   "execution_count": 56,
   "metadata": {},
   "outputs": [
    {
     "data": {
      "text/plain": [
       "Index(['PS2_median', 'PS4_median', 'PS5_median', 'PS6_median', 'TS1_median',\n",
       "       'TS2_median', 'TS3_median', 'TS4_median', 'FS1_median', 'CE1_median',\n",
       "       'SE1_median', 'PS1_std', 'PS3_std', 'PS4_std', 'PS5_std', 'PS6_std',\n",
       "       'TS1_std', 'TS2_std', 'TS3_std', 'TS4_std', 'FS2_std', 'P1_std',\n",
       "       'VS1_std', 'CE1_std', 'CP1_std', 'PS1_var', 'PS4_var', 'PS5_var',\n",
       "       'PS6_var', 'TS2_var', 'TS3_var', 'FS2_var', 'P1_var', 'VS1_var',\n",
       "       'CE1_var', 'CP1_var', 'PS2_ptp', 'PS3_ptp', 'PS4_ptp', 'PS5_ptp',\n",
       "       'PS6_ptp', 'TS1_ptp', 'TS2_ptp', 'TS3_ptp', 'TS4_ptp', 'FS1_ptp',\n",
       "       'FS2_ptp', 'P1_ptp', 'VS1_ptp', 'CE1_ptp', 'CP1_ptp', 'PS1_iqr',\n",
       "       'PS2_iqr', 'PS4_iqr', 'PS5_iqr', 'PS6_iqr', 'TS1_iqr', 'TS2_iqr',\n",
       "       'TS3_iqr', 'TS4_iqr', 'FS2_iqr', 'P1_iqr', 'VS1_iqr', 'CE1_iqr',\n",
       "       'CP1_iqr'],\n",
       "      dtype='object')"
      ]
     },
     "execution_count": 56,
     "metadata": {},
     "output_type": "execute_result"
    }
   ],
   "source": [
    "rfecol = SFX_train_scaled.columns[rfe.support_] \n",
    "SFX_train_scaled.columns[~rfe.support_]\n"
   ]
  },
  {
   "cell_type": "code",
   "execution_count": 57,
   "metadata": {},
   "outputs": [],
   "source": [
    "SFX_train_scaledRFE = pd.DataFrame(SFX_train_scaled[rfecol])\n",
    "SFX_test_scaledRFE = pd.DataFrame(SFX_test_scaled[rfecol])"
   ]
  },
  {
   "cell_type": "code",
   "execution_count": 58,
   "metadata": {},
   "outputs": [
    {
     "data": {
      "text/plain": [
       "LogisticRegression(max_iter=400, random_state=100)"
      ]
     },
     "execution_count": 58,
     "metadata": {},
     "output_type": "execute_result"
    }
   ],
   "source": [
    "l_classifier.fit(SFX_train_scaledRFE,SFy_train)"
   ]
  },
  {
   "cell_type": "code",
   "execution_count": 59,
   "metadata": {},
   "outputs": [
    {
     "name": "stdout",
     "output_type": "stream",
     "text": [
      "Train Precision : 92.23300970873787\n",
      "Train Confusion Matrix:\n",
      "[[934  80]\n",
      " [ 64 950]]\n",
      "--------------------------------------------------\n",
      "Test Precision : 86.19246861924687\n",
      "Test Confusion Matrix:\n",
      "[[402  33]\n",
      " [ 21 206]]\n"
     ]
    }
   ],
   "source": [
    "evaluate_model(l_classifier, SFy_train, SFX_train_scaledRFE, SFy_test, SFX_test_scaledRFE)"
   ]
  },
  {
   "cell_type": "code",
   "execution_count": 61,
   "metadata": {
    "scrolled": true
   },
   "outputs": [
    {
     "name": "stdout",
     "output_type": "stream",
     "text": [
      "              precision    recall  f1-score   support\n",
      "\n",
      "           0       0.95      0.92      0.94       435\n",
      "           1       0.86      0.91      0.88       227\n",
      "\n",
      "    accuracy                           0.92       662\n",
      "   macro avg       0.91      0.92      0.91       662\n",
      "weighted avg       0.92      0.92      0.92       662\n",
      "\n"
     ]
    }
   ],
   "source": [
    "print(metrics.classification_report(SFy_test, l_classifier.predict(SFX_test_scaledRFE)))"
   ]
  },
  {
   "cell_type": "code",
   "execution_count": 62,
   "metadata": {},
   "outputs": [
    {
     "data": {
      "image/png": "[encoded data removed]",
      "text/plain": [
       "<Figure size 432x288 with 1 Axes>"
      ]
     },
     "metadata": {
      "needs_background": "light"
     },
     "output_type": "display_data"
    }
   ],
   "source": [
    "import sklearn.metrics as metrics\n",
    "# calculate the fpr and tpr for all thresholds of the classification\n",
    "probs = l_classifier.predict_proba(SFX_test_scaledRFE)\n",
    "preds = probs[:,1]\n",
    "fpr, tpr, threshold = metrics.roc_curve(SFy_test, preds)\n",
    "roc_auc = metrics.auc(fpr, tpr)\n",
    "\n",
    "# method I: plt\n",
    "import matplotlib.pyplot as plt\n",
    "plt.title('Receiver Operating Characteristic')\n",
    "plt.plot(fpr, tpr, 'b', label = 'AUC = %0.2f' % roc_auc)\n",
    "plt.legend(loc = 'lower right')\n",
    "plt.plot([0, 1], [0, 1],'r--')\n",
    "plt.xlim([0, 1])\n",
    "plt.ylim([0, 1])\n",
    "plt.ylabel('True Positive Rate')\n",
    "plt.xlabel('False Positive Rate')\n",
    "plt.show()"
   ]
  },
  {
   "cell_type": "markdown",
   "metadata": {},
   "source": [
    "### KNN"
   ]
  },
  {
   "cell_type": "code",
   "execution_count": null,
   "metadata": {},
   "outputs": [],
   "source": []
  },
  {
   "cell_type": "code",
   "execution_count": null,
   "metadata": {},
   "outputs": [],
   "source": []
  },
  {
   "cell_type": "code",
   "execution_count": null,
   "metadata": {},
   "outputs": [],
   "source": []
  },
  {
   "cell_type": "code",
   "execution_count": null,
   "metadata": {},
   "outputs": [],
   "source": []
  },
  {
   "cell_type": "code",
   "execution_count": null,
   "metadata": {},
   "outputs": [],
   "source": []
  },
  {
   "cell_type": "markdown",
   "metadata": {},
   "source": [
    "### Performance on noisy test set"
   ]
  },
  {
   "cell_type": "code",
   "execution_count": 64,
   "metadata": {},
   "outputs": [],
   "source": [
    "import numpy as np \n",
    "mu, sigma = 0, np.std(SFX_test_scaledRFE)*0.20\n",
    "noise = np.random.normal(mu, sigma, SFX_test_scaledRFE.shape)\n",
    "noise.shape\n",
    "\n",
    "X_testnoise = SFX_test_scaledRFE + noise"
   ]
  },
  {
   "cell_type": "code",
   "execution_count": 67,
   "metadata": {},
   "outputs": [
    {
     "name": "stdout",
     "output_type": "stream",
     "text": [
      "              precision    recall  f1-score   support\n",
      "\n",
      "           0       0.85      0.78      0.81       435\n",
      "           1       0.64      0.74      0.69       227\n",
      "\n",
      "    accuracy                           0.77       662\n",
      "   macro avg       0.74      0.76      0.75       662\n",
      "weighted avg       0.78      0.77      0.77       662\n",
      "\n"
     ]
    }
   ],
   "source": [
    "print(metrics.classification_report(SFy_test, l_classifier.predict(X_testnoise)))"
   ]
  },
  {
   "cell_type": "code",
   "execution_count": null,
   "metadata": {},
   "outputs": [],
   "source": []
  },
  {
   "cell_type": "code",
   "execution_count": 68,
   "metadata": {},
   "outputs": [
    {
     "data": {
      "image/png": "[encoded data removed]",
      "text/plain": [
       "<Figure size 432x288 with 1 Axes>"
      ]
     },
     "metadata": {
      "needs_background": "light"
     },
     "output_type": "display_data"
    }
   ],
   "source": [
    "import sklearn.metrics as metrics\n",
    "# calculate the fpr and tpr for all thresholds of the classification\n",
    "probs = l_classifier.predict_proba(X_testnoise)\n",
    "preds = probs[:,1]\n",
    "fpr, tpr, threshold = metrics.roc_curve(SFy_test, preds)\n",
    "roc_auc = metrics.auc(fpr, tpr)\n",
    "\n",
    "# method I: plt\n",
    "import matplotlib.pyplot as plt\n",
    "plt.title('Receiver Operating Characteristic')\n",
    "plt.plot(fpr, tpr, 'b', label = 'AUC = %0.2f' % roc_auc)\n",
    "plt.legend(loc = 'lower right')\n",
    "plt.plot([0, 1], [0, 1],'r--')\n",
    "plt.xlim([0, 1])\n",
    "plt.ylim([0, 1])\n",
    "plt.ylabel('True Positive Rate')\n",
    "plt.xlabel('False Positive Rate')\n",
    "plt.show()"
   ]
  },
  {
   "cell_type": "markdown",
   "metadata": {},
   "source": [
    "1. Use Feature reduction using PCA\n",
    "2. Use Feature reduction using other algorithms\n",
    "3. Use balancing techniques"
   ]
  },
  {
   "cell_type": "markdown",
   "metadata": {},
   "source": [
    "<a id = 'Building_a_RF_classifier'></a>\n",
    "\n",
    "### Building an RF classifier for Stable Flag"
   ]
  },
  {
   "cell_type": "code",
   "execution_count": 69,
   "metadata": {},
   "outputs": [],
   "source": [
    "rfc=RandomForestClassifier(n_estimators=100,random_state=42)"
   ]
  },
  {
   "cell_type": "code",
   "execution_count": 70,
   "metadata": {},
   "outputs": [
    {
     "data": {
      "text/plain": [
       "RandomForestClassifier(random_state=42)"
      ]
     },
     "execution_count": 70,
     "metadata": {},
     "output_type": "execute_result"
    }
   ],
   "source": [
    "rfc.fit(SFX_train_scaled,SFy_train)"
   ]
  },
  {
   "cell_type": "code",
   "execution_count": 71,
   "metadata": {},
   "outputs": [
    {
     "name": "stdout",
     "output_type": "stream",
     "text": [
      "F1 score for train=  1.0\n",
      "F1 score for test=  0.0\n"
     ]
    }
   ],
   "source": [
    "SFy_train_pred= rfc.predict(SFX_train_scaled)\n",
    "SFy_test_pred= rfc.predict(SFX_test)\n",
    "\n",
    "F1score_lr_train= f1_score(SFy_train,SFy_train_pred)\n",
    "F1score_lr_test= f1_score(SFy_test,SFy_test_pred)\n",
    "\n",
    "print(\"F1 score for train= \",round(F1score_lr_train,2))\n",
    "print(\"F1 score for test= \",round(F1score_lr_test,2))"
   ]
  },
  {
   "cell_type": "code",
   "execution_count": 72,
   "metadata": {},
   "outputs": [
    {
     "data": {
      "image/png": "[encoded data removed]",
      "text/plain": [
       "<Figure size 432x288 with 1 Axes>"
      ]
     },
     "metadata": {
      "needs_background": "light"
     },
     "output_type": "display_data"
    }
   ],
   "source": [
    "import sklearn.metrics as metrics\n",
    "# calculate the fpr and tpr for all thresholds of the classification\n",
    "probs = rfc.predict_proba(SFX_test_scaled)\n",
    "preds = probs[:,1]\n",
    "fpr, tpr, threshold = metrics.roc_curve(SFy_test, preds)\n",
    "roc_auc = metrics.auc(fpr, tpr)\n",
    "\n",
    "# method I: plt\n",
    "import matplotlib.pyplot as plt\n",
    "plt.title('Receiver Operating Characteristic')\n",
    "plt.plot(fpr, tpr, 'b', label = 'AUC = %0.2f' % roc_auc)\n",
    "plt.legend(loc = 'lower right')\n",
    "plt.plot([0, 1], [0, 1],'r--')\n",
    "plt.xlim([0, 1])\n",
    "plt.ylim([0, 1])\n",
    "plt.ylabel('True Positive Rate')\n",
    "plt.xlabel('False Positive Rate')\n",
    "plt.show()"
   ]
  },
  {
   "cell_type": "markdown",
   "metadata": {},
   "source": [
    "#### Hypertune the parameters "
   ]
  },
  {
   "cell_type": "code",
   "execution_count": 73,
   "metadata": {},
   "outputs": [],
   "source": [
    "from sklearn.tree import DecisionTreeClassifier\n",
    "from sklearn.ensemble import RandomForestClassifier\n",
    "from sklearn.metrics import classification_report\n",
    "# Importing required packages for visualization\n",
    "from IPython.display import Image  \n",
    "#from sklearn.externals.six import StringIO  \n",
    "#from sklearn.tree import export_graphviz\n",
    "#import pydotplus, graphviz\n",
    "from sklearn.metrics import confusion_matrix, accuracy_score\n",
    "from sklearn.model_selection import GridSearchCV"
   ]
  },
  {
   "cell_type": "code",
   "execution_count": 74,
   "metadata": {},
   "outputs": [],
   "source": [
    "classifier_rf = RandomForestClassifier(random_state=42, n_jobs=-1 , class_weight = 'balanced')"
   ]
  },
  {
   "cell_type": "code",
   "execution_count": 75,
   "metadata": {},
   "outputs": [],
   "source": [
    "# Create the parameter grid based on the results of random search \n",
    "params = {\n",
    "    'max_depth': [1, 2, 5, 10, 20],\n",
    "    'min_samples_leaf': [5, 10, 20, 50, 100],\n",
    "    'max_features': [5,10,15,20,40,60],\n",
    "    'n_estimators': [10, 30, 50, 100, 200]\n",
    "}\n",
    "\n",
    "## maximum depth is 1,2,5,10,20\n",
    "## minimum sample leaf is 5,10,20,50,100\n",
    "## maximum no. of features is 2,3,4\n",
    "## no. of trees is 10, 30,50,100,200"
   ]
  },
  {
   "cell_type": "code",
   "execution_count": 76,
   "metadata": {},
   "outputs": [],
   "source": [
    "# Instantiate the grid search model\n",
    "grid_search = GridSearchCV(estimator=classifier_rf, \n",
    "                           param_grid=params, \n",
    "                           cv=4, n_jobs=-1, verbose=1, scoring = \"precision\")"
   ]
  },
  {
   "cell_type": "code",
   "execution_count": 77,
   "metadata": {},
   "outputs": [],
   "source": [
    "# Instantiate the grid search model\n",
    "grid_search = GridSearchCV(estimator=classifier_rf, param_grid=params, \n",
    "                          cv=4, n_jobs=-1, verbose=1, scoring = \"precision\")"
   ]
  },
  {
   "cell_type": "code",
   "execution_count": 78,
   "metadata": {},
   "outputs": [
    {
     "name": "stdout",
     "output_type": "stream",
     "text": [
      "Fitting 4 folds for each of 750 candidates, totalling 3000 fits\n"
     ]
    },
    {
     "name": "stderr",
     "output_type": "stream",
     "text": [
      "[Parallel(n_jobs=-1)]: Using backend LokyBackend with 8 concurrent workers.\n",
      "[Parallel(n_jobs=-1)]: Done  34 tasks      | elapsed:    7.5s\n",
      "[Parallel(n_jobs=-1)]: Done 184 tasks      | elapsed:   17.8s\n",
      "[Parallel(n_jobs=-1)]: Done 434 tasks      | elapsed:   51.1s\n",
      "[Parallel(n_jobs=-1)]: Done 784 tasks      | elapsed:  1.8min\n",
      "[Parallel(n_jobs=-1)]: Done 1234 tasks      | elapsed:  3.1min\n",
      "[Parallel(n_jobs=-1)]: Done 1784 tasks      | elapsed:  5.3min\n",
      "[Parallel(n_jobs=-1)]: Done 2434 tasks      | elapsed:  8.0min\n",
      "[Parallel(n_jobs=-1)]: Done 3000 out of 3000 | elapsed: 10.8min finished\n"
     ]
    },
    {
     "name": "stdout",
     "output_type": "stream",
     "text": [
      "Wall time: 10min 47s\n"
     ]
    },
    {
     "data": {
      "text/plain": [
       "GridSearchCV(cv=4,\n",
       "             estimator=RandomForestClassifier(class_weight='balanced',\n",
       "                                              n_jobs=-1, random_state=42),\n",
       "             n_jobs=-1,\n",
       "             param_grid={'max_depth': [1, 2, 5, 10, 20],\n",
       "                         'max_features': [5, 10, 15, 20, 40, 60],\n",
       "                         'min_samples_leaf': [5, 10, 20, 50, 100],\n",
       "                         'n_estimators': [10, 30, 50, 100, 200]},\n",
       "             scoring='precision', verbose=1)"
      ]
     },
     "execution_count": 78,
     "metadata": {},
     "output_type": "execute_result"
    }
   ],
   "source": [
    "%%time\n",
    "grid_search.fit(SFX_train_scaled,SFy_train)"
   ]
  },
  {
   "cell_type": "code",
   "execution_count": 79,
   "metadata": {},
   "outputs": [
    {
     "data": {
      "text/plain": [
       "RandomForestClassifier(class_weight='balanced', max_depth=20, max_features=5,\n",
       "                       min_samples_leaf=5, n_estimators=50, n_jobs=-1,\n",
       "                       random_state=42)"
      ]
     },
     "execution_count": 79,
     "metadata": {},
     "output_type": "execute_result"
    }
   ],
   "source": [
    "rf_best = grid_search.best_estimator_ ## best estimator is assigned to rf_best\n",
    "rf_best"
   ]
  },
  {
   "cell_type": "markdown",
   "metadata": {},
   "source": [
    "class_weight='balanced', max_depth=20, max_features=3,min_samples_leaf=5, n_jobs=-1, random_state=42"
   ]
  },
  {
   "cell_type": "code",
   "execution_count": 80,
   "metadata": {},
   "outputs": [
    {
     "name": "stdout",
     "output_type": "stream",
     "text": [
      "Train Precision : 100.0\n",
      "Train Confusion Matrix:\n",
      "[[1014    0]\n",
      " [  25  989]]\n",
      "--------------------------------------------------\n",
      "Test Precision : 100.0\n",
      "Test Confusion Matrix:\n",
      "[[435   0]\n",
      " [ 11 216]]\n"
     ]
    }
   ],
   "source": [
    "evaluate_model(rf_best, SFy_train, SFX_train_scaled, SFy_test, SFX_test_scaled)"
   ]
  },
  {
   "cell_type": "code",
   "execution_count": 81,
   "metadata": {},
   "outputs": [
    {
     "data": {
      "image/png": "[encoded data removed]",
      "text/plain": [
       "<Figure size 432x288 with 1 Axes>"
      ]
     },
     "metadata": {
      "needs_background": "light"
     },
     "output_type": "display_data"
    }
   ],
   "source": [
    "import sklearn.metrics as metrics\n",
    "# calculate the fpr and tpr for all thresholds of the classification\n",
    "probs = rf_best.predict_proba(SFX_test_scaled)\n",
    "preds = probs[:,1]\n",
    "fpr, tpr, threshold = metrics.roc_curve(SFy_test, preds)\n",
    "roc_auc = metrics.auc(fpr, tpr)\n",
    "\n",
    "# method I: plt\n",
    "import matplotlib.pyplot as plt\n",
    "plt.title('Receiver Operating Characteristic')\n",
    "plt.plot(fpr, tpr, 'b', label = 'AUC = %0.2f' % roc_auc)\n",
    "plt.legend(loc = 'lower right')\n",
    "plt.plot([0, 1], [0, 1],'r--')\n",
    "plt.xlim([0, 1])\n",
    "plt.ylim([0, 1])\n",
    "plt.ylabel('True Positive Rate')\n",
    "plt.xlabel('False Positive Rate')\n",
    "plt.show()"
   ]
  },
  {
   "cell_type": "code",
   "execution_count": 82,
   "metadata": {},
   "outputs": [],
   "source": [
    "from sklearn.metrics import classification_report"
   ]
  },
  {
   "cell_type": "code",
   "execution_count": 83,
   "metadata": {
    "scrolled": false
   },
   "outputs": [
    {
     "name": "stdout",
     "output_type": "stream",
     "text": [
      "              precision    recall  f1-score   support\n",
      "\n",
      "           0       0.98      1.00      0.99       435\n",
      "           1       1.00      0.95      0.98       227\n",
      "\n",
      "    accuracy                           0.98       662\n",
      "   macro avg       0.99      0.98      0.98       662\n",
      "weighted avg       0.98      0.98      0.98       662\n",
      "\n"
     ]
    }
   ],
   "source": [
    "print(classification_report(SFy_test, rf_best.predict(SFX_test_scaled)))"
   ]
  },
  {
   "cell_type": "markdown",
   "metadata": {},
   "source": [
    "### Performance on noisy test set"
   ]
  },
  {
   "cell_type": "code",
   "execution_count": 155,
   "metadata": {},
   "outputs": [],
   "source": [
    "import numpy as np \n",
    "mu, sigma = 0, np.std(SFX_test_scaled)*0.20\n",
    "noise = np.random.normal(mu, sigma, SFX_test_scaled.shape)\n",
    "noise.shape\n",
    "\n",
    "X_testscaled_noise = SFX_test_scaled + noise"
   ]
  },
  {
   "cell_type": "code",
   "execution_count": 156,
   "metadata": {},
   "outputs": [
    {
     "data": {
      "text/html": [
       "<div>\n",
       "<style scoped>\n",
       "    .dataframe tbody tr th:only-of-type {\n",
       "        vertical-align: middle;\n",
       "    }\n",
       "\n",
       "    .dataframe tbody tr th {\n",
       "        vertical-align: top;\n",
       "    }\n",
       "\n",
       "    .dataframe thead th {\n",
       "        text-align: right;\n",
       "    }\n",
       "</style>\n",
       "<table border=\"1\" class=\"dataframe\">\n",
       "  <thead>\n",
       "    <tr style=\"text-align: right;\">\n",
       "      <th></th>\n",
       "      <th>PS1_median</th>\n",
       "      <th>PS2_median</th>\n",
       "      <th>PS3_median</th>\n",
       "      <th>PS4_median</th>\n",
       "      <th>PS5_median</th>\n",
       "      <th>PS6_median</th>\n",
       "      <th>TS1_median</th>\n",
       "      <th>TS2_median</th>\n",
       "      <th>TS3_median</th>\n",
       "      <th>TS4_median</th>\n",
       "      <th>...</th>\n",
       "      <th>TS2_iqr</th>\n",
       "      <th>TS3_iqr</th>\n",
       "      <th>TS4_iqr</th>\n",
       "      <th>FS1_iqr</th>\n",
       "      <th>FS2_iqr</th>\n",
       "      <th>P1_iqr</th>\n",
       "      <th>VS1_iqr</th>\n",
       "      <th>CE1_iqr</th>\n",
       "      <th>CP1_iqr</th>\n",
       "      <th>SE1_iqr</th>\n",
       "    </tr>\n",
       "  </thead>\n",
       "  <tbody>\n",
       "    <tr>\n",
       "      <th>count</th>\n",
       "      <td>662.000000</td>\n",
       "      <td>662.000000</td>\n",
       "      <td>662.000000</td>\n",
       "      <td>662.000000</td>\n",
       "      <td>662.000000</td>\n",
       "      <td>662.000000</td>\n",
       "      <td>662.000000</td>\n",
       "      <td>662.000000</td>\n",
       "      <td>662.000000</td>\n",
       "      <td>662.000000</td>\n",
       "      <td>...</td>\n",
       "      <td>662.000000</td>\n",
       "      <td>662.000000</td>\n",
       "      <td>662.000000</td>\n",
       "      <td>662.000000</td>\n",
       "      <td>662.000000</td>\n",
       "      <td>662.000000</td>\n",
       "      <td>662.000000</td>\n",
       "      <td>662.000000</td>\n",
       "      <td>662.000000</td>\n",
       "      <td>662.000000</td>\n",
       "    </tr>\n",
       "    <tr>\n",
       "      <th>mean</th>\n",
       "      <td>0.070183</td>\n",
       "      <td>0.061026</td>\n",
       "      <td>-0.026103</td>\n",
       "      <td>0.157374</td>\n",
       "      <td>0.096653</td>\n",
       "      <td>0.096657</td>\n",
       "      <td>-0.096981</td>\n",
       "      <td>-0.101693</td>\n",
       "      <td>-0.095947</td>\n",
       "      <td>-0.098662</td>\n",
       "      <td>...</td>\n",
       "      <td>-0.099911</td>\n",
       "      <td>-0.013807</td>\n",
       "      <td>-0.100032</td>\n",
       "      <td>0.079361</td>\n",
       "      <td>-0.047231</td>\n",
       "      <td>-0.052765</td>\n",
       "      <td>-0.107364</td>\n",
       "      <td>-0.041824</td>\n",
       "      <td>-0.048940</td>\n",
       "      <td>-0.010937</td>\n",
       "    </tr>\n",
       "    <tr>\n",
       "      <th>std</th>\n",
       "      <td>1.064257</td>\n",
       "      <td>0.971501</td>\n",
       "      <td>1.071461</td>\n",
       "      <td>1.108767</td>\n",
       "      <td>1.004876</td>\n",
       "      <td>1.004760</td>\n",
       "      <td>1.005293</td>\n",
       "      <td>1.000066</td>\n",
       "      <td>1.007602</td>\n",
       "      <td>1.006574</td>\n",
       "      <td>...</td>\n",
       "      <td>0.976107</td>\n",
       "      <td>0.900370</td>\n",
       "      <td>0.573335</td>\n",
       "      <td>0.979762</td>\n",
       "      <td>0.968211</td>\n",
       "      <td>1.033343</td>\n",
       "      <td>0.849786</td>\n",
       "      <td>0.358502</td>\n",
       "      <td>0.491790</td>\n",
       "      <td>1.097450</td>\n",
       "    </tr>\n",
       "    <tr>\n",
       "      <th>min</th>\n",
       "      <td>-0.660675</td>\n",
       "      <td>-1.218725</td>\n",
       "      <td>-3.303602</td>\n",
       "      <td>-0.546029</td>\n",
       "      <td>-1.361607</td>\n",
       "      <td>-1.357178</td>\n",
       "      <td>-1.305561</td>\n",
       "      <td>-1.329326</td>\n",
       "      <td>-1.309379</td>\n",
       "      <td>-1.322102</td>\n",
       "      <td>...</td>\n",
       "      <td>-1.641814</td>\n",
       "      <td>-2.048311</td>\n",
       "      <td>-0.753339</td>\n",
       "      <td>-2.979098</td>\n",
       "      <td>-1.576490</td>\n",
       "      <td>-1.883087</td>\n",
       "      <td>-0.904108</td>\n",
       "      <td>-0.855459</td>\n",
       "      <td>-1.161961</td>\n",
       "      <td>-2.885627</td>\n",
       "    </tr>\n",
       "    <tr>\n",
       "      <th>25%</th>\n",
       "      <td>-0.376538</td>\n",
       "      <td>-0.374402</td>\n",
       "      <td>-0.023285</td>\n",
       "      <td>-0.546029</td>\n",
       "      <td>-0.959267</td>\n",
       "      <td>-0.961559</td>\n",
       "      <td>-1.199044</td>\n",
       "      <td>-1.192726</td>\n",
       "      <td>-1.194234</td>\n",
       "      <td>-1.226541</td>\n",
       "      <td>...</td>\n",
       "      <td>-0.823534</td>\n",
       "      <td>-0.648105</td>\n",
       "      <td>-0.371793</td>\n",
       "      <td>-0.464499</td>\n",
       "      <td>-0.710929</td>\n",
       "      <td>-1.169120</td>\n",
       "      <td>-0.555049</td>\n",
       "      <td>-0.289504</td>\n",
       "      <td>-0.360961</td>\n",
       "      <td>-0.599529</td>\n",
       "    </tr>\n",
       "    <tr>\n",
       "      <th>50%</th>\n",
       "      <td>-0.291091</td>\n",
       "      <td>-0.129649</td>\n",
       "      <td>0.140083</td>\n",
       "      <td>-0.546029</td>\n",
       "      <td>-0.023389</td>\n",
       "      <td>-0.025001</td>\n",
       "      <td>-0.127403</td>\n",
       "      <td>-0.124923</td>\n",
       "      <td>-0.127251</td>\n",
       "      <td>-0.098815</td>\n",
       "      <td>...</td>\n",
       "      <td>-0.268997</td>\n",
       "      <td>0.023040</td>\n",
       "      <td>-0.253474</td>\n",
       "      <td>0.608454</td>\n",
       "      <td>-0.326235</td>\n",
       "      <td>0.246914</td>\n",
       "      <td>-0.368763</td>\n",
       "      <td>-0.055055</td>\n",
       "      <td>-0.135680</td>\n",
       "      <td>-0.228292</td>\n",
       "    </tr>\n",
       "    <tr>\n",
       "      <th>75%</th>\n",
       "      <td>-0.055340</td>\n",
       "      <td>0.457606</td>\n",
       "      <td>0.645744</td>\n",
       "      <td>1.983827</td>\n",
       "      <td>1.226926</td>\n",
       "      <td>1.224660</td>\n",
       "      <td>1.005564</td>\n",
       "      <td>1.020895</td>\n",
       "      <td>0.992327</td>\n",
       "      <td>1.008302</td>\n",
       "      <td>...</td>\n",
       "      <td>0.381907</td>\n",
       "      <td>0.281959</td>\n",
       "      <td>0.050965</td>\n",
       "      <td>0.827533</td>\n",
       "      <td>0.298892</td>\n",
       "      <td>0.767515</td>\n",
       "      <td>-0.101091</td>\n",
       "      <td>0.154184</td>\n",
       "      <td>0.164695</td>\n",
       "      <td>0.186184</td>\n",
       "    </tr>\n",
       "    <tr>\n",
       "      <th>max</th>\n",
       "      <td>3.282236</td>\n",
       "      <td>11.194438</td>\n",
       "      <td>0.868754</td>\n",
       "      <td>2.019806</td>\n",
       "      <td>1.442527</td>\n",
       "      <td>1.448370</td>\n",
       "      <td>1.548850</td>\n",
       "      <td>1.545695</td>\n",
       "      <td>1.574221</td>\n",
       "      <td>1.513165</td>\n",
       "      <td>...</td>\n",
       "      <td>5.594215</td>\n",
       "      <td>9.017066</td>\n",
       "      <td>4.771765</td>\n",
       "      <td>0.827533</td>\n",
       "      <td>3.664963</td>\n",
       "      <td>5.208983</td>\n",
       "      <td>5.158307</td>\n",
       "      <td>1.758775</td>\n",
       "      <td>2.542663</td>\n",
       "      <td>3.894007</td>\n",
       "    </tr>\n",
       "  </tbody>\n",
       "</table>\n",
       "<p>8 rows × 85 columns</p>\n",
       "</div>"
      ],
      "text/plain": [
       "       PS1_median  PS2_median  PS3_median  PS4_median  PS5_median  PS6_median  \\\n",
       "count  662.000000  662.000000  662.000000  662.000000  662.000000  662.000000   \n",
       "mean     0.070183    0.061026   -0.026103    0.157374    0.096653    0.096657   \n",
       "std      1.064257    0.971501    1.071461    1.108767    1.004876    1.004760   \n",
       "min     -0.660675   -1.218725   -3.303602   -0.546029   -1.361607   -1.357178   \n",
       "25%     -0.376538   -0.374402   -0.023285   -0.546029   -0.959267   -0.961559   \n",
       "50%     -0.291091   -0.129649    0.140083   -0.546029   -0.023389   -0.025001   \n",
       "75%     -0.055340    0.457606    0.645744    1.983827    1.226926    1.224660   \n",
       "max      3.282236   11.194438    0.868754    2.019806    1.442527    1.448370   \n",
       "\n",
       "       TS1_median  TS2_median  TS3_median  TS4_median  ...     TS2_iqr  \\\n",
       "count  662.000000  662.000000  662.000000  662.000000  ...  662.000000   \n",
       "mean    -0.096981   -0.101693   -0.095947   -0.098662  ...   -0.099911   \n",
       "std      1.005293    1.000066    1.007602    1.006574  ...    0.976107   \n",
       "min     -1.305561   -1.329326   -1.309379   -1.322102  ...   -1.641814   \n",
       "25%     -1.199044   -1.192726   -1.194234   -1.226541  ...   -0.823534   \n",
       "50%     -0.127403   -0.124923   -0.127251   -0.098815  ...   -0.268997   \n",
       "75%      1.005564    1.020895    0.992327    1.008302  ...    0.381907   \n",
       "max      1.548850    1.545695    1.574221    1.513165  ...    5.594215   \n",
       "\n",
       "          TS3_iqr     TS4_iqr     FS1_iqr     FS2_iqr      P1_iqr     VS1_iqr  \\\n",
       "count  662.000000  662.000000  662.000000  662.000000  662.000000  662.000000   \n",
       "mean    -0.013807   -0.100032    0.079361   -0.047231   -0.052765   -0.107364   \n",
       "std      0.900370    0.573335    0.979762    0.968211    1.033343    0.849786   \n",
       "min     -2.048311   -0.753339   -2.979098   -1.576490   -1.883087   -0.904108   \n",
       "25%     -0.648105   -0.371793   -0.464499   -0.710929   -1.169120   -0.555049   \n",
       "50%      0.023040   -0.253474    0.608454   -0.326235    0.246914   -0.368763   \n",
       "75%      0.281959    0.050965    0.827533    0.298892    0.767515   -0.101091   \n",
       "max      9.017066    4.771765    0.827533    3.664963    5.208983    5.158307   \n",
       "\n",
       "          CE1_iqr     CP1_iqr     SE1_iqr  \n",
       "count  662.000000  662.000000  662.000000  \n",
       "mean    -0.041824   -0.048940   -0.010937  \n",
       "std      0.358502    0.491790    1.097450  \n",
       "min     -0.855459   -1.161961   -2.885627  \n",
       "25%     -0.289504   -0.360961   -0.599529  \n",
       "50%     -0.055055   -0.135680   -0.228292  \n",
       "75%      0.154184    0.164695    0.186184  \n",
       "max      1.758775    2.542663    3.894007  \n",
       "\n",
       "[8 rows x 85 columns]"
      ]
     },
     "execution_count": 156,
     "metadata": {},
     "output_type": "execute_result"
    }
   ],
   "source": [
    "SFX_test_scaled.describe()"
   ]
  },
  {
   "cell_type": "code",
   "execution_count": 157,
   "metadata": {},
   "outputs": [
    {
     "data": {
      "text/html": [
       "<div>\n",
       "<style scoped>\n",
       "    .dataframe tbody tr th:only-of-type {\n",
       "        vertical-align: middle;\n",
       "    }\n",
       "\n",
       "    .dataframe tbody tr th {\n",
       "        vertical-align: top;\n",
       "    }\n",
       "\n",
       "    .dataframe thead th {\n",
       "        text-align: right;\n",
       "    }\n",
       "</style>\n",
       "<table border=\"1\" class=\"dataframe\">\n",
       "  <thead>\n",
       "    <tr style=\"text-align: right;\">\n",
       "      <th></th>\n",
       "      <th>PS1_median</th>\n",
       "      <th>PS2_median</th>\n",
       "      <th>PS3_median</th>\n",
       "      <th>PS4_median</th>\n",
       "      <th>PS5_median</th>\n",
       "      <th>PS6_median</th>\n",
       "      <th>TS1_median</th>\n",
       "      <th>TS2_median</th>\n",
       "      <th>TS3_median</th>\n",
       "      <th>TS4_median</th>\n",
       "      <th>...</th>\n",
       "      <th>TS2_iqr</th>\n",
       "      <th>TS3_iqr</th>\n",
       "      <th>TS4_iqr</th>\n",
       "      <th>FS1_iqr</th>\n",
       "      <th>FS2_iqr</th>\n",
       "      <th>P1_iqr</th>\n",
       "      <th>VS1_iqr</th>\n",
       "      <th>CE1_iqr</th>\n",
       "      <th>CP1_iqr</th>\n",
       "      <th>SE1_iqr</th>\n",
       "    </tr>\n",
       "  </thead>\n",
       "  <tbody>\n",
       "    <tr>\n",
       "      <th>count</th>\n",
       "      <td>662.000000</td>\n",
       "      <td>662.000000</td>\n",
       "      <td>662.000000</td>\n",
       "      <td>662.000000</td>\n",
       "      <td>662.000000</td>\n",
       "      <td>662.000000</td>\n",
       "      <td>662.000000</td>\n",
       "      <td>662.000000</td>\n",
       "      <td>662.000000</td>\n",
       "      <td>662.000000</td>\n",
       "      <td>...</td>\n",
       "      <td>662.000000</td>\n",
       "      <td>662.000000</td>\n",
       "      <td>662.000000</td>\n",
       "      <td>662.000000</td>\n",
       "      <td>662.000000</td>\n",
       "      <td>662.000000</td>\n",
       "      <td>662.000000</td>\n",
       "      <td>662.000000</td>\n",
       "      <td>662.000000</td>\n",
       "      <td>662.000000</td>\n",
       "    </tr>\n",
       "    <tr>\n",
       "      <th>mean</th>\n",
       "      <td>0.065847</td>\n",
       "      <td>0.063359</td>\n",
       "      <td>-0.023627</td>\n",
       "      <td>0.164138</td>\n",
       "      <td>0.097828</td>\n",
       "      <td>0.093504</td>\n",
       "      <td>-0.104614</td>\n",
       "      <td>-0.107522</td>\n",
       "      <td>-0.099811</td>\n",
       "      <td>-0.099204</td>\n",
       "      <td>...</td>\n",
       "      <td>-0.089581</td>\n",
       "      <td>-0.023342</td>\n",
       "      <td>-0.097098</td>\n",
       "      <td>0.070694</td>\n",
       "      <td>-0.051383</td>\n",
       "      <td>-0.059257</td>\n",
       "      <td>-0.098216</td>\n",
       "      <td>-0.048011</td>\n",
       "      <td>-0.047234</td>\n",
       "      <td>-0.016161</td>\n",
       "    </tr>\n",
       "    <tr>\n",
       "      <th>std</th>\n",
       "      <td>1.093074</td>\n",
       "      <td>0.999993</td>\n",
       "      <td>1.090175</td>\n",
       "      <td>1.126303</td>\n",
       "      <td>1.022594</td>\n",
       "      <td>1.024676</td>\n",
       "      <td>1.015426</td>\n",
       "      <td>1.032529</td>\n",
       "      <td>1.030326</td>\n",
       "      <td>1.040309</td>\n",
       "      <td>...</td>\n",
       "      <td>1.007373</td>\n",
       "      <td>0.928845</td>\n",
       "      <td>0.589010</td>\n",
       "      <td>1.002646</td>\n",
       "      <td>0.986735</td>\n",
       "      <td>1.052279</td>\n",
       "      <td>0.863228</td>\n",
       "      <td>0.362447</td>\n",
       "      <td>0.495781</td>\n",
       "      <td>1.108301</td>\n",
       "    </tr>\n",
       "    <tr>\n",
       "      <th>min</th>\n",
       "      <td>-1.029359</td>\n",
       "      <td>-1.449057</td>\n",
       "      <td>-3.624412</td>\n",
       "      <td>-1.351225</td>\n",
       "      <td>-1.818632</td>\n",
       "      <td>-1.810511</td>\n",
       "      <td>-1.739103</td>\n",
       "      <td>-1.766558</td>\n",
       "      <td>-1.789737</td>\n",
       "      <td>-1.925862</td>\n",
       "      <td>...</td>\n",
       "      <td>-1.750572</td>\n",
       "      <td>-1.992009</td>\n",
       "      <td>-0.959582</td>\n",
       "      <td>-2.841955</td>\n",
       "      <td>-1.642828</td>\n",
       "      <td>-2.034439</td>\n",
       "      <td>-1.267890</td>\n",
       "      <td>-0.912548</td>\n",
       "      <td>-1.104623</td>\n",
       "      <td>-2.838042</td>\n",
       "    </tr>\n",
       "    <tr>\n",
       "      <th>25%</th>\n",
       "      <td>-0.431823</td>\n",
       "      <td>-0.428581</td>\n",
       "      <td>-0.103409</td>\n",
       "      <td>-0.613083</td>\n",
       "      <td>-0.878361</td>\n",
       "      <td>-0.856678</td>\n",
       "      <td>-1.124304</td>\n",
       "      <td>-1.168267</td>\n",
       "      <td>-1.140660</td>\n",
       "      <td>-1.192093</td>\n",
       "      <td>...</td>\n",
       "      <td>-0.825254</td>\n",
       "      <td>-0.598814</td>\n",
       "      <td>-0.419657</td>\n",
       "      <td>-0.500829</td>\n",
       "      <td>-0.721754</td>\n",
       "      <td>-1.161478</td>\n",
       "      <td>-0.546291</td>\n",
       "      <td>-0.296183</td>\n",
       "      <td>-0.349868</td>\n",
       "      <td>-0.674257</td>\n",
       "    </tr>\n",
       "    <tr>\n",
       "      <th>50%</th>\n",
       "      <td>-0.247907</td>\n",
       "      <td>-0.025485</td>\n",
       "      <td>0.215987</td>\n",
       "      <td>-0.395774</td>\n",
       "      <td>-0.058242</td>\n",
       "      <td>-0.015522</td>\n",
       "      <td>-0.114480</td>\n",
       "      <td>-0.134267</td>\n",
       "      <td>-0.076833</td>\n",
       "      <td>-0.069175</td>\n",
       "      <td>...</td>\n",
       "      <td>-0.280733</td>\n",
       "      <td>-0.051231</td>\n",
       "      <td>-0.232205</td>\n",
       "      <td>0.509924</td>\n",
       "      <td>-0.301234</td>\n",
       "      <td>0.202590</td>\n",
       "      <td>-0.333519</td>\n",
       "      <td>-0.061886</td>\n",
       "      <td>-0.124902</td>\n",
       "      <td>-0.259007</td>\n",
       "    </tr>\n",
       "    <tr>\n",
       "      <th>75%</th>\n",
       "      <td>-0.023073</td>\n",
       "      <td>0.472281</td>\n",
       "      <td>0.603040</td>\n",
       "      <td>1.668880</td>\n",
       "      <td>1.211210</td>\n",
       "      <td>1.178542</td>\n",
       "      <td>0.899202</td>\n",
       "      <td>0.878080</td>\n",
       "      <td>0.872887</td>\n",
       "      <td>0.920325</td>\n",
       "      <td>...</td>\n",
       "      <td>0.424406</td>\n",
       "      <td>0.294023</td>\n",
       "      <td>0.041211</td>\n",
       "      <td>0.816230</td>\n",
       "      <td>0.335029</td>\n",
       "      <td>0.792416</td>\n",
       "      <td>-0.067359</td>\n",
       "      <td>0.154141</td>\n",
       "      <td>0.180343</td>\n",
       "      <td>0.211135</td>\n",
       "    </tr>\n",
       "    <tr>\n",
       "      <th>max</th>\n",
       "      <td>3.738789</td>\n",
       "      <td>11.492707</td>\n",
       "      <td>1.448667</td>\n",
       "      <td>2.520448</td>\n",
       "      <td>1.876345</td>\n",
       "      <td>1.962137</td>\n",
       "      <td>1.981038</td>\n",
       "      <td>1.891635</td>\n",
       "      <td>1.893408</td>\n",
       "      <td>1.887679</td>\n",
       "      <td>...</td>\n",
       "      <td>5.838018</td>\n",
       "      <td>9.176674</td>\n",
       "      <td>4.860254</td>\n",
       "      <td>1.412431</td>\n",
       "      <td>3.567666</td>\n",
       "      <td>5.031786</td>\n",
       "      <td>5.182848</td>\n",
       "      <td>1.876655</td>\n",
       "      <td>2.638563</td>\n",
       "      <td>4.265098</td>\n",
       "    </tr>\n",
       "  </tbody>\n",
       "</table>\n",
       "<p>8 rows × 85 columns</p>\n",
       "</div>"
      ],
      "text/plain": [
       "       PS1_median  PS2_median  PS3_median  PS4_median  PS5_median  PS6_median  \\\n",
       "count  662.000000  662.000000  662.000000  662.000000  662.000000  662.000000   \n",
       "mean     0.065847    0.063359   -0.023627    0.164138    0.097828    0.093504   \n",
       "std      1.093074    0.999993    1.090175    1.126303    1.022594    1.024676   \n",
       "min     -1.029359   -1.449057   -3.624412   -1.351225   -1.818632   -1.810511   \n",
       "25%     -0.431823   -0.428581   -0.103409   -0.613083   -0.878361   -0.856678   \n",
       "50%     -0.247907   -0.025485    0.215987   -0.395774   -0.058242   -0.015522   \n",
       "75%     -0.023073    0.472281    0.603040    1.668880    1.211210    1.178542   \n",
       "max      3.738789   11.492707    1.448667    2.520448    1.876345    1.962137   \n",
       "\n",
       "       TS1_median  TS2_median  TS3_median  TS4_median  ...     TS2_iqr  \\\n",
       "count  662.000000  662.000000  662.000000  662.000000  ...  662.000000   \n",
       "mean    -0.104614   -0.107522   -0.099811   -0.099204  ...   -0.089581   \n",
       "std      1.015426    1.032529    1.030326    1.040309  ...    1.007373   \n",
       "min     -1.739103   -1.766558   -1.789737   -1.925862  ...   -1.750572   \n",
       "25%     -1.124304   -1.168267   -1.140660   -1.192093  ...   -0.825254   \n",
       "50%     -0.114480   -0.134267   -0.076833   -0.069175  ...   -0.280733   \n",
       "75%      0.899202    0.878080    0.872887    0.920325  ...    0.424406   \n",
       "max      1.981038    1.891635    1.893408    1.887679  ...    5.838018   \n",
       "\n",
       "          TS3_iqr     TS4_iqr     FS1_iqr     FS2_iqr      P1_iqr     VS1_iqr  \\\n",
       "count  662.000000  662.000000  662.000000  662.000000  662.000000  662.000000   \n",
       "mean    -0.023342   -0.097098    0.070694   -0.051383   -0.059257   -0.098216   \n",
       "std      0.928845    0.589010    1.002646    0.986735    1.052279    0.863228   \n",
       "min     -1.992009   -0.959582   -2.841955   -1.642828   -2.034439   -1.267890   \n",
       "25%     -0.598814   -0.419657   -0.500829   -0.721754   -1.161478   -0.546291   \n",
       "50%     -0.051231   -0.232205    0.509924   -0.301234    0.202590   -0.333519   \n",
       "75%      0.294023    0.041211    0.816230    0.335029    0.792416   -0.067359   \n",
       "max      9.176674    4.860254    1.412431    3.567666    5.031786    5.182848   \n",
       "\n",
       "          CE1_iqr     CP1_iqr     SE1_iqr  \n",
       "count  662.000000  662.000000  662.000000  \n",
       "mean    -0.048011   -0.047234   -0.016161  \n",
       "std      0.362447    0.495781    1.108301  \n",
       "min     -0.912548   -1.104623   -2.838042  \n",
       "25%     -0.296183   -0.349868   -0.674257  \n",
       "50%     -0.061886   -0.124902   -0.259007  \n",
       "75%      0.154141    0.180343    0.211135  \n",
       "max      1.876655    2.638563    4.265098  \n",
       "\n",
       "[8 rows x 85 columns]"
      ]
     },
     "execution_count": 157,
     "metadata": {},
     "output_type": "execute_result"
    }
   ],
   "source": [
    "X_testscaled_noise.describe()"
   ]
  },
  {
   "cell_type": "code",
   "execution_count": 159,
   "metadata": {},
   "outputs": [
    {
     "data": {
      "text/plain": [
       "<matplotlib.axes._subplots.AxesSubplot at 0x198bf1dd0c8>"
      ]
     },
     "execution_count": 159,
     "metadata": {},
     "output_type": "execute_result"
    },
    {
     "data": {
      "image/png": "[encoded data removed]",
      "text/plain": [
       "<Figure size 1440x360 with 1 Axes>"
      ]
     },
     "metadata": {
      "needs_background": "light"
     },
     "output_type": "display_data"
    }
   ],
   "source": [
    "X_testscaled_noise['CE1_median'].T.plot(figsize = (20,5))\n",
    "SFX_test_scaled['CE1_median'].T.plot(figsize = (20,5))"
   ]
  },
  {
   "cell_type": "code",
   "execution_count": 160,
   "metadata": {},
   "outputs": [
    {
     "name": "stdout",
     "output_type": "stream",
     "text": [
      "              precision    recall  f1-score   support\n",
      "\n",
      "           0       0.86      0.95      0.90       435\n",
      "           1       0.88      0.69      0.77       227\n",
      "\n",
      "    accuracy                           0.86       662\n",
      "   macro avg       0.87      0.82      0.84       662\n",
      "weighted avg       0.86      0.86      0.86       662\n",
      "\n"
     ]
    }
   ],
   "source": [
    "print(classification_report(SFy_test, rf_best.predict(X_testscaled_noise)))"
   ]
  },
  {
   "cell_type": "code",
   "execution_count": 161,
   "metadata": {},
   "outputs": [
    {
     "data": {
      "image/png": "[encoded data removed]",
      "text/plain": [
       "<Figure size 432x288 with 1 Axes>"
      ]
     },
     "metadata": {
      "needs_background": "light"
     },
     "output_type": "display_data"
    }
   ],
   "source": [
    "import sklearn.metrics as metrics\n",
    "# calculate the fpr and tpr for all thresholds of the classification\n",
    "probs = rf_best.predict_proba(X_testscaled_noise)\n",
    "preds = probs[:,1]\n",
    "fpr, tpr, threshold = metrics.roc_curve(SFy_test, preds)\n",
    "roc_auc = metrics.auc(fpr, tpr)\n",
    "\n",
    "# method I: plt\n",
    "import matplotlib.pyplot as plt\n",
    "plt.title('Receiver Operating Characteristic')\n",
    "plt.plot(fpr, tpr, 'b', label = 'AUC = %0.2f' % roc_auc)\n",
    "plt.legend(loc = 'lower right')\n",
    "plt.plot([0, 1], [0, 1],'r--')\n",
    "plt.xlim([0, 1])\n",
    "plt.ylim([0, 1])\n",
    "plt.ylabel('True Positive Rate')\n",
    "plt.xlabel('False Positive Rate')\n",
    "plt.show()"
   ]
  },
  {
   "cell_type": "markdown",
   "metadata": {},
   "source": [
    "#### Using randomsearch"
   ]
  },
  {
   "cell_type": "code",
   "execution_count": null,
   "metadata": {},
   "outputs": [],
   "source": [
    "from sklearn.model_selection import RandomizedSearchCV"
   ]
  },
  {
   "cell_type": "code",
   "execution_count": null,
   "metadata": {},
   "outputs": [],
   "source": [
    "n_estimators = [int(x) for x in np.linspace(start = 1, stop = 20, num = 20)] # number of trees in the random forest\n",
    "max_features = ['auto', 'sqrt'] # number of features in consideration at every split\n",
    "max_depth = [int(x) for x in np.linspace(10, 120, num = 12)] # maximum number of levels allowed in each decision tree\n",
    "min_samples_split = [2, 6, 10] # minimum sample number to split a node\n",
    "min_samples_leaf = [1, 3, 4] # minimum sample number that can be stored in a leaf node\n",
    "bootstrap = [True, False] # method used to sample data points\n",
    "\n",
    "random_grid = {'n_estimators': n_estimators,\n",
    "\n",
    "'max_features': max_features,\n",
    "\n",
    "'max_depth': max_depth,\n",
    "\n",
    "'min_samples_split': min_samples_split,\n",
    "\n",
    "'min_samples_leaf': min_samples_leaf,\n",
    "\n",
    "'bootstrap': bootstrap}\n"
   ]
  },
  {
   "cell_type": "code",
   "execution_count": null,
   "metadata": {},
   "outputs": [],
   "source": [
    "rf_random = RandomizedSearchCV(estimator = classifier_rf,param_distributions = random_grid,\n",
    "               n_iter = 100, cv = 5, verbose=2, random_state=35, n_jobs = -1)"
   ]
  },
  {
   "cell_type": "code",
   "execution_count": null,
   "metadata": {},
   "outputs": [],
   "source": [
    "%%time\n",
    "rf_random.fit(SFX_train_scaled,SFy_train)"
   ]
  },
  {
   "cell_type": "code",
   "execution_count": null,
   "metadata": {},
   "outputs": [],
   "source": [
    "rf_best_random = rf_random.best_estimator_"
   ]
  },
  {
   "cell_type": "code",
   "execution_count": null,
   "metadata": {},
   "outputs": [],
   "source": [
    "rf_best_random"
   ]
  },
  {
   "cell_type": "code",
   "execution_count": null,
   "metadata": {},
   "outputs": [],
   "source": [
    "evaluate_model(rf_best_random, SFy_train, SFX_train_scaled, SFy_test, SFX_test_scaled)"
   ]
  },
  {
   "cell_type": "code",
   "execution_count": null,
   "metadata": {},
   "outputs": [],
   "source": [
    "import sklearn.metrics as metrics\n",
    "# calculate the fpr and tpr for all thresholds of the classification\n",
    "probs = rf_best_random.predict_proba(SFX_test_scaled)\n",
    "preds = probs[:,1]\n",
    "fpr, tpr, threshold = metrics.roc_curve(SFy_test, preds)\n",
    "roc_auc = metrics.auc(fpr, tpr)\n",
    "\n",
    "# method I: plt\n",
    "import matplotlib.pyplot as plt\n",
    "plt.title('Receiver Operating Characteristic')\n",
    "plt.plot(fpr, tpr, 'b', label = 'AUC = %0.2f' % roc_auc)\n",
    "plt.legend(loc = 'lower right')\n",
    "plt.plot([0, 1], [0, 1],'r--')\n",
    "plt.xlim([0, 1])\n",
    "plt.ylim([0, 1])\n",
    "plt.ylabel('True Positive Rate')\n",
    "plt.xlabel('False Positive Rate')\n",
    "plt.show()"
   ]
  },
  {
   "cell_type": "markdown",
   "metadata": {},
   "source": [
    "<a id = 'Building_a_Decision_Tree_classifier'></a>\n",
    "\n",
    "### Building an Decision Tree classifier for Stable Flag"
   ]
  },
  {
   "cell_type": "code",
   "execution_count": 143,
   "metadata": {},
   "outputs": [],
   "source": [
    "dtc = DecisionTreeClassifier(criterion=\"entropy\",random_state=1)"
   ]
  },
  {
   "cell_type": "code",
   "execution_count": 144,
   "metadata": {},
   "outputs": [
    {
     "data": {
      "text/plain": [
       "DecisionTreeClassifier(criterion='entropy', random_state=1)"
      ]
     },
     "execution_count": 144,
     "metadata": {},
     "output_type": "execute_result"
    }
   ],
   "source": [
    "dtc.fit(SFX_train_scaled,SFy_train)"
   ]
  },
  {
   "cell_type": "code",
   "execution_count": 145,
   "metadata": {},
   "outputs": [
    {
     "name": "stdout",
     "output_type": "stream",
     "text": [
      "Train Precision : 100.0\n",
      "Train Confusion Matrix:\n",
      "[[1014    0]\n",
      " [   0 1014]]\n",
      "--------------------------------------------------\n",
      "Test Precision : 92.64069264069265\n",
      "Test Confusion Matrix:\n",
      "[[418  17]\n",
      " [ 13 214]]\n"
     ]
    }
   ],
   "source": [
    "evaluate_model(dtc, SFy_train, SFX_train_scaled, SFy_test, SFX_test_scaled)"
   ]
  },
  {
   "cell_type": "code",
   "execution_count": 146,
   "metadata": {},
   "outputs": [
    {
     "data": {
      "image/png": "[encoded data removed]",
      "text/plain": [
       "<Figure size 432x288 with 1 Axes>"
      ]
     },
     "metadata": {
      "needs_background": "light"
     },
     "output_type": "display_data"
    }
   ],
   "source": [
    "import sklearn.metrics as metrics\n",
    "# calculate the fpr and tpr for all thresholds of the classification\n",
    "probs = dtc.predict_proba(SFX_test_scaled)\n",
    "preds = probs[:,1]\n",
    "fpr, tpr, threshold = metrics.roc_curve(SFy_test, preds)\n",
    "roc_auc = metrics.auc(fpr, tpr)\n",
    "\n",
    "# method I: plt\n",
    "import matplotlib.pyplot as plt\n",
    "plt.title('Receiver Operating Characteristic')\n",
    "plt.plot(fpr, tpr, 'b', label = 'AUC = %0.2f' % roc_auc)\n",
    "plt.legend(loc = 'lower right')\n",
    "plt.plot([0, 1], [0, 1],'r--')\n",
    "plt.xlim([0, 1])\n",
    "plt.ylim([0, 1])\n",
    "plt.ylabel('True Positive Rate')\n",
    "plt.xlabel('False Positive Rate')\n",
    "plt.show()"
   ]
  },
  {
   "cell_type": "markdown",
   "metadata": {},
   "source": [
    "#### Hypertune The parameters"
   ]
  },
  {
   "cell_type": "markdown",
   "metadata": {},
   "source": [
    "##### Using Gridsearch"
   ]
  },
  {
   "cell_type": "code",
   "execution_count": null,
   "metadata": {},
   "outputs": [],
   "source": [
    "params = {\n",
    "    'max_depth': [2, 3, 5, 10, 20],\n",
    "    'min_samples_leaf': [5, 10, 20, 50, 100],\n",
    "    'criterion': [\"gini\", \"entropy\"]\n",
    "}\n",
    "\n",
    "# depth of 2,3,5,10,20\n",
    "## minimum samples in leaf is given as 5,10,20,50,100\n",
    "## criterion is given as gini and entropy"
   ]
  },
  {
   "cell_type": "code",
   "execution_count": null,
   "metadata": {},
   "outputs": [],
   "source": [
    "# Instantiate the grid search model\n",
    "grid_search = GridSearchCV(estimator=dtc, \n",
    "                           param_grid=params, \n",
    "                           cv=4, n_jobs=-1, verbose=1, scoring = \"accuracy\")"
   ]
  },
  {
   "cell_type": "code",
   "execution_count": null,
   "metadata": {},
   "outputs": [],
   "source": [
    "%%time\n",
    "grid_search.fit(SFX_train_scaled,SFy_train)"
   ]
  },
  {
   "cell_type": "code",
   "execution_count": null,
   "metadata": {},
   "outputs": [],
   "source": [
    "grid_search.best_estimator_"
   ]
  },
  {
   "cell_type": "code",
   "execution_count": null,
   "metadata": {},
   "outputs": [],
   "source": [
    "dt_best = grid_search.best_estimator_ ## best estimator assigned to dt_best"
   ]
  },
  {
   "cell_type": "code",
   "execution_count": null,
   "metadata": {},
   "outputs": [],
   "source": [
    "evaluate_model(dt_best, SFy_train, SFX_train_scaled, SFy_test, SFX_test_scaled)"
   ]
  },
  {
   "cell_type": "code",
   "execution_count": null,
   "metadata": {},
   "outputs": [],
   "source": [
    "import sklearn.metrics as metrics\n",
    "# calculate the fpr and tpr for all thresholds of the classification\n",
    "probs = dt_best.predict_proba(SFX_test_scaled)\n",
    "preds = probs[:,1]\n",
    "fpr, tpr, threshold = metrics.roc_curve(SFy_test, preds)\n",
    "roc_auc = metrics.auc(fpr, tpr)\n",
    "\n",
    "# method I: plt\n",
    "import matplotlib.pyplot as plt\n",
    "plt.title('Receiver Operating Characteristic')\n",
    "plt.plot(fpr, tpr, 'b', label = 'AUC = %0.2f' % roc_auc)\n",
    "plt.legend(loc = 'lower right')\n",
    "plt.plot([0, 1], [0, 1],'r--')\n",
    "plt.xlim([0, 1])\n",
    "plt.ylim([0, 1])\n",
    "plt.ylabel('True Positive Rate')\n",
    "plt.xlabel('False Positive Rate')\n",
    "plt.show()"
   ]
  },
  {
   "cell_type": "markdown",
   "metadata": {},
   "source": [
    "##### Using Random search"
   ]
  },
  {
   "cell_type": "code",
   "execution_count": null,
   "metadata": {},
   "outputs": [],
   "source": [
    "param_dist = {\"max_depth\": [3, None],\n",
    "              \"max_features\": randint(1, 9),\n",
    "              \"min_samples_leaf\": randint(1, 9),\n",
    "              \"criterion\": [\"gini\", \"entropy\"]}\n"
   ]
  },
  {
   "cell_type": "code",
   "execution_count": null,
   "metadata": {},
   "outputs": [],
   "source": [
    "tree_cv = RandomizedSearchCV(dtc, param_dist, cv=5)"
   ]
  },
  {
   "cell_type": "code",
   "execution_count": null,
   "metadata": {},
   "outputs": [],
   "source": [
    "tree_cv.fit(SFX_train_scaled,SFy_train)"
   ]
  },
  {
   "cell_type": "code",
   "execution_count": null,
   "metadata": {},
   "outputs": [],
   "source": [
    "tree_cv.best_estimator_"
   ]
  },
  {
   "cell_type": "code",
   "execution_count": null,
   "metadata": {},
   "outputs": [],
   "source": [
    "dt_bestrandom = tree_cv.best_estimator_ ## best estimator assigned to dt_best"
   ]
  },
  {
   "cell_type": "code",
   "execution_count": null,
   "metadata": {},
   "outputs": [],
   "source": [
    "evaluate_model(dt_bestrandom, SFy_train, SFX_train_scaled, SFy_test, SFX_test_scaled)"
   ]
  },
  {
   "cell_type": "code",
   "execution_count": null,
   "metadata": {},
   "outputs": [],
   "source": [
    "import sklearn.metrics as metrics\n",
    "# calculate the fpr and tpr for all thresholds of the classification\n",
    "probs = dt_bestrandom.predict_proba(SFX_test_scaled)\n",
    "preds = probs[:,1]\n",
    "fpr, tpr, threshold = metrics.roc_curve(SFy_test, preds)\n",
    "roc_auc = metrics.auc(fpr, tpr)\n",
    "\n",
    "# method I: plt\n",
    "import matplotlib.pyplot as plt\n",
    "plt.title('Receiver Operating Characteristic')\n",
    "plt.plot(fpr, tpr, 'b', label = 'AUC = %0.2f' % roc_auc)\n",
    "plt.legend(loc = 'lower right')\n",
    "plt.plot([0, 1], [0, 1],'r--')\n",
    "plt.xlim([0, 1])\n",
    "plt.ylim([0, 1])\n",
    "plt.ylabel('True Positive Rate')\n",
    "plt.xlabel('False Positive Rate')\n",
    "plt.show()"
   ]
  },
  {
   "cell_type": "markdown",
   "metadata": {},
   "source": [
    "<a id = 'Building_a_SVM_classifier'></a>\n",
    "\n",
    "### Building an SVM classifier for Stable Flag"
   ]
  },
  {
   "cell_type": "code",
   "execution_count": null,
   "metadata": {},
   "outputs": [],
   "source": [
    "svc=SVC(kernel=\"rbf\",probability=True)"
   ]
  },
  {
   "cell_type": "code",
   "execution_count": null,
   "metadata": {},
   "outputs": [],
   "source": [
    "svc.fit(SFX_train_scaled,SFy_train)"
   ]
  },
  {
   "cell_type": "code",
   "execution_count": null,
   "metadata": {},
   "outputs": [],
   "source": [
    "SFX_train_scaled.shape"
   ]
  },
  {
   "cell_type": "code",
   "execution_count": null,
   "metadata": {},
   "outputs": [],
   "source": [
    "evaluate_model(svc, SFy_train, SFX_train_scaled, SFy_test, SFX_test_scaled)"
   ]
  },
  {
   "cell_type": "code",
   "execution_count": null,
   "metadata": {},
   "outputs": [],
   "source": [
    "import sklearn.metrics as metrics\n",
    "# calculate the fpr and tpr for all thresholds of the classification\n",
    "probs = svc.predict_proba(SFX_test_scaled)\n",
    "preds = probs[:,1]\n",
    "fpr, tpr, threshold = metrics.roc_curve(SFy_test, preds)\n",
    "roc_auc = metrics.auc(fpr, tpr)\n",
    "\n",
    "# method I: plt\n",
    "import matplotlib.pyplot as plt\n",
    "plt.title('Receiver Operating Characteristic')\n",
    "plt.plot(fpr, tpr, 'b', label = 'AUC = %0.2f' % roc_auc)\n",
    "plt.legend(loc = 'lower right')\n",
    "plt.plot([0, 1], [0, 1],'r--')\n",
    "plt.xlim([0, 1])\n",
    "plt.ylim([0, 1])\n",
    "plt.ylabel('True Positive Rate')\n",
    "plt.xlabel('False Positive Rate')\n",
    "plt.show()"
   ]
  },
  {
   "cell_type": "code",
   "execution_count": null,
   "metadata": {},
   "outputs": [],
   "source": []
  },
  {
   "cell_type": "markdown",
   "metadata": {},
   "source": [
    "<a id = 'Building_a_kNN_classifier'></a>\n",
    "\n",
    "### Building a kNN classifier for Stable Flag"
   ]
  },
  {
   "cell_type": "code",
   "execution_count": 162,
   "metadata": {},
   "outputs": [],
   "source": [
    "knn=KNeighborsClassifier(n_neighbors=10,p=2)"
   ]
  },
  {
   "cell_type": "code",
   "execution_count": 163,
   "metadata": {},
   "outputs": [
    {
     "data": {
      "text/plain": [
       "KNeighborsClassifier(n_neighbors=10)"
      ]
     },
     "execution_count": 163,
     "metadata": {},
     "output_type": "execute_result"
    }
   ],
   "source": [
    "knn.fit(SFX_train_scaled,SFy_train)"
   ]
  },
  {
   "cell_type": "code",
   "execution_count": 164,
   "metadata": {},
   "outputs": [
    {
     "name": "stdout",
     "output_type": "stream",
     "text": [
      "Train Precision : 94.69999999999999\n",
      "Train Confusion Matrix:\n",
      "[[961  53]\n",
      " [ 67 947]]\n",
      "--------------------------------------------------\n",
      "Test Precision : 92.66055045871559\n",
      "Test Confusion Matrix:\n",
      "[[419  16]\n",
      " [ 25 202]]\n"
     ]
    }
   ],
   "source": [
    "evaluate_model(knn, SFy_train, SFX_train_scaled, SFy_test, SFX_test_scaled)"
   ]
  },
  {
   "cell_type": "code",
   "execution_count": 165,
   "metadata": {},
   "outputs": [
    {
     "data": {
      "image/png": "[encoded data removed]",
      "text/plain": [
       "<Figure size 432x288 with 1 Axes>"
      ]
     },
     "metadata": {
      "needs_background": "light"
     },
     "output_type": "display_data"
    }
   ],
   "source": [
    "import sklearn.metrics as metrics\n",
    "# calculate the fpr and tpr for all thresholds of the classification\n",
    "probs = knn.predict_proba(SFX_test_scaled)\n",
    "preds = probs[:,1]\n",
    "fpr, tpr, threshold = metrics.roc_curve(SFy_test, preds)\n",
    "roc_auc = metrics.auc(fpr, tpr)\n",
    "\n",
    "# method I: plt\n",
    "import matplotlib.pyplot as plt\n",
    "plt.title('Receiver Operating Characteristic')\n",
    "plt.plot(fpr, tpr, 'b', label = 'AUC = %0.2f' % roc_auc)\n",
    "plt.legend(loc = 'lower right')\n",
    "plt.plot([0, 1], [0, 1],'r--')\n",
    "plt.xlim([0, 1])\n",
    "plt.ylim([0, 1])\n",
    "plt.ylabel('True Positive Rate')\n",
    "plt.xlabel('False Positive Rate')\n",
    "plt.show()"
   ]
  },
  {
   "cell_type": "markdown",
   "metadata": {},
   "source": [
    "### Feature extraction using PCA"
   ]
  },
  {
   "cell_type": "code",
   "execution_count": 166,
   "metadata": {},
   "outputs": [],
   "source": [
    "from sklearn.decomposition import PCA"
   ]
  },
  {
   "cell_type": "code",
   "execution_count": 167,
   "metadata": {},
   "outputs": [],
   "source": [
    "pca = PCA(random_state=42)\n",
    "SFX_train_pca = pca.fit(SFX_train_scaled)"
   ]
  },
  {
   "cell_type": "code",
   "execution_count": 168,
   "metadata": {},
   "outputs": [
    {
     "data": {
      "text/plain": [
       "array([[ 9.53740836e-02,  1.24228309e-04, -1.53867910e-01, ...,\n",
       "         1.60791883e-02,  4.11640141e-02,  1.42765625e-01],\n",
       "       [-6.06386247e-02, -2.88041187e-02,  5.92361861e-02, ...,\n",
       "         2.12399581e-01,  1.97576437e-01, -4.59568049e-02],\n",
       "       [ 2.14396511e-01,  1.69839710e-01, -1.13226002e-01, ...,\n",
       "         5.93222049e-02,  4.63914249e-02,  1.14913890e-01],\n",
       "       ...,\n",
       "       [ 0.00000000e+00,  2.32040010e-18,  8.35579456e-16, ...,\n",
       "        -2.26413290e-01, -1.18599210e-01,  1.04686564e-01],\n",
       "       [ 0.00000000e+00, -2.99961688e-17,  1.47609139e-16, ...,\n",
       "         4.84122087e-02,  4.74530773e-01, -4.95909161e-04],\n",
       "       [ 0.00000000e+00, -3.54253191e-17,  6.89203662e-17, ...,\n",
       "         5.22457032e-01, -3.22205668e-01,  1.68806746e-01]])"
      ]
     },
     "execution_count": 168,
     "metadata": {},
     "output_type": "execute_result"
    }
   ],
   "source": [
    "pca.components_"
   ]
  },
  {
   "cell_type": "code",
   "execution_count": 169,
   "metadata": {},
   "outputs": [
    {
     "data": {
      "text/plain": [
       "array([3.48443679e-01, 2.17919661e-01, 1.57541050e-01, 6.27619435e-02,\n",
       "       4.16678560e-02, 3.32129843e-02, 2.33963545e-02, 2.05520798e-02,\n",
       "       1.71470102e-02, 1.37977992e-02, 1.17588380e-02, 7.64229675e-03,\n",
       "       6.21674648e-03, 5.82369098e-03, 4.66867066e-03, 3.85415224e-03,\n",
       "       3.07079816e-03, 2.69796164e-03, 2.29368979e-03, 2.18593461e-03,\n",
       "       1.69400662e-03, 1.39240453e-03, 1.34154559e-03, 1.13517304e-03,\n",
       "       9.86024595e-04, 8.52728938e-04, 7.00834726e-04, 6.56336180e-04,\n",
       "       6.07109635e-04, 5.20968531e-04, 4.52807771e-04, 4.15863345e-04,\n",
       "       3.50779184e-04, 3.08708978e-04, 2.68004063e-04, 2.52763956e-04,\n",
       "       2.34290520e-04, 2.23018237e-04, 1.68504401e-04, 1.38120315e-04,\n",
       "       1.21147097e-04, 1.13659484e-04, 1.01623106e-04, 7.58639489e-05,\n",
       "       6.32751782e-05, 3.66834483e-05, 3.13155007e-05, 2.68595604e-05,\n",
       "       1.80529340e-05, 1.44258173e-05, 1.08130169e-05, 9.08788690e-06,\n",
       "       7.70306092e-06, 4.16938507e-06, 3.37541503e-06, 2.27686970e-06,\n",
       "       2.21331772e-06, 1.41792602e-06, 9.33641833e-07, 7.47576942e-07,\n",
       "       3.90098079e-07, 2.98488020e-07, 2.38630248e-07, 7.22062013e-08,\n",
       "       5.34345993e-08, 5.06323612e-08, 4.33005580e-08, 1.76323985e-08,\n",
       "       2.04466173e-33, 2.04466173e-33, 2.04466173e-33, 2.04466173e-33,\n",
       "       2.04466173e-33, 2.04466173e-33, 2.04466173e-33, 2.04466173e-33,\n",
       "       2.04466173e-33, 2.04466173e-33, 2.04466173e-33, 2.04466173e-33,\n",
       "       2.04466173e-33, 2.04466173e-33, 2.04466173e-33, 2.04466173e-33,\n",
       "       2.04466173e-33])"
      ]
     },
     "execution_count": 169,
     "metadata": {},
     "output_type": "execute_result"
    }
   ],
   "source": [
    "pca.explained_variance_ratio_"
   ]
  },
  {
   "cell_type": "code",
   "execution_count": 170,
   "metadata": {},
   "outputs": [
    {
     "data": {
      "image/png": "[encoded data removed]",
      "text/plain": [
       "<Figure size 1440x360 with 1 Axes>"
      ]
     },
     "metadata": {
      "needs_background": "light"
     },
     "output_type": "display_data"
    }
   ],
   "source": [
    "var_cumu = np.cumsum(pca.explained_variance_ratio_)\n",
    "fig = plt.figure(figsize=[20,5])\n",
    "plt.vlines(x=15, ymax=1, ymin=0, colors=\"r\", linestyles=\"--\")\n",
    "plt.hlines(y=0.95, xmax=30, xmin=0, colors=\"g\", linestyles=\"--\")\n",
    "plt.plot(var_cumu)\n",
    "plt.ylabel(\"Cumulative variance explained\")\n",
    "plt.show()"
   ]
  },
  {
   "cell_type": "code",
   "execution_count": 171,
   "metadata": {},
   "outputs": [],
   "source": [
    "from sklearn.decomposition import IncrementalPCA\n",
    "pca_final = IncrementalPCA(n_components=17)\n",
    "\n",
    "SFX_train_pca = pca_final.fit_transform(SFX_train_scaled)\n",
    "SFX_test_pca = pca_final.transform(SFX_test_scaled)\n"
   ]
  },
  {
   "cell_type": "code",
   "execution_count": 172,
   "metadata": {},
   "outputs": [
    {
     "name": "stdout",
     "output_type": "stream",
     "text": [
      "(2028, 17)\n",
      "(662, 17)\n"
     ]
    }
   ],
   "source": [
    "print(SFX_train_pca.shape)\n",
    "print(SFX_test_pca.shape)"
   ]
  },
  {
   "cell_type": "markdown",
   "metadata": {},
   "source": [
    "#### Checking the performance of SVM + PCA"
   ]
  },
  {
   "cell_type": "code",
   "execution_count": null,
   "metadata": {},
   "outputs": [],
   "source": [
    "svc.fit(SFX_train_pca,SFy_train)"
   ]
  },
  {
   "cell_type": "code",
   "execution_count": null,
   "metadata": {},
   "outputs": [],
   "source": [
    "evaluate_model(svc, SFy_train, SFX_train_pca, SFy_test, SFX_test_pca)"
   ]
  },
  {
   "cell_type": "code",
   "execution_count": null,
   "metadata": {},
   "outputs": [],
   "source": [
    "print(classification_report(SFy_test, svc.predict(SFX_test_pca)))"
   ]
  },
  {
   "cell_type": "code",
   "execution_count": null,
   "metadata": {},
   "outputs": [],
   "source": [
    "import sklearn.metrics as metrics\n",
    "# calculate the fpr and tpr for all thresholds of the classification\n",
    "probs = svc.predict_proba(SFX_test_pca)\n",
    "preds = probs[:,1]\n",
    "fpr, tpr, threshold = metrics.roc_curve(SFy_test, preds)\n",
    "roc_auc = metrics.auc(fpr, tpr)\n",
    "\n",
    "# method I: plt\n",
    "import matplotlib.pyplot as plt\n",
    "plt.title('Receiver Operating Characteristic')\n",
    "plt.plot(fpr, tpr, 'b', label = 'AUC = %0.2f' % roc_auc)\n",
    "plt.legend(loc = 'lower right')\n",
    "plt.plot([0, 1], [0, 1],'r--')\n",
    "plt.xlim([0, 1])\n",
    "plt.ylim([0, 1])\n",
    "plt.ylabel('True Positive Rate')\n",
    "plt.xlabel('False Positive Rate')\n",
    "plt.show()"
   ]
  },
  {
   "cell_type": "markdown",
   "metadata": {},
   "source": [
    "##### kNN + PCA"
   ]
  },
  {
   "cell_type": "code",
   "execution_count": 173,
   "metadata": {},
   "outputs": [
    {
     "data": {
      "text/plain": [
       "KNeighborsClassifier(n_neighbors=10)"
      ]
     },
     "execution_count": 173,
     "metadata": {},
     "output_type": "execute_result"
    }
   ],
   "source": [
    "knn.fit(SFX_train_pca,SFy_train)"
   ]
  },
  {
   "cell_type": "code",
   "execution_count": 174,
   "metadata": {},
   "outputs": [
    {
     "name": "stdout",
     "output_type": "stream",
     "text": [
      "Train Precision : 93.55797819623389\n",
      "Train Confusion Matrix:\n",
      "[[949  65]\n",
      " [ 70 944]]\n",
      "--------------------------------------------------\n",
      "Test Precision : 92.95774647887323\n",
      "Test Confusion Matrix:\n",
      "[[420  15]\n",
      " [ 29 198]]\n"
     ]
    }
   ],
   "source": [
    "evaluate_model(knn, SFy_train, SFX_train_pca, SFy_test, SFX_test_pca)"
   ]
  },
  {
   "cell_type": "code",
   "execution_count": 175,
   "metadata": {},
   "outputs": [
    {
     "data": {
      "image/png": "[encoded data removed]",
      "text/plain": [
       "<Figure size 432x288 with 1 Axes>"
      ]
     },
     "metadata": {
      "needs_background": "light"
     },
     "output_type": "display_data"
    }
   ],
   "source": [
    "import sklearn.metrics as metrics\n",
    "# calculate the fpr and tpr for all thresholds of the classification\n",
    "probs = knn.predict_proba(SFX_test_pca)\n",
    "preds = probs[:,1]\n",
    "fpr, tpr, threshold = metrics.roc_curve(SFy_test, preds)\n",
    "roc_auc = metrics.auc(fpr, tpr)\n",
    "\n",
    "# method I: plt\n",
    "import matplotlib.pyplot as plt\n",
    "plt.title('Receiver Operating Characteristic')\n",
    "plt.plot(fpr, tpr, 'b', label = 'AUC = %0.2f' % roc_auc)\n",
    "plt.legend(loc = 'lower right')\n",
    "plt.plot([0, 1], [0, 1],'r--')\n",
    "plt.xlim([0, 1])\n",
    "plt.ylim([0, 1])\n",
    "plt.ylabel('True Positive Rate')\n",
    "plt.xlabel('False Positive Rate')\n",
    "plt.show()"
   ]
  },
  {
   "cell_type": "markdown",
   "metadata": {},
   "source": [
    "### Noise "
   ]
  },
  {
   "cell_type": "code",
   "execution_count": 176,
   "metadata": {},
   "outputs": [
    {
     "data": {
      "text/plain": [
       "(662, 17)"
      ]
     },
     "execution_count": 176,
     "metadata": {},
     "output_type": "execute_result"
    }
   ],
   "source": [
    "import numpy as np \n",
    "mu, sigma = 0, np.std(SFX_test_pca)*0.20\n",
    "noise = np.random.normal(mu, sigma, SFX_test_pca.shape)\n",
    "noise.shape"
   ]
  },
  {
   "cell_type": "code",
   "execution_count": 177,
   "metadata": {},
   "outputs": [],
   "source": [
    "X_testnoise = SFX_test_pca + noise"
   ]
  },
  {
   "cell_type": "code",
   "execution_count": 178,
   "metadata": {},
   "outputs": [
    {
     "name": "stdout",
     "output_type": "stream",
     "text": [
      "Train Precision : 93.55797819623389\n",
      "Train Confusion Matrix:\n",
      "[[949  65]\n",
      " [ 70 944]]\n",
      "--------------------------------------------------\n",
      "Test Precision : 88.18181818181819\n",
      "Test Confusion Matrix:\n",
      "[[409  26]\n",
      " [ 33 194]]\n"
     ]
    }
   ],
   "source": [
    "evaluate_model(knn, SFy_train, SFX_train_pca, SFy_test, X_testnoise)"
   ]
  },
  {
   "cell_type": "code",
   "execution_count": null,
   "metadata": {},
   "outputs": [],
   "source": []
  },
  {
   "cell_type": "code",
   "execution_count": null,
   "metadata": {},
   "outputs": [],
   "source": []
  },
  {
   "cell_type": "code",
   "execution_count": null,
   "metadata": {},
   "outputs": [],
   "source": []
  },
  {
   "cell_type": "code",
   "execution_count": null,
   "metadata": {},
   "outputs": [],
   "source": []
  },
  {
   "cell_type": "code",
   "execution_count": null,
   "metadata": {},
   "outputs": [],
   "source": [
    "import numpy as np \n",
    "mu, sigma = 0, np.std(SFX_test_scaled)*0.20\n",
    "noise = np.random.normal(mu, sigma, SFX_test_scaled.shape)\n",
    "noise.shape"
   ]
  },
  {
   "cell_type": "code",
   "execution_count": null,
   "metadata": {},
   "outputs": [],
   "source": [
    "X_test_scalednoise = SFX_test_scaled + noise"
   ]
  },
  {
   "cell_type": "code",
   "execution_count": null,
   "metadata": {},
   "outputs": [],
   "source": [
    "print(classification_report(SFy_test, svc.predict(X_testnoise)))"
   ]
  },
  {
   "cell_type": "code",
   "execution_count": null,
   "metadata": {},
   "outputs": [],
   "source": [
    "import sklearn.metrics as metrics\n",
    "# calculate the fpr and tpr for all thresholds of the classification\n",
    "probs = svc.predict_proba(X_testnoise)\n",
    "preds = probs[:,1]\n",
    "fpr, tpr, threshold = metrics.roc_curve(SFy_test, preds)\n",
    "roc_auc = metrics.auc(fpr, tpr)\n",
    "\n",
    "# method I: plt\n",
    "import matplotlib.pyplot as plt\n",
    "plt.title('Receiver Operating Characteristic')\n",
    "plt.plot(fpr, tpr, 'b', label = 'AUC = %0.2f' % roc_auc)\n",
    "plt.legend(loc = 'lower right')\n",
    "plt.plot([0, 1], [0, 1],'r--')\n",
    "plt.xlim([0, 1])\n",
    "plt.ylim([0, 1])\n",
    "plt.ylabel('True Positive Rate')\n",
    "plt.xlabel('False Positive Rate')\n",
    "plt.show()"
   ]
  },
  {
   "cell_type": "code",
   "execution_count": null,
   "metadata": {},
   "outputs": [],
   "source": []
  },
  {
   "cell_type": "code",
   "execution_count": null,
   "metadata": {},
   "outputs": [],
   "source": []
  }
 ],
 "metadata": {
  "kernelspec": {
   "display_name": "Python 3",
   "language": "python",
   "name": "python3"
  },
  "language_info": {
   "codemirror_mode": {
    "name": "ipython",
    "version": 3
   },
   "file_extension": ".py",
   "mimetype": "text/x-python",
   "name": "python",
   "nbconvert_exporter": "python",
   "pygments_lexer": "ipython3",
   "version": "3.7.6"
  }
 },
 "nbformat": 4,
 "nbformat_minor": 4
}
