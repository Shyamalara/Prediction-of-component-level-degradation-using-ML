{
 "cells": [
  {
   "cell_type": "markdown",
   "metadata": {},
   "source": [
    "### Importing the data"
   ]
  },
  {
   "cell_type": "markdown",
   "metadata": {},
   "source": [
    "1. [Extracting Median and EDA](#Extracting_Median_and_EDA)\n"
   ]
  },
  {
   "cell_type": "code",
   "execution_count": 1,
   "metadata": {},
   "outputs": [],
   "source": [
    "import numpy as np \n",
    "import pandas as pd \n",
    "import seaborn as sns \n",
    "import matplotlib.pyplot as plt"
   ]
  },
  {
   "cell_type": "code",
   "execution_count": null,
   "metadata": {},
   "outputs": [],
   "source": [
    "df = pd.read_csv('df.csv')\n",
    "profile = pd.read_csv('profile.txt', delimiter = '\\t', header = None)\n",
    "profile.columns = [\"Cooler Condition\",\"Valve Condition\",\"Internal Pump Leakage\",\"Hydraulic Accumulator\",\"Stable Flag\"]"
   ]
  },
  {
   "cell_type": "code",
   "execution_count": null,
   "metadata": {},
   "outputs": [],
   "source": [
    "df = pd.concat([df, profile['Stable Flag']], axis = 1)"
   ]
  },
  {
   "cell_type": "code",
   "execution_count": null,
   "metadata": {},
   "outputs": [],
   "source": [
    "df_stable = df[df['Stable Flag'] == 0]\n",
    "df_notstable = df[df['Stable Flag'] == 1]"
   ]
  },
  {
   "cell_type": "code",
   "execution_count": null,
   "metadata": {},
   "outputs": [],
   "source": [
    "df_stable.groupby('')"
   ]
  },
  {
   "cell_type": "code",
   "execution_count": null,
   "metadata": {},
   "outputs": [],
   "source": []
  },
  {
   "cell_type": "code",
   "execution_count": null,
   "metadata": {},
   "outputs": [],
   "source": []
  },
  {
   "cell_type": "code",
   "execution_count": 2,
   "metadata": {},
   "outputs": [
    {
     "data": {
      "text/html": [
       "<div>\n",
       "<style scoped>\n",
       "    .dataframe tbody tr th:only-of-type {\n",
       "        vertical-align: middle;\n",
       "    }\n",
       "\n",
       "    .dataframe tbody tr th {\n",
       "        vertical-align: top;\n",
       "    }\n",
       "\n",
       "    .dataframe thead th {\n",
       "        text-align: right;\n",
       "    }\n",
       "</style>\n",
       "<table border=\"1\" class=\"dataframe\">\n",
       "  <thead>\n",
       "    <tr style=\"text-align: right;\">\n",
       "      <th></th>\n",
       "      <th>0</th>\n",
       "      <th>1</th>\n",
       "      <th>2</th>\n",
       "      <th>3</th>\n",
       "      <th>4</th>\n",
       "      <th>5</th>\n",
       "      <th>6</th>\n",
       "      <th>7</th>\n",
       "      <th>8</th>\n",
       "      <th>9</th>\n",
       "      <th>...</th>\n",
       "      <th>5990</th>\n",
       "      <th>5991</th>\n",
       "      <th>5992</th>\n",
       "      <th>5993</th>\n",
       "      <th>5994</th>\n",
       "      <th>5995</th>\n",
       "      <th>5996</th>\n",
       "      <th>5997</th>\n",
       "      <th>5998</th>\n",
       "      <th>5999</th>\n",
       "    </tr>\n",
       "  </thead>\n",
       "  <tbody>\n",
       "    <tr>\n",
       "      <th>0</th>\n",
       "      <td>151.47</td>\n",
       "      <td>151.45</td>\n",
       "      <td>151.52</td>\n",
       "      <td>151.27</td>\n",
       "      <td>150.80</td>\n",
       "      <td>150.69</td>\n",
       "      <td>153.89</td>\n",
       "      <td>154.67</td>\n",
       "      <td>152.88</td>\n",
       "      <td>153.82</td>\n",
       "      <td>...</td>\n",
       "      <td>151.16</td>\n",
       "      <td>151.19</td>\n",
       "      <td>151.25</td>\n",
       "      <td>151.16</td>\n",
       "      <td>151.10</td>\n",
       "      <td>151.16</td>\n",
       "      <td>151.14</td>\n",
       "      <td>151.10</td>\n",
       "      <td>151.21</td>\n",
       "      <td>151.19</td>\n",
       "    </tr>\n",
       "    <tr>\n",
       "      <th>1</th>\n",
       "      <td>151.11</td>\n",
       "      <td>151.12</td>\n",
       "      <td>151.16</td>\n",
       "      <td>150.92</td>\n",
       "      <td>150.70</td>\n",
       "      <td>150.62</td>\n",
       "      <td>152.40</td>\n",
       "      <td>153.21</td>\n",
       "      <td>152.81</td>\n",
       "      <td>153.53</td>\n",
       "      <td>...</td>\n",
       "      <td>150.82</td>\n",
       "      <td>150.82</td>\n",
       "      <td>150.86</td>\n",
       "      <td>150.80</td>\n",
       "      <td>150.73</td>\n",
       "      <td>150.79</td>\n",
       "      <td>150.84</td>\n",
       "      <td>150.79</td>\n",
       "      <td>150.80</td>\n",
       "      <td>150.86</td>\n",
       "    </tr>\n",
       "    <tr>\n",
       "      <th>2</th>\n",
       "      <td>150.81</td>\n",
       "      <td>150.79</td>\n",
       "      <td>150.84</td>\n",
       "      <td>150.65</td>\n",
       "      <td>150.35</td>\n",
       "      <td>150.23</td>\n",
       "      <td>152.03</td>\n",
       "      <td>152.81</td>\n",
       "      <td>152.44</td>\n",
       "      <td>153.27</td>\n",
       "      <td>...</td>\n",
       "      <td>150.49</td>\n",
       "      <td>150.44</td>\n",
       "      <td>150.47</td>\n",
       "      <td>150.46</td>\n",
       "      <td>150.38</td>\n",
       "      <td>150.47</td>\n",
       "      <td>150.50</td>\n",
       "      <td>150.43</td>\n",
       "      <td>150.54</td>\n",
       "      <td>150.62</td>\n",
       "    </tr>\n",
       "    <tr>\n",
       "      <th>3</th>\n",
       "      <td>150.48</td>\n",
       "      <td>150.47</td>\n",
       "      <td>150.52</td>\n",
       "      <td>150.31</td>\n",
       "      <td>150.04</td>\n",
       "      <td>149.98</td>\n",
       "      <td>151.63</td>\n",
       "      <td>152.48</td>\n",
       "      <td>152.24</td>\n",
       "      <td>152.94</td>\n",
       "      <td>...</td>\n",
       "      <td>150.34</td>\n",
       "      <td>150.30</td>\n",
       "      <td>150.28</td>\n",
       "      <td>150.38</td>\n",
       "      <td>150.41</td>\n",
       "      <td>150.33</td>\n",
       "      <td>150.31</td>\n",
       "      <td>150.31</td>\n",
       "      <td>150.25</td>\n",
       "      <td>150.28</td>\n",
       "    </tr>\n",
       "    <tr>\n",
       "      <th>4</th>\n",
       "      <td>150.41</td>\n",
       "      <td>150.35</td>\n",
       "      <td>150.24</td>\n",
       "      <td>150.12</td>\n",
       "      <td>149.87</td>\n",
       "      <td>149.71</td>\n",
       "      <td>151.64</td>\n",
       "      <td>152.37</td>\n",
       "      <td>151.78</td>\n",
       "      <td>152.68</td>\n",
       "      <td>...</td>\n",
       "      <td>150.31</td>\n",
       "      <td>150.20</td>\n",
       "      <td>150.17</td>\n",
       "      <td>150.28</td>\n",
       "      <td>150.31</td>\n",
       "      <td>150.25</td>\n",
       "      <td>150.27</td>\n",
       "      <td>150.22</td>\n",
       "      <td>150.13</td>\n",
       "      <td>150.19</td>\n",
       "    </tr>\n",
       "  </tbody>\n",
       "</table>\n",
       "<p>5 rows × 6000 columns</p>\n",
       "</div>"
      ],
      "text/plain": [
       "     0       1       2       3       4       5       6       7       8     \\\n",
       "0  151.47  151.45  151.52  151.27  150.80  150.69  153.89  154.67  152.88   \n",
       "1  151.11  151.12  151.16  150.92  150.70  150.62  152.40  153.21  152.81   \n",
       "2  150.81  150.79  150.84  150.65  150.35  150.23  152.03  152.81  152.44   \n",
       "3  150.48  150.47  150.52  150.31  150.04  149.98  151.63  152.48  152.24   \n",
       "4  150.41  150.35  150.24  150.12  149.87  149.71  151.64  152.37  151.78   \n",
       "\n",
       "     9     ...    5990    5991    5992    5993    5994    5995    5996  \\\n",
       "0  153.82  ...  151.16  151.19  151.25  151.16  151.10  151.16  151.14   \n",
       "1  153.53  ...  150.82  150.82  150.86  150.80  150.73  150.79  150.84   \n",
       "2  153.27  ...  150.49  150.44  150.47  150.46  150.38  150.47  150.50   \n",
       "3  152.94  ...  150.34  150.30  150.28  150.38  150.41  150.33  150.31   \n",
       "4  152.68  ...  150.31  150.20  150.17  150.28  150.31  150.25  150.27   \n",
       "\n",
       "     5997    5998    5999  \n",
       "0  151.10  151.21  151.19  \n",
       "1  150.79  150.80  150.86  \n",
       "2  150.43  150.54  150.62  \n",
       "3  150.31  150.25  150.28  \n",
       "4  150.22  150.13  150.19  \n",
       "\n",
       "[5 rows x 6000 columns]"
      ]
     },
     "execution_count": 2,
     "metadata": {},
     "output_type": "execute_result"
    }
   ],
   "source": [
    "## importing the data\n",
    "## pressure sensors are imported as PS. There are around 6 pressure sensors. They are named as ps1, ps2, ps3, ps4, ps5, ps6. \n",
    "\n",
    "df_ps1 = pd.read_csv('PS1.txt', delimiter = '\\t', header = None)\n",
    "df_ps2 = pd.read_csv('PS2.txt', delimiter = '\\t', header = None)\n",
    "df_ps3 = pd.read_csv('PS3.txt', delimiter = '\\t', header = None)\n",
    "df_ps4 = pd.read_csv('PS4.txt', delimiter = '\\t', header = None)\n",
    "df_ps5 = pd.read_csv('PS5.txt', delimiter = '\\t', header = None)\n",
    "df_ps6 = pd.read_csv('PS6.txt', delimiter = '\\t', header = None)\n",
    "df_ps1.head()"
   ]
  },
  {
   "cell_type": "code",
   "execution_count": null,
   "metadata": {},
   "outputs": [],
   "source": []
  },
  {
   "cell_type": "code",
   "execution_count": 3,
   "metadata": {},
   "outputs": [],
   "source": [
    "## cooling efficiency and cooling power are imported as ce and cp respectively. \n",
    "\n",
    "df_ce = pd.read_csv('CE.txt',delimiter = '\\t', header = None)\n",
    "df_cp = pd.read_csv('CP.txt', delimiter = '\\t', header = None)\n"
   ]
  },
  {
   "cell_type": "code",
   "execution_count": 4,
   "metadata": {},
   "outputs": [],
   "source": [
    "# temperature sensors are imported as ts. There are around 4 pressure sensors. They are named as ts1, ts2, ts3, ts4.\n",
    "\n",
    "df_ts1 = pd.read_csv('TS1.txt', delimiter = '\\t', header = None)\n",
    "df_ts2 = pd.read_csv('TS2.txt', delimiter = '\\t', header = None)\n",
    "df_ts3 = pd.read_csv('TS3.txt', delimiter = '\\t', header = None)\n",
    "df_ts4 = pd.read_csv('TS4.txt', delimiter = '\\t', header = None)\n"
   ]
  },
  {
   "cell_type": "code",
   "execution_count": 5,
   "metadata": {},
   "outputs": [],
   "source": [
    "# flow sensors are imported as fs. There are around 2 pressure sensors. They are named as fs1, fs2.\n",
    "\n",
    "df_fs1 = pd.read_csv('FS1.txt', delimiter = '\\t', header = None)\n",
    "df_fs2 = pd.read_csv('FS2.txt', delimiter = '\\t', header = None)\n"
   ]
  },
  {
   "cell_type": "code",
   "execution_count": 6,
   "metadata": {},
   "outputs": [],
   "source": [
    "# motor power sensors is imported as eps. \n",
    "# vibration sensors is imported as vs\n",
    "# efficiency power is imported as se\n",
    "\n",
    "df_eps1 = pd.read_csv('EPS1.txt', delimiter = '\\t', header = None)\n",
    "df_se = pd.read_csv('SE.txt', delimiter = '\\t', header = None)\n",
    "df_vs1 = pd.read_csv('VS1.txt', delimiter = '\\t', header = None)\n",
    "\n"
   ]
  },
  {
   "cell_type": "code",
   "execution_count": 7,
   "metadata": {},
   "outputs": [],
   "source": [
    "## function for defining variables like ps1_1, ps1_2 for 17 sensors with different sampling rates\n",
    "\n",
    "def col(n, var):\n",
    "    l = []\n",
    "    for i in range(1,n):\n",
    "        temp = str(var) + '_' + '%d' %i\n",
    "        l.append(temp)\n",
    "    return l\n"
   ]
  },
  {
   "cell_type": "code",
   "execution_count": 8,
   "metadata": {},
   "outputs": [],
   "source": [
    "# \n",
    "df_ps1.columns = col(6001,'ps1')\n",
    "df_ps2.columns = col(6001,'ps2')\n",
    "df_ps3.columns = col(6001,'ps3')\n",
    "df_ps4.columns = col(6001,'ps4')\n",
    "df_ps5.columns = col(6001,'ps5')\n",
    "df_ps6.columns = col(6001,'ps6')\n",
    "\n",
    "\n"
   ]
  },
  {
   "cell_type": "code",
   "execution_count": 9,
   "metadata": {},
   "outputs": [],
   "source": [
    "df_ts1.columns = col(61,'ts1')\n",
    "df_ts2.columns = col(61,'ts2')\n",
    "df_ts3.columns = col(61,'ts3')\n",
    "df_ts4.columns = col(61,'ts4')\n"
   ]
  },
  {
   "cell_type": "code",
   "execution_count": 10,
   "metadata": {},
   "outputs": [],
   "source": [
    "df_eps1.columns = col(6001,'eps1')"
   ]
  },
  {
   "cell_type": "code",
   "execution_count": 11,
   "metadata": {},
   "outputs": [],
   "source": [
    "df_fs1.columns = col(601,'fs1')\n",
    "df_fs2.columns = col(601,'fs2')"
   ]
  },
  {
   "cell_type": "code",
   "execution_count": 12,
   "metadata": {},
   "outputs": [],
   "source": [
    "df_vs1.columns = col(61,'vs1')"
   ]
  },
  {
   "cell_type": "code",
   "execution_count": 13,
   "metadata": {},
   "outputs": [],
   "source": [
    "df_ce.columns = col(61,'ce')"
   ]
  },
  {
   "cell_type": "code",
   "execution_count": 14,
   "metadata": {},
   "outputs": [],
   "source": [
    "df_cp.columns = col(61,'cp')"
   ]
  },
  {
   "cell_type": "code",
   "execution_count": 15,
   "metadata": {},
   "outputs": [],
   "source": [
    "df_se.columns = col(61,'se')"
   ]
  },
  {
   "cell_type": "code",
   "execution_count": 16,
   "metadata": {},
   "outputs": [],
   "source": [
    "profile = pd.read_csv('profile.txt', delimiter = '\\t', header = None)\n",
    "profile.columns = [\"Cooler Condition\",\"Valve Condition\",\"Internal Pump Leakage\",\"Hydraulic Accumulator\",\"Stable Flag\"]"
   ]
  },
  {
   "cell_type": "code",
   "execution_count": null,
   "metadata": {},
   "outputs": [],
   "source": [
    "dfep_t = pd.concat([df_eps1,profile['Stable Flag']], axis = 1)"
   ]
  },
  {
   "cell_type": "code",
   "execution_count": null,
   "metadata": {},
   "outputs": [],
   "source": [
    "dfep_t1 = dfep_t[dfep_t['Stable Flag'] == 1]\n",
    "dfep_t0 = dfep_t[dfep_t['Stable Flag'] == 0]"
   ]
  },
  {
   "cell_type": "code",
   "execution_count": null,
   "metadata": {},
   "outputs": [],
   "source": [
    "dfep_t0.iloc[0:1].drop(['Stable Flag'], axis =1 ).T.plot(figsize = (20,5))"
   ]
  },
  {
   "cell_type": "code",
   "execution_count": null,
   "metadata": {},
   "outputs": [],
   "source": []
  },
  {
   "cell_type": "code",
   "execution_count": null,
   "metadata": {},
   "outputs": [],
   "source": []
  },
  {
   "cell_type": "code",
   "execution_count": null,
   "metadata": {},
   "outputs": [],
   "source": []
  },
  {
   "cell_type": "code",
   "execution_count": null,
   "metadata": {},
   "outputs": [],
   "source": []
  },
  {
   "cell_type": "code",
   "execution_count": null,
   "metadata": {},
   "outputs": [],
   "source": [
    "df_ps = pd.concat([df_ps1, df_ps2, df_ps3, df_ps4, df_ps5, df_ps6], axis = 1)\n",
    "df_ts = pd.concat([df_ts1, df_ts2, df_ts3, df_ts4], axis = 1)\n",
    "df_fs = pd.concat([df_fs1, df_fs2], axis = 1)\n",
    "df_vir = pd.concat([df_cp, df_ce, df_eps1, df_se, df_vs1], axis = 1)\n"
   ]
  },
  {
   "cell_type": "code",
   "execution_count": null,
   "metadata": {},
   "outputs": [],
   "source": [
    "df = pd.concat([df_ps1, df_ts, df_fs, df_vir], axis = 1)\n",
    "df.to_csv('df.csv')"
   ]
  },
  {
   "cell_type": "markdown",
   "metadata": {},
   "source": [
    "## Plotting the sensor values for first cycle "
   ]
  },
  {
   "cell_type": "code",
   "execution_count": null,
   "metadata": {},
   "outputs": [],
   "source": [
    "def plot(df,text):\n",
    "    first = df[0:1]\n",
    "    ts = pd.melt(first)\n",
    "    ax = ts.plot(figsize = (20,0.5), title = text)\n",
    "    return ax  "
   ]
  },
  {
   "cell_type": "code",
   "execution_count": null,
   "metadata": {},
   "outputs": [],
   "source": [
    "plot(df_ts1, 'Temperature sensor 1') ## plotting the first row of ts1 sensor\n",
    "#plt.savefig('ts1.png')"
   ]
  },
  {
   "cell_type": "code",
   "execution_count": null,
   "metadata": {},
   "outputs": [],
   "source": [
    "plot(df_ts2,'Temperature sensor 2') ## plotting the first row of ts2 sensor\n",
    "#plt.savefig('ts2.png')"
   ]
  },
  {
   "cell_type": "code",
   "execution_count": null,
   "metadata": {},
   "outputs": [],
   "source": [
    "plot(df_ts3, 'Temperature sensor 3') ## plotting the first row of ts3 sensor\n",
    "#plt.savefig('ts3.png')"
   ]
  },
  {
   "cell_type": "code",
   "execution_count": null,
   "metadata": {},
   "outputs": [],
   "source": [
    "plot(df_ts4, 'Temperature sensor 4') ## plotting the first row of ts4 sensor\n",
    "#plt.savefig('ts4.png')"
   ]
  },
  {
   "cell_type": "code",
   "execution_count": null,
   "metadata": {},
   "outputs": [],
   "source": [
    "plot(df_ps1, 'Pressure sensor 1') ## plotting the first row of ps1 sensor\n",
    "#plt.savefig('ps1.png')"
   ]
  },
  {
   "cell_type": "code",
   "execution_count": null,
   "metadata": {},
   "outputs": [],
   "source": [
    "plot(df_ps2, 'Pressure sensor 2') ## plotting the first row of ps2 sensor\n",
    "#plt.savefig('ps2.png')"
   ]
  },
  {
   "cell_type": "code",
   "execution_count": null,
   "metadata": {},
   "outputs": [],
   "source": [
    "plot(df_ps3, 'Pressure sensor 3') ## plotting the first row of ps3 sensor\n",
    "#plt.savefig('ps3.png')"
   ]
  },
  {
   "cell_type": "code",
   "execution_count": null,
   "metadata": {},
   "outputs": [],
   "source": [
    "plot(df_ps4,'Pressure sensor 4') ## plotting the first row of ps4 sensor\n",
    "#plt.savefig('ps4.png')"
   ]
  },
  {
   "cell_type": "code",
   "execution_count": null,
   "metadata": {},
   "outputs": [],
   "source": [
    "plot(df_ps5, 'Pressure sensor 5') ## plotting the first row of ps5 sensor\n",
    "#plt.savefig('ps5.png')"
   ]
  },
  {
   "cell_type": "code",
   "execution_count": null,
   "metadata": {},
   "outputs": [],
   "source": [
    "plot(df_ps6, 'Pressure sensor 6') ## plotting the first row of ps6 sensor\n",
    "#plt.savefig('ps6.png')"
   ]
  },
  {
   "cell_type": "code",
   "execution_count": null,
   "metadata": {},
   "outputs": [],
   "source": [
    "plot(df_fs1, 'Flow sensor 1') ## plotting the first row of fs1 sensor\n",
    "#plt.savefig('fs1.png')"
   ]
  },
  {
   "cell_type": "code",
   "execution_count": null,
   "metadata": {},
   "outputs": [],
   "source": [
    "plot(df_fs2, 'Flow sensor 2') ## plotting the first row of fs2 sensor\n",
    "#plt.savefig('fs2.png')"
   ]
  },
  {
   "cell_type": "code",
   "execution_count": null,
   "metadata": {},
   "outputs": [],
   "source": [
    "plot(df_cp, 'Çooling Power') ## plotting the first row of cp sensor\n",
    "#plt.savefig('cp.png')"
   ]
  },
  {
   "cell_type": "code",
   "execution_count": null,
   "metadata": {},
   "outputs": [],
   "source": [
    "plot(df_ce, 'Cooling efficiency') ## plotting the first row of ce sensor\n",
    "#plt.savefig('ce.png')"
   ]
  },
  {
   "cell_type": "code",
   "execution_count": null,
   "metadata": {},
   "outputs": [],
   "source": [
    "plot(df_se, 'Efficiency Power') ## plotting the first row of se sensor\n",
    "#plt.savefig('se.png')"
   ]
  },
  {
   "cell_type": "code",
   "execution_count": null,
   "metadata": {},
   "outputs": [],
   "source": [
    "plot(df_vs1, 'Vibration sensor') ## plotting the first row of vs1 sensor\n",
    "#plt.savefig('vs1.png')"
   ]
  },
  {
   "cell_type": "code",
   "execution_count": null,
   "metadata": {},
   "outputs": [],
   "source": [
    "plot(df_eps1, 'Motor Power Sensor') ## plotting the first row of eps1 sensor\n",
    "#plt.savefig('eps1.png')"
   ]
  },
  {
   "cell_type": "markdown",
   "metadata": {},
   "source": [
    "# PLOT SUCCESS AND FAILURE PROFILES"
   ]
  },
  {
   "cell_type": "code",
   "execution_count": null,
   "metadata": {},
   "outputs": [],
   "source": [
    "profile = pd.read_csv('profile.txt', delimiter = '\\t', header = None)\n",
    "profile.columns = [\"Cooler Condition\",\"Valve Condition\",\"Internal Pump Leakage\",\"Hydraulic Accumulator\",\"Stable Flag\"]"
   ]
  },
  {
   "cell_type": "code",
   "execution_count": null,
   "metadata": {},
   "outputs": [],
   "source": [
    "profile.corr()"
   ]
  },
  {
   "cell_type": "code",
   "execution_count": null,
   "metadata": {},
   "outputs": [],
   "source": [
    "import seaborn as sns\n",
    "sns.heatmap(profile.corr(), annot = True, color = 'b')"
   ]
  },
  {
   "cell_type": "code",
   "execution_count": null,
   "metadata": {},
   "outputs": [],
   "source": [
    "corr = np.corrcoef(np.random.randn(10, 200))\n",
    "mask = np.zeros_like(profile.corr())\n",
    "mask[np.triu_indices_from(mask)] = True\n",
    "with sns.axes_style(\"white\"):\n",
    "    f, ax = plt.subplots(figsize=(7, 5))\n",
    "    ax = sns.heatmap(profile.corr(), mask=mask, vmax=.3, square=True, cmap = 'YlGnBu', annot = True)\n",
    "    \n",
    "plt.savefig('faultcorr.png')"
   ]
  },
  {
   "cell_type": "code",
   "execution_count": null,
   "metadata": {},
   "outputs": [],
   "source": [
    "\n",
    "(100*profile['Valve Condition'].value_counts(normalize = True)).plot.bar()\n",
    "plt.savefig('Valve.png')"
   ]
  },
  {
   "cell_type": "markdown",
   "metadata": {},
   "source": [
    "**None of fault conditions are correlated to each other. It can be safely concluded that one fault condition doesnt lead to another.** "
   ]
  },
  {
   "cell_type": "markdown",
   "metadata": {},
   "source": [
    "### Check for missing values"
   ]
  },
  {
   "cell_type": "markdown",
   "metadata": {},
   "source": [
    "# Statistical features"
   ]
  },
  {
   "cell_type": "markdown",
   "metadata": {},
   "source": [
    "### Extract median"
   ]
  },
  {
   "cell_type": "code",
   "execution_count": 17,
   "metadata": {},
   "outputs": [],
   "source": [
    "def median_conversion(df):\n",
    "    df1 = pd.DataFrame()\n",
    "    df1 = df.median(axis=1) ## AVERAGE ALONG THE ROW\n",
    "    return df1"
   ]
  },
  {
   "cell_type": "code",
   "execution_count": 18,
   "metadata": {},
   "outputs": [],
   "source": [
    "PS1_median = pd.DataFrame(median_conversion(df_ps1))\n",
    "PS1_median.columns = ['PS1_median']\n",
    "\n",
    "PS2_median = pd.DataFrame(median_conversion(df_ps2))\n",
    "PS2_median.columns = ['PS2_median']\n",
    "\n",
    "PS3_median = pd.DataFrame(median_conversion(df_ps3))\n",
    "PS3_median.columns = ['PS3_median']\n",
    "\n",
    "PS4_median = pd.DataFrame(median_conversion(df_ps4))\n",
    "PS4_median.columns = ['PS4_median']\n",
    "\n",
    "PS5_median = pd.DataFrame(median_conversion(df_ps5))\n",
    "PS5_median.columns = ['PS5_median']\n",
    "\n",
    "PS6_median = pd.DataFrame(median_conversion(df_ps6))\n",
    "PS6_median.columns = ['PS6_median']\n",
    "\n",
    "TS1_median = pd.DataFrame(median_conversion(df_ts1))\n",
    "TS1_median.columns = ['TS1_median']\n",
    "\n",
    "TS2_median = pd.DataFrame(median_conversion(df_ts2))\n",
    "TS2_median.columns = ['TS2_median']\n",
    "\n",
    "TS3_median = pd.DataFrame(median_conversion(df_ts3))\n",
    "TS3_median.columns = ['TS3_median']\n",
    "\n",
    "TS4_median = pd.DataFrame(median_conversion(df_ts4))\n",
    "TS4_median.columns = ['TS4_median']\n",
    "\n",
    "FS1_median = pd.DataFrame(median_conversion(df_fs1))\n",
    "FS1_median.columns = ['FS1_median']\n",
    "\n",
    "FS2_median = pd.DataFrame(median_conversion(df_fs2))\n",
    "FS2_median.columns = ['FS2_median']\n",
    "\n",
    "P1_median = pd.DataFrame(median_conversion(df_eps1))\n",
    "P1_median.columns = ['P1_median']\n",
    "\n",
    "VS1_median = pd.DataFrame(median_conversion(df_vs1))\n",
    "VS1_median.columns = ['VS1_median']\n",
    "\n",
    "CE1_median = pd.DataFrame(median_conversion(df_ce))\n",
    "CE1_median.columns = ['CE1_median']\n",
    "\n",
    "CP1_median = pd.DataFrame(median_conversion(df_cp))\n",
    "CP1_median.columns = ['CP1_median']\n",
    "\n",
    "SE1_median = pd.DataFrame(median_conversion(df_se))\n",
    "SE1_median.columns = ['SE1_median']"
   ]
  },
  {
   "cell_type": "code",
   "execution_count": 19,
   "metadata": {},
   "outputs": [],
   "source": [
    "Median = pd.concat([PS1_median,PS2_median,PS3_median,PS4_median,PS5_median,PS6_median,\n",
    "                    TS1_median,TS2_median,TS3_median,TS4_median,FS1_median,FS2_median,\n",
    "                    P1_median,VS1_median,CE1_median,CP1_median,SE1_median],axis = 1)"
   ]
  },
  {
   "cell_type": "code",
   "execution_count": 26,
   "metadata": {},
   "outputs": [
    {
     "name": "stderr",
     "output_type": "stream",
     "text": [
      "C:\\Users\\Admin\\anaconda3\\lib\\site-packages\\ipykernel_launcher.py:6: DeprecationWarning: `np.bool` is a deprecated alias for the builtin `bool`. To silence this warning, use `bool` by itself. Doing this will not modify any behavior and is safe. If you specifically wanted the numpy scalar type, use `np.bool_` here.\n",
      "Deprecated in NumPy 1.20; for more details and guidance: https://numpy.org/devdocs/release/1.20.0-notes.html#deprecations\n",
      "  \n"
     ]
    },
    {
     "data": {
      "text/plain": [
       "<matplotlib.axes._subplots.AxesSubplot at 0x1d2024960c8>"
      ]
     },
     "execution_count": 26,
     "metadata": {},
     "output_type": "execute_result"
    },
    {
     "data": {
      "image/png": "[encoded data removed]",
      "text/plain": [
       "<Figure size 792x648 with 2 Axes>"
      ]
     },
     "metadata": {
      "needs_background": "light"
     },
     "output_type": "display_data"
    }
   ],
   "source": [
    "corr_matrix = Median.corr()\n",
    "\n",
    "#plot heat map for correlation matrix (from https://seaborn.pydata.org/examples/many_pairwise_correlations.html)\n",
    "\n",
    "# Generate a mask for the upper triangle\n",
    "mask = np.zeros_like(corr_matrix, dtype=np.bool)\n",
    "mask[np.triu_indices_from(mask)] = True\n",
    "\n",
    "# Set up the matplotlib figure\n",
    "f, ax = plt.subplots(figsize=(11, 9))\n",
    "\n",
    "# Generate a custom diverging colormap\n",
    "cmap = sns.diverging_palette(220, 10, as_cmap=True)\n",
    "\n",
    "# Draw the heatmap with the mask and correct aspect ratio\n",
    "sns.heatmap(corr_matrix, annot = True, mask=mask, cmap=cmap, vmax=.3, center=0,\n",
    "            square=True, linewidths=.5, cbar_kws={\"shrink\": .5})"
   ]
  },
  {
   "cell_type": "code",
   "execution_count": null,
   "metadata": {},
   "outputs": [],
   "source": [
    "Final = pd.concat([Median, profile], axis = 1)"
   ]
  },
  {
   "cell_type": "code",
   "execution_count": null,
   "metadata": {},
   "outputs": [],
   "source": []
  },
  {
   "cell_type": "code",
   "execution_count": null,
   "metadata": {},
   "outputs": [],
   "source": [
    "Final_cooler = pd.concat([Median, profile['Cooler Condition']], axis = 1)"
   ]
  },
  {
   "cell_type": "code",
   "execution_count": null,
   "metadata": {},
   "outputs": [],
   "source": [
    "corr = np.corrcoef(np.random.randn(10, 200))\n",
    "mask = np.zeros_like(Final_cooler.corr())\n",
    "mask[np.triu_indices_from(mask)] = True\n",
    "with sns.axes_style(\"white\"):\n",
    "    f, ax = plt.subplots(figsize=(20, 20))\n",
    "    ax = sns.heatmap(Final_cooler.corr(), mask=mask, vmax=.3, square=True, cmap = 'YlGnBu', annot = True)\n",
    "    \n",
    "plt.savefig('coolercorr.png')"
   ]
  },
  {
   "cell_type": "code",
   "execution_count": null,
   "metadata": {},
   "outputs": [],
   "source": [
    "Final_valve = pd.concat([Median, profile['Valve Condition']], axis = 1)\n",
    "\n",
    "corr = np.corrcoef(np.random.randn(10, 200))\n",
    "mask = np.zeros_like(Final_valve.corr())\n",
    "mask[np.triu_indices_from(mask)] = True\n",
    "with sns.axes_style(\"white\"):\n",
    "    f, ax = plt.subplots(figsize=(20, 20))\n",
    "    ax = sns.heatmap(Final_valve.corr(), mask=mask, vmax=.3, square=True, cmap = 'YlGnBu', annot = True)\n",
    "    \n",
    "plt.savefig('valvecorr.png')"
   ]
  },
  {
   "cell_type": "code",
   "execution_count": null,
   "metadata": {},
   "outputs": [],
   "source": [
    "Final_pump = pd.concat([Median, profile['Internal Pump Leakage']], axis = 1)\n",
    "\n",
    "corr = np.corrcoef(np.random.randn(10, 200))\n",
    "mask = np.zeros_like(Final_pump.corr())\n",
    "mask[np.triu_indices_from(mask)] = True\n",
    "with sns.axes_style(\"white\"):\n",
    "    f, ax = plt.subplots(figsize=(20, 20))\n",
    "    ax = sns.heatmap(Final_pump.corr(), mask=mask, vmax=.3, square=True, cmap = 'YlGnBu', annot = True)\n",
    "    \n",
    "plt.savefig('pumpcorr.png')"
   ]
  },
  {
   "cell_type": "code",
   "execution_count": null,
   "metadata": {},
   "outputs": [],
   "source": [
    "Final_hydra = pd.concat([Median, profile['Hydraulic Accumulator']], axis = 1)\n",
    "\n",
    "corr = np.corrcoef(np.random.randn(10, 200))\n",
    "mask = np.zeros_like(Final_hydra.corr())\n",
    "mask[np.triu_indices_from(mask)] = True\n",
    "with sns.axes_style(\"white\"):\n",
    "    f, ax = plt.subplots(figsize=(20, 20))\n",
    "    ax = sns.heatmap(Final_hydra.corr(), mask=mask, vmax=.3, square=True, cmap = 'YlGnBu', annot = True)\n",
    "    \n",
    "plt.savefig('Hydracorr.png')"
   ]
  },
  {
   "cell_type": "code",
   "execution_count": null,
   "metadata": {},
   "outputs": [],
   "source": [
    "Final_stable= pd.concat([Median, profile['Stable Flag']], axis = 1)\n",
    "\n",
    "corr = np.corrcoef(np.random.randn(10, 200))\n",
    "mask = np.zeros_like(Final_stable.corr())\n",
    "mask[np.triu_indices_from(mask)] = True\n",
    "with sns.axes_style(\"white\"):\n",
    "    f, ax = plt.subplots(figsize=(20, 20))\n",
    "    ax = sns.heatmap(Final_stable.corr(), mask=mask, vmax=.3, square=True, cmap = 'YlGnBu', annot = True)\n",
    "    \n",
    "plt.savefig('stablecorr.png')"
   ]
  },
  {
   "cell_type": "code",
   "execution_count": null,
   "metadata": {},
   "outputs": [],
   "source": []
  },
  {
   "cell_type": "code",
   "execution_count": null,
   "metadata": {},
   "outputs": [],
   "source": [
    "mean = pd.concat([PS1_mean,PS2_mean,PS3_mean,PS4_mean,PS5_mean,PS6_mean,TS1_mean,TS2_mean,TS3_mean,TS4_mean,\n",
    "                  FS1_mean,FS2_mean,P1_mean,VS1_mean,CE1_mean,CP1_mean,SE1_mean],axis = 1)"
   ]
  },
  {
   "cell_type": "code",
   "execution_count": null,
   "metadata": {},
   "outputs": [],
   "source": [
    "plt.figure(figsize = (25,6))\n",
    "sns.boxplot(data=mean)\n",
    "plt.savefig('standardisationfin.png')"
   ]
  },
  {
   "cell_type": "code",
   "execution_count": null,
   "metadata": {},
   "outputs": [],
   "source": [
    "mean.describe()"
   ]
  },
  {
   "cell_type": "code",
   "execution_count": null,
   "metadata": {},
   "outputs": [],
   "source": [
    "Final_mean = pd.concat([mean, profile], axis = 1)"
   ]
  },
  {
   "cell_type": "code",
   "execution_count": null,
   "metadata": {},
   "outputs": [],
   "source": []
  },
  {
   "cell_type": "code",
   "execution_count": null,
   "metadata": {},
   "outputs": [],
   "source": [
    "Final_mean['Cycle'] = np.arange(len(Final))"
   ]
  },
  {
   "cell_type": "code",
   "execution_count": null,
   "metadata": {},
   "outputs": [],
   "source": [
    "for column in mean:\n",
    "    plt.figure(figsize = (10,0.60))\n",
    "    plt.title('Boxplot of '+column)\n",
    "    ax = sns.boxplot(data=mean, x=column, palette=\"Set1\")"
   ]
  },
  {
   "cell_type": "markdown",
   "metadata": {},
   "source": [
    "## Splitting the dataframe by faults and exploring the dataset"
   ]
  },
  {
   "cell_type": "markdown",
   "metadata": {},
   "source": [
    "### Stable Flag"
   ]
  },
  {
   "cell_type": "code",
   "execution_count": null,
   "metadata": {},
   "outputs": [],
   "source": [
    "Final_SF0 = Final[Final['Stable Flag'] == 0]\n",
    "Final_SF1 = Final[Final['Stable Flag'] == 1]"
   ]
  },
  {
   "cell_type": "code",
   "execution_count": null,
   "metadata": {},
   "outputs": [],
   "source": [
    "Final_SF0 = Final.drop(['Cooler Condition','Valve Condition','Internal Pump Leakage','Hydraulic Accumulator'], axis = 1)"
   ]
  },
  {
   "cell_type": "code",
   "execution_count": null,
   "metadata": {},
   "outputs": [],
   "source": [
    "Final_SF1 = Final.drop(['Cooler Condition','Valve Condition','Internal Pump Leakage','Hydraulic Accumulator'], axis = 1)"
   ]
  },
  {
   "cell_type": "code",
   "execution_count": null,
   "metadata": {},
   "outputs": [],
   "source": [
    "Final_SF0 = Final_SF0.drop(['Stable Flag'], axis = 1)\n",
    "Final_SF1 = Final_SF1.drop(['Stable Flag'], axis = 1)\n",
    "Final_SF1 = Final_SF1.drop(['P1_median'], axis = 1)"
   ]
  },
  {
   "cell_type": "code",
   "execution_count": null,
   "metadata": {},
   "outputs": [],
   "source": [
    "Final_SF1.drop(['P1_median'], axis = 1).iloc[0:1].plot(kind = 'bar', figsize = (20,6))"
   ]
  },
  {
   "cell_type": "code",
   "execution_count": null,
   "metadata": {},
   "outputs": [],
   "source": [
    "Final_SF0.drop(['P1_median'], axis = 1).iloc[0:1].plot(kind = 'bar', figsize = (20,6))"
   ]
  },
  {
   "cell_type": "code",
   "execution_count": null,
   "metadata": {},
   "outputs": [],
   "source": []
  },
  {
   "cell_type": "code",
   "execution_count": null,
   "metadata": {},
   "outputs": [],
   "source": []
  },
  {
   "cell_type": "code",
   "execution_count": null,
   "metadata": {},
   "outputs": [],
   "source": [
    "Final_mean_valvefail = Final_mean[Final_mean['Valve Condition'] <= 73]\n",
    "Final_mean_coolerfail = Final_mean[Final_mean['Cooler Condition'] <= 3]\n",
    "Final_mean_accumulatorfail = Final_mean[Final_mean['Hydraulic Accumulator'] <= 90]\n",
    "Final_mean_pumpfail = Final_mean[Final_mean['Internal Pump Leakage'] <= 2]"
   ]
  },
  {
   "cell_type": "code",
   "execution_count": null,
   "metadata": {},
   "outputs": [],
   "source": [
    "Final_mean_valvefail = Final_mean_valvefail.drop(['Cooler Condition','Valve Condition','Internal Pump Leakage','Hydraulic Accumulator','Cycle','Stable Flag'], axis = 1)"
   ]
  },
  {
   "cell_type": "code",
   "execution_count": null,
   "metadata": {},
   "outputs": [],
   "source": [
    "Final_mean_coolerfail = Final_mean_coolerfail.drop(['Cooler Condition','Valve Condition','Internal Pump Leakage','Hydraulic Accumulator','Cycle','Stable Flag'], axis = 1)\n",
    "Final_mean_accumulatorfail = Final_mean_accumulatorfail.drop(['Cooler Condition','Valve Condition','Internal Pump Leakage','Hydraulic Accumulator','Cycle','Stable Flag'], axis = 1)\n",
    "Final_mean_pumpfail = Final_mean_pumpfail.drop(['Cooler Condition','Valve Condition','Internal Pump Leakage','Hydraulic Accumulator','Cycle','Stable Flag'], axis = 1)"
   ]
  },
  {
   "cell_type": "code",
   "execution_count": null,
   "metadata": {},
   "outputs": [],
   "source": [
    "for column in Final_mean_valvefail:\n",
    "    plt.figure(figsize = (20,0.60))\n",
    "    plt.title('Plot of '+column+' during valve failure')\n",
    "    ax = sns.lineplot(data = Final_mean_valvefail[column], palette=\"Set1\")"
   ]
  },
  {
   "cell_type": "code",
   "execution_count": null,
   "metadata": {},
   "outputs": [],
   "source": [
    "for column in Final_mean_pumpfail:\n",
    "    plt.figure(figsize = (20,0.60))\n",
    "    plt.title('Plot of '+column+' during pump failure')\n",
    "    ax = sns.lineplot(data = Final_mean_pumpfail[column], palette=\"Set1\")"
   ]
  },
  {
   "cell_type": "code",
   "execution_count": null,
   "metadata": {},
   "outputs": [],
   "source": [
    "for column in Final_mean_accumulatorfail:\n",
    "    plt.figure(figsize = (20,0.60))\n",
    "    plt.title('Plot of '+column+' during Accumulator failure')\n",
    "    ax = sns.lineplot(data = Final_mean_accumulatorfail[column], palette=\"Set1\")"
   ]
  },
  {
   "cell_type": "code",
   "execution_count": null,
   "metadata": {},
   "outputs": [],
   "source": [
    "for column in Final_mean_coolerfail:\n",
    "    plt.figure(figsize = (20,0.60))\n",
    "    plt.title('Plot of '+column+' during cooler failure')\n",
    "    ax = sns.lineplot(data = Final_mean_coolerfail[column], palette=\"Set1\")"
   ]
  },
  {
   "cell_type": "code",
   "execution_count": null,
   "metadata": {},
   "outputs": [],
   "source": []
  },
  {
   "cell_type": "code",
   "execution_count": null,
   "metadata": {},
   "outputs": [],
   "source": []
  },
  {
   "cell_type": "code",
   "execution_count": null,
   "metadata": {},
   "outputs": [],
   "source": []
  },
  {
   "cell_type": "code",
   "execution_count": null,
   "metadata": {},
   "outputs": [],
   "source": []
  },
  {
   "cell_type": "code",
   "execution_count": null,
   "metadata": {},
   "outputs": [],
   "source": []
  },
  {
   "cell_type": "markdown",
   "metadata": {},
   "source": [
    "<a id = 'Extracting_Median_and_EDA'></a>\n",
    "\n",
    "## Extracting Median and EDA"
   ]
  },
  {
   "cell_type": "code",
   "execution_count": null,
   "metadata": {},
   "outputs": [],
   "source": [
    "def median_conversion(df):\n",
    "    df1 = pd.DataFrame()\n",
    "    df1 = df.median(axis=1) ## AVERAGE ALONG THE ROW\n",
    "    return df1"
   ]
  },
  {
   "cell_type": "code",
   "execution_count": null,
   "metadata": {},
   "outputs": [],
   "source": [
    "PS1_median = pd.DataFrame(median_conversion(df_ps1))\n",
    "PS1_median.columns = ['PS1_median']\n",
    "\n",
    "PS2_median = pd.DataFrame(median_conversion(df_ps2))\n",
    "PS2_median.columns = ['PS2_median']\n",
    "\n",
    "PS3_median = pd.DataFrame(median_conversion(df_ps3))\n",
    "PS3_median.columns = ['PS3_median']\n",
    "\n",
    "PS4_median = pd.DataFrame(median_conversion(df_ps4))\n",
    "PS4_median.columns = ['PS4_median']\n",
    "\n",
    "PS5_median = pd.DataFrame(median_conversion(df_ps5))\n",
    "PS5_median.columns = ['PS5_median']\n",
    "\n",
    "PS6_median = pd.DataFrame(median_conversion(df_ps6))\n",
    "PS6_median.columns = ['PS6_median']\n",
    "\n",
    "TS1_median = pd.DataFrame(median_conversion(df_ts1))\n",
    "TS1_median.columns = ['TS1_median']\n",
    "\n",
    "TS2_median = pd.DataFrame(median_conversion(df_ts2))\n",
    "TS2_median.columns = ['TS2_median']\n",
    "\n",
    "TS3_median = pd.DataFrame(median_conversion(df_ts3))\n",
    "TS3_median.columns = ['TS3_median']\n",
    "\n",
    "TS4_median = pd.DataFrame(median_conversion(df_ts4))\n",
    "TS4_median.columns = ['TS4_median']\n",
    "\n",
    "FS1_median = pd.DataFrame(median_conversion(df_fs1))\n",
    "FS1_median.columns = ['FS1_median']\n",
    "\n",
    "FS2_median = pd.DataFrame(median_conversion(df_fs2))\n",
    "FS2_median.columns = ['FS2_median']\n",
    "\n",
    "P1_median = pd.DataFrame(median_conversion(df_eps1))\n",
    "P1_median.columns = ['P1_median']\n",
    "\n",
    "VS1_median = pd.DataFrame(median_conversion(df_vs1))\n",
    "VS1_median.columns = ['VS1_median']\n",
    "\n",
    "CE1_median = pd.DataFrame(median_conversion(df_ce))\n",
    "CE1_median.columns = ['CE1_median']\n",
    "\n",
    "CP1_median = pd.DataFrame(median_conversion(df_cp))\n",
    "CP1_median.columns = ['CP1_median']\n",
    "\n",
    "SE1_median = pd.DataFrame(median_conversion(df_se))\n",
    "SE1_median.columns = ['SE1_median']"
   ]
  },
  {
   "cell_type": "code",
   "execution_count": null,
   "metadata": {},
   "outputs": [],
   "source": [
    "Median = pd.concat([PS1_median,PS2_median,PS3_median,PS4_median,PS5_median,PS6_median,\n",
    "                    TS1_median,TS2_median,TS3_median,TS4_median,FS1_median,FS2_median,\n",
    "                    P1_median,VS1_median,CE1_median,CP1_median,SE1_median],axis = 1)"
   ]
  },
  {
   "cell_type": "code",
   "execution_count": null,
   "metadata": {},
   "outputs": [],
   "source": [
    "y = profile['Stable Flag']"
   ]
  },
  {
   "cell_type": "code",
   "execution_count": null,
   "metadata": {},
   "outputs": [],
   "source": [
    "ps1corr = pd.concat([Median, y], axis = 1)\n",
    "ps1corr.corr()\n",
    "\n"
   ]
  },
  {
   "cell_type": "code",
   "execution_count": null,
   "metadata": {},
   "outputs": [],
   "source": [
    "def correlation(ps):\n",
    "    pscorr = pd.concat([ps, y], axis = 1)\n",
    "    pscorr.corr()\n",
    "    return pscorr.corr()"
   ]
  },
  {
   "cell_type": "code",
   "execution_count": null,
   "metadata": {},
   "outputs": [],
   "source": [
    "correlation(SE1_median)"
   ]
  },
  {
   "cell_type": "code",
   "execution_count": null,
   "metadata": {},
   "outputs": [],
   "source": [
    "def correlation(ps):\n",
    "    pscorr = pd.concat([ps, y], axis = 1)\n",
    "    pscorr.corr()\n",
    "    return pscorr.corr()"
   ]
  },
  {
   "cell_type": "code",
   "execution_count": null,
   "metadata": {},
   "outputs": [],
   "source": [
    "Final_median = pd.concat([Median, profile], axis = 1)\n",
    "Final_median['Cycle'] = np.arange(len(Final_median))"
   ]
  },
  {
   "cell_type": "code",
   "execution_count": null,
   "metadata": {},
   "outputs": [],
   "source": [
    "Final_median_SF"
   ]
  },
  {
   "cell_type": "code",
   "execution_count": null,
   "metadata": {},
   "outputs": [],
   "source": []
  },
  {
   "cell_type": "code",
   "execution_count": null,
   "metadata": {},
   "outputs": [],
   "source": []
  },
  {
   "cell_type": "code",
   "execution_count": null,
   "metadata": {},
   "outputs": [],
   "source": []
  },
  {
   "cell_type": "markdown",
   "metadata": {},
   "source": [
    "### Extract min"
   ]
  },
  {
   "cell_type": "code",
   "execution_count": null,
   "metadata": {},
   "outputs": [],
   "source": [
    "def min_conversion(df):\n",
    "    df1 = pd.DataFrame()\n",
    "    df1 = df.min(axis=1) ## AVERAGE ALONG THE ROW\n",
    "    return df1"
   ]
  },
  {
   "cell_type": "code",
   "execution_count": null,
   "metadata": {},
   "outputs": [],
   "source": [
    "PS1_min = pd.DataFrame(min_conversion(df_ps1))\n",
    "PS1_min.columns = ['PS1_min']\n",
    "\n",
    "PS2_min = pd.DataFrame(min_conversion(df_ps2))\n",
    "PS2_min.columns = ['PS2_min']\n",
    "\n",
    "PS3_min = pd.DataFrame(min_conversion(df_ps3))\n",
    "PS3_min.columns = ['PS3_min']\n",
    "\n",
    "PS4_min = pd.DataFrame(min_conversion(df_ps4))\n",
    "PS4_min.columns = ['PS4_min']\n",
    "\n",
    "PS5_min = pd.DataFrame(min_conversion(df_ps5))\n",
    "PS5_min.columns = ['PS5_min']\n",
    "\n",
    "PS6_min = pd.DataFrame(min_conversion(df_ps6))\n",
    "PS6_min.columns = ['PS6_min']\n",
    "\n",
    "TS1_min = pd.DataFrame(min_conversion(df_ts1))\n",
    "TS1_min.columns = ['TS1_min']\n",
    "\n",
    "TS2_min = pd.DataFrame(min_conversion(df_ts2))\n",
    "TS2_min.columns = ['TS2_min']\n",
    "\n",
    "TS3_min = pd.DataFrame(min_conversion(df_ts3))\n",
    "TS3_min.columns = ['TS3_min']\n",
    "\n",
    "TS4_min = pd.DataFrame(min_conversion(df_ts4))\n",
    "TS4_min.columns = ['TS4_min']\n",
    "\n",
    "FS1_min = pd.DataFrame(min_conversion(df_fs1))\n",
    "FS1_min.columns = ['FS1_min']\n",
    "\n",
    "FS2_min = pd.DataFrame(min_conversion(df_fs2))\n",
    "FS2_min.columns = ['FS2_min']\n",
    "\n",
    "P1_min = pd.DataFrame(min_conversion(df_eps1))\n",
    "P1_min.columns = ['P1_min']\n",
    "\n",
    "VS1_min = pd.DataFrame(min_conversion(df_vs1))\n",
    "VS1_min.columns = ['VS1_min']\n",
    "\n",
    "CE1_min = pd.DataFrame(min_conversion(df_ce))\n",
    "CE1_min.columns = ['CE1_min']\n",
    "\n",
    "CP1_min = pd.DataFrame(min_conversion(df_cp))\n",
    "CP1_min.columns = ['CP1_min']\n",
    "\n",
    "SE1_min = pd.DataFrame(min_conversion(df_se))\n",
    "SE1_min.columns = ['SE1_min']\n",
    "\n",
    "Min = pd.concat([PS1_min,PS2_min,PS3_min,PS4_min,PS5_min,PS6_min,\n",
    "                 TS1_min,TS2_min,TS3_min,TS4_min,FS1_min,FS2_min,P1_min,VS1_min,CE1_min,CP1_min,SE1_min],axis = 1)\n"
   ]
  },
  {
   "cell_type": "markdown",
   "metadata": {},
   "source": [
    "### Extract Max"
   ]
  },
  {
   "cell_type": "code",
   "execution_count": null,
   "metadata": {},
   "outputs": [],
   "source": [
    "def max_conversion(df):\n",
    "    df1 = pd.DataFrame()\n",
    "    df1 = df.max(axis=1) ## AVERAGE ALONG THE ROW\n",
    "    return df1"
   ]
  },
  {
   "cell_type": "code",
   "execution_count": null,
   "metadata": {},
   "outputs": [],
   "source": [
    "PS1_max = pd.DataFrame(max_conversion(df_ps1))\n",
    "PS1_max.columns = ['PS1_max']\n",
    "\n",
    "PS2_max = pd.DataFrame(max_conversion(df_ps2))\n",
    "PS2_max.columns = ['PS2_max']\n",
    "\n",
    "PS3_max = pd.DataFrame(max_conversion(df_ps3))\n",
    "PS3_max.columns = ['PS3_max']\n",
    "\n",
    "PS4_max = pd.DataFrame(max_conversion(df_ps4))\n",
    "PS4_max.columns = ['PS4_max']\n",
    "\n",
    "PS5_max = pd.DataFrame(max_conversion(df_ps5))\n",
    "PS5_max.columns = ['PS5_max']\n",
    "\n",
    "PS6_max = pd.DataFrame(max_conversion(df_ps6))\n",
    "PS6_max.columns = ['PS6_max']\n",
    "\n",
    "TS1_max = pd.DataFrame(max_conversion(df_ts1))\n",
    "TS1_max.columns = ['TS1_max']\n",
    "\n",
    "TS2_max = pd.DataFrame(max_conversion(df_ts2))\n",
    "TS2_max.columns = ['TS2_max']\n",
    "\n",
    "TS3_max = pd.DataFrame(max_conversion(df_ts3))\n",
    "TS3_max.columns = ['TS3_max']\n",
    "\n",
    "TS4_max = pd.DataFrame(max_conversion(df_ts4))\n",
    "TS4_max.columns = ['TS4_max']\n",
    "\n",
    "FS1_max = pd.DataFrame(max_conversion(df_fs1))\n",
    "FS1_max.columns = ['FS1_max']\n",
    "\n",
    "FS2_max = pd.DataFrame(max_conversion(df_fs2))\n",
    "FS2_max.columns = ['FS2_max']\n",
    "\n",
    "P1_max = pd.DataFrame(max_conversion(df_eps1))\n",
    "P1_max.columns = ['P1_max']\n",
    "\n",
    "VS1_max = pd.DataFrame(max_conversion(df_vs1))\n",
    "VS1_max.columns = ['VS1_max']\n",
    "\n",
    "CE1_max = pd.DataFrame(max_conversion(df_ce))\n",
    "CE1_max.columns = ['CE1_max']\n",
    "\n",
    "CP1_max = pd.DataFrame(max_conversion(df_cp))\n",
    "CP1_max.columns = ['CP1_max']\n",
    "\n",
    "SE1_max = pd.DataFrame(max_conversion(df_se))\n",
    "SE1_max.columns = ['SE1_max']\n",
    "\n",
    "Max = pd.concat([PS1_max,PS2_max,PS3_max,PS4_max,PS5_max,PS6_max,\n",
    "                 TS1_max,TS2_max,TS3_max,TS4_max,FS1_max,FS2_max,P1_max,VS1_max,CE1_max,CP1_max,SE1_max],axis = 1)\n"
   ]
  },
  {
   "cell_type": "code",
   "execution_count": null,
   "metadata": {},
   "outputs": [],
   "source": [
    "Maxi = pd.concat([Max,profile], axis = 1)"
   ]
  },
  {
   "cell_type": "code",
   "execution_count": null,
   "metadata": {},
   "outputs": [],
   "source": [
    "max_SF0 = Maxi[Maxi['Stable Flag'] == 0]\n",
    "max_SF1 = Maxi[Maxi['Stable Flag'] == 1]"
   ]
  },
  {
   "cell_type": "code",
   "execution_count": null,
   "metadata": {},
   "outputs": [],
   "source": [
    "max_SF0.plot(figsize = (20,6))"
   ]
  },
  {
   "cell_type": "code",
   "execution_count": null,
   "metadata": {},
   "outputs": [],
   "source": []
  },
  {
   "cell_type": "code",
   "execution_count": null,
   "metadata": {},
   "outputs": [],
   "source": []
  },
  {
   "cell_type": "code",
   "execution_count": null,
   "metadata": {},
   "outputs": [],
   "source": [
    "max_SF0.drop(['P1_max','Cooler Condition','Stable Flag','Valve Condition','Internal Pump Leakage','Hydraulic Accumulator'], axis = 1).plot(figsize = (20,6))"
   ]
  },
  {
   "cell_type": "code",
   "execution_count": null,
   "metadata": {},
   "outputs": [],
   "source": [
    "max_SF1.drop(['P1_max','Cooler Condition','Stable Flag','Valve Condition','Internal Pump Leakage','Hydraulic Accumulator'], axis = 1).plot(figsize = (20,6))"
   ]
  },
  {
   "cell_type": "code",
   "execution_count": null,
   "metadata": {},
   "outputs": [],
   "source": [
    "bars = plt.bar(max_SF1.drop(['P1_max','Cooler Condition','Stable Flag','Valve Condition','Internal Pump Leakage','Hydraulic Accumulator'], axis = 1).iloc[0:1], width=.4)"
   ]
  },
  {
   "cell_type": "code",
   "execution_count": null,
   "metadata": {},
   "outputs": [],
   "source": [
    "max_SF0.drop(['P1_max','Cooler Condition','Stable Flag','Valve Condition','Internal Pump Leakage','Hydraulic Accumulator'], axis = 1).iloc[0:1].plot(kind = 'barh', figsize = (20,6))"
   ]
  },
  {
   "cell_type": "code",
   "execution_count": null,
   "metadata": {},
   "outputs": [],
   "source": []
  },
  {
   "cell_type": "code",
   "execution_count": null,
   "metadata": {},
   "outputs": [],
   "source": []
  },
  {
   "cell_type": "code",
   "execution_count": null,
   "metadata": {},
   "outputs": [],
   "source": []
  },
  {
   "cell_type": "code",
   "execution_count": null,
   "metadata": {},
   "outputs": [],
   "source": []
  },
  {
   "cell_type": "code",
   "execution_count": null,
   "metadata": {},
   "outputs": [],
   "source": []
  },
  {
   "cell_type": "code",
   "execution_count": null,
   "metadata": {},
   "outputs": [],
   "source": []
  },
  {
   "cell_type": "markdown",
   "metadata": {},
   "source": [
    "### Extract variance"
   ]
  },
  {
   "cell_type": "code",
   "execution_count": null,
   "metadata": {},
   "outputs": [],
   "source": [
    "def var_conversion(df):\n",
    "    df1 = pd.DataFrame()\n",
    "    df1 = df.var(axis=1) ## AVERAGE ALONG THE ROW\n",
    "    return df1"
   ]
  },
  {
   "cell_type": "code",
   "execution_count": null,
   "metadata": {},
   "outputs": [],
   "source": [
    "PS1_var = pd.DataFrame(var_conversion(df_ps1))\n",
    "PS1_var.columns = ['PS1_var']\n",
    "\n",
    "PS2_var = pd.DataFrame(var_conversion(df_ps2))\n",
    "PS2_var.columns = ['PS2_var']\n",
    "\n",
    "PS3_var = pd.DataFrame(var_conversion(df_ps3))\n",
    "PS3_var.columns = ['PS3_var']\n",
    "\n",
    "PS4_var = pd.DataFrame(var_conversion(df_ps4))\n",
    "PS4_var.columns = ['PS4_var']\n",
    "\n",
    "PS5_var = pd.DataFrame(var_conversion(df_ps5))\n",
    "PS5_var.columns = ['PS5_var']\n",
    "\n",
    "PS6_var = pd.DataFrame(var_conversion(df_ps6))\n",
    "PS6_var.columns = ['PS6_var']\n",
    "\n",
    "TS1_var = pd.DataFrame(var_conversion(df_ts1))\n",
    "TS1_var.columns = ['TS1_var']\n",
    "\n",
    "TS2_var = pd.DataFrame(var_conversion(df_ts2))\n",
    "TS2_var.columns = ['TS2_var']\n",
    "\n",
    "TS3_var = pd.DataFrame(var_conversion(df_ts3))\n",
    "TS3_var.columns = ['TS3_var']\n",
    "\n",
    "TS4_var = pd.DataFrame(var_conversion(df_ts4))\n",
    "TS4_var.columns = ['TS4_var']\n",
    "\n",
    "FS1_var = pd.DataFrame(var_conversion(df_fs1))\n",
    "FS1_var.columns = ['FS1_var']\n",
    "\n",
    "FS2_var = pd.DataFrame(var_conversion(df_fs2))\n",
    "FS2_var.columns = ['FS2_var']\n",
    "\n",
    "P1_var = pd.DataFrame(var_conversion(df_eps1))\n",
    "P1_var.columns = ['P1_var']\n",
    "\n",
    "VS1_var = pd.DataFrame(var_conversion(df_vs1))\n",
    "VS1_var.columns = ['VS1_var']\n",
    "\n",
    "CE1_var = pd.DataFrame(var_conversion(df_ce))\n",
    "CE1_var.columns = ['CE1_var']\n",
    "\n",
    "CP1_var = pd.DataFrame(var_conversion(df_cp))\n",
    "CP1_var.columns = ['CP1_var']\n",
    "\n",
    "SE1_var = pd.DataFrame(var_conversion(df_se))\n",
    "SE1_var.columns = ['SE1_var']\n",
    "\n",
    "Var = pd.concat([PS1_var,PS2_var,PS3_var,PS4_var,PS5_var,PS6_var,\n",
    "                 TS1_var,TS2_var,TS3_var,TS4_var,FS1_var,FS2_var,P1_var,VS1_var,CE1_var,CP1_var,SE1_var],axis = 1)\n"
   ]
  },
  {
   "cell_type": "markdown",
   "metadata": {},
   "source": [
    "### Extract Std deviation"
   ]
  },
  {
   "cell_type": "code",
   "execution_count": null,
   "metadata": {},
   "outputs": [],
   "source": [
    "def std_conversion(df):\n",
    "    df1 = pd.DataFrame()\n",
    "    df1 = df.std(axis=1) ## AVERAGE ALONG THE ROW\n",
    "    return df1"
   ]
  },
  {
   "cell_type": "code",
   "execution_count": null,
   "metadata": {},
   "outputs": [],
   "source": [
    "PS1_std = pd.DataFrame(std_conversion(df_ps1))\n",
    "PS1_std.columns = ['PS1_std']\n",
    "\n",
    "PS2_std = pd.DataFrame(std_conversion(df_ps2))\n",
    "PS2_std.columns = ['PS2_std']\n",
    "\n",
    "PS3_std = pd.DataFrame(std_conversion(df_ps3))\n",
    "PS3_std.columns = ['PS3_std']\n",
    "\n",
    "PS4_std = pd.DataFrame(std_conversion(df_ps4))\n",
    "PS4_std.columns = ['PS4_std']\n",
    "\n",
    "PS5_std = pd.DataFrame(std_conversion(df_ps5))\n",
    "PS5_std.columns = ['PS5_std']\n",
    "\n",
    "PS6_std = pd.DataFrame(std_conversion(df_ps6))\n",
    "PS6_std.columns = ['PS6_std']\n",
    "\n",
    "TS1_std = pd.DataFrame(std_conversion(df_ts1))\n",
    "TS1_std.columns = ['TS1_std']\n",
    "\n",
    "TS2_std = pd.DataFrame(std_conversion(df_ts2))\n",
    "TS2_std.columns = ['TS2_std']\n",
    "\n",
    "TS3_std = pd.DataFrame(std_conversion(df_ts3))\n",
    "TS3_std.columns = ['TS3_std']\n",
    "\n",
    "TS4_std = pd.DataFrame(std_conversion(df_ts4))\n",
    "TS4_std.columns = ['TS4_std']\n",
    "\n",
    "FS1_std = pd.DataFrame(std_conversion(df_fs1))\n",
    "FS1_std.columns = ['FS1_std']\n",
    "\n",
    "FS2_std = pd.DataFrame(std_conversion(df_fs2))\n",
    "FS2_std.columns = ['FS2_std']\n",
    "\n",
    "P1_std = pd.DataFrame(std_conversion(df_eps1))\n",
    "P1_std.columns = ['P1_std']\n",
    "\n",
    "VS1_std = pd.DataFrame(std_conversion(df_vs1))\n",
    "VS1_std.columns = ['VS1_std']\n",
    "\n",
    "CE1_std = pd.DataFrame(std_conversion(df_ce))\n",
    "CE1_std.columns = ['CE1_std']\n",
    "\n",
    "CP1_std = pd.DataFrame(std_conversion(df_cp))\n",
    "CP1_std.columns = ['CP1_std']\n",
    "\n",
    "SE1_std = pd.DataFrame(std_conversion(df_se))\n",
    "SE1_std.columns = ['SE1_std']\n",
    "\n",
    "Std = pd.concat([PS1_std,PS2_std,PS3_std,PS4_std,PS5_std,PS6_std,TS1_std,TS2_std,TS3_std,TS4_std,\n",
    "                 FS1_std,FS2_std,P1_std,VS1_std,CE1_std,CP1_std,SE1_std],axis = 1)\n"
   ]
  },
  {
   "cell_type": "markdown",
   "metadata": {},
   "source": [
    "### extract peak-to-peak"
   ]
  },
  {
   "cell_type": "code",
   "execution_count": null,
   "metadata": {},
   "outputs": [],
   "source": [
    "def ptp_conversion(df):\n",
    "    df1 = pd.DataFrame()\n",
    "    df1 = df.max(axis=1)-df.min(axis=1) ## AVERAGE ALONG THE ROW\n",
    "    return df1"
   ]
  },
  {
   "cell_type": "code",
   "execution_count": null,
   "metadata": {},
   "outputs": [],
   "source": [
    "PS1_ptp = pd.DataFrame(ptp_conversion(df_ps1))\n",
    "PS1_ptp.columns = ['PS1_ptp']\n",
    "\n",
    "PS2_ptp = pd.DataFrame(ptp_conversion(df_ps2))\n",
    "PS2_ptp.columns = ['PS2_ptp']\n",
    "\n",
    "PS3_ptp = pd.DataFrame(ptp_conversion(df_ps3))\n",
    "PS3_ptp.columns = ['PS3_ptp']\n",
    "\n",
    "PS4_ptp = pd.DataFrame(ptp_conversion(df_ps4))\n",
    "PS4_ptp.columns = ['PS4_ptp']\n",
    "\n",
    "PS5_ptp = pd.DataFrame(ptp_conversion(df_ps5))\n",
    "PS5_ptp.columns = ['PS5_ptp']\n",
    "\n",
    "PS6_ptp = pd.DataFrame(ptp_conversion(df_ps6))\n",
    "PS6_ptp.columns = ['PS6_ptp']\n",
    "\n",
    "TS1_ptp = pd.DataFrame(ptp_conversion(df_ts1))\n",
    "TS1_ptp.columns = ['TS1_ptp']\n",
    "\n",
    "TS2_ptp = pd.DataFrame(ptp_conversion(df_ts2))\n",
    "TS2_ptp.columns = ['TS2_ptp']\n",
    "\n",
    "TS3_ptp = pd.DataFrame(ptp_conversion(df_ts3))\n",
    "TS3_ptp.columns = ['TS3_ptp']\n",
    "\n",
    "TS4_ptp = pd.DataFrame(ptp_conversion(df_ts4))\n",
    "TS4_ptp.columns = ['TS4_ptp']\n",
    "\n",
    "FS1_ptp = pd.DataFrame(ptp_conversion(df_fs1))\n",
    "FS1_ptp.columns = ['FS1_ptp']\n",
    "\n",
    "FS2_ptp = pd.DataFrame(ptp_conversion(df_fs2))\n",
    "FS2_ptp.columns = ['FS2_ptp']\n",
    "\n",
    "P1_ptp = pd.DataFrame(ptp_conversion(df_eps1))\n",
    "P1_ptp.columns = ['P1_ptp']\n",
    "\n",
    "VS1_ptp = pd.DataFrame(ptp_conversion(df_vs1))\n",
    "VS1_ptp.columns = ['VS1_ptp']\n",
    "\n",
    "CE1_ptp = pd.DataFrame(ptp_conversion(df_ce))\n",
    "CE1_ptp.columns = ['CE1_ptp']\n",
    "\n",
    "CP1_ptp = pd.DataFrame(ptp_conversion(df_cp))\n",
    "CP1_ptp.columns = ['CP1_ptp']\n",
    "\n",
    "SE1_ptp = pd.DataFrame(ptp_conversion(df_se))\n",
    "SE1_ptp.columns = ['SE1_ptp']\n",
    "\n",
    "Ptp = pd.concat([PS1_ptp,PS2_ptp,PS3_ptp,PS4_ptp,PS5_ptp,PS6_ptp,TS1_ptp,TS2_ptp,TS3_ptp,TS4_ptp,\n",
    "                 FS1_ptp,FS2_ptp,P1_ptp,VS1_ptp,CE1_ptp,CP1_ptp,SE1_ptp],axis = 1)\n"
   ]
  },
  {
   "cell_type": "code",
   "execution_count": null,
   "metadata": {},
   "outputs": [],
   "source": [
    "final = pd.concat([mean, Median, Min, Max, Std, Var, Ptp], axis = 1)"
   ]
  },
  {
   "cell_type": "code",
   "execution_count": null,
   "metadata": {},
   "outputs": [],
   "source": [
    "final.head()"
   ]
  },
  {
   "cell_type": "markdown",
   "metadata": {},
   "source": [
    "### Extract interquartile range"
   ]
  },
  {
   "cell_type": "code",
   "execution_count": null,
   "metadata": {},
   "outputs": [],
   "source": [
    "def iqr_conversion(df):\n",
    "    df1 = pd.DataFrame()\n",
    "    q3, q1 = np.percentile(df, [75 ,25])\n",
    "    iqr = q3 - q1\n",
    "    df1 = df.max(axis=1)-df.min(axis=1) ## AVERAGE ALONG THE ROW\n",
    "    return df1"
   ]
  },
  {
   "cell_type": "code",
   "execution_count": null,
   "metadata": {},
   "outputs": [],
   "source": [
    "# from scipy import stats \n",
    "# data = np.array([87,80,68,72,56,58,60,63,82,70,58,55,48,50,77])\n",
    "# iqr = stats.iqr(data, interpolation = 'midpoint') \n"
   ]
  },
  {
   "cell_type": "code",
   "execution_count": null,
   "metadata": {},
   "outputs": [],
   "source": [
    "PS1_iqr = pd.DataFrame(iqr_conversion(df_ps1))\n",
    "PS1_iqr.columns = ['PS1_iqr']\n",
    "\n",
    "PS2_iqr = pd.DataFrame(iqr_conversion(df_ps2))\n",
    "PS2_iqr.columns = ['PS2_iqr']\n",
    "\n",
    "PS3_iqr = pd.DataFrame(iqr_conversion(df_ps3))\n",
    "PS3_iqr.columns = ['PS3_iqr']\n",
    "\n",
    "PS4_iqr = pd.DataFrame(iqr_conversion(df_ps4))\n",
    "PS4_iqr.columns = ['PS4_iqr']\n",
    "\n",
    "PS5_iqr = pd.DataFrame(iqr_conversion(df_ps5))\n",
    "PS5_iqr.columns = ['PS5_iqr']\n",
    "\n",
    "PS6_iqr = pd.DataFrame(iqr_conversion(df_ps6))\n",
    "PS6_iqr.columns = ['PS6_iqr']\n",
    "\n",
    "TS1_iqr = pd.DataFrame(iqr_conversion(df_ts1))\n",
    "TS1_iqr.columns = ['TS1_iqr']\n",
    "\n",
    "TS2_iqr = pd.DataFrame(iqr_conversion(df_ts2))\n",
    "TS2_iqr.columns = ['TS2_iqr']\n",
    "\n",
    "TS3_iqr = pd.DataFrame(iqr_conversion(df_ts3))\n",
    "TS3_iqr.columns = ['TS3_iqr']\n",
    "\n",
    "TS4_iqr = pd.DataFrame(iqr_conversion(df_ts4))\n",
    "TS4_iqr.columns = ['TS4_iqr']\n",
    "\n",
    "FS1_iqr = pd.DataFrame(iqr_conversion(df_fs1))\n",
    "FS1_iqr.columns = ['FS1_iqr']\n",
    "\n",
    "FS2_iqr = pd.DataFrame(iqr_conversion(df_fs2))\n",
    "FS2_iqr.columns = ['FS2_iqr']\n",
    "\n",
    "P1_iqr = pd.DataFrame(iqr_conversion(df_eps1))\n",
    "P1_iqr.columns = ['P1_iqr']\n",
    "\n",
    "VS1_iqr = pd.DataFrame(iqr_conversion(df_vs1))\n",
    "VS1_iqr.columns = ['VS1_iqr']\n",
    "\n",
    "CE1_iqr = pd.DataFrame(iqr_conversion(df_ce))\n",
    "CE1_iqr.columns = ['CE1_iqr']\n",
    "\n",
    "CP1_iqr = pd.DataFrame(iqr_conversion(df_cp))\n",
    "CP1_iqr.columns = ['CP1_iqr']\n",
    "\n",
    "SE1_iqr = pd.DataFrame(iqr_conversion(df_se))\n",
    "SE1_iqr.columns = ['SE1_iqr']\n",
    "\n",
    "Iqr = pd.concat([PS1_iqr,PS2_iqr,PS3_iqr,PS4_iqr,PS5_iqr,PS6_iqr,\n",
    "                 TS1_iqr,TS2_iqr,TS3_iqr,TS4_iqr,FS1_iqr,FS2_iqr,P1_iqr,VS1_iqr,CE1_iqr,CP1_iqr,SE1_iqr],axis = 1)\n"
   ]
  },
  {
   "cell_type": "markdown",
   "metadata": {},
   "source": [
    "### Extract the 99th percentile "
   ]
  },
  {
   "cell_type": "code",
   "execution_count": null,
   "metadata": {},
   "outputs": [],
   "source": [
    "def toppercentile_conversion(df):\n",
    "    df1 = pd.DataFrame()\n",
    "    df1 = df.quantile(0.99, axis = 1) ## AVERAGE ALONG THE ROW\n",
    "    return df1"
   ]
  },
  {
   "cell_type": "code",
   "execution_count": null,
   "metadata": {},
   "outputs": [],
   "source": [
    "PS1_toppercentile = pd.DataFrame(toppercentile_conversion(df_ps1))\n",
    "PS1_toppercentile.columns = ['PS1_toppercentile']\n",
    "\n",
    "PS2_toppercentile = pd.DataFrame(toppercentile_conversion(df_ps2))\n",
    "PS2_toppercentile.columns = ['PS2_toppercentile']\n",
    "\n",
    "PS3_toppercentile = pd.DataFrame(toppercentile_conversion(df_ps3))\n",
    "PS3_toppercentile.columns = ['PS3_toppercentile']\n",
    "\n",
    "PS4_toppercentile = pd.DataFrame(toppercentile_conversion(df_ps4))\n",
    "PS4_toppercentile.columns = ['PS4_toppercentile']\n",
    "\n",
    "PS5_toppercentile = pd.DataFrame(toppercentile_conversion(df_ps5))\n",
    "PS5_toppercentile.columns = ['PS5_toppercentile']\n",
    "\n",
    "PS6_toppercentile = pd.DataFrame(toppercentile_conversion(df_ps6))\n",
    "PS6_toppercentile.columns = ['PS6_toppercentile']\n",
    "\n",
    "TS1_toppercentile = pd.DataFrame(toppercentile_conversion(df_ts1))\n",
    "TS1_toppercentile.columns = ['TS1_toppercentile']\n",
    "\n",
    "TS2_toppercentile = pd.DataFrame(toppercentile_conversion(df_ts2))\n",
    "TS2_toppercentile.columns = ['TS2_toppercentile']\n",
    "\n",
    "TS3_toppercentile = pd.DataFrame(toppercentile_conversion(df_ts3))\n",
    "TS3_toppercentile.columns = ['TS3_toppercentile']\n",
    "\n",
    "TS4_toppercentile = pd.DataFrame(toppercentile_conversion(df_ts4))\n",
    "TS4_toppercentile.columns = ['TS4_toppercentile']\n",
    "\n",
    "FS1_toppercentile = pd.DataFrame(toppercentile_conversion(df_fs1))\n",
    "FS1_toppercentile.columns = ['FS1_toppercentile']\n",
    "\n",
    "FS2_toppercentile = pd.DataFrame(toppercentile_conversion(df_fs2))\n",
    "FS2_toppercentile.columns = ['FS2_toppercentile']\n",
    "\n",
    "P1_toppercentile = pd.DataFrame(toppercentile_conversion(df_eps1))\n",
    "P1_toppercentile.columns = ['P1_toppercentile']\n",
    "\n",
    "VS1_toppercentile = pd.DataFrame(toppercentile_conversion(df_vs1))\n",
    "VS1_toppercentile.columns = ['VS1_toppercentile']\n",
    "\n",
    "CE1_toppercentile = pd.DataFrame(toppercentile_conversion(df_ce))\n",
    "CE1_toppercentile.columns = ['CE1_toppercentile']\n",
    "\n",
    "CP1_toppercentile = pd.DataFrame(toppercentile_conversion(df_cp))\n",
    "CP1_toppercentile.columns = ['CP1_toppercentile']\n",
    "\n",
    "SE1_toppercentile = pd.DataFrame(toppercentile_conversion(df_se))\n",
    "SE1_toppercentile.columns = ['SE1_toppercentile']\n",
    "\n",
    "TOPPERCENTILE = pd.concat([PS1_toppercentile,PS2_toppercentile,PS3_toppercentile,PS4_toppercentile,PS5_toppercentile,PS6_toppercentile,\n",
    "                           TS1_toppercentile,TS2_toppercentile,TS3_toppercentile,TS4_toppercentile,FS1_toppercentile,FS2_toppercentile,P1_toppercentile,VS1_toppercentile,CE1_toppercentile,CP1_toppercentile,SE1_toppercentile],axis = 1)\n"
   ]
  },
  {
   "cell_type": "markdown",
   "metadata": {},
   "source": [
    "### Extract the 1st percentile "
   ]
  },
  {
   "cell_type": "code",
   "execution_count": null,
   "metadata": {},
   "outputs": [],
   "source": [
    "def lowpercentile_conversion(df):\n",
    "    df1 = pd.DataFrame()\n",
    "    df1 = df.quantile(0.01, axis = 1) ## AVERAGE ALONG THE ROW\n",
    "    return df1"
   ]
  },
  {
   "cell_type": "code",
   "execution_count": null,
   "metadata": {},
   "outputs": [],
   "source": [
    "PS1_lowpercentile = pd.DataFrame(lowpercentile_conversion(df_ps1))\n",
    "PS1_lowpercentile.columns = ['PS1_lowpercentile']\n",
    "\n",
    "PS2_lowpercentile = pd.DataFrame(lowpercentile_conversion(df_ps2))\n",
    "PS2_lowpercentile.columns = ['PS2_lowpercentile']\n",
    "\n",
    "PS3_lowpercentile = pd.DataFrame(lowpercentile_conversion(df_ps3))\n",
    "PS3_lowpercentile.columns = ['PS3_lowpercentile']\n",
    "\n",
    "PS4_lowpercentile = pd.DataFrame(lowpercentile_conversion(df_ps4))\n",
    "PS4_lowpercentile.columns = ['PS4_lowpercentile']\n",
    "\n",
    "PS5_lowpercentile = pd.DataFrame(lowpercentile_conversion(df_ps5))\n",
    "PS5_lowpercentile.columns = ['PS5_lowpercentile']\n",
    "\n",
    "PS6_lowpercentile = pd.DataFrame(lowpercentile_conversion(df_ps6))\n",
    "PS6_lowpercentile.columns = ['PS6_lowpercentile']\n",
    "\n",
    "TS1_lowpercentile = pd.DataFrame(lowpercentile_conversion(df_ts1))\n",
    "TS1_lowpercentile.columns = ['TS1_lowpercentile']\n",
    "\n",
    "TS2_lowpercentile = pd.DataFrame(lowpercentile_conversion(df_ts2))\n",
    "TS2_lowpercentile.columns = ['TS2_lowpercentile']\n",
    "\n",
    "TS3_lowpercentile = pd.DataFrame(lowpercentile_conversion(df_ts3))\n",
    "TS3_lowpercentile.columns = ['TS3_lowpercentile']\n",
    "\n",
    "TS4_lowpercentile = pd.DataFrame(lowpercentile_conversion(df_ts4))\n",
    "TS4_lowpercentile.columns = ['TS4_lowpercentile']\n",
    "\n",
    "FS1_lowpercentile = pd.DataFrame(lowpercentile_conversion(df_fs1))\n",
    "FS1_lowpercentile.columns = ['FS1_lowpercentile']\n",
    "\n",
    "FS2_lowpercentile = pd.DataFrame(lowpercentile_conversion(df_fs2))\n",
    "FS2_lowpercentile.columns = ['FS2_lowpercentile']\n",
    "\n",
    "P1_lowpercentile = pd.DataFrame(lowpercentile_conversion(df_eps1))\n",
    "P1_lowpercentile.columns = ['P1_lowpercentile']\n",
    "\n",
    "VS1_lowpercentile = pd.DataFrame(lowpercentile_conversion(df_vs1))\n",
    "VS1_lowpercentile.columns = ['VS1_lowpercentile']\n",
    "\n",
    "CE1_lowpercentile = pd.DataFrame(lowpercentile_conversion(df_ce))\n",
    "CE1_lowpercentile.columns = ['CE1_lowpercentile']\n",
    "\n",
    "CP1_lowpercentile = pd.DataFrame(lowpercentile_conversion(df_cp))\n",
    "CP1_lowpercentile.columns = ['CP1_lowpercentile']\n",
    "\n",
    "SE1_lowpercentile = pd.DataFrame(lowpercentile_conversion(df_se))\n",
    "SE1_lowpercentile.columns = ['SE1_lowpercentile']\n",
    "\n",
    "LOWPERCENTILE = pd.concat([PS1_lowpercentile,PS2_lowpercentile,PS3_lowpercentile,PS4_lowpercentile,PS5_lowpercentile,PS6_lowpercentile,TS1_lowpercentile,TS2_lowpercentile,TS3_lowpercentile,TS4_lowpercentile,FS1_lowpercentile,FS2_lowpercentile,P1_lowpercentile,VS1_lowpercentile,CE1_lowpercentile,CP1_lowpercentile,SE1_lowpercentile],axis = 1)\n"
   ]
  },
  {
   "cell_type": "code",
   "execution_count": null,
   "metadata": {},
   "outputs": [],
   "source": [
    "Final = pd.concat([final, Iqr, LOWPERCENTILE, TOPPERCENTILE],axis = 1)"
   ]
  },
  {
   "cell_type": "code",
   "execution_count": null,
   "metadata": {
    "scrolled": true
   },
   "outputs": [],
   "source": [
    "Final.head()"
   ]
  },
  {
   "cell_type": "code",
   "execution_count": null,
   "metadata": {},
   "outputs": [],
   "source": [
    "profile = pd.read_csv('profile.txt', delimiter = '\\t', header = None)"
   ]
  },
  {
   "cell_type": "code",
   "execution_count": null,
   "metadata": {},
   "outputs": [],
   "source": [
    "profile.columns = [\"Cooler Condition\",\"Valve Condition\",\"Internal Pump Leakage\",\"Hydraulic Accumulator\",\"Stable Flag\"]"
   ]
  },
  {
   "cell_type": "code",
   "execution_count": null,
   "metadata": {},
   "outputs": [],
   "source": [
    "profile_stable = profile['Stable Flag']"
   ]
  },
  {
   "cell_type": "code",
   "execution_count": null,
   "metadata": {},
   "outputs": [],
   "source": []
  }
 ],
 "metadata": {
  "kernelspec": {
   "display_name": "Python 3",
   "language": "python",
   "name": "python3"
  },
  "language_info": {
   "codemirror_mode": {
    "name": "ipython",
    "version": 3
   },
   "file_extension": ".py",
   "mimetype": "text/x-python",
   "name": "python",
   "nbconvert_exporter": "python",
   "pygments_lexer": "ipython3",
   "version": "3.7.6"
  }
 },
 "nbformat": 4,
 "nbformat_minor": 4
}
